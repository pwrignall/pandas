{
  "nbformat": 4,
  "nbformat_minor": 0,
  "metadata": {
    "colab": {
      "name": "3_Solution.ipynb",
      "provenance": [],
      "collapsed_sections": [],
      "toc_visible": true,
      "authorship_tag": "ABX9TyNwkPEayVvaYMJUXypSytXw",
      "include_colab_link": true
    },
    "kernelspec": {
      "name": "python3",
      "display_name": "Python 3"
    },
    "language_info": {
      "name": "python"
    }
  },
  "cells": [
    {
      "cell_type": "markdown",
      "metadata": {
        "id": "view-in-github",
        "colab_type": "text"
      },
      "source": [
        "<a href=\"https://colab.research.google.com/github/swilsonmfc/pandas/blob/main/3_Solution.ipynb\" target=\"_parent\"><img src=\"https://colab.research.google.com/assets/colab-badge.svg\" alt=\"Open In Colab\"/></a>"
      ]
    },
    {
      "cell_type": "markdown",
      "metadata": {
        "id": "wTADWWYXV1ly"
      },
      "source": [
        "# Homework Lesson 3"
      ]
    },
    {
      "cell_type": "markdown",
      "metadata": {
        "id": "8VX3Q3mIV1kH"
      },
      "source": [
        "# Setup"
      ]
    },
    {
      "cell_type": "code",
      "metadata": {
        "id": "h7UfZbb5V3xa"
      },
      "source": [
        "import pandas as pd\n",
        "import numpy as np\n",
        "import matplotlib.pyplot as plt\n",
        "import seaborn as sns\n",
        "import pathlib\n",
        "from pprint import pprint as pp"
      ],
      "execution_count": null,
      "outputs": []
    },
    {
      "cell_type": "markdown",
      "metadata": {
        "id": "R353AcL-T5WZ"
      },
      "source": [
        "# Data"
      ]
    },
    {
      "cell_type": "markdown",
      "metadata": {
        "id": "D9OlQu-9UHjV"
      },
      "source": [
        "## Download the Data"
      ]
    },
    {
      "cell_type": "code",
      "metadata": {
        "colab": {
          "base_uri": "https://localhost:8080/"
        },
        "id": "sl4jcfJLTuwj",
        "outputId": "bcdd2ae5-8121-43ad-8e97-b288dea8c123"
      },
      "source": [
        "!wget https://www.postgresqltutorial.com/wp-content/uploads/2019/05/dvdrental.zip\n",
        "!unzip dvdrental.zip\n",
        "!tar -xvf dvdrental.tar\n",
        "!rm toc.dat"
      ],
      "execution_count": null,
      "outputs": [
        {
          "output_type": "stream",
          "text": [
            "--2021-04-25 18:56:31--  https://www.postgresqltutorial.com/wp-content/uploads/2019/05/dvdrental.zip\n",
            "Resolving www.postgresqltutorial.com (www.postgresqltutorial.com)... 151.139.128.11\n",
            "Connecting to www.postgresqltutorial.com (www.postgresqltutorial.com)|151.139.128.11|:443... connected.\n",
            "HTTP request sent, awaiting response... 200 OK\n",
            "Length: 550906 (538K) [application/zip]\n",
            "Saving to: ‘dvdrental.zip’\n",
            "\n",
            "\rdvdrental.zip         0%[                    ]       0  --.-KB/s               \rdvdrental.zip       100%[===================>] 537.99K  --.-KB/s    in 0.03s   \n",
            "\n",
            "2021-04-25 18:56:31 (20.6 MB/s) - ‘dvdrental.zip’ saved [550906/550906]\n",
            "\n",
            "Archive:  dvdrental.zip\n",
            "  inflating: dvdrental.tar           \n",
            "toc.dat\n",
            "3057.dat\n",
            "3065.dat\n",
            "3059.dat\n",
            "3067.dat\n",
            "3069.dat\n",
            "3055.dat\n",
            "3061.dat\n",
            "3062.dat\n",
            "3063.dat\n",
            "3071.dat\n",
            "3073.dat\n",
            "3075.dat\n",
            "3077.dat\n",
            "3079.dat\n",
            "3081.dat\n",
            "restore.sql\n"
          ],
          "name": "stdout"
        }
      ]
    },
    {
      "cell_type": "markdown",
      "metadata": {
        "id": "FjAybhoyUcp9"
      },
      "source": [
        "## Friendly Tables & Columns"
      ]
    },
    {
      "cell_type": "code",
      "metadata": {
        "id": "KiiZsBEQVFog"
      },
      "source": [
        "table_name_map = {\n",
        "  '3057.dat':'actor',\n",
        "  '3065.dat':'address',\n",
        "  '3059.dat':'category',\n",
        "  '3067.dat':'city',\n",
        "  '3069.dat':'country',\n",
        "  '3055.dat':'customer',\n",
        "  '3061.dat':'film',\n",
        "  '3062.dat':'film_actor',\n",
        "  '3063.dat':'film_category',\n",
        "  '3071.dat':'inventory',\n",
        "  '3073.dat':'language',\n",
        "  '3075.dat':'payment',\n",
        "  '3077.dat':'rental',\n",
        "  '3079.dat':'staff',\n",
        "  '3081.dat':'store'\n",
        "}"
      ],
      "execution_count": null,
      "outputs": []
    },
    {
      "cell_type": "code",
      "metadata": {
        "id": "hrLFfQbQVGyd"
      },
      "source": [
        "table_column_map = {\n",
        "  '3057.dat':['actor_id', 'first_name', 'last_name', 'last_update'],\n",
        "  '3065.dat':['address_id', 'address', 'address2', 'district', 'city_id', 'postal_code', 'phone', 'last_update'],\n",
        "  '3059.dat':['category_id', 'name', 'last_update'],\n",
        "  '3067.dat':['city_id', 'city', 'country_id', 'last_update'],\n",
        "  '3069.dat':['country_id', 'country', 'last_update'],\n",
        "  '3055.dat':['customer_id', 'store_id', 'first_name', 'last_name', 'email', 'address_id', 'activebool', 'create_date', 'last_update', 'active'],\n",
        "  '3061.dat':['film_id', 'title', 'description', 'release_year', 'language_id', 'rental_duration', 'rental_rate', 'length', 'replacement_cost', 'rating', 'last_update', 'special_features', 'fulltext'],\n",
        "  '3062.dat':['actor_id', 'film_id', 'last_update'],\n",
        "  '3063.dat':['film_id', 'category_id', 'last_update'],\n",
        "  '3071.dat':['inventory_id', 'film_id', 'store_id', 'last_update'],\n",
        "  '3073.dat':['language_id', 'name', 'last_update'],\n",
        "  '3075.dat':['payment_id', 'customer_id', 'staff_id', 'rental_id', 'amount', 'payment_date'],\n",
        "  '3077.dat':['rental_id', 'rental_date', 'inventory_id', 'customer_id', 'return_date', 'staff_id', 'last_update'],\n",
        "  '3079.dat':['staff_id', 'first_name', 'last_name', 'address_id', 'email', 'store_id', 'active', 'username', 'password', 'last_update', 'picture'],\n",
        "  '3081.dat':['store_id', 'manager_staff_id', 'address_id', 'last_update']\n",
        "}"
      ],
      "execution_count": null,
      "outputs": []
    },
    {
      "cell_type": "markdown",
      "metadata": {
        "id": "UsHVQXArUFGL"
      },
      "source": [
        "## Load Data"
      ]
    },
    {
      "cell_type": "code",
      "metadata": {
        "colab": {
          "base_uri": "https://localhost:8080/"
        },
        "id": "I3ju6Xh8UGHm",
        "outputId": "6d8e1ed4-d624-4af7-a5b0-328cf46c47ed"
      },
      "source": [
        "# Load each .dat file as a pandas frame adding column headers\n",
        "data = {str(file): pd.read_csv(file, sep='\\t', names=table_column_map[str(file)]) \\\n",
        "      for file in pathlib.Path('.').rglob('*.dat')}\n",
        "\n",
        "# Remove last row of each table (drop takes the indexes to remove)\n",
        "data = {name: table.drop(table.tail(1).index) for name, table in data.items()}\n",
        "\n",
        "# Rename keys for friendly names \n",
        "db = {table_name_map[key]:data.pop(key) for key, val in table_name_map.items()}\n",
        "\n",
        "# Change all id columns to int (rather than floats)\n",
        "for name, table in db.items():\n",
        "  for col in table.columns:\n",
        "    if col.endswith('_id'):\n",
        "      table[col] = table[col].astype('int') \n",
        "\n",
        "pp(db)"
      ],
      "execution_count": null,
      "outputs": [
        {
          "output_type": "stream",
          "text": [
            "{'actor':      actor_id first_name     last_name             last_update\n",
            "0           1   Penelope       Guiness  2013-05-26 14:47:57.62\n",
            "1           2       Nick      Wahlberg  2013-05-26 14:47:57.62\n",
            "2           3         Ed         Chase  2013-05-26 14:47:57.62\n",
            "3           4   Jennifer         Davis  2013-05-26 14:47:57.62\n",
            "4           5     Johnny  Lollobrigida  2013-05-26 14:47:57.62\n",
            "..        ...        ...           ...                     ...\n",
            "195       196       Bela        Walken  2013-05-26 14:47:57.62\n",
            "196       197      Reese          West  2013-05-26 14:47:57.62\n",
            "197       198       Mary        Keitel  2013-05-26 14:47:57.62\n",
            "198       199      Julia       Fawcett  2013-05-26 14:47:57.62\n",
            "199       200      Thora        Temple  2013-05-26 14:47:57.62\n",
            "\n",
            "[200 rows x 4 columns],\n",
            " 'address':      address_id                   address  ...         phone          last_update\n",
            "0             1         47 MySakila Drive  ...           NaN  2006-02-15 09:45:30\n",
            "1             2        28 MySQL Boulevard  ...           NaN  2006-02-15 09:45:30\n",
            "2             3         23 Workhaven Lane  ...  1.403334e+10  2006-02-15 09:45:30\n",
            "3             4      1411 Lillydale Drive  ...  6.172236e+09  2006-02-15 09:45:30\n",
            "4             5            1913 Hanoi Way  ...  2.830338e+10  2006-02-15 09:45:30\n",
            "..          ...                       ...  ...           ...                  ...\n",
            "598         601       844 Bucuresti Place  ...  9.359524e+11  2006-02-15 09:45:30\n",
            "599         602  1101 Bucuresti Boulevard  ...  1.995146e+11  2006-02-15 09:45:30\n",
            "600         603    1103 Quilmes Boulevard  ...  6.440214e+11  2006-02-15 09:45:30\n",
            "601         604       1331 Usak Boulevard  ...  1.453087e+11  2006-02-15 09:45:30\n",
            "602         605      1325 Fukuyama Street  ...  2.882412e+11  2006-02-15 09:45:30\n",
            "\n",
            "[603 rows x 8 columns],\n",
            " 'category':     category_id         name          last_update\n",
            "0             1       Action  2006-02-15 09:46:27\n",
            "1             2    Animation  2006-02-15 09:46:27\n",
            "2             3     Children  2006-02-15 09:46:27\n",
            "3             4     Classics  2006-02-15 09:46:27\n",
            "4             5       Comedy  2006-02-15 09:46:27\n",
            "5             6  Documentary  2006-02-15 09:46:27\n",
            "6             7        Drama  2006-02-15 09:46:27\n",
            "7             8       Family  2006-02-15 09:46:27\n",
            "8             9      Foreign  2006-02-15 09:46:27\n",
            "9            10        Games  2006-02-15 09:46:27\n",
            "10           11       Horror  2006-02-15 09:46:27\n",
            "11           12        Music  2006-02-15 09:46:27\n",
            "12           13          New  2006-02-15 09:46:27\n",
            "13           14       Sci-Fi  2006-02-15 09:46:27\n",
            "14           15       Sports  2006-02-15 09:46:27\n",
            "15           16       Travel  2006-02-15 09:46:27,\n",
            " 'city':      city_id                city  country_id          last_update\n",
            "0          1  A Corua (La Corua)          87  2006-02-15 09:45:25\n",
            "1          2                Abha          82  2006-02-15 09:45:25\n",
            "2          3           Abu Dhabi         101  2006-02-15 09:45:25\n",
            "3          4                Acua          60  2006-02-15 09:45:25\n",
            "4          5               Adana          97  2006-02-15 09:45:25\n",
            "..       ...                 ...         ...                  ...\n",
            "595      596               Zaria          69  2006-02-15 09:45:25\n",
            "596      597        Zeleznogorsk          80  2006-02-15 09:45:25\n",
            "597      598         Zhezqazghan          51  2006-02-15 09:45:25\n",
            "598      599            Zhoushan          23  2006-02-15 09:45:25\n",
            "599      600          Ziguinchor          83  2006-02-15 09:45:25\n",
            "\n",
            "[600 rows x 4 columns],\n",
            " 'country':      country_id               country          last_update\n",
            "0             1           Afghanistan  2006-02-15 09:44:00\n",
            "1             2               Algeria  2006-02-15 09:44:00\n",
            "2             3        American Samoa  2006-02-15 09:44:00\n",
            "3             4                Angola  2006-02-15 09:44:00\n",
            "4             5              Anguilla  2006-02-15 09:44:00\n",
            "..          ...                   ...                  ...\n",
            "104         105               Vietnam  2006-02-15 09:44:00\n",
            "105         106  Virgin Islands, U.S.  2006-02-15 09:44:00\n",
            "106         107                 Yemen  2006-02-15 09:44:00\n",
            "107         108            Yugoslavia  2006-02-15 09:44:00\n",
            "108         109                Zambia  2006-02-15 09:44:00\n",
            "\n",
            "[109 rows x 3 columns],\n",
            " 'customer':      customer_id  store_id  ...              last_update active\n",
            "0            524         1  ...  2013-05-26 14:49:45.738    1.0\n",
            "1              1         1  ...  2013-05-26 14:49:45.738    1.0\n",
            "2              2         1  ...  2013-05-26 14:49:45.738    1.0\n",
            "3              3         1  ...  2013-05-26 14:49:45.738    1.0\n",
            "4              4         2  ...  2013-05-26 14:49:45.738    1.0\n",
            "..           ...       ...  ...                      ...    ...\n",
            "594          595         1  ...  2013-05-26 14:49:45.738    1.0\n",
            "595          596         1  ...  2013-05-26 14:49:45.738    1.0\n",
            "596          597         1  ...  2013-05-26 14:49:45.738    1.0\n",
            "597          598         1  ...  2013-05-26 14:49:45.738    1.0\n",
            "598          599         2  ...  2013-05-26 14:49:45.738    1.0\n",
            "\n",
            "[599 rows x 10 columns],\n",
            " 'film':      film_id  ...                                           fulltext\n",
            "0        133  ...  'chamber':1 'fate':4 'husband':11 'italian':2 ...\n",
            "1        384  ...  'australia':18 'cat':8 'drama':5 'epic':4 'exp...\n",
            "2          8  ...  'airport':1 'ancient':18 'confront':14 'epic':...\n",
            "3         98  ...  'boat':20 'bright':1 'conquer':14 'encount':2 ...\n",
            "4          1  ...  'academi':1 'battl':15 'canadian':20 'dinosaur...\n",
            "..       ...  ...                                                ...\n",
            "995      996  ...  'administr':12 'boat':8 'boy':17 'databas':11 ...\n",
            "996      997  ...  'boat':22 'cat':11 'challeng':14 'drama':5 'ki...\n",
            "997      998  ...  'boy':16 'canadian':19 'compos':8 'core':2 'fa...\n",
            "998      999  ...  'ancient':19 'boat':11 'china':20 'discov':14 ...\n",
            "999     1000  ...  'ark':2 'boy':12,17 'intrepid':4 'mad':8 'mona...\n",
            "\n",
            "[1000 rows x 13 columns],\n",
            " 'film_actor':       actor_id  film_id          last_update\n",
            "0            1        1  2006-02-15 10:05:03\n",
            "1            1       23  2006-02-15 10:05:03\n",
            "2            1       25  2006-02-15 10:05:03\n",
            "3            1      106  2006-02-15 10:05:03\n",
            "4            1      140  2006-02-15 10:05:03\n",
            "...        ...      ...                  ...\n",
            "5457       200      879  2006-02-15 10:05:03\n",
            "5458       200      912  2006-02-15 10:05:03\n",
            "5459       200      945  2006-02-15 10:05:03\n",
            "5460       200      958  2006-02-15 10:05:03\n",
            "5461       200      993  2006-02-15 10:05:03\n",
            "\n",
            "[5462 rows x 3 columns],\n",
            " 'film_category':      film_id  category_id          last_update\n",
            "0          1            6  2006-02-15 10:07:09\n",
            "1          2           11  2006-02-15 10:07:09\n",
            "2          3            6  2006-02-15 10:07:09\n",
            "3          4           11  2006-02-15 10:07:09\n",
            "4          5            8  2006-02-15 10:07:09\n",
            "..       ...          ...                  ...\n",
            "995      996            6  2006-02-15 10:07:09\n",
            "996      997           12  2006-02-15 10:07:09\n",
            "997      998           11  2006-02-15 10:07:09\n",
            "998      999            3  2006-02-15 10:07:09\n",
            "999     1000            5  2006-02-15 10:07:09\n",
            "\n",
            "[1000 rows x 3 columns],\n",
            " 'inventory':       inventory_id  film_id  store_id          last_update\n",
            "0                1        1         1  2006-02-15 10:09:17\n",
            "1                2        1         1  2006-02-15 10:09:17\n",
            "2                3        1         1  2006-02-15 10:09:17\n",
            "3                4        1         1  2006-02-15 10:09:17\n",
            "4                5        1         2  2006-02-15 10:09:17\n",
            "...            ...      ...       ...                  ...\n",
            "4576          4577     1000         1  2006-02-15 10:09:17\n",
            "4577          4578     1000         2  2006-02-15 10:09:17\n",
            "4578          4579     1000         2  2006-02-15 10:09:17\n",
            "4579          4580     1000         2  2006-02-15 10:09:17\n",
            "4580          4581     1000         2  2006-02-15 10:09:17\n",
            "\n",
            "[4581 rows x 4 columns],\n",
            " 'language':    language_id                  name          last_update\n",
            "0            1  English               2006-02-15 10:02:19\n",
            "1            2  Italian               2006-02-15 10:02:19\n",
            "2            3  Japanese              2006-02-15 10:02:19\n",
            "3            4  Mandarin              2006-02-15 10:02:19\n",
            "4            5  French                2006-02-15 10:02:19\n",
            "5            6  German                2006-02-15 10:02:19,\n",
            " 'payment':        payment_id  customer_id  ...  amount                payment_date\n",
            "0           17503          341  ...    7.99  2007-02-15 22:25:46.996577\n",
            "1           17504          341  ...    1.99  2007-02-16 17:23:14.996577\n",
            "2           17505          341  ...    7.99  2007-02-16 22:41:45.996577\n",
            "3           17506          341  ...    2.99  2007-02-19 19:39:56.996577\n",
            "4           17507          341  ...    7.99  2007-02-20 17:31:48.996577\n",
            "...           ...          ...  ...     ...                         ...\n",
            "14591       32094          245  ...    2.99  2007-05-14 13:44:29.996577\n",
            "14592       32095          251  ...    0.99  2007-05-14 13:44:29.996577\n",
            "14593       32096          252  ...    4.99  2007-05-14 13:44:29.996577\n",
            "14594       32097          263  ...    0.99  2007-05-14 13:44:29.996577\n",
            "14595       32098          264  ...    2.99  2007-05-14 13:44:29.996577\n",
            "\n",
            "[14596 rows x 6 columns],\n",
            " 'rental':        rental_id          rental_date  ...  staff_id          last_update\n",
            "0              2  2005-05-24 22:54:33  ...         1  2006-02-16 02:30:53\n",
            "1              3  2005-05-24 23:03:39  ...         1  2006-02-16 02:30:53\n",
            "2              4  2005-05-24 23:04:41  ...         2  2006-02-16 02:30:53\n",
            "3              5  2005-05-24 23:05:21  ...         1  2006-02-16 02:30:53\n",
            "4              6  2005-05-24 23:08:07  ...         1  2006-02-16 02:30:53\n",
            "...          ...                  ...  ...       ...                  ...\n",
            "16039      16046  2005-08-23 22:26:47  ...         2  2006-02-16 02:30:53\n",
            "16040      16047  2005-08-23 22:42:48  ...         2  2006-02-16 02:30:53\n",
            "16041      16048  2005-08-23 22:43:07  ...         1  2006-02-16 02:30:53\n",
            "16042      16049  2005-08-23 22:50:12  ...         2  2006-02-16 02:30:53\n",
            "16043          1  2005-05-24 22:53:30  ...         1  2006-02-15 21:30:53\n",
            "\n",
            "[16044 rows x 7 columns],\n",
            " 'staff':    staff_id first_name  ...                last_update              picture\n",
            "0         1       Mike  ...  2006-05-16 16:13:11.79328  \\\\x89504e470d0a5a0a\n",
            "1         2        Jon  ...  2006-05-16 16:13:11.79328                   \\N\n",
            "\n",
            "[2 rows x 11 columns],\n",
            " 'store':    store_id  manager_staff_id  address_id          last_update\n",
            "0         1                 1           1  2006-02-15 09:57:12\n",
            "1         2                 2           2  2006-02-15 09:57:12}\n"
          ],
          "name": "stdout"
        }
      ]
    },
    {
      "cell_type": "markdown",
      "metadata": {
        "id": "FYyliuATWTMe"
      },
      "source": [
        "## Schema\n",
        "![](https://www.postgresqltutorial.com/wp-content/uploads/2018/03/dvd-rental-sample-database-diagram.png)"
      ]
    },
    {
      "cell_type": "markdown",
      "metadata": {
        "id": "m1rjjnPhYz-e"
      },
      "source": [
        "# Where do you work?\n",
        "* Example of the one-many join"
      ]
    },
    {
      "cell_type": "code",
      "metadata": {
        "colab": {
          "base_uri": "https://localhost:8080/"
        },
        "id": "hk4rZ8i0vXJE",
        "outputId": "1c2ea9f5-f2b0-4daf-e059-0f383a09e837"
      },
      "source": [
        "# How many staff are there?\n",
        "len(db['staff'])"
      ],
      "execution_count": null,
      "outputs": [
        {
          "output_type": "execute_result",
          "data": {
            "text/plain": [
              "2"
            ]
          },
          "metadata": {
            "tags": []
          },
          "execution_count": 49
        }
      ]
    },
    {
      "cell_type": "code",
      "metadata": {
        "colab": {
          "base_uri": "https://localhost:8080/"
        },
        "id": "i23icKd5va8r",
        "outputId": "3e8dd3bd-f002-4aa7-f2b9-53f7a0b7741a"
      },
      "source": [
        "# How many stores are there?\n",
        "len(db['store'])"
      ],
      "execution_count": null,
      "outputs": [
        {
          "output_type": "execute_result",
          "data": {
            "text/plain": [
              "2"
            ]
          },
          "metadata": {
            "tags": []
          },
          "execution_count": 50
        }
      ]
    },
    {
      "cell_type": "code",
      "metadata": {
        "colab": {
          "base_uri": "https://localhost:8080/"
        },
        "id": "Z_012F1Tve14",
        "outputId": "9edd7876-71b0-40b2-c544-e0e0bca39ef4"
      },
      "source": [
        "# How much staff work at each store?\n",
        "staffing_df = db['store'].merge(db['staff'], on='store_id')\n",
        "staffing_df.groupby('store_id').size()"
      ],
      "execution_count": null,
      "outputs": [
        {
          "output_type": "execute_result",
          "data": {
            "text/plain": [
              "store_id\n",
              "1    1\n",
              "2    1\n",
              "dtype: int64"
            ]
          },
          "metadata": {
            "tags": []
          },
          "execution_count": 52
        }
      ]
    },
    {
      "cell_type": "markdown",
      "metadata": {
        "id": "AFIdEzS-e1mj"
      },
      "source": [
        "# Who's in what film?\n",
        "* Multi DataFrame join"
      ]
    },
    {
      "cell_type": "code",
      "metadata": {
        "colab": {
          "base_uri": "https://localhost:8080/",
          "height": 404
        },
        "id": "1lJ3urcpe5jx",
        "outputId": "88aed92d-c852-4c15-dbf5-74bb443e1e88"
      },
      "source": [
        "# Print the Actors Table\n",
        "db['actor']"
      ],
      "execution_count": null,
      "outputs": [
        {
          "output_type": "execute_result",
          "data": {
            "text/html": [
              "<div>\n",
              "<style scoped>\n",
              "    .dataframe tbody tr th:only-of-type {\n",
              "        vertical-align: middle;\n",
              "    }\n",
              "\n",
              "    .dataframe tbody tr th {\n",
              "        vertical-align: top;\n",
              "    }\n",
              "\n",
              "    .dataframe thead th {\n",
              "        text-align: right;\n",
              "    }\n",
              "</style>\n",
              "<table border=\"1\" class=\"dataframe\">\n",
              "  <thead>\n",
              "    <tr style=\"text-align: right;\">\n",
              "      <th></th>\n",
              "      <th>actor_id</th>\n",
              "      <th>first_name</th>\n",
              "      <th>last_name</th>\n",
              "      <th>last_update</th>\n",
              "    </tr>\n",
              "  </thead>\n",
              "  <tbody>\n",
              "    <tr>\n",
              "      <th>0</th>\n",
              "      <td>1</td>\n",
              "      <td>Penelope</td>\n",
              "      <td>Guiness</td>\n",
              "      <td>2013-05-26 14:47:57.62</td>\n",
              "    </tr>\n",
              "    <tr>\n",
              "      <th>1</th>\n",
              "      <td>2</td>\n",
              "      <td>Nick</td>\n",
              "      <td>Wahlberg</td>\n",
              "      <td>2013-05-26 14:47:57.62</td>\n",
              "    </tr>\n",
              "    <tr>\n",
              "      <th>2</th>\n",
              "      <td>3</td>\n",
              "      <td>Ed</td>\n",
              "      <td>Chase</td>\n",
              "      <td>2013-05-26 14:47:57.62</td>\n",
              "    </tr>\n",
              "    <tr>\n",
              "      <th>3</th>\n",
              "      <td>4</td>\n",
              "      <td>Jennifer</td>\n",
              "      <td>Davis</td>\n",
              "      <td>2013-05-26 14:47:57.62</td>\n",
              "    </tr>\n",
              "    <tr>\n",
              "      <th>4</th>\n",
              "      <td>5</td>\n",
              "      <td>Johnny</td>\n",
              "      <td>Lollobrigida</td>\n",
              "      <td>2013-05-26 14:47:57.62</td>\n",
              "    </tr>\n",
              "    <tr>\n",
              "      <th>...</th>\n",
              "      <td>...</td>\n",
              "      <td>...</td>\n",
              "      <td>...</td>\n",
              "      <td>...</td>\n",
              "    </tr>\n",
              "    <tr>\n",
              "      <th>195</th>\n",
              "      <td>196</td>\n",
              "      <td>Bela</td>\n",
              "      <td>Walken</td>\n",
              "      <td>2013-05-26 14:47:57.62</td>\n",
              "    </tr>\n",
              "    <tr>\n",
              "      <th>196</th>\n",
              "      <td>197</td>\n",
              "      <td>Reese</td>\n",
              "      <td>West</td>\n",
              "      <td>2013-05-26 14:47:57.62</td>\n",
              "    </tr>\n",
              "    <tr>\n",
              "      <th>197</th>\n",
              "      <td>198</td>\n",
              "      <td>Mary</td>\n",
              "      <td>Keitel</td>\n",
              "      <td>2013-05-26 14:47:57.62</td>\n",
              "    </tr>\n",
              "    <tr>\n",
              "      <th>198</th>\n",
              "      <td>199</td>\n",
              "      <td>Julia</td>\n",
              "      <td>Fawcett</td>\n",
              "      <td>2013-05-26 14:47:57.62</td>\n",
              "    </tr>\n",
              "    <tr>\n",
              "      <th>199</th>\n",
              "      <td>200</td>\n",
              "      <td>Thora</td>\n",
              "      <td>Temple</td>\n",
              "      <td>2013-05-26 14:47:57.62</td>\n",
              "    </tr>\n",
              "  </tbody>\n",
              "</table>\n",
              "<p>200 rows × 4 columns</p>\n",
              "</div>"
            ],
            "text/plain": [
              "     actor_id first_name     last_name             last_update\n",
              "0           1   Penelope       Guiness  2013-05-26 14:47:57.62\n",
              "1           2       Nick      Wahlberg  2013-05-26 14:47:57.62\n",
              "2           3         Ed         Chase  2013-05-26 14:47:57.62\n",
              "3           4   Jennifer         Davis  2013-05-26 14:47:57.62\n",
              "4           5     Johnny  Lollobrigida  2013-05-26 14:47:57.62\n",
              "..        ...        ...           ...                     ...\n",
              "195       196       Bela        Walken  2013-05-26 14:47:57.62\n",
              "196       197      Reese          West  2013-05-26 14:47:57.62\n",
              "197       198       Mary        Keitel  2013-05-26 14:47:57.62\n",
              "198       199      Julia       Fawcett  2013-05-26 14:47:57.62\n",
              "199       200      Thora        Temple  2013-05-26 14:47:57.62\n",
              "\n",
              "[200 rows x 4 columns]"
            ]
          },
          "metadata": {
            "tags": []
          },
          "execution_count": 10
        }
      ]
    },
    {
      "cell_type": "code",
      "metadata": {
        "colab": {
          "base_uri": "https://localhost:8080/",
          "height": 993
        },
        "id": "dwuzg9CltBfG",
        "outputId": "1482808e-ade0-41b1-f492-57f768d605c4"
      },
      "source": [
        "# Print the film table\n",
        "db['film']"
      ],
      "execution_count": null,
      "outputs": [
        {
          "output_type": "execute_result",
          "data": {
            "text/html": [
              "<div>\n",
              "<style scoped>\n",
              "    .dataframe tbody tr th:only-of-type {\n",
              "        vertical-align: middle;\n",
              "    }\n",
              "\n",
              "    .dataframe tbody tr th {\n",
              "        vertical-align: top;\n",
              "    }\n",
              "\n",
              "    .dataframe thead th {\n",
              "        text-align: right;\n",
              "    }\n",
              "</style>\n",
              "<table border=\"1\" class=\"dataframe\">\n",
              "  <thead>\n",
              "    <tr style=\"text-align: right;\">\n",
              "      <th></th>\n",
              "      <th>film_id</th>\n",
              "      <th>title</th>\n",
              "      <th>description</th>\n",
              "      <th>release_year</th>\n",
              "      <th>language_id</th>\n",
              "      <th>rental_duration</th>\n",
              "      <th>rental_rate</th>\n",
              "      <th>length</th>\n",
              "      <th>replacement_cost</th>\n",
              "      <th>rating</th>\n",
              "      <th>last_update</th>\n",
              "      <th>special_features</th>\n",
              "      <th>fulltext</th>\n",
              "    </tr>\n",
              "  </thead>\n",
              "  <tbody>\n",
              "    <tr>\n",
              "      <th>0</th>\n",
              "      <td>133</td>\n",
              "      <td>Chamber Italian</td>\n",
              "      <td>A Fateful Reflection of a Moose And a Husband ...</td>\n",
              "      <td>2006.0</td>\n",
              "      <td>1</td>\n",
              "      <td>7.0</td>\n",
              "      <td>4.99</td>\n",
              "      <td>117.0</td>\n",
              "      <td>14.99</td>\n",
              "      <td>NC-17</td>\n",
              "      <td>2013-05-26 14:50:58.951</td>\n",
              "      <td>{Trailers}</td>\n",
              "      <td>'chamber':1 'fate':4 'husband':11 'italian':2 ...</td>\n",
              "    </tr>\n",
              "    <tr>\n",
              "      <th>1</th>\n",
              "      <td>384</td>\n",
              "      <td>Grosse Wonderful</td>\n",
              "      <td>A Epic Drama of a Cat And a Explorer who must ...</td>\n",
              "      <td>2006.0</td>\n",
              "      <td>1</td>\n",
              "      <td>5.0</td>\n",
              "      <td>4.99</td>\n",
              "      <td>49.0</td>\n",
              "      <td>19.99</td>\n",
              "      <td>R</td>\n",
              "      <td>2013-05-26 14:50:58.951</td>\n",
              "      <td>{\"Behind the Scenes\"}</td>\n",
              "      <td>'australia':18 'cat':8 'drama':5 'epic':4 'exp...</td>\n",
              "    </tr>\n",
              "    <tr>\n",
              "      <th>2</th>\n",
              "      <td>8</td>\n",
              "      <td>Airport Pollock</td>\n",
              "      <td>A Epic Tale of a Moose And a Girl who must Con...</td>\n",
              "      <td>2006.0</td>\n",
              "      <td>1</td>\n",
              "      <td>6.0</td>\n",
              "      <td>4.99</td>\n",
              "      <td>54.0</td>\n",
              "      <td>15.99</td>\n",
              "      <td>R</td>\n",
              "      <td>2013-05-26 14:50:58.951</td>\n",
              "      <td>{Trailers}</td>\n",
              "      <td>'airport':1 'ancient':18 'confront':14 'epic':...</td>\n",
              "    </tr>\n",
              "    <tr>\n",
              "      <th>3</th>\n",
              "      <td>98</td>\n",
              "      <td>Bright Encounters</td>\n",
              "      <td>A Fateful Yarn of a Lumberjack And a Feminist ...</td>\n",
              "      <td>2006.0</td>\n",
              "      <td>1</td>\n",
              "      <td>4.0</td>\n",
              "      <td>4.99</td>\n",
              "      <td>73.0</td>\n",
              "      <td>12.99</td>\n",
              "      <td>PG-13</td>\n",
              "      <td>2013-05-26 14:50:58.951</td>\n",
              "      <td>{Trailers}</td>\n",
              "      <td>'boat':20 'bright':1 'conquer':14 'encount':2 ...</td>\n",
              "    </tr>\n",
              "    <tr>\n",
              "      <th>4</th>\n",
              "      <td>1</td>\n",
              "      <td>Academy Dinosaur</td>\n",
              "      <td>A Epic Drama of a Feminist And a Mad Scientist...</td>\n",
              "      <td>2006.0</td>\n",
              "      <td>1</td>\n",
              "      <td>6.0</td>\n",
              "      <td>0.99</td>\n",
              "      <td>86.0</td>\n",
              "      <td>20.99</td>\n",
              "      <td>PG</td>\n",
              "      <td>2013-05-26 14:50:58.951</td>\n",
              "      <td>{\"Deleted Scenes\",\"Behind the Scenes\"}</td>\n",
              "      <td>'academi':1 'battl':15 'canadian':20 'dinosaur...</td>\n",
              "    </tr>\n",
              "    <tr>\n",
              "      <th>...</th>\n",
              "      <td>...</td>\n",
              "      <td>...</td>\n",
              "      <td>...</td>\n",
              "      <td>...</td>\n",
              "      <td>...</td>\n",
              "      <td>...</td>\n",
              "      <td>...</td>\n",
              "      <td>...</td>\n",
              "      <td>...</td>\n",
              "      <td>...</td>\n",
              "      <td>...</td>\n",
              "      <td>...</td>\n",
              "      <td>...</td>\n",
              "    </tr>\n",
              "    <tr>\n",
              "      <th>995</th>\n",
              "      <td>996</td>\n",
              "      <td>Young Language</td>\n",
              "      <td>A Unbelieveable Yarn of a Boat And a Database ...</td>\n",
              "      <td>2006.0</td>\n",
              "      <td>1</td>\n",
              "      <td>6.0</td>\n",
              "      <td>0.99</td>\n",
              "      <td>183.0</td>\n",
              "      <td>9.99</td>\n",
              "      <td>G</td>\n",
              "      <td>2013-05-26 14:50:58.951</td>\n",
              "      <td>{Trailers,\"Behind the Scenes\"}</td>\n",
              "      <td>'administr':12 'boat':8 'boy':17 'databas':11 ...</td>\n",
              "    </tr>\n",
              "    <tr>\n",
              "      <th>996</th>\n",
              "      <td>997</td>\n",
              "      <td>Youth Kick</td>\n",
              "      <td>A Touching Drama of a Teacher And a Cat who mu...</td>\n",
              "      <td>2006.0</td>\n",
              "      <td>1</td>\n",
              "      <td>4.0</td>\n",
              "      <td>0.99</td>\n",
              "      <td>179.0</td>\n",
              "      <td>14.99</td>\n",
              "      <td>NC-17</td>\n",
              "      <td>2013-05-26 14:50:58.951</td>\n",
              "      <td>{Trailers,\"Behind the Scenes\"}</td>\n",
              "      <td>'boat':22 'cat':11 'challeng':14 'drama':5 'ki...</td>\n",
              "    </tr>\n",
              "    <tr>\n",
              "      <th>997</th>\n",
              "      <td>998</td>\n",
              "      <td>Zhivago Core</td>\n",
              "      <td>A Fateful Yarn of a Composer And a Man who mus...</td>\n",
              "      <td>2006.0</td>\n",
              "      <td>1</td>\n",
              "      <td>6.0</td>\n",
              "      <td>0.99</td>\n",
              "      <td>105.0</td>\n",
              "      <td>10.99</td>\n",
              "      <td>NC-17</td>\n",
              "      <td>2013-05-26 14:50:58.951</td>\n",
              "      <td>{\"Deleted Scenes\"}</td>\n",
              "      <td>'boy':16 'canadian':19 'compos':8 'core':2 'fa...</td>\n",
              "    </tr>\n",
              "    <tr>\n",
              "      <th>998</th>\n",
              "      <td>999</td>\n",
              "      <td>Zoolander Fiction</td>\n",
              "      <td>A Fateful Reflection of a Waitress And a Boat ...</td>\n",
              "      <td>2006.0</td>\n",
              "      <td>1</td>\n",
              "      <td>5.0</td>\n",
              "      <td>2.99</td>\n",
              "      <td>101.0</td>\n",
              "      <td>28.99</td>\n",
              "      <td>R</td>\n",
              "      <td>2013-05-26 14:50:58.951</td>\n",
              "      <td>{Trailers,\"Deleted Scenes\"}</td>\n",
              "      <td>'ancient':19 'boat':11 'china':20 'discov':14 ...</td>\n",
              "    </tr>\n",
              "    <tr>\n",
              "      <th>999</th>\n",
              "      <td>1000</td>\n",
              "      <td>Zorro Ark</td>\n",
              "      <td>A Intrepid Panorama of a Mad Scientist And a B...</td>\n",
              "      <td>2006.0</td>\n",
              "      <td>1</td>\n",
              "      <td>3.0</td>\n",
              "      <td>4.99</td>\n",
              "      <td>50.0</td>\n",
              "      <td>18.99</td>\n",
              "      <td>NC-17</td>\n",
              "      <td>2013-05-26 14:50:58.951</td>\n",
              "      <td>{Trailers,Commentaries,\"Behind the Scenes\"}</td>\n",
              "      <td>'ark':2 'boy':12,17 'intrepid':4 'mad':8 'mona...</td>\n",
              "    </tr>\n",
              "  </tbody>\n",
              "</table>\n",
              "<p>1000 rows × 13 columns</p>\n",
              "</div>"
            ],
            "text/plain": [
              "     film_id  ...                                           fulltext\n",
              "0        133  ...  'chamber':1 'fate':4 'husband':11 'italian':2 ...\n",
              "1        384  ...  'australia':18 'cat':8 'drama':5 'epic':4 'exp...\n",
              "2          8  ...  'airport':1 'ancient':18 'confront':14 'epic':...\n",
              "3         98  ...  'boat':20 'bright':1 'conquer':14 'encount':2 ...\n",
              "4          1  ...  'academi':1 'battl':15 'canadian':20 'dinosaur...\n",
              "..       ...  ...                                                ...\n",
              "995      996  ...  'administr':12 'boat':8 'boy':17 'databas':11 ...\n",
              "996      997  ...  'boat':22 'cat':11 'challeng':14 'drama':5 'ki...\n",
              "997      998  ...  'boy':16 'canadian':19 'compos':8 'core':2 'fa...\n",
              "998      999  ...  'ancient':19 'boat':11 'china':20 'discov':14 ...\n",
              "999     1000  ...  'ark':2 'boy':12,17 'intrepid':4 'mad':8 'mona...\n",
              "\n",
              "[1000 rows x 13 columns]"
            ]
          },
          "metadata": {
            "tags": []
          },
          "execution_count": 11
        }
      ]
    },
    {
      "cell_type": "code",
      "metadata": {
        "colab": {
          "base_uri": "https://localhost:8080/"
        },
        "id": "9W9ZxDvMfAtm",
        "outputId": "ffcbd38b-c1d2-417a-d43d-0975d214ed1d"
      },
      "source": [
        "# How many films are there?\n",
        "len(db['film'])"
      ],
      "execution_count": null,
      "outputs": [
        {
          "output_type": "execute_result",
          "data": {
            "text/plain": [
              "1000"
            ]
          },
          "metadata": {
            "tags": []
          },
          "execution_count": 12
        }
      ]
    },
    {
      "cell_type": "code",
      "metadata": {
        "id": "PDNn8F8Sqp6p"
      },
      "source": [
        "# Set an index on the actor table using its id\n",
        "db['actor'] = db['actor'].set_index('actor_id')"
      ],
      "execution_count": null,
      "outputs": []
    },
    {
      "cell_type": "code",
      "metadata": {
        "id": "rgsWWXZMrCI6"
      },
      "source": [
        "# Set an index on the film table using its id\n",
        "db['film'] = db['film'].set_index('film_id')"
      ],
      "execution_count": null,
      "outputs": []
    },
    {
      "cell_type": "code",
      "metadata": {
        "id": "HJJ6neK3rGVT"
      },
      "source": [
        "# Set a multi-index on the film_actor table using both film_id and actor_id\n",
        "db['film_actor'] = db['film_actor'].set_index(['actor_id', 'film_id'])"
      ],
      "execution_count": null,
      "outputs": []
    },
    {
      "cell_type": "code",
      "metadata": {
        "id": "QJZJFVrHfgo2"
      },
      "source": [
        "# Which actors are in which films\n",
        "actor_film_df = db['actor'].merge(db['film_actor'], left_index=True,   right_on='actor_id', how='inner') \\\n",
        "                           .merge(db['film'],       left_on='film_id', right_index=True,    how='inner')"
      ],
      "execution_count": null,
      "outputs": []
    },
    {
      "cell_type": "code",
      "metadata": {
        "colab": {
          "base_uri": "https://localhost:8080/",
          "height": 497
        },
        "id": "Aq7uasPltU3O",
        "outputId": "14ca7f94-0ed6-4f52-cb34-df119807f45e"
      },
      "source": [
        "# Show the last 5 items of the actor_film_df\n",
        "actor_film_df[-5:]"
      ],
      "execution_count": null,
      "outputs": [
        {
          "output_type": "execute_result",
          "data": {
            "text/html": [
              "<div>\n",
              "<style scoped>\n",
              "    .dataframe tbody tr th:only-of-type {\n",
              "        vertical-align: middle;\n",
              "    }\n",
              "\n",
              "    .dataframe tbody tr th {\n",
              "        vertical-align: top;\n",
              "    }\n",
              "\n",
              "    .dataframe thead th {\n",
              "        text-align: right;\n",
              "    }\n",
              "</style>\n",
              "<table border=\"1\" class=\"dataframe\">\n",
              "  <thead>\n",
              "    <tr style=\"text-align: right;\">\n",
              "      <th></th>\n",
              "      <th></th>\n",
              "      <th>first_name</th>\n",
              "      <th>last_name</th>\n",
              "      <th>last_update_x</th>\n",
              "      <th>last_update_y</th>\n",
              "      <th>title</th>\n",
              "      <th>description</th>\n",
              "      <th>release_year</th>\n",
              "      <th>language_id</th>\n",
              "      <th>rental_duration</th>\n",
              "      <th>rental_rate</th>\n",
              "      <th>length</th>\n",
              "      <th>replacement_cost</th>\n",
              "      <th>rating</th>\n",
              "      <th>last_update</th>\n",
              "      <th>special_features</th>\n",
              "      <th>fulltext</th>\n",
              "    </tr>\n",
              "    <tr>\n",
              "      <th>actor_id</th>\n",
              "      <th>film_id</th>\n",
              "      <th></th>\n",
              "      <th></th>\n",
              "      <th></th>\n",
              "      <th></th>\n",
              "      <th></th>\n",
              "      <th></th>\n",
              "      <th></th>\n",
              "      <th></th>\n",
              "      <th></th>\n",
              "      <th></th>\n",
              "      <th></th>\n",
              "      <th></th>\n",
              "      <th></th>\n",
              "      <th></th>\n",
              "      <th></th>\n",
              "      <th></th>\n",
              "    </tr>\n",
              "  </thead>\n",
              "  <tbody>\n",
              "    <tr>\n",
              "      <th>174</th>\n",
              "      <th>352</th>\n",
              "      <td>Michael</td>\n",
              "      <td>Bening</td>\n",
              "      <td>2013-05-26 14:47:57.62</td>\n",
              "      <td>2006-02-15 10:05:03</td>\n",
              "      <td>Gathering Calendar</td>\n",
              "      <td>A Intrepid Tale of a Pioneer And a Moose who m...</td>\n",
              "      <td>2006.0</td>\n",
              "      <td>1</td>\n",
              "      <td>4.0</td>\n",
              "      <td>0.99</td>\n",
              "      <td>176.0</td>\n",
              "      <td>22.99</td>\n",
              "      <td>PG-13</td>\n",
              "      <td>2013-05-26 14:50:58.951</td>\n",
              "      <td>{Commentaries,\"Behind the Scenes\"}</td>\n",
              "      <td>'calendar':2 'conquer':14 'convent':20 'frisbe...</td>\n",
              "    </tr>\n",
              "    <tr>\n",
              "      <th>193</th>\n",
              "      <th>352</th>\n",
              "      <td>Burt</td>\n",
              "      <td>Temple</td>\n",
              "      <td>2013-05-26 14:47:57.62</td>\n",
              "      <td>2006-02-15 10:05:03</td>\n",
              "      <td>Gathering Calendar</td>\n",
              "      <td>A Intrepid Tale of a Pioneer And a Moose who m...</td>\n",
              "      <td>2006.0</td>\n",
              "      <td>1</td>\n",
              "      <td>4.0</td>\n",
              "      <td>0.99</td>\n",
              "      <td>176.0</td>\n",
              "      <td>22.99</td>\n",
              "      <td>PG-13</td>\n",
              "      <td>2013-05-26 14:50:58.951</td>\n",
              "      <td>{Commentaries,\"Behind the Scenes\"}</td>\n",
              "      <td>'calendar':2 'conquer':14 'convent':20 'frisbe...</td>\n",
              "    </tr>\n",
              "    <tr>\n",
              "      <th>194</th>\n",
              "      <th>352</th>\n",
              "      <td>Meryl</td>\n",
              "      <td>Allen</td>\n",
              "      <td>2013-05-26 14:47:57.62</td>\n",
              "      <td>2006-02-15 10:05:03</td>\n",
              "      <td>Gathering Calendar</td>\n",
              "      <td>A Intrepid Tale of a Pioneer And a Moose who m...</td>\n",
              "      <td>2006.0</td>\n",
              "      <td>1</td>\n",
              "      <td>4.0</td>\n",
              "      <td>0.99</td>\n",
              "      <td>176.0</td>\n",
              "      <td>22.99</td>\n",
              "      <td>PG-13</td>\n",
              "      <td>2013-05-26 14:50:58.951</td>\n",
              "      <td>{Commentaries,\"Behind the Scenes\"}</td>\n",
              "      <td>'calendar':2 'conquer':14 'convent':20 'frisbe...</td>\n",
              "    </tr>\n",
              "    <tr>\n",
              "      <th>197</th>\n",
              "      <th>995</th>\n",
              "      <td>Reese</td>\n",
              "      <td>West</td>\n",
              "      <td>2013-05-26 14:47:57.62</td>\n",
              "      <td>2006-02-15 10:05:03</td>\n",
              "      <td>Yentl Idaho</td>\n",
              "      <td>A Amazing Display of a Robot And a Astronaut w...</td>\n",
              "      <td>2006.0</td>\n",
              "      <td>1</td>\n",
              "      <td>5.0</td>\n",
              "      <td>4.99</td>\n",
              "      <td>86.0</td>\n",
              "      <td>11.99</td>\n",
              "      <td>R</td>\n",
              "      <td>2013-05-26 14:50:58.951</td>\n",
              "      <td>{Trailers,Commentaries,\"Deleted Scenes\"}</td>\n",
              "      <td>'amaz':4 'astronaut':11 'berlin':18 'display':...</td>\n",
              "    </tr>\n",
              "    <tr>\n",
              "      <th>198</th>\n",
              "      <th>264</th>\n",
              "      <td>Mary</td>\n",
              "      <td>Keitel</td>\n",
              "      <td>2013-05-26 14:47:57.62</td>\n",
              "      <td>2006-02-15 10:05:03</td>\n",
              "      <td>Dwarfs Alter</td>\n",
              "      <td>A Emotional Yarn of a Girl And a Dog who must ...</td>\n",
              "      <td>2006.0</td>\n",
              "      <td>1</td>\n",
              "      <td>6.0</td>\n",
              "      <td>2.99</td>\n",
              "      <td>101.0</td>\n",
              "      <td>13.99</td>\n",
              "      <td>G</td>\n",
              "      <td>2013-05-26 14:50:58.951</td>\n",
              "      <td>{Commentaries,\"Deleted Scenes\"}</td>\n",
              "      <td>'alter':2 'ancient':18 'challeng':14 'compos':...</td>\n",
              "    </tr>\n",
              "  </tbody>\n",
              "</table>\n",
              "</div>"
            ],
            "text/plain": [
              "                 first_name  ...                                           fulltext\n",
              "actor_id film_id             ...                                                   \n",
              "174      352        Michael  ...  'calendar':2 'conquer':14 'convent':20 'frisbe...\n",
              "193      352           Burt  ...  'calendar':2 'conquer':14 'convent':20 'frisbe...\n",
              "194      352          Meryl  ...  'calendar':2 'conquer':14 'convent':20 'frisbe...\n",
              "197      995          Reese  ...  'amaz':4 'astronaut':11 'berlin':18 'display':...\n",
              "198      264           Mary  ...  'alter':2 'ancient':18 'challeng':14 'compos':...\n",
              "\n",
              "[5 rows x 16 columns]"
            ]
          },
          "metadata": {
            "tags": []
          },
          "execution_count": 18
        }
      ]
    },
    {
      "cell_type": "code",
      "metadata": {
        "colab": {
          "base_uri": "https://localhost:8080/"
        },
        "id": "CrTA-wxds3XS",
        "outputId": "85099769-e48c-460f-d9b0-bf5073881f79"
      },
      "source": [
        "# What's the number of actors in each film?\n",
        "actor_film_df.groupby('title').size()"
      ],
      "execution_count": null,
      "outputs": [
        {
          "output_type": "execute_result",
          "data": {
            "text/plain": [
              "title\n",
              "Academy Dinosaur     10\n",
              "Ace Goldfinger        4\n",
              "Adaptation Holes      5\n",
              "Affair Prejudice      5\n",
              "African Egg           5\n",
              "                     ..\n",
              "Young Language        5\n",
              "Youth Kick            5\n",
              "Zhivago Core          6\n",
              "Zoolander Fiction     5\n",
              "Zorro Ark             3\n",
              "Length: 997, dtype: int64"
            ]
          },
          "metadata": {
            "tags": []
          },
          "execution_count": 21
        }
      ]
    },
    {
      "cell_type": "code",
      "metadata": {
        "colab": {
          "base_uri": "https://localhost:8080/"
        },
        "id": "9dqgjtrettB3",
        "outputId": "e6813d46-48e3-4380-a2fb-90518a81209d"
      },
      "source": [
        "# What the most actors in a film?\n",
        "actors_df = db['film'].merge(db['film_actor'], left_index=True, right_on='film_id', how='left')\n",
        "actors_df.groupby('film_id').size().value_counts()"
      ],
      "execution_count": null,
      "outputs": [
        {
          "output_type": "execute_result",
          "data": {
            "text/plain": [
              "5     195\n",
              "6     150\n",
              "4     137\n",
              "7     119\n",
              "3     119\n",
              "8      90\n",
              "2      69\n",
              "9      49\n",
              "1      24\n",
              "10     21\n",
              "11     14\n",
              "13      6\n",
              "12      6\n",
              "15      1\n",
              "dtype: int64"
            ]
          },
          "metadata": {
            "tags": []
          },
          "execution_count": 25
        }
      ]
    },
    {
      "cell_type": "code",
      "metadata": {
        "colab": {
          "base_uri": "https://localhost:8080/"
        },
        "id": "uVPJkuw4Zmt4",
        "outputId": "1e5df430-4fc9-4343-983b-e826a70bb4ed"
      },
      "source": [
        "# What was the film?\n",
        "actors_df.groupby('film_id').size().sort_values()[-1:]"
      ],
      "execution_count": null,
      "outputs": [
        {
          "output_type": "execute_result",
          "data": {
            "text/plain": [
              "film_id\n",
              "508    15\n",
              "dtype: int64"
            ]
          },
          "metadata": {
            "tags": []
          },
          "execution_count": 31
        }
      ]
    },
    {
      "cell_type": "code",
      "metadata": {
        "colab": {
          "base_uri": "https://localhost:8080/"
        },
        "id": "8d6FjH-zanSJ",
        "outputId": "8e775625-3b6e-4116-f217-a90abca4916b"
      },
      "source": [
        "db['film'].loc[508]"
      ],
      "execution_count": null,
      "outputs": [
        {
          "output_type": "execute_result",
          "data": {
            "text/plain": [
              "title                                                Lambs Cincinatti\n",
              "description         A Insightful Story of a Man And a Feminist who...\n",
              "release_year                                                     2006\n",
              "language_id                                                         1\n",
              "rental_duration                                                     6\n",
              "rental_rate                                                      4.99\n",
              "length                                                            144\n",
              "replacement_cost                                                18.99\n",
              "rating                                                          PG-13\n",
              "last_update                                   2013-05-26 14:50:58.951\n",
              "special_features                       {Trailers,\"Behind the Scenes\"}\n",
              "fulltext            'australia':18 'cincinatti':2 'compos':16 'fem...\n",
              "Name: 508, dtype: object"
            ]
          },
          "metadata": {
            "tags": []
          },
          "execution_count": 35
        }
      ]
    },
    {
      "cell_type": "code",
      "metadata": {
        "colab": {
          "base_uri": "https://localhost:8080/",
          "height": 1000
        },
        "id": "mYVA6n4UaIe5",
        "outputId": "85a66fa2-95b7-4e41-c44d-3dfe8631db60"
      },
      "source": [
        "## Who acted in the film?\n",
        "actor_film_df = actor_film_df.reset_index()\n",
        "actor_film_df[actor_film_df.film_id == 508]"
      ],
      "execution_count": null,
      "outputs": [
        {
          "output_type": "execute_result",
          "data": {
            "text/html": [
              "<div>\n",
              "<style scoped>\n",
              "    .dataframe tbody tr th:only-of-type {\n",
              "        vertical-align: middle;\n",
              "    }\n",
              "\n",
              "    .dataframe tbody tr th {\n",
              "        vertical-align: top;\n",
              "    }\n",
              "\n",
              "    .dataframe thead th {\n",
              "        text-align: right;\n",
              "    }\n",
              "</style>\n",
              "<table border=\"1\" class=\"dataframe\">\n",
              "  <thead>\n",
              "    <tr style=\"text-align: right;\">\n",
              "      <th></th>\n",
              "      <th>actor_id</th>\n",
              "      <th>film_id</th>\n",
              "      <th>first_name</th>\n",
              "      <th>last_name</th>\n",
              "      <th>last_update_x</th>\n",
              "      <th>last_update_y</th>\n",
              "      <th>title</th>\n",
              "      <th>description</th>\n",
              "      <th>release_year</th>\n",
              "      <th>language_id</th>\n",
              "      <th>rental_duration</th>\n",
              "      <th>rental_rate</th>\n",
              "      <th>length</th>\n",
              "      <th>replacement_cost</th>\n",
              "      <th>rating</th>\n",
              "      <th>last_update</th>\n",
              "      <th>special_features</th>\n",
              "      <th>fulltext</th>\n",
              "    </tr>\n",
              "  </thead>\n",
              "  <tbody>\n",
              "    <tr>\n",
              "      <th>3062</th>\n",
              "      <td>28</td>\n",
              "      <td>508</td>\n",
              "      <td>Woody</td>\n",
              "      <td>Hoffman</td>\n",
              "      <td>2013-05-26 14:47:57.62</td>\n",
              "      <td>2006-02-15 10:05:03</td>\n",
              "      <td>Lambs Cincinatti</td>\n",
              "      <td>A Insightful Story of a Man And a Feminist who...</td>\n",
              "      <td>2006.0</td>\n",
              "      <td>1</td>\n",
              "      <td>6.0</td>\n",
              "      <td>4.99</td>\n",
              "      <td>144.0</td>\n",
              "      <td>18.99</td>\n",
              "      <td>PG-13</td>\n",
              "      <td>2013-05-26 14:50:58.951</td>\n",
              "      <td>{Trailers,\"Behind the Scenes\"}</td>\n",
              "      <td>'australia':18 'cincinatti':2 'compos':16 'fem...</td>\n",
              "    </tr>\n",
              "    <tr>\n",
              "      <th>3063</th>\n",
              "      <td>37</td>\n",
              "      <td>508</td>\n",
              "      <td>Val</td>\n",
              "      <td>Bolger</td>\n",
              "      <td>2013-05-26 14:47:57.62</td>\n",
              "      <td>2006-02-15 10:05:03</td>\n",
              "      <td>Lambs Cincinatti</td>\n",
              "      <td>A Insightful Story of a Man And a Feminist who...</td>\n",
              "      <td>2006.0</td>\n",
              "      <td>1</td>\n",
              "      <td>6.0</td>\n",
              "      <td>4.99</td>\n",
              "      <td>144.0</td>\n",
              "      <td>18.99</td>\n",
              "      <td>PG-13</td>\n",
              "      <td>2013-05-26 14:50:58.951</td>\n",
              "      <td>{Trailers,\"Behind the Scenes\"}</td>\n",
              "      <td>'australia':18 'cincinatti':2 'compos':16 'fem...</td>\n",
              "    </tr>\n",
              "    <tr>\n",
              "      <th>3064</th>\n",
              "      <td>45</td>\n",
              "      <td>508</td>\n",
              "      <td>Reese</td>\n",
              "      <td>Kilmer</td>\n",
              "      <td>2013-05-26 14:47:57.62</td>\n",
              "      <td>2006-02-15 10:05:03</td>\n",
              "      <td>Lambs Cincinatti</td>\n",
              "      <td>A Insightful Story of a Man And a Feminist who...</td>\n",
              "      <td>2006.0</td>\n",
              "      <td>1</td>\n",
              "      <td>6.0</td>\n",
              "      <td>4.99</td>\n",
              "      <td>144.0</td>\n",
              "      <td>18.99</td>\n",
              "      <td>PG-13</td>\n",
              "      <td>2013-05-26 14:50:58.951</td>\n",
              "      <td>{Trailers,\"Behind the Scenes\"}</td>\n",
              "      <td>'australia':18 'cincinatti':2 'compos':16 'fem...</td>\n",
              "    </tr>\n",
              "    <tr>\n",
              "      <th>3065</th>\n",
              "      <td>47</td>\n",
              "      <td>508</td>\n",
              "      <td>Julia</td>\n",
              "      <td>Barrymore</td>\n",
              "      <td>2013-05-26 14:47:57.62</td>\n",
              "      <td>2006-02-15 10:05:03</td>\n",
              "      <td>Lambs Cincinatti</td>\n",
              "      <td>A Insightful Story of a Man And a Feminist who...</td>\n",
              "      <td>2006.0</td>\n",
              "      <td>1</td>\n",
              "      <td>6.0</td>\n",
              "      <td>4.99</td>\n",
              "      <td>144.0</td>\n",
              "      <td>18.99</td>\n",
              "      <td>PG-13</td>\n",
              "      <td>2013-05-26 14:50:58.951</td>\n",
              "      <td>{Trailers,\"Behind the Scenes\"}</td>\n",
              "      <td>'australia':18 'cincinatti':2 'compos':16 'fem...</td>\n",
              "    </tr>\n",
              "    <tr>\n",
              "      <th>3066</th>\n",
              "      <td>53</td>\n",
              "      <td>508</td>\n",
              "      <td>Mena</td>\n",
              "      <td>Temple</td>\n",
              "      <td>2013-05-26 14:47:57.62</td>\n",
              "      <td>2006-02-15 10:05:03</td>\n",
              "      <td>Lambs Cincinatti</td>\n",
              "      <td>A Insightful Story of a Man And a Feminist who...</td>\n",
              "      <td>2006.0</td>\n",
              "      <td>1</td>\n",
              "      <td>6.0</td>\n",
              "      <td>4.99</td>\n",
              "      <td>144.0</td>\n",
              "      <td>18.99</td>\n",
              "      <td>PG-13</td>\n",
              "      <td>2013-05-26 14:50:58.951</td>\n",
              "      <td>{Trailers,\"Behind the Scenes\"}</td>\n",
              "      <td>'australia':18 'cincinatti':2 'compos':16 'fem...</td>\n",
              "    </tr>\n",
              "    <tr>\n",
              "      <th>3067</th>\n",
              "      <td>61</td>\n",
              "      <td>508</td>\n",
              "      <td>Christian</td>\n",
              "      <td>Neeson</td>\n",
              "      <td>2013-05-26 14:47:57.62</td>\n",
              "      <td>2006-02-15 10:05:03</td>\n",
              "      <td>Lambs Cincinatti</td>\n",
              "      <td>A Insightful Story of a Man And a Feminist who...</td>\n",
              "      <td>2006.0</td>\n",
              "      <td>1</td>\n",
              "      <td>6.0</td>\n",
              "      <td>4.99</td>\n",
              "      <td>144.0</td>\n",
              "      <td>18.99</td>\n",
              "      <td>PG-13</td>\n",
              "      <td>2013-05-26 14:50:58.951</td>\n",
              "      <td>{Trailers,\"Behind the Scenes\"}</td>\n",
              "      <td>'australia':18 'cincinatti':2 'compos':16 'fem...</td>\n",
              "    </tr>\n",
              "    <tr>\n",
              "      <th>3068</th>\n",
              "      <td>75</td>\n",
              "      <td>508</td>\n",
              "      <td>Burt</td>\n",
              "      <td>Posey</td>\n",
              "      <td>2013-05-26 14:47:57.62</td>\n",
              "      <td>2006-02-15 10:05:03</td>\n",
              "      <td>Lambs Cincinatti</td>\n",
              "      <td>A Insightful Story of a Man And a Feminist who...</td>\n",
              "      <td>2006.0</td>\n",
              "      <td>1</td>\n",
              "      <td>6.0</td>\n",
              "      <td>4.99</td>\n",
              "      <td>144.0</td>\n",
              "      <td>18.99</td>\n",
              "      <td>PG-13</td>\n",
              "      <td>2013-05-26 14:50:58.951</td>\n",
              "      <td>{Trailers,\"Behind the Scenes\"}</td>\n",
              "      <td>'australia':18 'cincinatti':2 'compos':16 'fem...</td>\n",
              "    </tr>\n",
              "    <tr>\n",
              "      <th>3069</th>\n",
              "      <td>81</td>\n",
              "      <td>508</td>\n",
              "      <td>Scarlett</td>\n",
              "      <td>Damon</td>\n",
              "      <td>2013-05-26 14:47:57.62</td>\n",
              "      <td>2006-02-15 10:05:03</td>\n",
              "      <td>Lambs Cincinatti</td>\n",
              "      <td>A Insightful Story of a Man And a Feminist who...</td>\n",
              "      <td>2006.0</td>\n",
              "      <td>1</td>\n",
              "      <td>6.0</td>\n",
              "      <td>4.99</td>\n",
              "      <td>144.0</td>\n",
              "      <td>18.99</td>\n",
              "      <td>PG-13</td>\n",
              "      <td>2013-05-26 14:50:58.951</td>\n",
              "      <td>{Trailers,\"Behind the Scenes\"}</td>\n",
              "      <td>'australia':18 'cincinatti':2 'compos':16 'fem...</td>\n",
              "    </tr>\n",
              "    <tr>\n",
              "      <th>3070</th>\n",
              "      <td>102</td>\n",
              "      <td>508</td>\n",
              "      <td>Walter</td>\n",
              "      <td>Torn</td>\n",
              "      <td>2013-05-26 14:47:57.62</td>\n",
              "      <td>2006-02-15 10:05:03</td>\n",
              "      <td>Lambs Cincinatti</td>\n",
              "      <td>A Insightful Story of a Man And a Feminist who...</td>\n",
              "      <td>2006.0</td>\n",
              "      <td>1</td>\n",
              "      <td>6.0</td>\n",
              "      <td>4.99</td>\n",
              "      <td>144.0</td>\n",
              "      <td>18.99</td>\n",
              "      <td>PG-13</td>\n",
              "      <td>2013-05-26 14:50:58.951</td>\n",
              "      <td>{Trailers,\"Behind the Scenes\"}</td>\n",
              "      <td>'australia':18 'cincinatti':2 'compos':16 'fem...</td>\n",
              "    </tr>\n",
              "    <tr>\n",
              "      <th>3071</th>\n",
              "      <td>111</td>\n",
              "      <td>508</td>\n",
              "      <td>Cameron</td>\n",
              "      <td>Zellweger</td>\n",
              "      <td>2013-05-26 14:47:57.62</td>\n",
              "      <td>2006-02-15 10:05:03</td>\n",
              "      <td>Lambs Cincinatti</td>\n",
              "      <td>A Insightful Story of a Man And a Feminist who...</td>\n",
              "      <td>2006.0</td>\n",
              "      <td>1</td>\n",
              "      <td>6.0</td>\n",
              "      <td>4.99</td>\n",
              "      <td>144.0</td>\n",
              "      <td>18.99</td>\n",
              "      <td>PG-13</td>\n",
              "      <td>2013-05-26 14:50:58.951</td>\n",
              "      <td>{Trailers,\"Behind the Scenes\"}</td>\n",
              "      <td>'australia':18 'cincinatti':2 'compos':16 'fem...</td>\n",
              "    </tr>\n",
              "    <tr>\n",
              "      <th>3072</th>\n",
              "      <td>138</td>\n",
              "      <td>508</td>\n",
              "      <td>Lucille</td>\n",
              "      <td>Dee</td>\n",
              "      <td>2013-05-26 14:47:57.62</td>\n",
              "      <td>2006-02-15 10:05:03</td>\n",
              "      <td>Lambs Cincinatti</td>\n",
              "      <td>A Insightful Story of a Man And a Feminist who...</td>\n",
              "      <td>2006.0</td>\n",
              "      <td>1</td>\n",
              "      <td>6.0</td>\n",
              "      <td>4.99</td>\n",
              "      <td>144.0</td>\n",
              "      <td>18.99</td>\n",
              "      <td>PG-13</td>\n",
              "      <td>2013-05-26 14:50:58.951</td>\n",
              "      <td>{Trailers,\"Behind the Scenes\"}</td>\n",
              "      <td>'australia':18 'cincinatti':2 'compos':16 'fem...</td>\n",
              "    </tr>\n",
              "    <tr>\n",
              "      <th>3073</th>\n",
              "      <td>147</td>\n",
              "      <td>508</td>\n",
              "      <td>Fay</td>\n",
              "      <td>Winslet</td>\n",
              "      <td>2013-05-26 14:47:57.62</td>\n",
              "      <td>2006-02-15 10:05:03</td>\n",
              "      <td>Lambs Cincinatti</td>\n",
              "      <td>A Insightful Story of a Man And a Feminist who...</td>\n",
              "      <td>2006.0</td>\n",
              "      <td>1</td>\n",
              "      <td>6.0</td>\n",
              "      <td>4.99</td>\n",
              "      <td>144.0</td>\n",
              "      <td>18.99</td>\n",
              "      <td>PG-13</td>\n",
              "      <td>2013-05-26 14:50:58.951</td>\n",
              "      <td>{Trailers,\"Behind the Scenes\"}</td>\n",
              "      <td>'australia':18 'cincinatti':2 'compos':16 'fem...</td>\n",
              "    </tr>\n",
              "    <tr>\n",
              "      <th>3074</th>\n",
              "      <td>150</td>\n",
              "      <td>508</td>\n",
              "      <td>Jayne</td>\n",
              "      <td>Nolte</td>\n",
              "      <td>2013-05-26 14:47:57.62</td>\n",
              "      <td>2006-02-15 10:05:03</td>\n",
              "      <td>Lambs Cincinatti</td>\n",
              "      <td>A Insightful Story of a Man And a Feminist who...</td>\n",
              "      <td>2006.0</td>\n",
              "      <td>1</td>\n",
              "      <td>6.0</td>\n",
              "      <td>4.99</td>\n",
              "      <td>144.0</td>\n",
              "      <td>18.99</td>\n",
              "      <td>PG-13</td>\n",
              "      <td>2013-05-26 14:50:58.951</td>\n",
              "      <td>{Trailers,\"Behind the Scenes\"}</td>\n",
              "      <td>'australia':18 'cincinatti':2 'compos':16 'fem...</td>\n",
              "    </tr>\n",
              "    <tr>\n",
              "      <th>3075</th>\n",
              "      <td>170</td>\n",
              "      <td>508</td>\n",
              "      <td>Mena</td>\n",
              "      <td>Hopper</td>\n",
              "      <td>2013-05-26 14:47:57.62</td>\n",
              "      <td>2006-02-15 10:05:03</td>\n",
              "      <td>Lambs Cincinatti</td>\n",
              "      <td>A Insightful Story of a Man And a Feminist who...</td>\n",
              "      <td>2006.0</td>\n",
              "      <td>1</td>\n",
              "      <td>6.0</td>\n",
              "      <td>4.99</td>\n",
              "      <td>144.0</td>\n",
              "      <td>18.99</td>\n",
              "      <td>PG-13</td>\n",
              "      <td>2013-05-26 14:50:58.951</td>\n",
              "      <td>{Trailers,\"Behind the Scenes\"}</td>\n",
              "      <td>'australia':18 'cincinatti':2 'compos':16 'fem...</td>\n",
              "    </tr>\n",
              "    <tr>\n",
              "      <th>3076</th>\n",
              "      <td>186</td>\n",
              "      <td>508</td>\n",
              "      <td>Julia</td>\n",
              "      <td>Zellweger</td>\n",
              "      <td>2013-05-26 14:47:57.62</td>\n",
              "      <td>2006-02-15 10:05:03</td>\n",
              "      <td>Lambs Cincinatti</td>\n",
              "      <td>A Insightful Story of a Man And a Feminist who...</td>\n",
              "      <td>2006.0</td>\n",
              "      <td>1</td>\n",
              "      <td>6.0</td>\n",
              "      <td>4.99</td>\n",
              "      <td>144.0</td>\n",
              "      <td>18.99</td>\n",
              "      <td>PG-13</td>\n",
              "      <td>2013-05-26 14:50:58.951</td>\n",
              "      <td>{Trailers,\"Behind the Scenes\"}</td>\n",
              "      <td>'australia':18 'cincinatti':2 'compos':16 'fem...</td>\n",
              "    </tr>\n",
              "  </tbody>\n",
              "</table>\n",
              "</div>"
            ],
            "text/plain": [
              "      actor_id  ...                                           fulltext\n",
              "3062        28  ...  'australia':18 'cincinatti':2 'compos':16 'fem...\n",
              "3063        37  ...  'australia':18 'cincinatti':2 'compos':16 'fem...\n",
              "3064        45  ...  'australia':18 'cincinatti':2 'compos':16 'fem...\n",
              "3065        47  ...  'australia':18 'cincinatti':2 'compos':16 'fem...\n",
              "3066        53  ...  'australia':18 'cincinatti':2 'compos':16 'fem...\n",
              "3067        61  ...  'australia':18 'cincinatti':2 'compos':16 'fem...\n",
              "3068        75  ...  'australia':18 'cincinatti':2 'compos':16 'fem...\n",
              "3069        81  ...  'australia':18 'cincinatti':2 'compos':16 'fem...\n",
              "3070       102  ...  'australia':18 'cincinatti':2 'compos':16 'fem...\n",
              "3071       111  ...  'australia':18 'cincinatti':2 'compos':16 'fem...\n",
              "3072       138  ...  'australia':18 'cincinatti':2 'compos':16 'fem...\n",
              "3073       147  ...  'australia':18 'cincinatti':2 'compos':16 'fem...\n",
              "3074       150  ...  'australia':18 'cincinatti':2 'compos':16 'fem...\n",
              "3075       170  ...  'australia':18 'cincinatti':2 'compos':16 'fem...\n",
              "3076       186  ...  'australia':18 'cincinatti':2 'compos':16 'fem...\n",
              "\n",
              "[15 rows x 18 columns]"
            ]
          },
          "metadata": {
            "tags": []
          },
          "execution_count": 38
        }
      ]
    },
    {
      "cell_type": "markdown",
      "metadata": {
        "id": "v2qi7pTwenju"
      },
      "source": [
        "# How long have you had that rental?\n",
        "* https://pandas.pydata.org/pandas-docs/stable/reference/api/pandas.DataFrame.dtypes.html\n",
        "* https://pandas.pydata.org/pandas-docs/stable/reference/api/pandas.to_datetime.html"
      ]
    },
    {
      "cell_type": "code",
      "metadata": {
        "colab": {
          "base_uri": "https://localhost:8080/"
        },
        "id": "pN1Y1hD1y7Rd",
        "outputId": "fa23e60d-3919-454d-bcad-43ad32b097fc"
      },
      "source": [
        "# Look at the row with index 14497\n",
        "db['rental'].loc[14497]"
      ],
      "execution_count": null,
      "outputs": [
        {
          "output_type": "execute_result",
          "data": {
            "text/plain": [
              "rental_id                     14503\n",
              "rental_date     2006-02-14 15:16:03\n",
              "inventory_id                   2144\n",
              "customer_id                     188\n",
              "return_date                      \\N\n",
              "staff_id                          1\n",
              "last_update     2006-02-16 02:30:53\n",
              "Name: 14497, dtype: object"
            ]
          },
          "metadata": {
            "tags": []
          },
          "execution_count": 39
        }
      ]
    },
    {
      "cell_type": "code",
      "metadata": {
        "colab": {
          "base_uri": "https://localhost:8080/"
        },
        "id": "Mmzqndg6wSqj",
        "outputId": "b25aefc6-6c25-422d-a736-e020e7e2b853"
      },
      "source": [
        "# How many rentals are there?\n",
        "len(db['rental'])"
      ],
      "execution_count": null,
      "outputs": [
        {
          "output_type": "execute_result",
          "data": {
            "text/plain": [
              "16044"
            ]
          },
          "metadata": {
            "tags": []
          },
          "execution_count": 40
        }
      ]
    },
    {
      "cell_type": "code",
      "metadata": {
        "colab": {
          "base_uri": "https://localhost:8080/"
        },
        "id": "bNqNpATgepZr",
        "outputId": "dc8f37ba-7915-4527-e810-372133491b5e"
      },
      "source": [
        "# What is the data type of rental table\n",
        "db['rental'].dtypes"
      ],
      "execution_count": null,
      "outputs": [
        {
          "output_type": "execute_result",
          "data": {
            "text/plain": [
              "rental_id        int64\n",
              "rental_date     object\n",
              "inventory_id     int64\n",
              "customer_id      int64\n",
              "return_date     object\n",
              "staff_id         int64\n",
              "last_update     object\n",
              "dtype: object"
            ]
          },
          "metadata": {
            "tags": []
          },
          "execution_count": 41
        }
      ]
    },
    {
      "cell_type": "code",
      "metadata": {
        "id": "omIZ34PPwQgR"
      },
      "source": [
        "# Convert rental date to datetime (from string)\n",
        "db['rental']['rental_date'] = pd.to_datetime(db['rental']['rental_date'], errors='coerce')"
      ],
      "execution_count": null,
      "outputs": []
    },
    {
      "cell_type": "code",
      "metadata": {
        "id": "PDtWyUgEw2p8"
      },
      "source": [
        "# Convert return date to datatime (from string) ... Hint (look at the errors parameter)\n",
        "db['rental']['return_date'] = pd.to_datetime(db['rental']['return_date'], errors='coerce')"
      ],
      "execution_count": null,
      "outputs": []
    },
    {
      "cell_type": "code",
      "metadata": {
        "id": "aBOKwdE-yF7M"
      },
      "source": [
        "# Add a column to the rental table noting the different in times\n",
        "db['rental']['duration'] = db['rental']['return_date'] - db['rental']['rental_date']"
      ],
      "execution_count": null,
      "outputs": []
    },
    {
      "cell_type": "code",
      "metadata": {
        "colab": {
          "base_uri": "https://localhost:8080/",
          "height": 572
        },
        "id": "q63zBMHM0PFY",
        "outputId": "c0829f97-ab33-4aa7-cdd7-45e4b9542223"
      },
      "source": [
        "# View the rental table\n",
        "db['rental']"
      ],
      "execution_count": null,
      "outputs": [
        {
          "output_type": "execute_result",
          "data": {
            "text/html": [
              "<div>\n",
              "<style scoped>\n",
              "    .dataframe tbody tr th:only-of-type {\n",
              "        vertical-align: middle;\n",
              "    }\n",
              "\n",
              "    .dataframe tbody tr th {\n",
              "        vertical-align: top;\n",
              "    }\n",
              "\n",
              "    .dataframe thead th {\n",
              "        text-align: right;\n",
              "    }\n",
              "</style>\n",
              "<table border=\"1\" class=\"dataframe\">\n",
              "  <thead>\n",
              "    <tr style=\"text-align: right;\">\n",
              "      <th></th>\n",
              "      <th>rental_id</th>\n",
              "      <th>rental_date</th>\n",
              "      <th>inventory_id</th>\n",
              "      <th>customer_id</th>\n",
              "      <th>return_date</th>\n",
              "      <th>staff_id</th>\n",
              "      <th>last_update</th>\n",
              "      <th>duration</th>\n",
              "    </tr>\n",
              "  </thead>\n",
              "  <tbody>\n",
              "    <tr>\n",
              "      <th>0</th>\n",
              "      <td>2</td>\n",
              "      <td>2005-05-24 22:54:33</td>\n",
              "      <td>1525</td>\n",
              "      <td>459</td>\n",
              "      <td>2005-05-28 19:40:33</td>\n",
              "      <td>1</td>\n",
              "      <td>2006-02-16 02:30:53</td>\n",
              "      <td>3 days 20:46:00</td>\n",
              "    </tr>\n",
              "    <tr>\n",
              "      <th>1</th>\n",
              "      <td>3</td>\n",
              "      <td>2005-05-24 23:03:39</td>\n",
              "      <td>1711</td>\n",
              "      <td>408</td>\n",
              "      <td>2005-06-01 22:12:39</td>\n",
              "      <td>1</td>\n",
              "      <td>2006-02-16 02:30:53</td>\n",
              "      <td>7 days 23:09:00</td>\n",
              "    </tr>\n",
              "    <tr>\n",
              "      <th>2</th>\n",
              "      <td>4</td>\n",
              "      <td>2005-05-24 23:04:41</td>\n",
              "      <td>2452</td>\n",
              "      <td>333</td>\n",
              "      <td>2005-06-03 01:43:41</td>\n",
              "      <td>2</td>\n",
              "      <td>2006-02-16 02:30:53</td>\n",
              "      <td>9 days 02:39:00</td>\n",
              "    </tr>\n",
              "    <tr>\n",
              "      <th>3</th>\n",
              "      <td>5</td>\n",
              "      <td>2005-05-24 23:05:21</td>\n",
              "      <td>2079</td>\n",
              "      <td>222</td>\n",
              "      <td>2005-06-02 04:33:21</td>\n",
              "      <td>1</td>\n",
              "      <td>2006-02-16 02:30:53</td>\n",
              "      <td>8 days 05:28:00</td>\n",
              "    </tr>\n",
              "    <tr>\n",
              "      <th>4</th>\n",
              "      <td>6</td>\n",
              "      <td>2005-05-24 23:08:07</td>\n",
              "      <td>2792</td>\n",
              "      <td>549</td>\n",
              "      <td>2005-05-27 01:32:07</td>\n",
              "      <td>1</td>\n",
              "      <td>2006-02-16 02:30:53</td>\n",
              "      <td>2 days 02:24:00</td>\n",
              "    </tr>\n",
              "    <tr>\n",
              "      <th>...</th>\n",
              "      <td>...</td>\n",
              "      <td>...</td>\n",
              "      <td>...</td>\n",
              "      <td>...</td>\n",
              "      <td>...</td>\n",
              "      <td>...</td>\n",
              "      <td>...</td>\n",
              "      <td>...</td>\n",
              "    </tr>\n",
              "    <tr>\n",
              "      <th>16039</th>\n",
              "      <td>16046</td>\n",
              "      <td>2005-08-23 22:26:47</td>\n",
              "      <td>4364</td>\n",
              "      <td>74</td>\n",
              "      <td>2005-08-27 18:02:47</td>\n",
              "      <td>2</td>\n",
              "      <td>2006-02-16 02:30:53</td>\n",
              "      <td>3 days 19:36:00</td>\n",
              "    </tr>\n",
              "    <tr>\n",
              "      <th>16040</th>\n",
              "      <td>16047</td>\n",
              "      <td>2005-08-23 22:42:48</td>\n",
              "      <td>2088</td>\n",
              "      <td>114</td>\n",
              "      <td>2005-08-25 02:48:48</td>\n",
              "      <td>2</td>\n",
              "      <td>2006-02-16 02:30:53</td>\n",
              "      <td>1 days 04:06:00</td>\n",
              "    </tr>\n",
              "    <tr>\n",
              "      <th>16041</th>\n",
              "      <td>16048</td>\n",
              "      <td>2005-08-23 22:43:07</td>\n",
              "      <td>2019</td>\n",
              "      <td>103</td>\n",
              "      <td>2005-08-31 21:33:07</td>\n",
              "      <td>1</td>\n",
              "      <td>2006-02-16 02:30:53</td>\n",
              "      <td>7 days 22:50:00</td>\n",
              "    </tr>\n",
              "    <tr>\n",
              "      <th>16042</th>\n",
              "      <td>16049</td>\n",
              "      <td>2005-08-23 22:50:12</td>\n",
              "      <td>2666</td>\n",
              "      <td>393</td>\n",
              "      <td>2005-08-30 01:01:12</td>\n",
              "      <td>2</td>\n",
              "      <td>2006-02-16 02:30:53</td>\n",
              "      <td>6 days 02:11:00</td>\n",
              "    </tr>\n",
              "    <tr>\n",
              "      <th>16043</th>\n",
              "      <td>1</td>\n",
              "      <td>2005-05-24 22:53:30</td>\n",
              "      <td>367</td>\n",
              "      <td>130</td>\n",
              "      <td>2005-05-26 22:04:30</td>\n",
              "      <td>1</td>\n",
              "      <td>2006-02-15 21:30:53</td>\n",
              "      <td>1 days 23:11:00</td>\n",
              "    </tr>\n",
              "  </tbody>\n",
              "</table>\n",
              "<p>16044 rows × 8 columns</p>\n",
              "</div>"
            ],
            "text/plain": [
              "       rental_id         rental_date  ...          last_update        duration\n",
              "0              2 2005-05-24 22:54:33  ...  2006-02-16 02:30:53 3 days 20:46:00\n",
              "1              3 2005-05-24 23:03:39  ...  2006-02-16 02:30:53 7 days 23:09:00\n",
              "2              4 2005-05-24 23:04:41  ...  2006-02-16 02:30:53 9 days 02:39:00\n",
              "3              5 2005-05-24 23:05:21  ...  2006-02-16 02:30:53 8 days 05:28:00\n",
              "4              6 2005-05-24 23:08:07  ...  2006-02-16 02:30:53 2 days 02:24:00\n",
              "...          ...                 ...  ...                  ...             ...\n",
              "16039      16046 2005-08-23 22:26:47  ...  2006-02-16 02:30:53 3 days 19:36:00\n",
              "16040      16047 2005-08-23 22:42:48  ...  2006-02-16 02:30:53 1 days 04:06:00\n",
              "16041      16048 2005-08-23 22:43:07  ...  2006-02-16 02:30:53 7 days 22:50:00\n",
              "16042      16049 2005-08-23 22:50:12  ...  2006-02-16 02:30:53 6 days 02:11:00\n",
              "16043          1 2005-05-24 22:53:30  ...  2006-02-15 21:30:53 1 days 23:11:00\n",
              "\n",
              "[16044 rows x 8 columns]"
            ]
          },
          "metadata": {
            "tags": []
          },
          "execution_count": 45
        }
      ]
    },
    {
      "cell_type": "code",
      "metadata": {
        "colab": {
          "base_uri": "https://localhost:8080/"
        },
        "id": "JnlclDpm15pt",
        "outputId": "7f214a02-1309-4bdd-a87d-b626dde5f8fe"
      },
      "source": [
        "# What's the average rental duration\n",
        "db['rental']['duration'].mean()"
      ],
      "execution_count": null,
      "outputs": [
        {
          "output_type": "execute_result",
          "data": {
            "text/plain": [
              "Timedelta('5 days 00:36:28.541706071')"
            ]
          },
          "metadata": {
            "tags": []
          },
          "execution_count": 46
        }
      ]
    },
    {
      "cell_type": "code",
      "metadata": {
        "id": "lcnxoh0SbpZk"
      },
      "source": [
        ""
      ],
      "execution_count": null,
      "outputs": []
    }
  ]
}