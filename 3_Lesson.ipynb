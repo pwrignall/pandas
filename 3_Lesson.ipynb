{
  "nbformat": 4,
  "nbformat_minor": 0,
  "metadata": {
    "colab": {
      "name": "3_Lesson.ipynb",
      "provenance": [],
      "collapsed_sections": [],
      "toc_visible": true,
      "authorship_tag": "ABX9TyOV2166pF6yBKDBVFPsMrnX",
      "include_colab_link": true
    },
    "kernelspec": {
      "name": "python3",
      "display_name": "Python 3"
    },
    "language_info": {
      "name": "python"
    }
  },
  "cells": [
    {
      "cell_type": "markdown",
      "metadata": {
        "id": "view-in-github",
        "colab_type": "text"
      },
      "source": [
        "<a href=\"https://colab.research.google.com/github/swilsonmfc/pandas/blob/main/3_Lesson.ipynb\" target=\"_parent\"><img src=\"https://colab.research.google.com/assets/colab-badge.svg\" alt=\"Open In Colab\"/></a>"
      ]
    },
    {
      "cell_type": "markdown",
      "metadata": {
        "id": "ck-cAAf0gNjQ"
      },
      "source": [
        "# Lesson 3\n",
        "* Indexes\n",
        "* Joins\n",
        "* Concatenations"
      ]
    },
    {
      "cell_type": "markdown",
      "metadata": {
        "id": "qlLm76i9gejC"
      },
      "source": [
        "# Setup"
      ]
    },
    {
      "cell_type": "code",
      "metadata": {
        "id": "8GRh7ViGgS9K"
      },
      "source": [
        "import pandas as pd\n",
        "import numpy as np\n",
        "import matplotlib.pyplot as plt\n",
        "import seaborn"
      ],
      "execution_count": null,
      "outputs": []
    },
    {
      "cell_type": "markdown",
      "metadata": {
        "id": "fmaUiazbgegM"
      },
      "source": [
        "# Data"
      ]
    },
    {
      "cell_type": "markdown",
      "metadata": {
        "id": "QPSfVPoJv15C"
      },
      "source": [
        "# Indexes"
      ]
    },
    {
      "cell_type": "code",
      "metadata": {
        "colab": {
          "base_uri": "https://localhost:8080/",
          "height": 166
        },
        "id": "1OT00WgZv6a2",
        "outputId": "f382cfeb-f37c-455a-da7a-6c3137709062"
      },
      "source": [
        "# Indexes are the margin names of rows and columns\n",
        "df1 = pd.DataFrame([\n",
        "  {'Name': 'Walter', 'Surname': 'White'},\n",
        "  {'Name': 'Hank',   'Surname': 'Schrader'},\n",
        "  {'Name': 'Jesse',  'Surname': 'Pinkman'},\n",
        "  {'Name': 'Saul',   'Surname': 'Goodman'},\n",
        "])\n",
        "df1"
      ],
      "execution_count": null,
      "outputs": [
        {
          "output_type": "execute_result",
          "data": {
            "text/html": [
              "<div>\n",
              "<style scoped>\n",
              "    .dataframe tbody tr th:only-of-type {\n",
              "        vertical-align: middle;\n",
              "    }\n",
              "\n",
              "    .dataframe tbody tr th {\n",
              "        vertical-align: top;\n",
              "    }\n",
              "\n",
              "    .dataframe thead th {\n",
              "        text-align: right;\n",
              "    }\n",
              "</style>\n",
              "<table border=\"1\" class=\"dataframe\">\n",
              "  <thead>\n",
              "    <tr style=\"text-align: right;\">\n",
              "      <th></th>\n",
              "      <th>Name</th>\n",
              "      <th>Surname</th>\n",
              "    </tr>\n",
              "  </thead>\n",
              "  <tbody>\n",
              "    <tr>\n",
              "      <th>0</th>\n",
              "      <td>Walter</td>\n",
              "      <td>White</td>\n",
              "    </tr>\n",
              "    <tr>\n",
              "      <th>1</th>\n",
              "      <td>Hank</td>\n",
              "      <td>Schrader</td>\n",
              "    </tr>\n",
              "    <tr>\n",
              "      <th>2</th>\n",
              "      <td>Jesse</td>\n",
              "      <td>Pinkman</td>\n",
              "    </tr>\n",
              "    <tr>\n",
              "      <th>3</th>\n",
              "      <td>Saul</td>\n",
              "      <td>Goodman</td>\n",
              "    </tr>\n",
              "  </tbody>\n",
              "</table>\n",
              "</div>"
            ],
            "text/plain": [
              "     Name   Surname\n",
              "0  Walter     White\n",
              "1    Hank  Schrader\n",
              "2   Jesse   Pinkman\n",
              "3    Saul   Goodman"
            ]
          },
          "metadata": {
            "tags": []
          },
          "execution_count": 5
        }
      ]
    },
    {
      "cell_type": "markdown",
      "metadata": {
        "id": "9VuRWQ030kl5"
      },
      "source": [
        "## Set"
      ]
    },
    {
      "cell_type": "code",
      "metadata": {
        "colab": {
          "base_uri": "https://localhost:8080/",
          "height": 196
        },
        "id": "5fzetsi3wDAF",
        "outputId": "e17a8553-9d1b-425f-a252-93fc22bdaa64"
      },
      "source": [
        "# We can set the index\n",
        "df1.set_index('Name')"
      ],
      "execution_count": null,
      "outputs": [
        {
          "output_type": "execute_result",
          "data": {
            "text/html": [
              "<div>\n",
              "<style scoped>\n",
              "    .dataframe tbody tr th:only-of-type {\n",
              "        vertical-align: middle;\n",
              "    }\n",
              "\n",
              "    .dataframe tbody tr th {\n",
              "        vertical-align: top;\n",
              "    }\n",
              "\n",
              "    .dataframe thead th {\n",
              "        text-align: right;\n",
              "    }\n",
              "</style>\n",
              "<table border=\"1\" class=\"dataframe\">\n",
              "  <thead>\n",
              "    <tr style=\"text-align: right;\">\n",
              "      <th></th>\n",
              "      <th>Surname</th>\n",
              "    </tr>\n",
              "    <tr>\n",
              "      <th>Name</th>\n",
              "      <th></th>\n",
              "    </tr>\n",
              "  </thead>\n",
              "  <tbody>\n",
              "    <tr>\n",
              "      <th>Walter</th>\n",
              "      <td>White</td>\n",
              "    </tr>\n",
              "    <tr>\n",
              "      <th>Hank</th>\n",
              "      <td>Schrader</td>\n",
              "    </tr>\n",
              "    <tr>\n",
              "      <th>Jesse</th>\n",
              "      <td>Pinkman</td>\n",
              "    </tr>\n",
              "    <tr>\n",
              "      <th>Saul</th>\n",
              "      <td>Goodman</td>\n",
              "    </tr>\n",
              "  </tbody>\n",
              "</table>\n",
              "</div>"
            ],
            "text/plain": [
              "         Surname\n",
              "Name            \n",
              "Walter     White\n",
              "Hank    Schrader\n",
              "Jesse    Pinkman\n",
              "Saul     Goodman"
            ]
          },
          "metadata": {
            "tags": []
          },
          "execution_count": 6
        }
      ]
    },
    {
      "cell_type": "code",
      "metadata": {
        "colab": {
          "base_uri": "https://localhost:8080/",
          "height": 180
        },
        "id": "1jUVFlZywqv1",
        "outputId": "30da4660-7f5d-4eeb-8511-13b145ae07b6"
      },
      "source": [
        "# We can make multi-indexes\n",
        "df1.set_index(['Name', 'Surname'])"
      ],
      "execution_count": null,
      "outputs": [
        {
          "output_type": "execute_result",
          "data": {
            "text/html": [
              "<div>\n",
              "<style scoped>\n",
              "    .dataframe tbody tr th:only-of-type {\n",
              "        vertical-align: middle;\n",
              "    }\n",
              "\n",
              "    .dataframe tbody tr th {\n",
              "        vertical-align: top;\n",
              "    }\n",
              "\n",
              "    .dataframe thead th {\n",
              "        text-align: right;\n",
              "    }\n",
              "</style>\n",
              "<table border=\"1\" class=\"dataframe\">\n",
              "  <thead>\n",
              "    <tr style=\"text-align: right;\">\n",
              "      <th></th>\n",
              "      <th></th>\n",
              "    </tr>\n",
              "    <tr>\n",
              "      <th>Name</th>\n",
              "      <th>Surname</th>\n",
              "    </tr>\n",
              "  </thead>\n",
              "  <tbody>\n",
              "    <tr>\n",
              "      <th>Walter</th>\n",
              "      <th>White</th>\n",
              "    </tr>\n",
              "    <tr>\n",
              "      <th>Hank</th>\n",
              "      <th>Schrader</th>\n",
              "    </tr>\n",
              "    <tr>\n",
              "      <th>Jesse</th>\n",
              "      <th>Pinkman</th>\n",
              "    </tr>\n",
              "    <tr>\n",
              "      <th>Saul</th>\n",
              "      <th>Goodman</th>\n",
              "    </tr>\n",
              "  </tbody>\n",
              "</table>\n",
              "</div>"
            ],
            "text/plain": [
              "Empty DataFrame\n",
              "Columns: []\n",
              "Index: [(Walter, White), (Hank, Schrader), (Jesse, Pinkman), (Saul, Goodman)]"
            ]
          },
          "metadata": {
            "tags": []
          },
          "execution_count": 7
        }
      ]
    },
    {
      "cell_type": "code",
      "metadata": {
        "colab": {
          "base_uri": "https://localhost:8080/",
          "height": 180
        },
        "id": "ul97dYhh0DQu",
        "outputId": "d4c1762c-d8eb-4442-a072-65a31763e0ba"
      },
      "source": [
        "df1.set_index(['Name', 'Surname'])"
      ],
      "execution_count": null,
      "outputs": [
        {
          "output_type": "execute_result",
          "data": {
            "text/html": [
              "<div>\n",
              "<style scoped>\n",
              "    .dataframe tbody tr th:only-of-type {\n",
              "        vertical-align: middle;\n",
              "    }\n",
              "\n",
              "    .dataframe tbody tr th {\n",
              "        vertical-align: top;\n",
              "    }\n",
              "\n",
              "    .dataframe thead th {\n",
              "        text-align: right;\n",
              "    }\n",
              "</style>\n",
              "<table border=\"1\" class=\"dataframe\">\n",
              "  <thead>\n",
              "    <tr style=\"text-align: right;\">\n",
              "      <th></th>\n",
              "      <th></th>\n",
              "    </tr>\n",
              "    <tr>\n",
              "      <th>Name</th>\n",
              "      <th>Surname</th>\n",
              "    </tr>\n",
              "  </thead>\n",
              "  <tbody>\n",
              "    <tr>\n",
              "      <th>Walter</th>\n",
              "      <th>White</th>\n",
              "    </tr>\n",
              "    <tr>\n",
              "      <th>Hank</th>\n",
              "      <th>Schrader</th>\n",
              "    </tr>\n",
              "    <tr>\n",
              "      <th>Jesse</th>\n",
              "      <th>Pinkman</th>\n",
              "    </tr>\n",
              "    <tr>\n",
              "      <th>Saul</th>\n",
              "      <th>Goodman</th>\n",
              "    </tr>\n",
              "  </tbody>\n",
              "</table>\n",
              "</div>"
            ],
            "text/plain": [
              "Empty DataFrame\n",
              "Columns: []\n",
              "Index: [(Walter, White), (Hank, Schrader), (Jesse, Pinkman), (Saul, Goodman)]"
            ]
          },
          "metadata": {
            "tags": []
          },
          "execution_count": 8
        }
      ]
    },
    {
      "cell_type": "markdown",
      "metadata": {
        "id": "IHOJXPls0ovw"
      },
      "source": [
        "## Reset"
      ]
    },
    {
      "cell_type": "code",
      "metadata": {
        "colab": {
          "base_uri": "https://localhost:8080/",
          "height": 166
        },
        "id": "gwVYWM7xwyTQ",
        "outputId": "53752de4-db58-4705-de21-1f47623eec41"
      },
      "source": [
        "# We can reset an index\n",
        "# Note:  It adds a column by default with the value being dropped\n",
        "df1.reset_index()"
      ],
      "execution_count": null,
      "outputs": [
        {
          "output_type": "execute_result",
          "data": {
            "text/html": [
              "<div>\n",
              "<style scoped>\n",
              "    .dataframe tbody tr th:only-of-type {\n",
              "        vertical-align: middle;\n",
              "    }\n",
              "\n",
              "    .dataframe tbody tr th {\n",
              "        vertical-align: top;\n",
              "    }\n",
              "\n",
              "    .dataframe thead th {\n",
              "        text-align: right;\n",
              "    }\n",
              "</style>\n",
              "<table border=\"1\" class=\"dataframe\">\n",
              "  <thead>\n",
              "    <tr style=\"text-align: right;\">\n",
              "      <th></th>\n",
              "      <th>index</th>\n",
              "      <th>Name</th>\n",
              "      <th>Surname</th>\n",
              "    </tr>\n",
              "  </thead>\n",
              "  <tbody>\n",
              "    <tr>\n",
              "      <th>0</th>\n",
              "      <td>0</td>\n",
              "      <td>Walter</td>\n",
              "      <td>White</td>\n",
              "    </tr>\n",
              "    <tr>\n",
              "      <th>1</th>\n",
              "      <td>1</td>\n",
              "      <td>Hank</td>\n",
              "      <td>Schrader</td>\n",
              "    </tr>\n",
              "    <tr>\n",
              "      <th>2</th>\n",
              "      <td>2</td>\n",
              "      <td>Jesse</td>\n",
              "      <td>Pinkman</td>\n",
              "    </tr>\n",
              "    <tr>\n",
              "      <th>3</th>\n",
              "      <td>3</td>\n",
              "      <td>Saul</td>\n",
              "      <td>Goodman</td>\n",
              "    </tr>\n",
              "  </tbody>\n",
              "</table>\n",
              "</div>"
            ],
            "text/plain": [
              "   index    Name   Surname\n",
              "0      0  Walter     White\n",
              "1      1    Hank  Schrader\n",
              "2      2   Jesse   Pinkman\n",
              "3      3    Saul   Goodman"
            ]
          },
          "metadata": {
            "tags": []
          },
          "execution_count": 9
        }
      ]
    },
    {
      "cell_type": "code",
      "metadata": {
        "colab": {
          "base_uri": "https://localhost:8080/",
          "height": 166
        },
        "id": "G5UVynO8w_7y",
        "outputId": "473ce118-10c8-4653-aebc-414c5e9404e6"
      },
      "source": [
        "# We can reset and drop\n",
        "df1.reset_index(drop=True)"
      ],
      "execution_count": null,
      "outputs": [
        {
          "output_type": "execute_result",
          "data": {
            "text/html": [
              "<div>\n",
              "<style scoped>\n",
              "    .dataframe tbody tr th:only-of-type {\n",
              "        vertical-align: middle;\n",
              "    }\n",
              "\n",
              "    .dataframe tbody tr th {\n",
              "        vertical-align: top;\n",
              "    }\n",
              "\n",
              "    .dataframe thead th {\n",
              "        text-align: right;\n",
              "    }\n",
              "</style>\n",
              "<table border=\"1\" class=\"dataframe\">\n",
              "  <thead>\n",
              "    <tr style=\"text-align: right;\">\n",
              "      <th></th>\n",
              "      <th>Name</th>\n",
              "      <th>Surname</th>\n",
              "    </tr>\n",
              "  </thead>\n",
              "  <tbody>\n",
              "    <tr>\n",
              "      <th>0</th>\n",
              "      <td>Walter</td>\n",
              "      <td>White</td>\n",
              "    </tr>\n",
              "    <tr>\n",
              "      <th>1</th>\n",
              "      <td>Hank</td>\n",
              "      <td>Schrader</td>\n",
              "    </tr>\n",
              "    <tr>\n",
              "      <th>2</th>\n",
              "      <td>Jesse</td>\n",
              "      <td>Pinkman</td>\n",
              "    </tr>\n",
              "    <tr>\n",
              "      <th>3</th>\n",
              "      <td>Saul</td>\n",
              "      <td>Goodman</td>\n",
              "    </tr>\n",
              "  </tbody>\n",
              "</table>\n",
              "</div>"
            ],
            "text/plain": [
              "     Name   Surname\n",
              "0  Walter     White\n",
              "1    Hank  Schrader\n",
              "2   Jesse   Pinkman\n",
              "3    Saul   Goodman"
            ]
          },
          "metadata": {
            "tags": []
          },
          "execution_count": 10
        }
      ]
    },
    {
      "cell_type": "code",
      "metadata": {
        "colab": {
          "base_uri": "https://localhost:8080/",
          "height": 166
        },
        "id": "2Bf5MLPaxIos",
        "outputId": "daf0a9e9-2545-4ba5-bbc3-dd73a37099f5"
      },
      "source": [
        "df1.reset_index(col_fill='Name')"
      ],
      "execution_count": null,
      "outputs": [
        {
          "output_type": "execute_result",
          "data": {
            "text/html": [
              "<div>\n",
              "<style scoped>\n",
              "    .dataframe tbody tr th:only-of-type {\n",
              "        vertical-align: middle;\n",
              "    }\n",
              "\n",
              "    .dataframe tbody tr th {\n",
              "        vertical-align: top;\n",
              "    }\n",
              "\n",
              "    .dataframe thead th {\n",
              "        text-align: right;\n",
              "    }\n",
              "</style>\n",
              "<table border=\"1\" class=\"dataframe\">\n",
              "  <thead>\n",
              "    <tr style=\"text-align: right;\">\n",
              "      <th></th>\n",
              "      <th>index</th>\n",
              "      <th>Name</th>\n",
              "      <th>Surname</th>\n",
              "    </tr>\n",
              "  </thead>\n",
              "  <tbody>\n",
              "    <tr>\n",
              "      <th>0</th>\n",
              "      <td>0</td>\n",
              "      <td>Walter</td>\n",
              "      <td>White</td>\n",
              "    </tr>\n",
              "    <tr>\n",
              "      <th>1</th>\n",
              "      <td>1</td>\n",
              "      <td>Hank</td>\n",
              "      <td>Schrader</td>\n",
              "    </tr>\n",
              "    <tr>\n",
              "      <th>2</th>\n",
              "      <td>2</td>\n",
              "      <td>Jesse</td>\n",
              "      <td>Pinkman</td>\n",
              "    </tr>\n",
              "    <tr>\n",
              "      <th>3</th>\n",
              "      <td>3</td>\n",
              "      <td>Saul</td>\n",
              "      <td>Goodman</td>\n",
              "    </tr>\n",
              "  </tbody>\n",
              "</table>\n",
              "</div>"
            ],
            "text/plain": [
              "   index    Name   Surname\n",
              "0      0  Walter     White\n",
              "1      1    Hank  Schrader\n",
              "2      2   Jesse   Pinkman\n",
              "3      3    Saul   Goodman"
            ]
          },
          "metadata": {
            "tags": []
          },
          "execution_count": 11
        }
      ]
    },
    {
      "cell_type": "markdown",
      "metadata": {
        "id": "GZISnZQVi8XE"
      },
      "source": [
        "# Join\n",
        "* Construct two data frames\n",
        "* Join & Concat"
      ]
    },
    {
      "cell_type": "code",
      "metadata": {
        "colab": {
          "base_uri": "https://localhost:8080/",
          "height": 166
        },
        "id": "iMlw2JfYi-Bq",
        "outputId": "b9d032d6-f087-4aeb-86ea-8504c3a7f9a3"
      },
      "source": [
        "df1 = pd.DataFrame([\n",
        "  {'Name': 'Walter'},\n",
        "  {'Name': 'Hank'},\n",
        "  {'Name': 'Jesse'},\n",
        "  {'Name': 'Saul'},\n",
        "])\n",
        "df1"
      ],
      "execution_count": null,
      "outputs": [
        {
          "output_type": "execute_result",
          "data": {
            "text/html": [
              "<div>\n",
              "<style scoped>\n",
              "    .dataframe tbody tr th:only-of-type {\n",
              "        vertical-align: middle;\n",
              "    }\n",
              "\n",
              "    .dataframe tbody tr th {\n",
              "        vertical-align: top;\n",
              "    }\n",
              "\n",
              "    .dataframe thead th {\n",
              "        text-align: right;\n",
              "    }\n",
              "</style>\n",
              "<table border=\"1\" class=\"dataframe\">\n",
              "  <thead>\n",
              "    <tr style=\"text-align: right;\">\n",
              "      <th></th>\n",
              "      <th>Name</th>\n",
              "    </tr>\n",
              "  </thead>\n",
              "  <tbody>\n",
              "    <tr>\n",
              "      <th>0</th>\n",
              "      <td>Walter</td>\n",
              "    </tr>\n",
              "    <tr>\n",
              "      <th>1</th>\n",
              "      <td>Hank</td>\n",
              "    </tr>\n",
              "    <tr>\n",
              "      <th>2</th>\n",
              "      <td>Jesse</td>\n",
              "    </tr>\n",
              "    <tr>\n",
              "      <th>3</th>\n",
              "      <td>Saul</td>\n",
              "    </tr>\n",
              "  </tbody>\n",
              "</table>\n",
              "</div>"
            ],
            "text/plain": [
              "     Name\n",
              "0  Walter\n",
              "1    Hank\n",
              "2   Jesse\n",
              "3    Saul"
            ]
          },
          "metadata": {
            "tags": []
          },
          "execution_count": 26
        }
      ]
    },
    {
      "cell_type": "code",
      "metadata": {
        "colab": {
          "base_uri": "https://localhost:8080/",
          "height": 166
        },
        "id": "35giMI3FjQNs",
        "outputId": "5a64b856-992b-44cf-9985-d0ecc43d541c"
      },
      "source": [
        "df2 = pd.DataFrame([\n",
        "  {'Surname': 'White'},\n",
        "  {'Surname': 'Schrader'},\n",
        "  {'Surname': 'Pinkman'},\n",
        "  {'Surname': 'Goodman'},\n",
        "])\n",
        "df2"
      ],
      "execution_count": null,
      "outputs": [
        {
          "output_type": "execute_result",
          "data": {
            "text/html": [
              "<div>\n",
              "<style scoped>\n",
              "    .dataframe tbody tr th:only-of-type {\n",
              "        vertical-align: middle;\n",
              "    }\n",
              "\n",
              "    .dataframe tbody tr th {\n",
              "        vertical-align: top;\n",
              "    }\n",
              "\n",
              "    .dataframe thead th {\n",
              "        text-align: right;\n",
              "    }\n",
              "</style>\n",
              "<table border=\"1\" class=\"dataframe\">\n",
              "  <thead>\n",
              "    <tr style=\"text-align: right;\">\n",
              "      <th></th>\n",
              "      <th>Surname</th>\n",
              "    </tr>\n",
              "  </thead>\n",
              "  <tbody>\n",
              "    <tr>\n",
              "      <th>0</th>\n",
              "      <td>White</td>\n",
              "    </tr>\n",
              "    <tr>\n",
              "      <th>1</th>\n",
              "      <td>Schrader</td>\n",
              "    </tr>\n",
              "    <tr>\n",
              "      <th>2</th>\n",
              "      <td>Pinkman</td>\n",
              "    </tr>\n",
              "    <tr>\n",
              "      <th>3</th>\n",
              "      <td>Goodman</td>\n",
              "    </tr>\n",
              "  </tbody>\n",
              "</table>\n",
              "</div>"
            ],
            "text/plain": [
              "    Surname\n",
              "0     White\n",
              "1  Schrader\n",
              "2   Pinkman\n",
              "3   Goodman"
            ]
          },
          "metadata": {
            "tags": []
          },
          "execution_count": 27
        }
      ]
    },
    {
      "cell_type": "markdown",
      "metadata": {
        "id": "LWaCGLREkYZU"
      },
      "source": [
        "## Join \n",
        "* Match up rows and put frames together"
      ]
    },
    {
      "cell_type": "code",
      "metadata": {
        "colab": {
          "base_uri": "https://localhost:8080/",
          "height": 166
        },
        "id": "yy2JrQgsjiX-",
        "outputId": "df60d508-1081-4de9-ebf8-927d2c5b8c15"
      },
      "source": [
        "# Use the data frame to join to another\n",
        "# Join uses the index\n",
        "df1.join(df2)"
      ],
      "execution_count": null,
      "outputs": [
        {
          "output_type": "execute_result",
          "data": {
            "text/html": [
              "<div>\n",
              "<style scoped>\n",
              "    .dataframe tbody tr th:only-of-type {\n",
              "        vertical-align: middle;\n",
              "    }\n",
              "\n",
              "    .dataframe tbody tr th {\n",
              "        vertical-align: top;\n",
              "    }\n",
              "\n",
              "    .dataframe thead th {\n",
              "        text-align: right;\n",
              "    }\n",
              "</style>\n",
              "<table border=\"1\" class=\"dataframe\">\n",
              "  <thead>\n",
              "    <tr style=\"text-align: right;\">\n",
              "      <th></th>\n",
              "      <th>Name</th>\n",
              "      <th>Surname</th>\n",
              "    </tr>\n",
              "  </thead>\n",
              "  <tbody>\n",
              "    <tr>\n",
              "      <th>0</th>\n",
              "      <td>Walter</td>\n",
              "      <td>White</td>\n",
              "    </tr>\n",
              "    <tr>\n",
              "      <th>1</th>\n",
              "      <td>Hank</td>\n",
              "      <td>Schrader</td>\n",
              "    </tr>\n",
              "    <tr>\n",
              "      <th>2</th>\n",
              "      <td>Jesse</td>\n",
              "      <td>Pinkman</td>\n",
              "    </tr>\n",
              "    <tr>\n",
              "      <th>3</th>\n",
              "      <td>Saul</td>\n",
              "      <td>Goodman</td>\n",
              "    </tr>\n",
              "  </tbody>\n",
              "</table>\n",
              "</div>"
            ],
            "text/plain": [
              "     Name   Surname\n",
              "0  Walter     White\n",
              "1    Hank  Schrader\n",
              "2   Jesse   Pinkman\n",
              "3    Saul   Goodman"
            ]
          },
          "metadata": {
            "tags": []
          },
          "execution_count": 28
        }
      ]
    },
    {
      "cell_type": "markdown",
      "metadata": {
        "id": "AHkMvoqAFoF9"
      },
      "source": [
        "## Index vs Column"
      ]
    },
    {
      "cell_type": "code",
      "metadata": {
        "colab": {
          "base_uri": "https://localhost:8080/",
          "height": 166
        },
        "id": "VOivWEzSBbId",
        "outputId": "0137570e-3969-4f18-993f-213a7d4eb527"
      },
      "source": [
        "df1 = pd.DataFrame([\n",
        "  {'Name': 'Walter', 'Surname': 'White',    'Job': 'Entrepreneur'},\n",
        "  {'Name': 'Hank',   'Surname': 'Schrader', 'Job': 'Law Enforcement'},\n",
        "  {'Name': 'Jesse',  'Surname': 'Pinkman',  'Job': 'Entrepreneur'},\n",
        "  {'Name': 'Saul',   'Surname': 'Goodman',  'Job': 'Lawyer'},\n",
        "])\n",
        "df1"
      ],
      "execution_count": null,
      "outputs": [
        {
          "output_type": "execute_result",
          "data": {
            "text/html": [
              "<div>\n",
              "<style scoped>\n",
              "    .dataframe tbody tr th:only-of-type {\n",
              "        vertical-align: middle;\n",
              "    }\n",
              "\n",
              "    .dataframe tbody tr th {\n",
              "        vertical-align: top;\n",
              "    }\n",
              "\n",
              "    .dataframe thead th {\n",
              "        text-align: right;\n",
              "    }\n",
              "</style>\n",
              "<table border=\"1\" class=\"dataframe\">\n",
              "  <thead>\n",
              "    <tr style=\"text-align: right;\">\n",
              "      <th></th>\n",
              "      <th>Name</th>\n",
              "      <th>Surname</th>\n",
              "      <th>Job</th>\n",
              "    </tr>\n",
              "  </thead>\n",
              "  <tbody>\n",
              "    <tr>\n",
              "      <th>0</th>\n",
              "      <td>Walter</td>\n",
              "      <td>White</td>\n",
              "      <td>Entrepreneur</td>\n",
              "    </tr>\n",
              "    <tr>\n",
              "      <th>1</th>\n",
              "      <td>Hank</td>\n",
              "      <td>Schrader</td>\n",
              "      <td>Law Enforcement</td>\n",
              "    </tr>\n",
              "    <tr>\n",
              "      <th>2</th>\n",
              "      <td>Jesse</td>\n",
              "      <td>Pinkman</td>\n",
              "      <td>Entrepreneur</td>\n",
              "    </tr>\n",
              "    <tr>\n",
              "      <th>3</th>\n",
              "      <td>Saul</td>\n",
              "      <td>Goodman</td>\n",
              "      <td>Lawyer</td>\n",
              "    </tr>\n",
              "  </tbody>\n",
              "</table>\n",
              "</div>"
            ],
            "text/plain": [
              "     Name   Surname              Job\n",
              "0  Walter     White     Entrepreneur\n",
              "1    Hank  Schrader  Law Enforcement\n",
              "2   Jesse   Pinkman     Entrepreneur\n",
              "3    Saul   Goodman           Lawyer"
            ]
          },
          "metadata": {
            "tags": []
          },
          "execution_count": 68
        }
      ]
    },
    {
      "cell_type": "code",
      "metadata": {
        "colab": {
          "base_uri": "https://localhost:8080/",
          "height": 166
        },
        "id": "S7w7OAaMBbIi",
        "outputId": "1717fa5b-7b4d-42b1-902a-4d36fbe2e08a"
      },
      "source": [
        "df2 = pd.DataFrame([\n",
        "  {'Job': 'Entrepreneur',    'Pay': 1_000_000},\n",
        "  {'Job': 'Law Enforcement', 'Pay': 75_000},\n",
        "  {'Job': 'Lawyer',          'Pay': 250_000},\n",
        "  {'Job': 'Teacher',         'Pay': 50_000},\n",
        "])\n",
        "df2"
      ],
      "execution_count": null,
      "outputs": [
        {
          "output_type": "execute_result",
          "data": {
            "text/html": [
              "<div>\n",
              "<style scoped>\n",
              "    .dataframe tbody tr th:only-of-type {\n",
              "        vertical-align: middle;\n",
              "    }\n",
              "\n",
              "    .dataframe tbody tr th {\n",
              "        vertical-align: top;\n",
              "    }\n",
              "\n",
              "    .dataframe thead th {\n",
              "        text-align: right;\n",
              "    }\n",
              "</style>\n",
              "<table border=\"1\" class=\"dataframe\">\n",
              "  <thead>\n",
              "    <tr style=\"text-align: right;\">\n",
              "      <th></th>\n",
              "      <th>Job</th>\n",
              "      <th>Pay</th>\n",
              "    </tr>\n",
              "  </thead>\n",
              "  <tbody>\n",
              "    <tr>\n",
              "      <th>0</th>\n",
              "      <td>Entrepreneur</td>\n",
              "      <td>1000000</td>\n",
              "    </tr>\n",
              "    <tr>\n",
              "      <th>1</th>\n",
              "      <td>Law Enforcement</td>\n",
              "      <td>75000</td>\n",
              "    </tr>\n",
              "    <tr>\n",
              "      <th>2</th>\n",
              "      <td>Lawyer</td>\n",
              "      <td>250000</td>\n",
              "    </tr>\n",
              "    <tr>\n",
              "      <th>3</th>\n",
              "      <td>Teacher</td>\n",
              "      <td>50000</td>\n",
              "    </tr>\n",
              "  </tbody>\n",
              "</table>\n",
              "</div>"
            ],
            "text/plain": [
              "               Job      Pay\n",
              "0     Entrepreneur  1000000\n",
              "1  Law Enforcement    75000\n",
              "2           Lawyer   250000\n",
              "3          Teacher    50000"
            ]
          },
          "metadata": {
            "tags": []
          },
          "execution_count": 69
        }
      ]
    },
    {
      "cell_type": "code",
      "metadata": {
        "colab": {
          "base_uri": "https://localhost:8080/",
          "height": 358
        },
        "id": "iOsplmZZCkCi",
        "outputId": "9476ac88-bc67-4699-a0fb-85b145a812b0"
      },
      "source": [
        "# Can't join - there's a column the same\n",
        "df1.join(df2)"
      ],
      "execution_count": null,
      "outputs": [
        {
          "output_type": "error",
          "ename": "ValueError",
          "evalue": "ignored",
          "traceback": [
            "\u001b[0;31m---------------------------------------------------------------------------\u001b[0m",
            "\u001b[0;31mValueError\u001b[0m                                Traceback (most recent call last)",
            "\u001b[0;32m<ipython-input-70-112647c2fef4>\u001b[0m in \u001b[0;36m<module>\u001b[0;34m()\u001b[0m\n\u001b[1;32m      1\u001b[0m \u001b[0;31m# Can't join - there's a column the same\u001b[0m\u001b[0;34m\u001b[0m\u001b[0;34m\u001b[0m\u001b[0;34m\u001b[0m\u001b[0m\n\u001b[0;32m----> 2\u001b[0;31m \u001b[0mdf1\u001b[0m\u001b[0;34m.\u001b[0m\u001b[0mjoin\u001b[0m\u001b[0;34m(\u001b[0m\u001b[0mdf2\u001b[0m\u001b[0;34m)\u001b[0m\u001b[0;34m\u001b[0m\u001b[0;34m\u001b[0m\u001b[0m\n\u001b[0m",
            "\u001b[0;32m/usr/local/lib/python3.7/dist-packages/pandas/core/frame.py\u001b[0m in \u001b[0;36mjoin\u001b[0;34m(self, other, on, how, lsuffix, rsuffix, sort)\u001b[0m\n\u001b[1;32m   7873\u001b[0m         \"\"\"\n\u001b[1;32m   7874\u001b[0m         return self._join_compat(\n\u001b[0;32m-> 7875\u001b[0;31m             \u001b[0mother\u001b[0m\u001b[0;34m,\u001b[0m \u001b[0mon\u001b[0m\u001b[0;34m=\u001b[0m\u001b[0mon\u001b[0m\u001b[0;34m,\u001b[0m \u001b[0mhow\u001b[0m\u001b[0;34m=\u001b[0m\u001b[0mhow\u001b[0m\u001b[0;34m,\u001b[0m \u001b[0mlsuffix\u001b[0m\u001b[0;34m=\u001b[0m\u001b[0mlsuffix\u001b[0m\u001b[0;34m,\u001b[0m \u001b[0mrsuffix\u001b[0m\u001b[0;34m=\u001b[0m\u001b[0mrsuffix\u001b[0m\u001b[0;34m,\u001b[0m \u001b[0msort\u001b[0m\u001b[0;34m=\u001b[0m\u001b[0msort\u001b[0m\u001b[0;34m\u001b[0m\u001b[0;34m\u001b[0m\u001b[0m\n\u001b[0m\u001b[1;32m   7876\u001b[0m         )\n\u001b[1;32m   7877\u001b[0m \u001b[0;34m\u001b[0m\u001b[0m\n",
            "\u001b[0;32m/usr/local/lib/python3.7/dist-packages/pandas/core/frame.py\u001b[0m in \u001b[0;36m_join_compat\u001b[0;34m(self, other, on, how, lsuffix, rsuffix, sort)\u001b[0m\n\u001b[1;32m   7896\u001b[0m                 \u001b[0mright_index\u001b[0m\u001b[0;34m=\u001b[0m\u001b[0;32mTrue\u001b[0m\u001b[0;34m,\u001b[0m\u001b[0;34m\u001b[0m\u001b[0;34m\u001b[0m\u001b[0m\n\u001b[1;32m   7897\u001b[0m                 \u001b[0msuffixes\u001b[0m\u001b[0;34m=\u001b[0m\u001b[0;34m(\u001b[0m\u001b[0mlsuffix\u001b[0m\u001b[0;34m,\u001b[0m \u001b[0mrsuffix\u001b[0m\u001b[0;34m)\u001b[0m\u001b[0;34m,\u001b[0m\u001b[0;34m\u001b[0m\u001b[0;34m\u001b[0m\u001b[0m\n\u001b[0;32m-> 7898\u001b[0;31m                 \u001b[0msort\u001b[0m\u001b[0;34m=\u001b[0m\u001b[0msort\u001b[0m\u001b[0;34m,\u001b[0m\u001b[0;34m\u001b[0m\u001b[0;34m\u001b[0m\u001b[0m\n\u001b[0m\u001b[1;32m   7899\u001b[0m             )\n\u001b[1;32m   7900\u001b[0m         \u001b[0;32melse\u001b[0m\u001b[0;34m:\u001b[0m\u001b[0;34m\u001b[0m\u001b[0;34m\u001b[0m\u001b[0m\n",
            "\u001b[0;32m/usr/local/lib/python3.7/dist-packages/pandas/core/reshape/merge.py\u001b[0m in \u001b[0;36mmerge\u001b[0;34m(left, right, how, on, left_on, right_on, left_index, right_index, sort, suffixes, copy, indicator, validate)\u001b[0m\n\u001b[1;32m     87\u001b[0m         \u001b[0mvalidate\u001b[0m\u001b[0;34m=\u001b[0m\u001b[0mvalidate\u001b[0m\u001b[0;34m,\u001b[0m\u001b[0;34m\u001b[0m\u001b[0;34m\u001b[0m\u001b[0m\n\u001b[1;32m     88\u001b[0m     )\n\u001b[0;32m---> 89\u001b[0;31m     \u001b[0;32mreturn\u001b[0m \u001b[0mop\u001b[0m\u001b[0;34m.\u001b[0m\u001b[0mget_result\u001b[0m\u001b[0;34m(\u001b[0m\u001b[0;34m)\u001b[0m\u001b[0;34m\u001b[0m\u001b[0;34m\u001b[0m\u001b[0m\n\u001b[0m\u001b[1;32m     90\u001b[0m \u001b[0;34m\u001b[0m\u001b[0m\n\u001b[1;32m     91\u001b[0m \u001b[0;34m\u001b[0m\u001b[0m\n",
            "\u001b[0;32m/usr/local/lib/python3.7/dist-packages/pandas/core/reshape/merge.py\u001b[0m in \u001b[0;36mget_result\u001b[0;34m(self)\u001b[0m\n\u001b[1;32m    669\u001b[0m \u001b[0;34m\u001b[0m\u001b[0m\n\u001b[1;32m    670\u001b[0m         llabels, rlabels = _items_overlap_with_suffix(\n\u001b[0;32m--> 671\u001b[0;31m             \u001b[0mself\u001b[0m\u001b[0;34m.\u001b[0m\u001b[0mleft\u001b[0m\u001b[0;34m.\u001b[0m\u001b[0m_info_axis\u001b[0m\u001b[0;34m,\u001b[0m \u001b[0mself\u001b[0m\u001b[0;34m.\u001b[0m\u001b[0mright\u001b[0m\u001b[0;34m.\u001b[0m\u001b[0m_info_axis\u001b[0m\u001b[0;34m,\u001b[0m \u001b[0mself\u001b[0m\u001b[0;34m.\u001b[0m\u001b[0msuffixes\u001b[0m\u001b[0;34m\u001b[0m\u001b[0;34m\u001b[0m\u001b[0m\n\u001b[0m\u001b[1;32m    672\u001b[0m         )\n\u001b[1;32m    673\u001b[0m \u001b[0;34m\u001b[0m\u001b[0m\n",
            "\u001b[0;32m/usr/local/lib/python3.7/dist-packages/pandas/core/reshape/merge.py\u001b[0m in \u001b[0;36m_items_overlap_with_suffix\u001b[0;34m(left, right, suffixes)\u001b[0m\n\u001b[1;32m   2094\u001b[0m \u001b[0;34m\u001b[0m\u001b[0m\n\u001b[1;32m   2095\u001b[0m     \u001b[0;32mif\u001b[0m \u001b[0;32mnot\u001b[0m \u001b[0mlsuffix\u001b[0m \u001b[0;32mand\u001b[0m \u001b[0;32mnot\u001b[0m \u001b[0mrsuffix\u001b[0m\u001b[0;34m:\u001b[0m\u001b[0;34m\u001b[0m\u001b[0;34m\u001b[0m\u001b[0m\n\u001b[0;32m-> 2096\u001b[0;31m         \u001b[0;32mraise\u001b[0m \u001b[0mValueError\u001b[0m\u001b[0;34m(\u001b[0m\u001b[0;34mf\"columns overlap but no suffix specified: {to_rename}\"\u001b[0m\u001b[0;34m)\u001b[0m\u001b[0;34m\u001b[0m\u001b[0;34m\u001b[0m\u001b[0m\n\u001b[0m\u001b[1;32m   2097\u001b[0m \u001b[0;34m\u001b[0m\u001b[0m\n\u001b[1;32m   2098\u001b[0m     \u001b[0;32mdef\u001b[0m \u001b[0mrenamer\u001b[0m\u001b[0;34m(\u001b[0m\u001b[0mx\u001b[0m\u001b[0;34m,\u001b[0m \u001b[0msuffix\u001b[0m\u001b[0;34m)\u001b[0m\u001b[0;34m:\u001b[0m\u001b[0;34m\u001b[0m\u001b[0;34m\u001b[0m\u001b[0m\n",
            "\u001b[0;31mValueError\u001b[0m: columns overlap but no suffix specified: Index(['Job'], dtype='object')"
          ]
        }
      ]
    },
    {
      "cell_type": "code",
      "metadata": {
        "colab": {
          "base_uri": "https://localhost:8080/",
          "height": 166
        },
        "id": "ZTBIDRwVJ5BB",
        "outputId": "857fe3d7-dafc-4f94-f3c2-8b41cb17aa42"
      },
      "source": [
        "# What if we move the Job field to the index?\n",
        "# Not an intuitive result - Again indexes...\n",
        "df1.join(df2.set_index('Job'))"
      ],
      "execution_count": null,
      "outputs": [
        {
          "output_type": "execute_result",
          "data": {
            "text/html": [
              "<div>\n",
              "<style scoped>\n",
              "    .dataframe tbody tr th:only-of-type {\n",
              "        vertical-align: middle;\n",
              "    }\n",
              "\n",
              "    .dataframe tbody tr th {\n",
              "        vertical-align: top;\n",
              "    }\n",
              "\n",
              "    .dataframe thead th {\n",
              "        text-align: right;\n",
              "    }\n",
              "</style>\n",
              "<table border=\"1\" class=\"dataframe\">\n",
              "  <thead>\n",
              "    <tr style=\"text-align: right;\">\n",
              "      <th></th>\n",
              "      <th>Name</th>\n",
              "      <th>Surname</th>\n",
              "      <th>Job</th>\n",
              "      <th>Pay</th>\n",
              "    </tr>\n",
              "  </thead>\n",
              "  <tbody>\n",
              "    <tr>\n",
              "      <th>0</th>\n",
              "      <td>Walter</td>\n",
              "      <td>White</td>\n",
              "      <td>Entrepreneur</td>\n",
              "      <td>NaN</td>\n",
              "    </tr>\n",
              "    <tr>\n",
              "      <th>1</th>\n",
              "      <td>Hank</td>\n",
              "      <td>Schrader</td>\n",
              "      <td>Law Enforcement</td>\n",
              "      <td>NaN</td>\n",
              "    </tr>\n",
              "    <tr>\n",
              "      <th>2</th>\n",
              "      <td>Jesse</td>\n",
              "      <td>Pinkman</td>\n",
              "      <td>Entrepreneur</td>\n",
              "      <td>NaN</td>\n",
              "    </tr>\n",
              "    <tr>\n",
              "      <th>3</th>\n",
              "      <td>Saul</td>\n",
              "      <td>Goodman</td>\n",
              "      <td>Lawyer</td>\n",
              "      <td>NaN</td>\n",
              "    </tr>\n",
              "  </tbody>\n",
              "</table>\n",
              "</div>"
            ],
            "text/plain": [
              "     Name   Surname              Job  Pay\n",
              "0  Walter     White     Entrepreneur  NaN\n",
              "1    Hank  Schrader  Law Enforcement  NaN\n",
              "2   Jesse   Pinkman     Entrepreneur  NaN\n",
              "3    Saul   Goodman           Lawyer  NaN"
            ]
          },
          "metadata": {
            "tags": []
          },
          "execution_count": 73
        }
      ]
    },
    {
      "cell_type": "code",
      "metadata": {
        "colab": {
          "base_uri": "https://localhost:8080/",
          "height": 196
        },
        "id": "T30wiqtZC-p6",
        "outputId": "3791b5f1-a3ca-4c2b-b9d5-f0b42aab81cd"
      },
      "source": [
        "# We need to move the columns in common\n",
        "# i.e. what we want to join on into the index\n",
        "df1.set_index('Job').join(df2.set_index('Job'))"
      ],
      "execution_count": null,
      "outputs": [
        {
          "output_type": "execute_result",
          "data": {
            "text/html": [
              "<div>\n",
              "<style scoped>\n",
              "    .dataframe tbody tr th:only-of-type {\n",
              "        vertical-align: middle;\n",
              "    }\n",
              "\n",
              "    .dataframe tbody tr th {\n",
              "        vertical-align: top;\n",
              "    }\n",
              "\n",
              "    .dataframe thead th {\n",
              "        text-align: right;\n",
              "    }\n",
              "</style>\n",
              "<table border=\"1\" class=\"dataframe\">\n",
              "  <thead>\n",
              "    <tr style=\"text-align: right;\">\n",
              "      <th></th>\n",
              "      <th>Name</th>\n",
              "      <th>Surname</th>\n",
              "      <th>Pay</th>\n",
              "    </tr>\n",
              "    <tr>\n",
              "      <th>Job</th>\n",
              "      <th></th>\n",
              "      <th></th>\n",
              "      <th></th>\n",
              "    </tr>\n",
              "  </thead>\n",
              "  <tbody>\n",
              "    <tr>\n",
              "      <th>Entrepreneur</th>\n",
              "      <td>Walter</td>\n",
              "      <td>White</td>\n",
              "      <td>1000000</td>\n",
              "    </tr>\n",
              "    <tr>\n",
              "      <th>Entrepreneur</th>\n",
              "      <td>Jesse</td>\n",
              "      <td>Pinkman</td>\n",
              "      <td>1000000</td>\n",
              "    </tr>\n",
              "    <tr>\n",
              "      <th>Law Enforcement</th>\n",
              "      <td>Hank</td>\n",
              "      <td>Schrader</td>\n",
              "      <td>75000</td>\n",
              "    </tr>\n",
              "    <tr>\n",
              "      <th>Lawyer</th>\n",
              "      <td>Saul</td>\n",
              "      <td>Goodman</td>\n",
              "      <td>250000</td>\n",
              "    </tr>\n",
              "  </tbody>\n",
              "</table>\n",
              "</div>"
            ],
            "text/plain": [
              "                   Name   Surname      Pay\n",
              "Job                                       \n",
              "Entrepreneur     Walter     White  1000000\n",
              "Entrepreneur      Jesse   Pinkman  1000000\n",
              "Law Enforcement    Hank  Schrader    75000\n",
              "Lawyer             Saul   Goodman   250000"
            ]
          },
          "metadata": {
            "tags": []
          },
          "execution_count": 71
        }
      ]
    },
    {
      "cell_type": "code",
      "metadata": {
        "colab": {
          "base_uri": "https://localhost:8080/",
          "height": 166
        },
        "id": "8zlrnHUIFxpT",
        "outputId": "0725f2f7-798b-48f8-df82-dc7221b36d85"
      },
      "source": [
        "# Wait, there's an \"on\" parameter\n",
        "# \"on\" isn't necessarily intuitive\n",
        "# You'd like it to join on the column, Job\n",
        "# But it's still about joining indexes\n",
        "# For example join the Job column in 1st frame to the index in the 2nd\n",
        "df1.join(df2.set_index('Job'), on=['Job'])"
      ],
      "execution_count": null,
      "outputs": [
        {
          "output_type": "execute_result",
          "data": {
            "text/html": [
              "<div>\n",
              "<style scoped>\n",
              "    .dataframe tbody tr th:only-of-type {\n",
              "        vertical-align: middle;\n",
              "    }\n",
              "\n",
              "    .dataframe tbody tr th {\n",
              "        vertical-align: top;\n",
              "    }\n",
              "\n",
              "    .dataframe thead th {\n",
              "        text-align: right;\n",
              "    }\n",
              "</style>\n",
              "<table border=\"1\" class=\"dataframe\">\n",
              "  <thead>\n",
              "    <tr style=\"text-align: right;\">\n",
              "      <th></th>\n",
              "      <th>Name</th>\n",
              "      <th>Surname</th>\n",
              "      <th>Job</th>\n",
              "      <th>Pay</th>\n",
              "    </tr>\n",
              "  </thead>\n",
              "  <tbody>\n",
              "    <tr>\n",
              "      <th>0</th>\n",
              "      <td>Walter</td>\n",
              "      <td>White</td>\n",
              "      <td>Entrepreneur</td>\n",
              "      <td>1000000</td>\n",
              "    </tr>\n",
              "    <tr>\n",
              "      <th>1</th>\n",
              "      <td>Hank</td>\n",
              "      <td>Schrader</td>\n",
              "      <td>Law Enforcement</td>\n",
              "      <td>75000</td>\n",
              "    </tr>\n",
              "    <tr>\n",
              "      <th>2</th>\n",
              "      <td>Jesse</td>\n",
              "      <td>Pinkman</td>\n",
              "      <td>Entrepreneur</td>\n",
              "      <td>1000000</td>\n",
              "    </tr>\n",
              "    <tr>\n",
              "      <th>3</th>\n",
              "      <td>Saul</td>\n",
              "      <td>Goodman</td>\n",
              "      <td>Lawyer</td>\n",
              "      <td>250000</td>\n",
              "    </tr>\n",
              "  </tbody>\n",
              "</table>\n",
              "</div>"
            ],
            "text/plain": [
              "     Name   Surname              Job      Pay\n",
              "0  Walter     White     Entrepreneur  1000000\n",
              "1    Hank  Schrader  Law Enforcement    75000\n",
              "2   Jesse   Pinkman     Entrepreneur  1000000\n",
              "3    Saul   Goodman           Lawyer   250000"
            ]
          },
          "metadata": {
            "tags": []
          },
          "execution_count": 72
        }
      ]
    },
    {
      "cell_type": "markdown",
      "metadata": {
        "id": "a5WcmQHGBawd"
      },
      "source": [
        "## Inner, Left, Right, Outer"
      ]
    },
    {
      "cell_type": "code",
      "metadata": {
        "colab": {
          "base_uri": "https://localhost:8080/",
          "height": 226
        },
        "id": "Y4gSqlm-DglH",
        "outputId": "f7791a05-5040-4e9e-ef71-484161288337"
      },
      "source": [
        "# If we flip this around (from jobs -> people)\n",
        "# We can see the default join style, left\n",
        "df2.set_index('Job').join(df1.set_index('Job'))"
      ],
      "execution_count": null,
      "outputs": [
        {
          "output_type": "execute_result",
          "data": {
            "text/html": [
              "<div>\n",
              "<style scoped>\n",
              "    .dataframe tbody tr th:only-of-type {\n",
              "        vertical-align: middle;\n",
              "    }\n",
              "\n",
              "    .dataframe tbody tr th {\n",
              "        vertical-align: top;\n",
              "    }\n",
              "\n",
              "    .dataframe thead th {\n",
              "        text-align: right;\n",
              "    }\n",
              "</style>\n",
              "<table border=\"1\" class=\"dataframe\">\n",
              "  <thead>\n",
              "    <tr style=\"text-align: right;\">\n",
              "      <th></th>\n",
              "      <th>Pay</th>\n",
              "      <th>Name</th>\n",
              "      <th>Surname</th>\n",
              "    </tr>\n",
              "    <tr>\n",
              "      <th>Job</th>\n",
              "      <th></th>\n",
              "      <th></th>\n",
              "      <th></th>\n",
              "    </tr>\n",
              "  </thead>\n",
              "  <tbody>\n",
              "    <tr>\n",
              "      <th>Entrepreneur</th>\n",
              "      <td>1000000</td>\n",
              "      <td>Walter</td>\n",
              "      <td>White</td>\n",
              "    </tr>\n",
              "    <tr>\n",
              "      <th>Entrepreneur</th>\n",
              "      <td>1000000</td>\n",
              "      <td>Jesse</td>\n",
              "      <td>Pinkman</td>\n",
              "    </tr>\n",
              "    <tr>\n",
              "      <th>Law Enforcement</th>\n",
              "      <td>75000</td>\n",
              "      <td>Hank</td>\n",
              "      <td>Schrader</td>\n",
              "    </tr>\n",
              "    <tr>\n",
              "      <th>Lawyer</th>\n",
              "      <td>250000</td>\n",
              "      <td>Saul</td>\n",
              "      <td>Goodman</td>\n",
              "    </tr>\n",
              "    <tr>\n",
              "      <th>Teacher</th>\n",
              "      <td>50000</td>\n",
              "      <td>NaN</td>\n",
              "      <td>NaN</td>\n",
              "    </tr>\n",
              "  </tbody>\n",
              "</table>\n",
              "</div>"
            ],
            "text/plain": [
              "                     Pay    Name   Surname\n",
              "Job                                       \n",
              "Entrepreneur     1000000  Walter     White\n",
              "Entrepreneur     1000000   Jesse   Pinkman\n",
              "Law Enforcement    75000    Hank  Schrader\n",
              "Lawyer            250000    Saul   Goodman\n",
              "Teacher            50000     NaN       NaN"
            ]
          },
          "metadata": {
            "tags": []
          },
          "execution_count": 43
        }
      ]
    },
    {
      "cell_type": "code",
      "metadata": {
        "colab": {
          "base_uri": "https://localhost:8080/",
          "height": 196
        },
        "id": "_Ox6a4AADzrE",
        "outputId": "0b8f30a6-11e8-47e4-c542-73217b33263f"
      },
      "source": [
        "# We can control the join using the how attribute\n",
        "# Supports left, right, inner, outer\n",
        "# Here we're showing an inner join\n",
        "df2.set_index('Job').join(df1.set_index('Job'), how='inner')"
      ],
      "execution_count": null,
      "outputs": [
        {
          "output_type": "execute_result",
          "data": {
            "text/html": [
              "<div>\n",
              "<style scoped>\n",
              "    .dataframe tbody tr th:only-of-type {\n",
              "        vertical-align: middle;\n",
              "    }\n",
              "\n",
              "    .dataframe tbody tr th {\n",
              "        vertical-align: top;\n",
              "    }\n",
              "\n",
              "    .dataframe thead th {\n",
              "        text-align: right;\n",
              "    }\n",
              "</style>\n",
              "<table border=\"1\" class=\"dataframe\">\n",
              "  <thead>\n",
              "    <tr style=\"text-align: right;\">\n",
              "      <th></th>\n",
              "      <th>Pay</th>\n",
              "      <th>Name</th>\n",
              "      <th>Surname</th>\n",
              "    </tr>\n",
              "    <tr>\n",
              "      <th>Job</th>\n",
              "      <th></th>\n",
              "      <th></th>\n",
              "      <th></th>\n",
              "    </tr>\n",
              "  </thead>\n",
              "  <tbody>\n",
              "    <tr>\n",
              "      <th>Entrepreneur</th>\n",
              "      <td>1000000</td>\n",
              "      <td>Walter</td>\n",
              "      <td>White</td>\n",
              "    </tr>\n",
              "    <tr>\n",
              "      <th>Entrepreneur</th>\n",
              "      <td>1000000</td>\n",
              "      <td>Jesse</td>\n",
              "      <td>Pinkman</td>\n",
              "    </tr>\n",
              "    <tr>\n",
              "      <th>Law Enforcement</th>\n",
              "      <td>75000</td>\n",
              "      <td>Hank</td>\n",
              "      <td>Schrader</td>\n",
              "    </tr>\n",
              "    <tr>\n",
              "      <th>Lawyer</th>\n",
              "      <td>250000</td>\n",
              "      <td>Saul</td>\n",
              "      <td>Goodman</td>\n",
              "    </tr>\n",
              "  </tbody>\n",
              "</table>\n",
              "</div>"
            ],
            "text/plain": [
              "                     Pay    Name   Surname\n",
              "Job                                       \n",
              "Entrepreneur     1000000  Walter     White\n",
              "Entrepreneur     1000000   Jesse   Pinkman\n",
              "Law Enforcement    75000    Hank  Schrader\n",
              "Lawyer            250000    Saul   Goodman"
            ]
          },
          "metadata": {
            "tags": []
          },
          "execution_count": 45
        }
      ]
    },
    {
      "cell_type": "markdown",
      "metadata": {
        "id": "D7IB6gP5HLAG"
      },
      "source": [
        "## Suffixes\n",
        "* Sometimes, our join results in common column names\n",
        "* We could replace the existing names of columns\n",
        "* But it could be helpful to suffix all common codes"
      ]
    },
    {
      "cell_type": "code",
      "metadata": {
        "colab": {
          "base_uri": "https://localhost:8080/",
          "height": 166
        },
        "id": "rYcg1SzPHx_K",
        "outputId": "1e283990-3d16-4298-a432-c234ef07bfb1"
      },
      "source": [
        "df1 = pd.DataFrame([\n",
        "  {'Name': 'Walter', 'Surname': 'White',    'Job': 'Entrepreneur',    'Pay': 1_500_000},\n",
        "  {'Name': 'Hank',   'Surname': 'Schrader', 'Job': 'Law Enforcement', 'Pay': 100_000},\n",
        "  {'Name': 'Jesse',  'Surname': 'Pinkman',  'Job': 'Entrepreneur',    'Pay': 1_500_000},\n",
        "  {'Name': 'Saul',   'Surname': 'Goodman',  'Job': 'Lawyer',          'Pay': 500_000},\n",
        "])\n",
        "df1"
      ],
      "execution_count": null,
      "outputs": [
        {
          "output_type": "execute_result",
          "data": {
            "text/html": [
              "<div>\n",
              "<style scoped>\n",
              "    .dataframe tbody tr th:only-of-type {\n",
              "        vertical-align: middle;\n",
              "    }\n",
              "\n",
              "    .dataframe tbody tr th {\n",
              "        vertical-align: top;\n",
              "    }\n",
              "\n",
              "    .dataframe thead th {\n",
              "        text-align: right;\n",
              "    }\n",
              "</style>\n",
              "<table border=\"1\" class=\"dataframe\">\n",
              "  <thead>\n",
              "    <tr style=\"text-align: right;\">\n",
              "      <th></th>\n",
              "      <th>Name</th>\n",
              "      <th>Surname</th>\n",
              "      <th>Job</th>\n",
              "      <th>Pay</th>\n",
              "    </tr>\n",
              "  </thead>\n",
              "  <tbody>\n",
              "    <tr>\n",
              "      <th>0</th>\n",
              "      <td>Walter</td>\n",
              "      <td>White</td>\n",
              "      <td>Entrepreneur</td>\n",
              "      <td>1500000</td>\n",
              "    </tr>\n",
              "    <tr>\n",
              "      <th>1</th>\n",
              "      <td>Hank</td>\n",
              "      <td>Schrader</td>\n",
              "      <td>Law Enforcement</td>\n",
              "      <td>100000</td>\n",
              "    </tr>\n",
              "    <tr>\n",
              "      <th>2</th>\n",
              "      <td>Jesse</td>\n",
              "      <td>Pinkman</td>\n",
              "      <td>Entrepreneur</td>\n",
              "      <td>1500000</td>\n",
              "    </tr>\n",
              "    <tr>\n",
              "      <th>3</th>\n",
              "      <td>Saul</td>\n",
              "      <td>Goodman</td>\n",
              "      <td>Lawyer</td>\n",
              "      <td>500000</td>\n",
              "    </tr>\n",
              "  </tbody>\n",
              "</table>\n",
              "</div>"
            ],
            "text/plain": [
              "     Name   Surname              Job      Pay\n",
              "0  Walter     White     Entrepreneur  1500000\n",
              "1    Hank  Schrader  Law Enforcement   100000\n",
              "2   Jesse   Pinkman     Entrepreneur  1500000\n",
              "3    Saul   Goodman           Lawyer   500000"
            ]
          },
          "metadata": {
            "tags": []
          },
          "execution_count": 58
        }
      ]
    },
    {
      "cell_type": "code",
      "metadata": {
        "colab": {
          "base_uri": "https://localhost:8080/",
          "height": 166
        },
        "id": "8Jq3uCeyHyAS",
        "outputId": "04ce4e5a-5f85-45df-b544-9080d4cadc40"
      },
      "source": [
        "df2 = pd.DataFrame([\n",
        "  {'Job': 'Entrepreneur',    'Pay': 200_000},\n",
        "  {'Job': 'Law Enforcement', 'Pay': 75_000},\n",
        "  {'Job': 'Lawyer',          'Pay': 150_000},\n",
        "  {'Job': 'Teacher',         'Pay': 50_000},\n",
        "])\n",
        "df2"
      ],
      "execution_count": null,
      "outputs": [
        {
          "output_type": "execute_result",
          "data": {
            "text/html": [
              "<div>\n",
              "<style scoped>\n",
              "    .dataframe tbody tr th:only-of-type {\n",
              "        vertical-align: middle;\n",
              "    }\n",
              "\n",
              "    .dataframe tbody tr th {\n",
              "        vertical-align: top;\n",
              "    }\n",
              "\n",
              "    .dataframe thead th {\n",
              "        text-align: right;\n",
              "    }\n",
              "</style>\n",
              "<table border=\"1\" class=\"dataframe\">\n",
              "  <thead>\n",
              "    <tr style=\"text-align: right;\">\n",
              "      <th></th>\n",
              "      <th>Job</th>\n",
              "      <th>Pay</th>\n",
              "    </tr>\n",
              "  </thead>\n",
              "  <tbody>\n",
              "    <tr>\n",
              "      <th>0</th>\n",
              "      <td>Entrepreneur</td>\n",
              "      <td>200000</td>\n",
              "    </tr>\n",
              "    <tr>\n",
              "      <th>1</th>\n",
              "      <td>Law Enforcement</td>\n",
              "      <td>75000</td>\n",
              "    </tr>\n",
              "    <tr>\n",
              "      <th>2</th>\n",
              "      <td>Lawyer</td>\n",
              "      <td>150000</td>\n",
              "    </tr>\n",
              "    <tr>\n",
              "      <th>3</th>\n",
              "      <td>Teacher</td>\n",
              "      <td>50000</td>\n",
              "    </tr>\n",
              "  </tbody>\n",
              "</table>\n",
              "</div>"
            ],
            "text/plain": [
              "               Job     Pay\n",
              "0     Entrepreneur  200000\n",
              "1  Law Enforcement   75000\n",
              "2           Lawyer  150000\n",
              "3          Teacher   50000"
            ]
          },
          "metadata": {
            "tags": []
          },
          "execution_count": 59
        }
      ]
    },
    {
      "cell_type": "code",
      "metadata": {
        "colab": {
          "base_uri": "https://localhost:8080/",
          "height": 166
        },
        "id": "R6kLZd07HBdC",
        "outputId": "8264a8fc-b896-4f84-c8d5-9444e354dda6"
      },
      "source": [
        "# You can control the column names with suffixing\n",
        "df1.join(df2.set_index('Job'), on=['Job'], lsuffix='_Current', rsuffix='_Typical')"
      ],
      "execution_count": null,
      "outputs": [
        {
          "output_type": "execute_result",
          "data": {
            "text/html": [
              "<div>\n",
              "<style scoped>\n",
              "    .dataframe tbody tr th:only-of-type {\n",
              "        vertical-align: middle;\n",
              "    }\n",
              "\n",
              "    .dataframe tbody tr th {\n",
              "        vertical-align: top;\n",
              "    }\n",
              "\n",
              "    .dataframe thead th {\n",
              "        text-align: right;\n",
              "    }\n",
              "</style>\n",
              "<table border=\"1\" class=\"dataframe\">\n",
              "  <thead>\n",
              "    <tr style=\"text-align: right;\">\n",
              "      <th></th>\n",
              "      <th>Name</th>\n",
              "      <th>Surname</th>\n",
              "      <th>Job</th>\n",
              "      <th>Pay_Current</th>\n",
              "      <th>Pay_Typical</th>\n",
              "    </tr>\n",
              "  </thead>\n",
              "  <tbody>\n",
              "    <tr>\n",
              "      <th>0</th>\n",
              "      <td>Walter</td>\n",
              "      <td>White</td>\n",
              "      <td>Entrepreneur</td>\n",
              "      <td>1500000</td>\n",
              "      <td>200000</td>\n",
              "    </tr>\n",
              "    <tr>\n",
              "      <th>1</th>\n",
              "      <td>Hank</td>\n",
              "      <td>Schrader</td>\n",
              "      <td>Law Enforcement</td>\n",
              "      <td>100000</td>\n",
              "      <td>75000</td>\n",
              "    </tr>\n",
              "    <tr>\n",
              "      <th>2</th>\n",
              "      <td>Jesse</td>\n",
              "      <td>Pinkman</td>\n",
              "      <td>Entrepreneur</td>\n",
              "      <td>1500000</td>\n",
              "      <td>200000</td>\n",
              "    </tr>\n",
              "    <tr>\n",
              "      <th>3</th>\n",
              "      <td>Saul</td>\n",
              "      <td>Goodman</td>\n",
              "      <td>Lawyer</td>\n",
              "      <td>500000</td>\n",
              "      <td>150000</td>\n",
              "    </tr>\n",
              "  </tbody>\n",
              "</table>\n",
              "</div>"
            ],
            "text/plain": [
              "     Name   Surname              Job  Pay_Current  Pay_Typical\n",
              "0  Walter     White     Entrepreneur      1500000       200000\n",
              "1    Hank  Schrader  Law Enforcement       100000        75000\n",
              "2   Jesse   Pinkman     Entrepreneur      1500000       200000\n",
              "3    Saul   Goodman           Lawyer       500000       150000"
            ]
          },
          "metadata": {
            "tags": []
          },
          "execution_count": 61
        }
      ]
    },
    {
      "cell_type": "markdown",
      "metadata": {
        "id": "Wx_UVBAy9bOm"
      },
      "source": [
        "# Merge\n",
        "* Pandas has a merge method\n",
        "* Merge is more flexible than join\n",
        "  * Can use indexes or columns\n",
        "  * Supports left, right, outer, inner\n",
        "\n",
        "![](https://i.stack.imgur.com/1rb1R.jpg)"
      ]
    },
    {
      "cell_type": "code",
      "metadata": {
        "colab": {
          "base_uri": "https://localhost:8080/",
          "height": 166
        },
        "id": "NHqCtUPCLCDb",
        "outputId": "323b3286-fd9c-4a72-be25-259bee31a3a5"
      },
      "source": [
        "df1 = pd.DataFrame([\n",
        "  {'Name': 'Walter', 'Surname': 'White',    'Job': 'Entrepreneur',    'Pay': 1_500_000},\n",
        "  {'Name': 'Hank',   'Surname': 'Schrader', 'Job': 'Law Enforcement', 'Pay': 100_000},\n",
        "  {'Name': 'Jesse',  'Surname': 'Pinkman',  'Job': 'Entrepreneur',    'Pay': 1_500_000},\n",
        "  {'Name': 'Saul',   'Surname': 'Goodman',  'Job': 'Lawyer',          'Pay': 500_000},\n",
        "])\n",
        "df1"
      ],
      "execution_count": null,
      "outputs": [
        {
          "output_type": "execute_result",
          "data": {
            "text/html": [
              "<div>\n",
              "<style scoped>\n",
              "    .dataframe tbody tr th:only-of-type {\n",
              "        vertical-align: middle;\n",
              "    }\n",
              "\n",
              "    .dataframe tbody tr th {\n",
              "        vertical-align: top;\n",
              "    }\n",
              "\n",
              "    .dataframe thead th {\n",
              "        text-align: right;\n",
              "    }\n",
              "</style>\n",
              "<table border=\"1\" class=\"dataframe\">\n",
              "  <thead>\n",
              "    <tr style=\"text-align: right;\">\n",
              "      <th></th>\n",
              "      <th>Name</th>\n",
              "      <th>Surname</th>\n",
              "      <th>Job</th>\n",
              "      <th>Pay</th>\n",
              "    </tr>\n",
              "  </thead>\n",
              "  <tbody>\n",
              "    <tr>\n",
              "      <th>0</th>\n",
              "      <td>Walter</td>\n",
              "      <td>White</td>\n",
              "      <td>Entrepreneur</td>\n",
              "      <td>1500000</td>\n",
              "    </tr>\n",
              "    <tr>\n",
              "      <th>1</th>\n",
              "      <td>Hank</td>\n",
              "      <td>Schrader</td>\n",
              "      <td>Law Enforcement</td>\n",
              "      <td>100000</td>\n",
              "    </tr>\n",
              "    <tr>\n",
              "      <th>2</th>\n",
              "      <td>Jesse</td>\n",
              "      <td>Pinkman</td>\n",
              "      <td>Entrepreneur</td>\n",
              "      <td>1500000</td>\n",
              "    </tr>\n",
              "    <tr>\n",
              "      <th>3</th>\n",
              "      <td>Saul</td>\n",
              "      <td>Goodman</td>\n",
              "      <td>Lawyer</td>\n",
              "      <td>500000</td>\n",
              "    </tr>\n",
              "  </tbody>\n",
              "</table>\n",
              "</div>"
            ],
            "text/plain": [
              "     Name   Surname              Job      Pay\n",
              "0  Walter     White     Entrepreneur  1500000\n",
              "1    Hank  Schrader  Law Enforcement   100000\n",
              "2   Jesse   Pinkman     Entrepreneur  1500000\n",
              "3    Saul   Goodman           Lawyer   500000"
            ]
          },
          "metadata": {
            "tags": []
          },
          "execution_count": 75
        }
      ]
    },
    {
      "cell_type": "code",
      "metadata": {
        "colab": {
          "base_uri": "https://localhost:8080/",
          "height": 166
        },
        "id": "l0i79RRmLCDf",
        "outputId": "4835abef-4b7a-42c3-960d-1fc94751e2de"
      },
      "source": [
        "df2 = pd.DataFrame([\n",
        "  {'Job': 'Entrepreneur',    'Pay': 200_000},\n",
        "  {'Job': 'Law Enforcement', 'Pay': 75_000},\n",
        "  {'Job': 'Lawyer',          'Pay': 150_000},\n",
        "  {'Job': 'Teacher',         'Pay': 50_000},\n",
        "])\n",
        "df2"
      ],
      "execution_count": null,
      "outputs": [
        {
          "output_type": "execute_result",
          "data": {
            "text/html": [
              "<div>\n",
              "<style scoped>\n",
              "    .dataframe tbody tr th:only-of-type {\n",
              "        vertical-align: middle;\n",
              "    }\n",
              "\n",
              "    .dataframe tbody tr th {\n",
              "        vertical-align: top;\n",
              "    }\n",
              "\n",
              "    .dataframe thead th {\n",
              "        text-align: right;\n",
              "    }\n",
              "</style>\n",
              "<table border=\"1\" class=\"dataframe\">\n",
              "  <thead>\n",
              "    <tr style=\"text-align: right;\">\n",
              "      <th></th>\n",
              "      <th>Job</th>\n",
              "      <th>Pay</th>\n",
              "    </tr>\n",
              "  </thead>\n",
              "  <tbody>\n",
              "    <tr>\n",
              "      <th>0</th>\n",
              "      <td>Entrepreneur</td>\n",
              "      <td>200000</td>\n",
              "    </tr>\n",
              "    <tr>\n",
              "      <th>1</th>\n",
              "      <td>Law Enforcement</td>\n",
              "      <td>75000</td>\n",
              "    </tr>\n",
              "    <tr>\n",
              "      <th>2</th>\n",
              "      <td>Lawyer</td>\n",
              "      <td>150000</td>\n",
              "    </tr>\n",
              "    <tr>\n",
              "      <th>3</th>\n",
              "      <td>Teacher</td>\n",
              "      <td>50000</td>\n",
              "    </tr>\n",
              "  </tbody>\n",
              "</table>\n",
              "</div>"
            ],
            "text/plain": [
              "               Job     Pay\n",
              "0     Entrepreneur  200000\n",
              "1  Law Enforcement   75000\n",
              "2           Lawyer  150000\n",
              "3          Teacher   50000"
            ]
          },
          "metadata": {
            "tags": []
          },
          "execution_count": 76
        }
      ]
    },
    {
      "cell_type": "markdown",
      "metadata": {
        "id": "xZsqbG5WLDXn"
      },
      "source": [
        "## Default"
      ]
    },
    {
      "cell_type": "code",
      "metadata": {
        "colab": {
          "base_uri": "https://localhost:8080/",
          "height": 47
        },
        "id": "l3aCcEZtLNFJ",
        "outputId": "19dbc4a4-e390-4470-c6af-7ff75c892996"
      },
      "source": [
        "# Performs an inner join using on (left_on, right_on)\n",
        "# Nothing specified, null set\n",
        "# i.e. it doesn't use indexes by default\n",
        "df1.merge(df2)"
      ],
      "execution_count": null,
      "outputs": [
        {
          "output_type": "execute_result",
          "data": {
            "text/html": [
              "<div>\n",
              "<style scoped>\n",
              "    .dataframe tbody tr th:only-of-type {\n",
              "        vertical-align: middle;\n",
              "    }\n",
              "\n",
              "    .dataframe tbody tr th {\n",
              "        vertical-align: top;\n",
              "    }\n",
              "\n",
              "    .dataframe thead th {\n",
              "        text-align: right;\n",
              "    }\n",
              "</style>\n",
              "<table border=\"1\" class=\"dataframe\">\n",
              "  <thead>\n",
              "    <tr style=\"text-align: right;\">\n",
              "      <th></th>\n",
              "      <th>Name</th>\n",
              "      <th>Surname</th>\n",
              "      <th>Job</th>\n",
              "      <th>Pay</th>\n",
              "    </tr>\n",
              "  </thead>\n",
              "  <tbody>\n",
              "  </tbody>\n",
              "</table>\n",
              "</div>"
            ],
            "text/plain": [
              "Empty DataFrame\n",
              "Columns: [Name, Surname, Job, Pay]\n",
              "Index: []"
            ]
          },
          "metadata": {
            "tags": []
          },
          "execution_count": 81
        }
      ]
    },
    {
      "cell_type": "code",
      "metadata": {
        "colab": {
          "base_uri": "https://localhost:8080/",
          "height": 47
        },
        "id": "6wxgCmS-Nhw9",
        "outputId": "dc26dada-a022-441d-ec98-cf2ac6a9867b"
      },
      "source": [
        "# We can use the pandas merge method which accepts two frames\n",
        "# Not that it affects the results here\n",
        "pd.merge(df1, df2)"
      ],
      "execution_count": null,
      "outputs": [
        {
          "output_type": "execute_result",
          "data": {
            "text/html": [
              "<div>\n",
              "<style scoped>\n",
              "    .dataframe tbody tr th:only-of-type {\n",
              "        vertical-align: middle;\n",
              "    }\n",
              "\n",
              "    .dataframe tbody tr th {\n",
              "        vertical-align: top;\n",
              "    }\n",
              "\n",
              "    .dataframe thead th {\n",
              "        text-align: right;\n",
              "    }\n",
              "</style>\n",
              "<table border=\"1\" class=\"dataframe\">\n",
              "  <thead>\n",
              "    <tr style=\"text-align: right;\">\n",
              "      <th></th>\n",
              "      <th>Name</th>\n",
              "      <th>Surname</th>\n",
              "      <th>Job</th>\n",
              "      <th>Pay</th>\n",
              "    </tr>\n",
              "  </thead>\n",
              "  <tbody>\n",
              "  </tbody>\n",
              "</table>\n",
              "</div>"
            ],
            "text/plain": [
              "Empty DataFrame\n",
              "Columns: [Name, Surname, Job, Pay]\n",
              "Index: []"
            ]
          },
          "metadata": {
            "tags": []
          },
          "execution_count": 91
        }
      ]
    },
    {
      "cell_type": "markdown",
      "metadata": {
        "id": "s4Zfojp4LDqE"
      },
      "source": [
        "## Column Merge"
      ]
    },
    {
      "cell_type": "code",
      "metadata": {
        "colab": {
          "base_uri": "https://localhost:8080/",
          "height": 166
        },
        "id": "QAG2DF5lLgPc",
        "outputId": "9f0a79f5-5509-4f37-e31c-6b413f86bc0b"
      },
      "source": [
        "# We can use column names in common to join using \"on\"\n",
        "# Note, any columns not in the join, with same names are suffixed\n",
        "pd.merge(df1, df2, on='Job')"
      ],
      "execution_count": null,
      "outputs": [
        {
          "output_type": "execute_result",
          "data": {
            "text/html": [
              "<div>\n",
              "<style scoped>\n",
              "    .dataframe tbody tr th:only-of-type {\n",
              "        vertical-align: middle;\n",
              "    }\n",
              "\n",
              "    .dataframe tbody tr th {\n",
              "        vertical-align: top;\n",
              "    }\n",
              "\n",
              "    .dataframe thead th {\n",
              "        text-align: right;\n",
              "    }\n",
              "</style>\n",
              "<table border=\"1\" class=\"dataframe\">\n",
              "  <thead>\n",
              "    <tr style=\"text-align: right;\">\n",
              "      <th></th>\n",
              "      <th>Name</th>\n",
              "      <th>Surname</th>\n",
              "      <th>Job</th>\n",
              "      <th>Pay_x</th>\n",
              "      <th>Pay_y</th>\n",
              "    </tr>\n",
              "  </thead>\n",
              "  <tbody>\n",
              "    <tr>\n",
              "      <th>0</th>\n",
              "      <td>Walter</td>\n",
              "      <td>White</td>\n",
              "      <td>Entrepreneur</td>\n",
              "      <td>1500000</td>\n",
              "      <td>200000</td>\n",
              "    </tr>\n",
              "    <tr>\n",
              "      <th>1</th>\n",
              "      <td>Jesse</td>\n",
              "      <td>Pinkman</td>\n",
              "      <td>Entrepreneur</td>\n",
              "      <td>1500000</td>\n",
              "      <td>200000</td>\n",
              "    </tr>\n",
              "    <tr>\n",
              "      <th>2</th>\n",
              "      <td>Hank</td>\n",
              "      <td>Schrader</td>\n",
              "      <td>Law Enforcement</td>\n",
              "      <td>100000</td>\n",
              "      <td>75000</td>\n",
              "    </tr>\n",
              "    <tr>\n",
              "      <th>3</th>\n",
              "      <td>Saul</td>\n",
              "      <td>Goodman</td>\n",
              "      <td>Lawyer</td>\n",
              "      <td>500000</td>\n",
              "      <td>150000</td>\n",
              "    </tr>\n",
              "  </tbody>\n",
              "</table>\n",
              "</div>"
            ],
            "text/plain": [
              "     Name   Surname              Job    Pay_x   Pay_y\n",
              "0  Walter     White     Entrepreneur  1500000  200000\n",
              "1   Jesse   Pinkman     Entrepreneur  1500000  200000\n",
              "2    Hank  Schrader  Law Enforcement   100000   75000\n",
              "3    Saul   Goodman           Lawyer   500000  150000"
            ]
          },
          "metadata": {
            "tags": []
          },
          "execution_count": 79
        }
      ]
    },
    {
      "cell_type": "code",
      "metadata": {
        "colab": {
          "base_uri": "https://localhost:8080/",
          "height": 166
        },
        "id": "18F_cxvjMAJ1",
        "outputId": "c684942a-e6c1-406a-b5e8-82320f14f3fa"
      },
      "source": [
        "# We can control the suffixing\n",
        "pd.merge(df1, df2, on='Job', suffixes=('_left', '_right'))"
      ],
      "execution_count": null,
      "outputs": [
        {
          "output_type": "execute_result",
          "data": {
            "text/html": [
              "<div>\n",
              "<style scoped>\n",
              "    .dataframe tbody tr th:only-of-type {\n",
              "        vertical-align: middle;\n",
              "    }\n",
              "\n",
              "    .dataframe tbody tr th {\n",
              "        vertical-align: top;\n",
              "    }\n",
              "\n",
              "    .dataframe thead th {\n",
              "        text-align: right;\n",
              "    }\n",
              "</style>\n",
              "<table border=\"1\" class=\"dataframe\">\n",
              "  <thead>\n",
              "    <tr style=\"text-align: right;\">\n",
              "      <th></th>\n",
              "      <th>Name</th>\n",
              "      <th>Surname</th>\n",
              "      <th>Job</th>\n",
              "      <th>Pay_left</th>\n",
              "      <th>Pay_right</th>\n",
              "    </tr>\n",
              "  </thead>\n",
              "  <tbody>\n",
              "    <tr>\n",
              "      <th>0</th>\n",
              "      <td>Walter</td>\n",
              "      <td>White</td>\n",
              "      <td>Entrepreneur</td>\n",
              "      <td>1500000</td>\n",
              "      <td>200000</td>\n",
              "    </tr>\n",
              "    <tr>\n",
              "      <th>1</th>\n",
              "      <td>Jesse</td>\n",
              "      <td>Pinkman</td>\n",
              "      <td>Entrepreneur</td>\n",
              "      <td>1500000</td>\n",
              "      <td>200000</td>\n",
              "    </tr>\n",
              "    <tr>\n",
              "      <th>2</th>\n",
              "      <td>Hank</td>\n",
              "      <td>Schrader</td>\n",
              "      <td>Law Enforcement</td>\n",
              "      <td>100000</td>\n",
              "      <td>75000</td>\n",
              "    </tr>\n",
              "    <tr>\n",
              "      <th>3</th>\n",
              "      <td>Saul</td>\n",
              "      <td>Goodman</td>\n",
              "      <td>Lawyer</td>\n",
              "      <td>500000</td>\n",
              "      <td>150000</td>\n",
              "    </tr>\n",
              "  </tbody>\n",
              "</table>\n",
              "</div>"
            ],
            "text/plain": [
              "     Name   Surname              Job  Pay_left  Pay_right\n",
              "0  Walter     White     Entrepreneur   1500000     200000\n",
              "1   Jesse   Pinkman     Entrepreneur   1500000     200000\n",
              "2    Hank  Schrader  Law Enforcement    100000      75000\n",
              "3    Saul   Goodman           Lawyer    500000     150000"
            ]
          },
          "metadata": {
            "tags": []
          },
          "execution_count": 82
        }
      ]
    },
    {
      "cell_type": "code",
      "metadata": {
        "colab": {
          "base_uri": "https://localhost:8080/",
          "height": 166
        },
        "id": "90T87GkaMbVM",
        "outputId": "e7a36283-4217-4be7-9fab-1a011ed1f854"
      },
      "source": [
        "# We can directly specify the columns by name to match\n",
        "# Useful if they are named differently\n",
        "# Note, you can specifiy a string or an array of columns to join on\n",
        "pd.merge(df1, df2, left_on=['Job'], right_on=['Job'])"
      ],
      "execution_count": null,
      "outputs": [
        {
          "output_type": "execute_result",
          "data": {
            "text/html": [
              "<div>\n",
              "<style scoped>\n",
              "    .dataframe tbody tr th:only-of-type {\n",
              "        vertical-align: middle;\n",
              "    }\n",
              "\n",
              "    .dataframe tbody tr th {\n",
              "        vertical-align: top;\n",
              "    }\n",
              "\n",
              "    .dataframe thead th {\n",
              "        text-align: right;\n",
              "    }\n",
              "</style>\n",
              "<table border=\"1\" class=\"dataframe\">\n",
              "  <thead>\n",
              "    <tr style=\"text-align: right;\">\n",
              "      <th></th>\n",
              "      <th>Name</th>\n",
              "      <th>Surname</th>\n",
              "      <th>Job</th>\n",
              "      <th>Pay_x</th>\n",
              "      <th>Pay_y</th>\n",
              "    </tr>\n",
              "  </thead>\n",
              "  <tbody>\n",
              "    <tr>\n",
              "      <th>0</th>\n",
              "      <td>Walter</td>\n",
              "      <td>White</td>\n",
              "      <td>Entrepreneur</td>\n",
              "      <td>1500000</td>\n",
              "      <td>200000</td>\n",
              "    </tr>\n",
              "    <tr>\n",
              "      <th>1</th>\n",
              "      <td>Jesse</td>\n",
              "      <td>Pinkman</td>\n",
              "      <td>Entrepreneur</td>\n",
              "      <td>1500000</td>\n",
              "      <td>200000</td>\n",
              "    </tr>\n",
              "    <tr>\n",
              "      <th>2</th>\n",
              "      <td>Hank</td>\n",
              "      <td>Schrader</td>\n",
              "      <td>Law Enforcement</td>\n",
              "      <td>100000</td>\n",
              "      <td>75000</td>\n",
              "    </tr>\n",
              "    <tr>\n",
              "      <th>3</th>\n",
              "      <td>Saul</td>\n",
              "      <td>Goodman</td>\n",
              "      <td>Lawyer</td>\n",
              "      <td>500000</td>\n",
              "      <td>150000</td>\n",
              "    </tr>\n",
              "  </tbody>\n",
              "</table>\n",
              "</div>"
            ],
            "text/plain": [
              "     Name   Surname              Job    Pay_x   Pay_y\n",
              "0  Walter     White     Entrepreneur  1500000  200000\n",
              "1   Jesse   Pinkman     Entrepreneur  1500000  200000\n",
              "2    Hank  Schrader  Law Enforcement   100000   75000\n",
              "3    Saul   Goodman           Lawyer   500000  150000"
            ]
          },
          "metadata": {
            "tags": []
          },
          "execution_count": 83
        }
      ]
    },
    {
      "cell_type": "markdown",
      "metadata": {
        "id": "aSPRAQqYQNaw"
      },
      "source": [
        "## Indicator\n",
        "* Might be helpful if you're debugging or want to keep some meta data"
      ]
    },
    {
      "cell_type": "code",
      "metadata": {
        "colab": {
          "base_uri": "https://localhost:8080/",
          "height": 166
        },
        "id": "fp8r9DzgQUJG",
        "outputId": "c2f21aa9-5e94-4968-f377-a4c0cf5c1346"
      },
      "source": [
        "# Where did the row come from?  Inner, Left or Right\n",
        "pd.merge(df1, df2, left_on=['Job'], right_on=['Job'], indicator=True)"
      ],
      "execution_count": null,
      "outputs": [
        {
          "output_type": "execute_result",
          "data": {
            "text/html": [
              "<div>\n",
              "<style scoped>\n",
              "    .dataframe tbody tr th:only-of-type {\n",
              "        vertical-align: middle;\n",
              "    }\n",
              "\n",
              "    .dataframe tbody tr th {\n",
              "        vertical-align: top;\n",
              "    }\n",
              "\n",
              "    .dataframe thead th {\n",
              "        text-align: right;\n",
              "    }\n",
              "</style>\n",
              "<table border=\"1\" class=\"dataframe\">\n",
              "  <thead>\n",
              "    <tr style=\"text-align: right;\">\n",
              "      <th></th>\n",
              "      <th>Name</th>\n",
              "      <th>Surname</th>\n",
              "      <th>Job</th>\n",
              "      <th>Pay_x</th>\n",
              "      <th>Pay_y</th>\n",
              "      <th>_merge</th>\n",
              "    </tr>\n",
              "  </thead>\n",
              "  <tbody>\n",
              "    <tr>\n",
              "      <th>0</th>\n",
              "      <td>Walter</td>\n",
              "      <td>White</td>\n",
              "      <td>Entrepreneur</td>\n",
              "      <td>1500000</td>\n",
              "      <td>200000</td>\n",
              "      <td>both</td>\n",
              "    </tr>\n",
              "    <tr>\n",
              "      <th>1</th>\n",
              "      <td>Jesse</td>\n",
              "      <td>Pinkman</td>\n",
              "      <td>Entrepreneur</td>\n",
              "      <td>1500000</td>\n",
              "      <td>200000</td>\n",
              "      <td>both</td>\n",
              "    </tr>\n",
              "    <tr>\n",
              "      <th>2</th>\n",
              "      <td>Hank</td>\n",
              "      <td>Schrader</td>\n",
              "      <td>Law Enforcement</td>\n",
              "      <td>100000</td>\n",
              "      <td>75000</td>\n",
              "      <td>both</td>\n",
              "    </tr>\n",
              "    <tr>\n",
              "      <th>3</th>\n",
              "      <td>Saul</td>\n",
              "      <td>Goodman</td>\n",
              "      <td>Lawyer</td>\n",
              "      <td>500000</td>\n",
              "      <td>150000</td>\n",
              "      <td>both</td>\n",
              "    </tr>\n",
              "  </tbody>\n",
              "</table>\n",
              "</div>"
            ],
            "text/plain": [
              "     Name   Surname              Job    Pay_x   Pay_y _merge\n",
              "0  Walter     White     Entrepreneur  1500000  200000   both\n",
              "1   Jesse   Pinkman     Entrepreneur  1500000  200000   both\n",
              "2    Hank  Schrader  Law Enforcement   100000   75000   both\n",
              "3    Saul   Goodman           Lawyer   500000  150000   both"
            ]
          },
          "metadata": {
            "tags": []
          },
          "execution_count": 92
        }
      ]
    },
    {
      "cell_type": "code",
      "metadata": {
        "colab": {
          "base_uri": "https://localhost:8080/",
          "height": 196
        },
        "id": "gPFg0_1KQgyV",
        "outputId": "7ca3a6d8-1cf7-4c83-b11a-79f1a672bba7"
      },
      "source": [
        "# Here's the teacher row, of which we don't have a person in that job\n",
        "pd.merge(df1, df2, left_on=['Job'], right_on=['Job'], how='outer', indicator=True)"
      ],
      "execution_count": null,
      "outputs": [
        {
          "output_type": "execute_result",
          "data": {
            "text/html": [
              "<div>\n",
              "<style scoped>\n",
              "    .dataframe tbody tr th:only-of-type {\n",
              "        vertical-align: middle;\n",
              "    }\n",
              "\n",
              "    .dataframe tbody tr th {\n",
              "        vertical-align: top;\n",
              "    }\n",
              "\n",
              "    .dataframe thead th {\n",
              "        text-align: right;\n",
              "    }\n",
              "</style>\n",
              "<table border=\"1\" class=\"dataframe\">\n",
              "  <thead>\n",
              "    <tr style=\"text-align: right;\">\n",
              "      <th></th>\n",
              "      <th>Name</th>\n",
              "      <th>Surname</th>\n",
              "      <th>Job</th>\n",
              "      <th>Pay_x</th>\n",
              "      <th>Pay_y</th>\n",
              "      <th>_merge</th>\n",
              "    </tr>\n",
              "  </thead>\n",
              "  <tbody>\n",
              "    <tr>\n",
              "      <th>0</th>\n",
              "      <td>Walter</td>\n",
              "      <td>White</td>\n",
              "      <td>Entrepreneur</td>\n",
              "      <td>1500000.0</td>\n",
              "      <td>200000</td>\n",
              "      <td>both</td>\n",
              "    </tr>\n",
              "    <tr>\n",
              "      <th>1</th>\n",
              "      <td>Jesse</td>\n",
              "      <td>Pinkman</td>\n",
              "      <td>Entrepreneur</td>\n",
              "      <td>1500000.0</td>\n",
              "      <td>200000</td>\n",
              "      <td>both</td>\n",
              "    </tr>\n",
              "    <tr>\n",
              "      <th>2</th>\n",
              "      <td>Hank</td>\n",
              "      <td>Schrader</td>\n",
              "      <td>Law Enforcement</td>\n",
              "      <td>100000.0</td>\n",
              "      <td>75000</td>\n",
              "      <td>both</td>\n",
              "    </tr>\n",
              "    <tr>\n",
              "      <th>3</th>\n",
              "      <td>Saul</td>\n",
              "      <td>Goodman</td>\n",
              "      <td>Lawyer</td>\n",
              "      <td>500000.0</td>\n",
              "      <td>150000</td>\n",
              "      <td>both</td>\n",
              "    </tr>\n",
              "    <tr>\n",
              "      <th>4</th>\n",
              "      <td>NaN</td>\n",
              "      <td>NaN</td>\n",
              "      <td>Teacher</td>\n",
              "      <td>NaN</td>\n",
              "      <td>50000</td>\n",
              "      <td>right_only</td>\n",
              "    </tr>\n",
              "  </tbody>\n",
              "</table>\n",
              "</div>"
            ],
            "text/plain": [
              "     Name   Surname              Job      Pay_x   Pay_y      _merge\n",
              "0  Walter     White     Entrepreneur  1500000.0  200000        both\n",
              "1   Jesse   Pinkman     Entrepreneur  1500000.0  200000        both\n",
              "2    Hank  Schrader  Law Enforcement   100000.0   75000        both\n",
              "3    Saul   Goodman           Lawyer   500000.0  150000        both\n",
              "4     NaN       NaN          Teacher        NaN   50000  right_only"
            ]
          },
          "metadata": {
            "tags": []
          },
          "execution_count": 95
        }
      ]
    },
    {
      "cell_type": "markdown",
      "metadata": {
        "id": "tJcjYR2vOeUp"
      },
      "source": [
        "## Indexes\n",
        "* We have to specify either the columns or the index to use in the join\n",
        "* Here we look at index matching and mixed matching"
      ]
    },
    {
      "cell_type": "code",
      "metadata": {
        "colab": {
          "base_uri": "https://localhost:8080/",
          "height": 166
        },
        "id": "gfmx2TdKQM-V",
        "outputId": "17df2e51-8784-4cf7-929b-9976133e81c7"
      },
      "source": [
        "# Match by index, note the columns labeled _x, _y\n",
        "pd.merge(df1, df2, left_index=True, right_index=True)"
      ],
      "execution_count": null,
      "outputs": [
        {
          "output_type": "execute_result",
          "data": {
            "text/html": [
              "<div>\n",
              "<style scoped>\n",
              "    .dataframe tbody tr th:only-of-type {\n",
              "        vertical-align: middle;\n",
              "    }\n",
              "\n",
              "    .dataframe tbody tr th {\n",
              "        vertical-align: top;\n",
              "    }\n",
              "\n",
              "    .dataframe thead th {\n",
              "        text-align: right;\n",
              "    }\n",
              "</style>\n",
              "<table border=\"1\" class=\"dataframe\">\n",
              "  <thead>\n",
              "    <tr style=\"text-align: right;\">\n",
              "      <th></th>\n",
              "      <th>Name</th>\n",
              "      <th>Surname</th>\n",
              "      <th>Job_x</th>\n",
              "      <th>Pay_x</th>\n",
              "      <th>Job_y</th>\n",
              "      <th>Pay_y</th>\n",
              "    </tr>\n",
              "  </thead>\n",
              "  <tbody>\n",
              "    <tr>\n",
              "      <th>0</th>\n",
              "      <td>Walter</td>\n",
              "      <td>White</td>\n",
              "      <td>Entrepreneur</td>\n",
              "      <td>1500000</td>\n",
              "      <td>Entrepreneur</td>\n",
              "      <td>200000</td>\n",
              "    </tr>\n",
              "    <tr>\n",
              "      <th>1</th>\n",
              "      <td>Hank</td>\n",
              "      <td>Schrader</td>\n",
              "      <td>Law Enforcement</td>\n",
              "      <td>100000</td>\n",
              "      <td>Law Enforcement</td>\n",
              "      <td>75000</td>\n",
              "    </tr>\n",
              "    <tr>\n",
              "      <th>2</th>\n",
              "      <td>Jesse</td>\n",
              "      <td>Pinkman</td>\n",
              "      <td>Entrepreneur</td>\n",
              "      <td>1500000</td>\n",
              "      <td>Lawyer</td>\n",
              "      <td>150000</td>\n",
              "    </tr>\n",
              "    <tr>\n",
              "      <th>3</th>\n",
              "      <td>Saul</td>\n",
              "      <td>Goodman</td>\n",
              "      <td>Lawyer</td>\n",
              "      <td>500000</td>\n",
              "      <td>Teacher</td>\n",
              "      <td>50000</td>\n",
              "    </tr>\n",
              "  </tbody>\n",
              "</table>\n",
              "</div>"
            ],
            "text/plain": [
              "     Name   Surname            Job_x    Pay_x            Job_y   Pay_y\n",
              "0  Walter     White     Entrepreneur  1500000     Entrepreneur  200000\n",
              "1    Hank  Schrader  Law Enforcement   100000  Law Enforcement   75000\n",
              "2   Jesse   Pinkman     Entrepreneur  1500000           Lawyer  150000\n",
              "3    Saul   Goodman           Lawyer   500000          Teacher   50000"
            ]
          },
          "metadata": {
            "tags": []
          },
          "execution_count": 98
        }
      ]
    },
    {
      "cell_type": "code",
      "metadata": {
        "colab": {
          "base_uri": "https://localhost:8080/",
          "height": 166
        },
        "id": "cwwpFciLRQ6u",
        "outputId": "47dba37b-b4ff-4316-feea-377e98131a1b"
      },
      "source": [
        "# To illustrate mixed column / index merge, set one\n",
        "pd.merge(df1, df2.set_index('Job'), left_on=['Job'], right_index=True)"
      ],
      "execution_count": null,
      "outputs": [
        {
          "output_type": "execute_result",
          "data": {
            "text/html": [
              "<div>\n",
              "<style scoped>\n",
              "    .dataframe tbody tr th:only-of-type {\n",
              "        vertical-align: middle;\n",
              "    }\n",
              "\n",
              "    .dataframe tbody tr th {\n",
              "        vertical-align: top;\n",
              "    }\n",
              "\n",
              "    .dataframe thead th {\n",
              "        text-align: right;\n",
              "    }\n",
              "</style>\n",
              "<table border=\"1\" class=\"dataframe\">\n",
              "  <thead>\n",
              "    <tr style=\"text-align: right;\">\n",
              "      <th></th>\n",
              "      <th>Name</th>\n",
              "      <th>Surname</th>\n",
              "      <th>Job</th>\n",
              "      <th>Pay_x</th>\n",
              "      <th>Pay_y</th>\n",
              "    </tr>\n",
              "  </thead>\n",
              "  <tbody>\n",
              "    <tr>\n",
              "      <th>0</th>\n",
              "      <td>Walter</td>\n",
              "      <td>White</td>\n",
              "      <td>Entrepreneur</td>\n",
              "      <td>1500000</td>\n",
              "      <td>200000</td>\n",
              "    </tr>\n",
              "    <tr>\n",
              "      <th>2</th>\n",
              "      <td>Jesse</td>\n",
              "      <td>Pinkman</td>\n",
              "      <td>Entrepreneur</td>\n",
              "      <td>1500000</td>\n",
              "      <td>200000</td>\n",
              "    </tr>\n",
              "    <tr>\n",
              "      <th>1</th>\n",
              "      <td>Hank</td>\n",
              "      <td>Schrader</td>\n",
              "      <td>Law Enforcement</td>\n",
              "      <td>100000</td>\n",
              "      <td>75000</td>\n",
              "    </tr>\n",
              "    <tr>\n",
              "      <th>3</th>\n",
              "      <td>Saul</td>\n",
              "      <td>Goodman</td>\n",
              "      <td>Lawyer</td>\n",
              "      <td>500000</td>\n",
              "      <td>150000</td>\n",
              "    </tr>\n",
              "  </tbody>\n",
              "</table>\n",
              "</div>"
            ],
            "text/plain": [
              "     Name   Surname              Job    Pay_x   Pay_y\n",
              "0  Walter     White     Entrepreneur  1500000  200000\n",
              "2   Jesse   Pinkman     Entrepreneur  1500000  200000\n",
              "1    Hank  Schrader  Law Enforcement   100000   75000\n",
              "3    Saul   Goodman           Lawyer   500000  150000"
            ]
          },
          "metadata": {
            "tags": []
          },
          "execution_count": 100
        }
      ]
    },
    {
      "cell_type": "markdown",
      "metadata": {
        "id": "-9KDlCockDtx"
      },
      "source": [
        "# Concat\n",
        "* Build out two dataframes (like before)\n",
        "* We'd like to stack one frame on the other, horizontally and vertically\n",
        "\n",
        "![](https://miro.medium.com/max/1694/1*0wu6DunCzPC4o9FIyRTW4w.png)"
      ]
    },
    {
      "cell_type": "markdown",
      "metadata": {
        "id": "hJA1kp6SufdN"
      },
      "source": [
        "## Frames"
      ]
    },
    {
      "cell_type": "code",
      "metadata": {
        "colab": {
          "base_uri": "https://localhost:8080/",
          "height": 166
        },
        "id": "nuIABbQNkq0d",
        "outputId": "d4989c29-0970-46a6-d0b4-87a5e28e6e4f"
      },
      "source": [
        "df1 = pd.DataFrame([\n",
        "  {'Name': 'Walter'},\n",
        "  {'Name': 'Hank'},\n",
        "  {'Name': 'Jesse'},\n",
        "  {'Name': 'Saul'},\n",
        "])\n",
        "df1 = df1.set_index(df1.index[::-1] * 10)\n",
        "df1"
      ],
      "execution_count": null,
      "outputs": [
        {
          "output_type": "execute_result",
          "data": {
            "text/html": [
              "<div>\n",
              "<style scoped>\n",
              "    .dataframe tbody tr th:only-of-type {\n",
              "        vertical-align: middle;\n",
              "    }\n",
              "\n",
              "    .dataframe tbody tr th {\n",
              "        vertical-align: top;\n",
              "    }\n",
              "\n",
              "    .dataframe thead th {\n",
              "        text-align: right;\n",
              "    }\n",
              "</style>\n",
              "<table border=\"1\" class=\"dataframe\">\n",
              "  <thead>\n",
              "    <tr style=\"text-align: right;\">\n",
              "      <th></th>\n",
              "      <th>Name</th>\n",
              "    </tr>\n",
              "  </thead>\n",
              "  <tbody>\n",
              "    <tr>\n",
              "      <th>30</th>\n",
              "      <td>Walter</td>\n",
              "    </tr>\n",
              "    <tr>\n",
              "      <th>20</th>\n",
              "      <td>Hank</td>\n",
              "    </tr>\n",
              "    <tr>\n",
              "      <th>10</th>\n",
              "      <td>Jesse</td>\n",
              "    </tr>\n",
              "    <tr>\n",
              "      <th>0</th>\n",
              "      <td>Saul</td>\n",
              "    </tr>\n",
              "  </tbody>\n",
              "</table>\n",
              "</div>"
            ],
            "text/plain": [
              "      Name\n",
              "30  Walter\n",
              "20    Hank\n",
              "10   Jesse\n",
              "0     Saul"
            ]
          },
          "metadata": {
            "tags": []
          },
          "execution_count": 15
        }
      ]
    },
    {
      "cell_type": "code",
      "metadata": {
        "colab": {
          "base_uri": "https://localhost:8080/",
          "height": 166
        },
        "id": "NhN58mq4lrR8",
        "outputId": "f26a1709-23ff-40df-9d1d-6197b5cc0b75"
      },
      "source": [
        "df2 = pd.DataFrame([\n",
        "  {'Surname': 'White'},\n",
        "  {'Surname': 'Schrader'},\n",
        "  {'Surname': 'Pinkman'},\n",
        "  {'Surname': 'Goodman'},\n",
        "])\n",
        "df2"
      ],
      "execution_count": null,
      "outputs": [
        {
          "output_type": "execute_result",
          "data": {
            "text/html": [
              "<div>\n",
              "<style scoped>\n",
              "    .dataframe tbody tr th:only-of-type {\n",
              "        vertical-align: middle;\n",
              "    }\n",
              "\n",
              "    .dataframe tbody tr th {\n",
              "        vertical-align: top;\n",
              "    }\n",
              "\n",
              "    .dataframe thead th {\n",
              "        text-align: right;\n",
              "    }\n",
              "</style>\n",
              "<table border=\"1\" class=\"dataframe\">\n",
              "  <thead>\n",
              "    <tr style=\"text-align: right;\">\n",
              "      <th></th>\n",
              "      <th>Surname</th>\n",
              "    </tr>\n",
              "  </thead>\n",
              "  <tbody>\n",
              "    <tr>\n",
              "      <th>0</th>\n",
              "      <td>White</td>\n",
              "    </tr>\n",
              "    <tr>\n",
              "      <th>1</th>\n",
              "      <td>Schrader</td>\n",
              "    </tr>\n",
              "    <tr>\n",
              "      <th>2</th>\n",
              "      <td>Pinkman</td>\n",
              "    </tr>\n",
              "    <tr>\n",
              "      <th>3</th>\n",
              "      <td>Goodman</td>\n",
              "    </tr>\n",
              "  </tbody>\n",
              "</table>\n",
              "</div>"
            ],
            "text/plain": [
              "    Surname\n",
              "0     White\n",
              "1  Schrader\n",
              "2   Pinkman\n",
              "3   Goodman"
            ]
          },
          "metadata": {
            "tags": []
          },
          "execution_count": 16
        }
      ]
    },
    {
      "cell_type": "markdown",
      "metadata": {
        "id": "2H4WC7LtmZmi"
      },
      "source": [
        "## Vertical\n",
        "* Default axis (0) uses the index to concat rows"
      ]
    },
    {
      "cell_type": "code",
      "metadata": {
        "colab": {
          "base_uri": "https://localhost:8080/",
          "height": 286
        },
        "id": "TzVss-oVmbYZ",
        "outputId": "710c22bd-d9c4-4f50-f163-82924dfe6391"
      },
      "source": [
        "pd.concat([df1, df2])"
      ],
      "execution_count": null,
      "outputs": [
        {
          "output_type": "execute_result",
          "data": {
            "text/html": [
              "<div>\n",
              "<style scoped>\n",
              "    .dataframe tbody tr th:only-of-type {\n",
              "        vertical-align: middle;\n",
              "    }\n",
              "\n",
              "    .dataframe tbody tr th {\n",
              "        vertical-align: top;\n",
              "    }\n",
              "\n",
              "    .dataframe thead th {\n",
              "        text-align: right;\n",
              "    }\n",
              "</style>\n",
              "<table border=\"1\" class=\"dataframe\">\n",
              "  <thead>\n",
              "    <tr style=\"text-align: right;\">\n",
              "      <th></th>\n",
              "      <th>Name</th>\n",
              "      <th>Surname</th>\n",
              "    </tr>\n",
              "  </thead>\n",
              "  <tbody>\n",
              "    <tr>\n",
              "      <th>30</th>\n",
              "      <td>Walter</td>\n",
              "      <td>NaN</td>\n",
              "    </tr>\n",
              "    <tr>\n",
              "      <th>20</th>\n",
              "      <td>Hank</td>\n",
              "      <td>NaN</td>\n",
              "    </tr>\n",
              "    <tr>\n",
              "      <th>10</th>\n",
              "      <td>Jesse</td>\n",
              "      <td>NaN</td>\n",
              "    </tr>\n",
              "    <tr>\n",
              "      <th>0</th>\n",
              "      <td>Saul</td>\n",
              "      <td>NaN</td>\n",
              "    </tr>\n",
              "    <tr>\n",
              "      <th>0</th>\n",
              "      <td>NaN</td>\n",
              "      <td>White</td>\n",
              "    </tr>\n",
              "    <tr>\n",
              "      <th>1</th>\n",
              "      <td>NaN</td>\n",
              "      <td>Schrader</td>\n",
              "    </tr>\n",
              "    <tr>\n",
              "      <th>2</th>\n",
              "      <td>NaN</td>\n",
              "      <td>Pinkman</td>\n",
              "    </tr>\n",
              "    <tr>\n",
              "      <th>3</th>\n",
              "      <td>NaN</td>\n",
              "      <td>Goodman</td>\n",
              "    </tr>\n",
              "  </tbody>\n",
              "</table>\n",
              "</div>"
            ],
            "text/plain": [
              "      Name   Surname\n",
              "30  Walter       NaN\n",
              "20    Hank       NaN\n",
              "10   Jesse       NaN\n",
              "0     Saul       NaN\n",
              "0      NaN     White\n",
              "1      NaN  Schrader\n",
              "2      NaN   Pinkman\n",
              "3      NaN   Goodman"
            ]
          },
          "metadata": {
            "tags": []
          },
          "execution_count": 17
        }
      ]
    },
    {
      "cell_type": "markdown",
      "metadata": {
        "id": "rKElnYu_usuV"
      },
      "source": [
        "## Horizontal"
      ]
    },
    {
      "cell_type": "code",
      "metadata": {
        "colab": {
          "base_uri": "https://localhost:8080/",
          "height": 256
        },
        "id": "5wMRUR11jmPm",
        "outputId": "8a08ac45-23f5-4768-dfd1-1b60a87c45b4"
      },
      "source": [
        "# Joined using the index in common, \"outer\"\n",
        "pd.concat([df1, df2], axis=1)"
      ],
      "execution_count": null,
      "outputs": [
        {
          "output_type": "execute_result",
          "data": {
            "text/html": [
              "<div>\n",
              "<style scoped>\n",
              "    .dataframe tbody tr th:only-of-type {\n",
              "        vertical-align: middle;\n",
              "    }\n",
              "\n",
              "    .dataframe tbody tr th {\n",
              "        vertical-align: top;\n",
              "    }\n",
              "\n",
              "    .dataframe thead th {\n",
              "        text-align: right;\n",
              "    }\n",
              "</style>\n",
              "<table border=\"1\" class=\"dataframe\">\n",
              "  <thead>\n",
              "    <tr style=\"text-align: right;\">\n",
              "      <th></th>\n",
              "      <th>Name</th>\n",
              "      <th>Surname</th>\n",
              "    </tr>\n",
              "  </thead>\n",
              "  <tbody>\n",
              "    <tr>\n",
              "      <th>0</th>\n",
              "      <td>Saul</td>\n",
              "      <td>White</td>\n",
              "    </tr>\n",
              "    <tr>\n",
              "      <th>1</th>\n",
              "      <td>NaN</td>\n",
              "      <td>Schrader</td>\n",
              "    </tr>\n",
              "    <tr>\n",
              "      <th>2</th>\n",
              "      <td>NaN</td>\n",
              "      <td>Pinkman</td>\n",
              "    </tr>\n",
              "    <tr>\n",
              "      <th>3</th>\n",
              "      <td>NaN</td>\n",
              "      <td>Goodman</td>\n",
              "    </tr>\n",
              "    <tr>\n",
              "      <th>10</th>\n",
              "      <td>Jesse</td>\n",
              "      <td>NaN</td>\n",
              "    </tr>\n",
              "    <tr>\n",
              "      <th>20</th>\n",
              "      <td>Hank</td>\n",
              "      <td>NaN</td>\n",
              "    </tr>\n",
              "    <tr>\n",
              "      <th>30</th>\n",
              "      <td>Walter</td>\n",
              "      <td>NaN</td>\n",
              "    </tr>\n",
              "  </tbody>\n",
              "</table>\n",
              "</div>"
            ],
            "text/plain": [
              "      Name   Surname\n",
              "0     Saul     White\n",
              "1      NaN  Schrader\n",
              "2      NaN   Pinkman\n",
              "3      NaN   Goodman\n",
              "10   Jesse       NaN\n",
              "20    Hank       NaN\n",
              "30  Walter       NaN"
            ]
          },
          "metadata": {
            "tags": []
          },
          "execution_count": 18
        }
      ]
    },
    {
      "cell_type": "code",
      "metadata": {
        "colab": {
          "base_uri": "https://localhost:8080/",
          "height": 77
        },
        "id": "mbx-EHFvnrEs",
        "outputId": "690d9832-5c8f-4da9-ed04-d4b01d46369b"
      },
      "source": [
        "# We can move that behavior to inner joins\n",
        "pd.concat([df1, df2], axis=1, join='inner')"
      ],
      "execution_count": null,
      "outputs": [
        {
          "output_type": "execute_result",
          "data": {
            "text/html": [
              "<div>\n",
              "<style scoped>\n",
              "    .dataframe tbody tr th:only-of-type {\n",
              "        vertical-align: middle;\n",
              "    }\n",
              "\n",
              "    .dataframe tbody tr th {\n",
              "        vertical-align: top;\n",
              "    }\n",
              "\n",
              "    .dataframe thead th {\n",
              "        text-align: right;\n",
              "    }\n",
              "</style>\n",
              "<table border=\"1\" class=\"dataframe\">\n",
              "  <thead>\n",
              "    <tr style=\"text-align: right;\">\n",
              "      <th></th>\n",
              "      <th>Name</th>\n",
              "      <th>Surname</th>\n",
              "    </tr>\n",
              "  </thead>\n",
              "  <tbody>\n",
              "    <tr>\n",
              "      <th>0</th>\n",
              "      <td>Saul</td>\n",
              "      <td>White</td>\n",
              "    </tr>\n",
              "  </tbody>\n",
              "</table>\n",
              "</div>"
            ],
            "text/plain": [
              "   Name Surname\n",
              "0  Saul   White"
            ]
          },
          "metadata": {
            "tags": []
          },
          "execution_count": 19
        }
      ]
    },
    {
      "cell_type": "code",
      "metadata": {
        "colab": {
          "base_uri": "https://localhost:8080/",
          "height": 256
        },
        "id": "8ud7xajtlGhb",
        "outputId": "2c6df811-3cfe-4115-aabe-6973496ab276"
      },
      "source": [
        "# We can chose to ignore the index\n",
        "# Still not the effect we're looking for\n",
        "# Notice we lost column names\n",
        "pd.concat([df1, df2], ignore_index=True, axis=1)"
      ],
      "execution_count": null,
      "outputs": [
        {
          "output_type": "execute_result",
          "data": {
            "text/html": [
              "<div>\n",
              "<style scoped>\n",
              "    .dataframe tbody tr th:only-of-type {\n",
              "        vertical-align: middle;\n",
              "    }\n",
              "\n",
              "    .dataframe tbody tr th {\n",
              "        vertical-align: top;\n",
              "    }\n",
              "\n",
              "    .dataframe thead th {\n",
              "        text-align: right;\n",
              "    }\n",
              "</style>\n",
              "<table border=\"1\" class=\"dataframe\">\n",
              "  <thead>\n",
              "    <tr style=\"text-align: right;\">\n",
              "      <th></th>\n",
              "      <th>0</th>\n",
              "      <th>1</th>\n",
              "    </tr>\n",
              "  </thead>\n",
              "  <tbody>\n",
              "    <tr>\n",
              "      <th>0</th>\n",
              "      <td>Saul</td>\n",
              "      <td>White</td>\n",
              "    </tr>\n",
              "    <tr>\n",
              "      <th>1</th>\n",
              "      <td>NaN</td>\n",
              "      <td>Schrader</td>\n",
              "    </tr>\n",
              "    <tr>\n",
              "      <th>2</th>\n",
              "      <td>NaN</td>\n",
              "      <td>Pinkman</td>\n",
              "    </tr>\n",
              "    <tr>\n",
              "      <th>3</th>\n",
              "      <td>NaN</td>\n",
              "      <td>Goodman</td>\n",
              "    </tr>\n",
              "    <tr>\n",
              "      <th>10</th>\n",
              "      <td>Jesse</td>\n",
              "      <td>NaN</td>\n",
              "    </tr>\n",
              "    <tr>\n",
              "      <th>20</th>\n",
              "      <td>Hank</td>\n",
              "      <td>NaN</td>\n",
              "    </tr>\n",
              "    <tr>\n",
              "      <th>30</th>\n",
              "      <td>Walter</td>\n",
              "      <td>NaN</td>\n",
              "    </tr>\n",
              "  </tbody>\n",
              "</table>\n",
              "</div>"
            ],
            "text/plain": [
              "         0         1\n",
              "0     Saul     White\n",
              "1      NaN  Schrader\n",
              "2      NaN   Pinkman\n",
              "3      NaN   Goodman\n",
              "10   Jesse       NaN\n",
              "20    Hank       NaN\n",
              "30  Walter       NaN"
            ]
          },
          "metadata": {
            "tags": []
          },
          "execution_count": 20
        }
      ]
    },
    {
      "cell_type": "code",
      "metadata": {
        "colab": {
          "base_uri": "https://localhost:8080/",
          "height": 166
        },
        "id": "rN0vFK_NuXzB",
        "outputId": "fa5dcc2c-95eb-4898-ea9c-72dd437cc0cb"
      },
      "source": [
        "# To solve, we need to reset the index to order\n",
        "pd.concat([df.reset_index(drop=True) for df in [df1, df2]], axis=1)"
      ],
      "execution_count": null,
      "outputs": [
        {
          "output_type": "execute_result",
          "data": {
            "text/html": [
              "<div>\n",
              "<style scoped>\n",
              "    .dataframe tbody tr th:only-of-type {\n",
              "        vertical-align: middle;\n",
              "    }\n",
              "\n",
              "    .dataframe tbody tr th {\n",
              "        vertical-align: top;\n",
              "    }\n",
              "\n",
              "    .dataframe thead th {\n",
              "        text-align: right;\n",
              "    }\n",
              "</style>\n",
              "<table border=\"1\" class=\"dataframe\">\n",
              "  <thead>\n",
              "    <tr style=\"text-align: right;\">\n",
              "      <th></th>\n",
              "      <th>Name</th>\n",
              "      <th>Surname</th>\n",
              "    </tr>\n",
              "  </thead>\n",
              "  <tbody>\n",
              "    <tr>\n",
              "      <th>0</th>\n",
              "      <td>Walter</td>\n",
              "      <td>White</td>\n",
              "    </tr>\n",
              "    <tr>\n",
              "      <th>1</th>\n",
              "      <td>Hank</td>\n",
              "      <td>Schrader</td>\n",
              "    </tr>\n",
              "    <tr>\n",
              "      <th>2</th>\n",
              "      <td>Jesse</td>\n",
              "      <td>Pinkman</td>\n",
              "    </tr>\n",
              "    <tr>\n",
              "      <th>3</th>\n",
              "      <td>Saul</td>\n",
              "      <td>Goodman</td>\n",
              "    </tr>\n",
              "  </tbody>\n",
              "</table>\n",
              "</div>"
            ],
            "text/plain": [
              "     Name   Surname\n",
              "0  Walter     White\n",
              "1    Hank  Schrader\n",
              "2   Jesse   Pinkman\n",
              "3    Saul   Goodman"
            ]
          },
          "metadata": {
            "tags": []
          },
          "execution_count": 21
        }
      ]
    },
    {
      "cell_type": "code",
      "metadata": {
        "colab": {
          "base_uri": "https://localhost:8080/",
          "height": 166
        },
        "id": "2uDO09uFvoa-",
        "outputId": "6131db8a-c4e1-4707-dbc6-b5bd197e6390"
      },
      "source": [
        "# Alternatively, set the index of one frame to the other\n",
        "# Here we have better control over the index\n",
        "pd.concat([df1, df2.set_index(df1.index)], axis=1)"
      ],
      "execution_count": null,
      "outputs": [
        {
          "output_type": "execute_result",
          "data": {
            "text/html": [
              "<div>\n",
              "<style scoped>\n",
              "    .dataframe tbody tr th:only-of-type {\n",
              "        vertical-align: middle;\n",
              "    }\n",
              "\n",
              "    .dataframe tbody tr th {\n",
              "        vertical-align: top;\n",
              "    }\n",
              "\n",
              "    .dataframe thead th {\n",
              "        text-align: right;\n",
              "    }\n",
              "</style>\n",
              "<table border=\"1\" class=\"dataframe\">\n",
              "  <thead>\n",
              "    <tr style=\"text-align: right;\">\n",
              "      <th></th>\n",
              "      <th>Name</th>\n",
              "      <th>Surname</th>\n",
              "    </tr>\n",
              "  </thead>\n",
              "  <tbody>\n",
              "    <tr>\n",
              "      <th>30</th>\n",
              "      <td>Walter</td>\n",
              "      <td>White</td>\n",
              "    </tr>\n",
              "    <tr>\n",
              "      <th>20</th>\n",
              "      <td>Hank</td>\n",
              "      <td>Schrader</td>\n",
              "    </tr>\n",
              "    <tr>\n",
              "      <th>10</th>\n",
              "      <td>Jesse</td>\n",
              "      <td>Pinkman</td>\n",
              "    </tr>\n",
              "    <tr>\n",
              "      <th>0</th>\n",
              "      <td>Saul</td>\n",
              "      <td>Goodman</td>\n",
              "    </tr>\n",
              "  </tbody>\n",
              "</table>\n",
              "</div>"
            ],
            "text/plain": [
              "      Name   Surname\n",
              "30  Walter     White\n",
              "20    Hank  Schrader\n",
              "10   Jesse   Pinkman\n",
              "0     Saul   Goodman"
            ]
          },
          "metadata": {
            "tags": []
          },
          "execution_count": 22
        }
      ]
    },
    {
      "cell_type": "markdown",
      "metadata": {
        "id": "BSooeX1_-zqz"
      },
      "source": [
        "# Join, Merge, Concat\n",
        "\n",
        "![](https://www.ualberta.ca/science/media-library/news/2020/july/rock-paper-scissors-webinar.jpg)"
      ]
    },
    {
      "cell_type": "markdown",
      "metadata": {
        "id": "RpgcYAhM_Lgm"
      },
      "source": [
        "* Join \n",
        "  * You have two dataframes \n",
        "  * You want to associate using the index\n",
        "  * Can control the type of join\n",
        "* Merge \n",
        "  * More flexible\n",
        "  * Can use the index or columns in the dataframe \n",
        "  * Can control the type of join\n",
        "* Concat\n",
        "  * You want to stack horizontally or vertically\n",
        "  * Remember the index when you append columns & rows"
      ]
    },
    {
      "cell_type": "markdown",
      "metadata": {
        "id": "Y3KW5Eo5z1dK"
      },
      "source": [
        "# Extras"
      ]
    },
    {
      "cell_type": "markdown",
      "metadata": {
        "id": "GIZiiacs4TDO"
      },
      "source": [
        "## Data Tables"
      ]
    },
    {
      "cell_type": "code",
      "metadata": {
        "colab": {
          "base_uri": "https://localhost:8080/",
          "height": 165
        },
        "id": "3rkrWzPF3_to",
        "outputId": "1536ca36-88c8-4217-9ad2-d7fa78f570ef"
      },
      "source": [
        "%load_ext google.colab.data_table\n",
        "df1"
      ],
      "execution_count": null,
      "outputs": [
        {
          "output_type": "execute_result",
          "data": {
            "application/vnd.google.colaboratory.module+javascript": "\n      import \"https://ssl.gstatic.com/colaboratory/data_table/a6224c040fa35dcf/data_table.js\";\n\n      window.createDataTable({\n        data: [[{\n            'v': 30,\n            'f': \"30\",\n        },\n\"Walter\"],\n [{\n            'v': 20,\n            'f': \"20\",\n        },\n\"Hank\"],\n [{\n            'v': 10,\n            'f': \"10\",\n        },\n\"Jesse\"],\n [{\n            'v': 0,\n            'f': \"0\",\n        },\n\"Saul\"]],\n        columns: [[\"number\", \"index\"], [\"string\", \"Name\"]],\n        columnOptions: [{\"width\": \"1px\", \"className\": \"index_column\"}],\n        rowsPerPage: 25,\n        helpUrl: \"https://colab.research.google.com/notebooks/data_table.ipynb\",\n        suppressOutputScrolling: true,\n        minimumWidth: undefined,\n      });\n    ",
            "text/html": [
              "<div>\n",
              "<style scoped>\n",
              "    .dataframe tbody tr th:only-of-type {\n",
              "        vertical-align: middle;\n",
              "    }\n",
              "\n",
              "    .dataframe tbody tr th {\n",
              "        vertical-align: top;\n",
              "    }\n",
              "\n",
              "    .dataframe thead th {\n",
              "        text-align: right;\n",
              "    }\n",
              "</style>\n",
              "<table border=\"1\" class=\"dataframe\">\n",
              "  <thead>\n",
              "    <tr style=\"text-align: right;\">\n",
              "      <th></th>\n",
              "      <th>Name</th>\n",
              "    </tr>\n",
              "  </thead>\n",
              "  <tbody>\n",
              "    <tr>\n",
              "      <th>30</th>\n",
              "      <td>Walter</td>\n",
              "    </tr>\n",
              "    <tr>\n",
              "      <th>20</th>\n",
              "      <td>Hank</td>\n",
              "    </tr>\n",
              "    <tr>\n",
              "      <th>10</th>\n",
              "      <td>Jesse</td>\n",
              "    </tr>\n",
              "    <tr>\n",
              "      <th>0</th>\n",
              "      <td>Saul</td>\n",
              "    </tr>\n",
              "  </tbody>\n",
              "</table>\n",
              "</div>"
            ],
            "text/plain": [
              "      Name\n",
              "30  Walter\n",
              "20    Hank\n",
              "10   Jesse\n",
              "0     Saul"
            ]
          },
          "metadata": {
            "tags": []
          },
          "execution_count": 23
        }
      ]
    },
    {
      "cell_type": "code",
      "metadata": {
        "id": "aOT0Bu8p4Bgj"
      },
      "source": [
        "%unload_ext google.colab.data_table"
      ],
      "execution_count": null,
      "outputs": []
    }
  ]
}