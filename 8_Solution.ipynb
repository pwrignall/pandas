{
  "nbformat": 4,
  "nbformat_minor": 0,
  "metadata": {
    "colab": {
      "name": "8_Solution.ipynb",
      "provenance": [],
      "collapsed_sections": [],
      "toc_visible": true,
      "authorship_tag": "ABX9TyMJI4oVuw+ZuxNE2foyZbHG",
      "include_colab_link": true
    },
    "kernelspec": {
      "name": "python3",
      "display_name": "Python 3"
    },
    "language_info": {
      "name": "python"
    }
  },
  "cells": [
    {
      "cell_type": "markdown",
      "metadata": {
        "id": "view-in-github",
        "colab_type": "text"
      },
      "source": [
        "<a href=\"https://colab.research.google.com/github/swilsonmfc/pandas/blob/main/8_Solution.ipynb\" target=\"_parent\"><img src=\"https://colab.research.google.com/assets/colab-badge.svg\" alt=\"Open In Colab\"/></a>"
      ]
    },
    {
      "cell_type": "markdown",
      "metadata": {
        "id": "kPwx2jdM6V8y"
      },
      "source": [
        "# Hotel Bookings\n",
        "\n",
        "![](https://cdn.inprnt.com/thumbs/5b/fa/5bfa6a8ea6c461d1c21c0a44962968ed.jpg?response-cache-control=max-age=2628000)"
      ]
    },
    {
      "cell_type": "markdown",
      "metadata": {
        "id": "owAQm_UK6ZOL"
      },
      "source": [
        "# Setup"
      ]
    },
    {
      "cell_type": "code",
      "metadata": {
        "id": "4gUMzm786cLA",
        "colab": {
          "base_uri": "https://localhost:8080/"
        },
        "outputId": "1058dea6-5f02-423c-d9e0-52643fcea1dc"
      },
      "source": [
        "import pandas as pd\n",
        "import numpy as np\n",
        "import matplotlib.pyplot as plt\n",
        "import seaborn as sns\n",
        "\n",
        "from sklearn.linear_model import LogisticRegression\n",
        "from sklearn.linear_model import LinearRegression\n",
        "\n",
        "from sklearn.preprocessing import StandardScaler\n",
        "from sklearn.preprocessing import OneHotEncoder\n",
        "\n",
        "from sklearn.model_selection import train_test_split\n",
        "from sklearn.metrics import confusion_matrix\n",
        "from sklearn.metrics import classification_report\n",
        "from sklearn.metrics import mean_absolute_error\n",
        "\n",
        "import statsmodels.api as sm\n",
        "import statsmodels.stats.api as sms\n",
        "import statsmodels.formula.api as smf\n",
        "import statsmodels.graphics.regressionplots as regplot\n",
        "from statsmodels.stats.outliers_influence import variance_inflation_factor"
      ],
      "execution_count": 1,
      "outputs": [
        {
          "output_type": "stream",
          "text": [
            "/usr/local/lib/python3.7/dist-packages/statsmodels/tools/_testing.py:19: FutureWarning: pandas.util.testing is deprecated. Use the functions in the public API at pandas.testing instead.\n",
            "  import pandas.util.testing as tm\n"
          ],
          "name": "stderr"
        }
      ]
    },
    {
      "cell_type": "markdown",
      "metadata": {
        "id": "7znnGIiQ6hY-"
      },
      "source": [
        "# Data\n",
        "* https://www.kaggle.com/jessemostipak/hotel-booking-demand"
      ]
    },
    {
      "cell_type": "code",
      "metadata": {
        "colab": {
          "base_uri": "https://localhost:8080/"
        },
        "id": "lAU3n9l76il7",
        "outputId": "1e30c7a2-b8c3-42fc-ee27-9271e7a38d29"
      },
      "source": [
        "!wget -O hotel.zip https://github.com/swilsonmfc/pandas/blob/main/hotel.zip?raw=true"
      ],
      "execution_count": 2,
      "outputs": [
        {
          "output_type": "stream",
          "text": [
            "--2021-07-23 19:07:31--  https://github.com/swilsonmfc/pandas/blob/main/hotel.zip?raw=true\n",
            "Resolving github.com (github.com)... 192.30.255.113\n",
            "Connecting to github.com (github.com)|192.30.255.113|:443... connected.\n",
            "HTTP request sent, awaiting response... 302 Found\n",
            "Location: https://github.com/swilsonmfc/pandas/raw/main/hotel.zip [following]\n",
            "--2021-07-23 19:07:31--  https://github.com/swilsonmfc/pandas/raw/main/hotel.zip\n",
            "Reusing existing connection to github.com:443.\n",
            "HTTP request sent, awaiting response... 302 Found\n",
            "Location: https://raw.githubusercontent.com/swilsonmfc/pandas/main/hotel.zip [following]\n",
            "--2021-07-23 19:07:31--  https://raw.githubusercontent.com/swilsonmfc/pandas/main/hotel.zip\n",
            "Resolving raw.githubusercontent.com (raw.githubusercontent.com)... 185.199.111.133, 185.199.109.133, 185.199.110.133, ...\n",
            "Connecting to raw.githubusercontent.com (raw.githubusercontent.com)|185.199.111.133|:443... connected.\n",
            "HTTP request sent, awaiting response... 200 OK\n",
            "Length: 1308365 (1.2M) [application/zip]\n",
            "Saving to: ‘hotel.zip’\n",
            "\n",
            "hotel.zip           100%[===================>]   1.25M  --.-KB/s    in 0.06s   \n",
            "\n",
            "2021-07-23 19:07:32 (21.3 MB/s) - ‘hotel.zip’ saved [1308365/1308365]\n",
            "\n"
          ],
          "name": "stdout"
        }
      ]
    },
    {
      "cell_type": "code",
      "metadata": {
        "colab": {
          "base_uri": "https://localhost:8080/"
        },
        "id": "vXX87Xdr62_f",
        "outputId": "45feeefd-6304-4357-9e34-c3a6a7724f11"
      },
      "source": [
        "!unzip -o hotel.zip"
      ],
      "execution_count": 3,
      "outputs": [
        {
          "output_type": "stream",
          "text": [
            "Archive:  hotel.zip\n",
            "  inflating: hotel_bookings.csv      \n"
          ],
          "name": "stdout"
        }
      ]
    },
    {
      "cell_type": "code",
      "metadata": {
        "id": "DKWphhHv7T9d"
      },
      "source": [
        "hotel_df = pd.read_csv('./hotel_bookings.csv')"
      ],
      "execution_count": 4,
      "outputs": []
    },
    {
      "cell_type": "code",
      "metadata": {
        "colab": {
          "base_uri": "https://localhost:8080/",
          "height": 590
        },
        "id": "qDs69JdP7ZsB",
        "outputId": "39158e4d-1113-483c-95c0-b9d571fde83d"
      },
      "source": [
        "hotel_df"
      ],
      "execution_count": 5,
      "outputs": [
        {
          "output_type": "execute_result",
          "data": {
            "text/html": [
              "<div>\n",
              "<style scoped>\n",
              "    .dataframe tbody tr th:only-of-type {\n",
              "        vertical-align: middle;\n",
              "    }\n",
              "\n",
              "    .dataframe tbody tr th {\n",
              "        vertical-align: top;\n",
              "    }\n",
              "\n",
              "    .dataframe thead th {\n",
              "        text-align: right;\n",
              "    }\n",
              "</style>\n",
              "<table border=\"1\" class=\"dataframe\">\n",
              "  <thead>\n",
              "    <tr style=\"text-align: right;\">\n",
              "      <th></th>\n",
              "      <th>hotel</th>\n",
              "      <th>is_canceled</th>\n",
              "      <th>lead_time</th>\n",
              "      <th>arrival_date_year</th>\n",
              "      <th>arrival_date_month</th>\n",
              "      <th>arrival_date_week_number</th>\n",
              "      <th>arrival_date_day_of_month</th>\n",
              "      <th>stays_in_weekend_nights</th>\n",
              "      <th>stays_in_week_nights</th>\n",
              "      <th>adults</th>\n",
              "      <th>children</th>\n",
              "      <th>babies</th>\n",
              "      <th>meal</th>\n",
              "      <th>country</th>\n",
              "      <th>market_segment</th>\n",
              "      <th>distribution_channel</th>\n",
              "      <th>is_repeated_guest</th>\n",
              "      <th>previous_cancellations</th>\n",
              "      <th>previous_bookings_not_canceled</th>\n",
              "      <th>reserved_room_type</th>\n",
              "      <th>assigned_room_type</th>\n",
              "      <th>booking_changes</th>\n",
              "      <th>deposit_type</th>\n",
              "      <th>agent</th>\n",
              "      <th>company</th>\n",
              "      <th>days_in_waiting_list</th>\n",
              "      <th>customer_type</th>\n",
              "      <th>adr</th>\n",
              "      <th>required_car_parking_spaces</th>\n",
              "      <th>total_of_special_requests</th>\n",
              "      <th>reservation_status</th>\n",
              "      <th>reservation_status_date</th>\n",
              "    </tr>\n",
              "  </thead>\n",
              "  <tbody>\n",
              "    <tr>\n",
              "      <th>0</th>\n",
              "      <td>Resort Hotel</td>\n",
              "      <td>0</td>\n",
              "      <td>342</td>\n",
              "      <td>2015</td>\n",
              "      <td>July</td>\n",
              "      <td>27</td>\n",
              "      <td>1</td>\n",
              "      <td>0</td>\n",
              "      <td>0</td>\n",
              "      <td>2</td>\n",
              "      <td>0.0</td>\n",
              "      <td>0</td>\n",
              "      <td>BB</td>\n",
              "      <td>PRT</td>\n",
              "      <td>Direct</td>\n",
              "      <td>Direct</td>\n",
              "      <td>0</td>\n",
              "      <td>0</td>\n",
              "      <td>0</td>\n",
              "      <td>C</td>\n",
              "      <td>C</td>\n",
              "      <td>3</td>\n",
              "      <td>No Deposit</td>\n",
              "      <td>NaN</td>\n",
              "      <td>NaN</td>\n",
              "      <td>0</td>\n",
              "      <td>Transient</td>\n",
              "      <td>0.00</td>\n",
              "      <td>0</td>\n",
              "      <td>0</td>\n",
              "      <td>Check-Out</td>\n",
              "      <td>2015-07-01</td>\n",
              "    </tr>\n",
              "    <tr>\n",
              "      <th>1</th>\n",
              "      <td>Resort Hotel</td>\n",
              "      <td>0</td>\n",
              "      <td>737</td>\n",
              "      <td>2015</td>\n",
              "      <td>July</td>\n",
              "      <td>27</td>\n",
              "      <td>1</td>\n",
              "      <td>0</td>\n",
              "      <td>0</td>\n",
              "      <td>2</td>\n",
              "      <td>0.0</td>\n",
              "      <td>0</td>\n",
              "      <td>BB</td>\n",
              "      <td>PRT</td>\n",
              "      <td>Direct</td>\n",
              "      <td>Direct</td>\n",
              "      <td>0</td>\n",
              "      <td>0</td>\n",
              "      <td>0</td>\n",
              "      <td>C</td>\n",
              "      <td>C</td>\n",
              "      <td>4</td>\n",
              "      <td>No Deposit</td>\n",
              "      <td>NaN</td>\n",
              "      <td>NaN</td>\n",
              "      <td>0</td>\n",
              "      <td>Transient</td>\n",
              "      <td>0.00</td>\n",
              "      <td>0</td>\n",
              "      <td>0</td>\n",
              "      <td>Check-Out</td>\n",
              "      <td>2015-07-01</td>\n",
              "    </tr>\n",
              "    <tr>\n",
              "      <th>2</th>\n",
              "      <td>Resort Hotel</td>\n",
              "      <td>0</td>\n",
              "      <td>7</td>\n",
              "      <td>2015</td>\n",
              "      <td>July</td>\n",
              "      <td>27</td>\n",
              "      <td>1</td>\n",
              "      <td>0</td>\n",
              "      <td>1</td>\n",
              "      <td>1</td>\n",
              "      <td>0.0</td>\n",
              "      <td>0</td>\n",
              "      <td>BB</td>\n",
              "      <td>GBR</td>\n",
              "      <td>Direct</td>\n",
              "      <td>Direct</td>\n",
              "      <td>0</td>\n",
              "      <td>0</td>\n",
              "      <td>0</td>\n",
              "      <td>A</td>\n",
              "      <td>C</td>\n",
              "      <td>0</td>\n",
              "      <td>No Deposit</td>\n",
              "      <td>NaN</td>\n",
              "      <td>NaN</td>\n",
              "      <td>0</td>\n",
              "      <td>Transient</td>\n",
              "      <td>75.00</td>\n",
              "      <td>0</td>\n",
              "      <td>0</td>\n",
              "      <td>Check-Out</td>\n",
              "      <td>2015-07-02</td>\n",
              "    </tr>\n",
              "    <tr>\n",
              "      <th>3</th>\n",
              "      <td>Resort Hotel</td>\n",
              "      <td>0</td>\n",
              "      <td>13</td>\n",
              "      <td>2015</td>\n",
              "      <td>July</td>\n",
              "      <td>27</td>\n",
              "      <td>1</td>\n",
              "      <td>0</td>\n",
              "      <td>1</td>\n",
              "      <td>1</td>\n",
              "      <td>0.0</td>\n",
              "      <td>0</td>\n",
              "      <td>BB</td>\n",
              "      <td>GBR</td>\n",
              "      <td>Corporate</td>\n",
              "      <td>Corporate</td>\n",
              "      <td>0</td>\n",
              "      <td>0</td>\n",
              "      <td>0</td>\n",
              "      <td>A</td>\n",
              "      <td>A</td>\n",
              "      <td>0</td>\n",
              "      <td>No Deposit</td>\n",
              "      <td>304.0</td>\n",
              "      <td>NaN</td>\n",
              "      <td>0</td>\n",
              "      <td>Transient</td>\n",
              "      <td>75.00</td>\n",
              "      <td>0</td>\n",
              "      <td>0</td>\n",
              "      <td>Check-Out</td>\n",
              "      <td>2015-07-02</td>\n",
              "    </tr>\n",
              "    <tr>\n",
              "      <th>4</th>\n",
              "      <td>Resort Hotel</td>\n",
              "      <td>0</td>\n",
              "      <td>14</td>\n",
              "      <td>2015</td>\n",
              "      <td>July</td>\n",
              "      <td>27</td>\n",
              "      <td>1</td>\n",
              "      <td>0</td>\n",
              "      <td>2</td>\n",
              "      <td>2</td>\n",
              "      <td>0.0</td>\n",
              "      <td>0</td>\n",
              "      <td>BB</td>\n",
              "      <td>GBR</td>\n",
              "      <td>Online TA</td>\n",
              "      <td>TA/TO</td>\n",
              "      <td>0</td>\n",
              "      <td>0</td>\n",
              "      <td>0</td>\n",
              "      <td>A</td>\n",
              "      <td>A</td>\n",
              "      <td>0</td>\n",
              "      <td>No Deposit</td>\n",
              "      <td>240.0</td>\n",
              "      <td>NaN</td>\n",
              "      <td>0</td>\n",
              "      <td>Transient</td>\n",
              "      <td>98.00</td>\n",
              "      <td>0</td>\n",
              "      <td>1</td>\n",
              "      <td>Check-Out</td>\n",
              "      <td>2015-07-03</td>\n",
              "    </tr>\n",
              "    <tr>\n",
              "      <th>...</th>\n",
              "      <td>...</td>\n",
              "      <td>...</td>\n",
              "      <td>...</td>\n",
              "      <td>...</td>\n",
              "      <td>...</td>\n",
              "      <td>...</td>\n",
              "      <td>...</td>\n",
              "      <td>...</td>\n",
              "      <td>...</td>\n",
              "      <td>...</td>\n",
              "      <td>...</td>\n",
              "      <td>...</td>\n",
              "      <td>...</td>\n",
              "      <td>...</td>\n",
              "      <td>...</td>\n",
              "      <td>...</td>\n",
              "      <td>...</td>\n",
              "      <td>...</td>\n",
              "      <td>...</td>\n",
              "      <td>...</td>\n",
              "      <td>...</td>\n",
              "      <td>...</td>\n",
              "      <td>...</td>\n",
              "      <td>...</td>\n",
              "      <td>...</td>\n",
              "      <td>...</td>\n",
              "      <td>...</td>\n",
              "      <td>...</td>\n",
              "      <td>...</td>\n",
              "      <td>...</td>\n",
              "      <td>...</td>\n",
              "      <td>...</td>\n",
              "    </tr>\n",
              "    <tr>\n",
              "      <th>119385</th>\n",
              "      <td>City Hotel</td>\n",
              "      <td>0</td>\n",
              "      <td>23</td>\n",
              "      <td>2017</td>\n",
              "      <td>August</td>\n",
              "      <td>35</td>\n",
              "      <td>30</td>\n",
              "      <td>2</td>\n",
              "      <td>5</td>\n",
              "      <td>2</td>\n",
              "      <td>0.0</td>\n",
              "      <td>0</td>\n",
              "      <td>BB</td>\n",
              "      <td>BEL</td>\n",
              "      <td>Offline TA/TO</td>\n",
              "      <td>TA/TO</td>\n",
              "      <td>0</td>\n",
              "      <td>0</td>\n",
              "      <td>0</td>\n",
              "      <td>A</td>\n",
              "      <td>A</td>\n",
              "      <td>0</td>\n",
              "      <td>No Deposit</td>\n",
              "      <td>394.0</td>\n",
              "      <td>NaN</td>\n",
              "      <td>0</td>\n",
              "      <td>Transient</td>\n",
              "      <td>96.14</td>\n",
              "      <td>0</td>\n",
              "      <td>0</td>\n",
              "      <td>Check-Out</td>\n",
              "      <td>2017-09-06</td>\n",
              "    </tr>\n",
              "    <tr>\n",
              "      <th>119386</th>\n",
              "      <td>City Hotel</td>\n",
              "      <td>0</td>\n",
              "      <td>102</td>\n",
              "      <td>2017</td>\n",
              "      <td>August</td>\n",
              "      <td>35</td>\n",
              "      <td>31</td>\n",
              "      <td>2</td>\n",
              "      <td>5</td>\n",
              "      <td>3</td>\n",
              "      <td>0.0</td>\n",
              "      <td>0</td>\n",
              "      <td>BB</td>\n",
              "      <td>FRA</td>\n",
              "      <td>Online TA</td>\n",
              "      <td>TA/TO</td>\n",
              "      <td>0</td>\n",
              "      <td>0</td>\n",
              "      <td>0</td>\n",
              "      <td>E</td>\n",
              "      <td>E</td>\n",
              "      <td>0</td>\n",
              "      <td>No Deposit</td>\n",
              "      <td>9.0</td>\n",
              "      <td>NaN</td>\n",
              "      <td>0</td>\n",
              "      <td>Transient</td>\n",
              "      <td>225.43</td>\n",
              "      <td>0</td>\n",
              "      <td>2</td>\n",
              "      <td>Check-Out</td>\n",
              "      <td>2017-09-07</td>\n",
              "    </tr>\n",
              "    <tr>\n",
              "      <th>119387</th>\n",
              "      <td>City Hotel</td>\n",
              "      <td>0</td>\n",
              "      <td>34</td>\n",
              "      <td>2017</td>\n",
              "      <td>August</td>\n",
              "      <td>35</td>\n",
              "      <td>31</td>\n",
              "      <td>2</td>\n",
              "      <td>5</td>\n",
              "      <td>2</td>\n",
              "      <td>0.0</td>\n",
              "      <td>0</td>\n",
              "      <td>BB</td>\n",
              "      <td>DEU</td>\n",
              "      <td>Online TA</td>\n",
              "      <td>TA/TO</td>\n",
              "      <td>0</td>\n",
              "      <td>0</td>\n",
              "      <td>0</td>\n",
              "      <td>D</td>\n",
              "      <td>D</td>\n",
              "      <td>0</td>\n",
              "      <td>No Deposit</td>\n",
              "      <td>9.0</td>\n",
              "      <td>NaN</td>\n",
              "      <td>0</td>\n",
              "      <td>Transient</td>\n",
              "      <td>157.71</td>\n",
              "      <td>0</td>\n",
              "      <td>4</td>\n",
              "      <td>Check-Out</td>\n",
              "      <td>2017-09-07</td>\n",
              "    </tr>\n",
              "    <tr>\n",
              "      <th>119388</th>\n",
              "      <td>City Hotel</td>\n",
              "      <td>0</td>\n",
              "      <td>109</td>\n",
              "      <td>2017</td>\n",
              "      <td>August</td>\n",
              "      <td>35</td>\n",
              "      <td>31</td>\n",
              "      <td>2</td>\n",
              "      <td>5</td>\n",
              "      <td>2</td>\n",
              "      <td>0.0</td>\n",
              "      <td>0</td>\n",
              "      <td>BB</td>\n",
              "      <td>GBR</td>\n",
              "      <td>Online TA</td>\n",
              "      <td>TA/TO</td>\n",
              "      <td>0</td>\n",
              "      <td>0</td>\n",
              "      <td>0</td>\n",
              "      <td>A</td>\n",
              "      <td>A</td>\n",
              "      <td>0</td>\n",
              "      <td>No Deposit</td>\n",
              "      <td>89.0</td>\n",
              "      <td>NaN</td>\n",
              "      <td>0</td>\n",
              "      <td>Transient</td>\n",
              "      <td>104.40</td>\n",
              "      <td>0</td>\n",
              "      <td>0</td>\n",
              "      <td>Check-Out</td>\n",
              "      <td>2017-09-07</td>\n",
              "    </tr>\n",
              "    <tr>\n",
              "      <th>119389</th>\n",
              "      <td>City Hotel</td>\n",
              "      <td>0</td>\n",
              "      <td>205</td>\n",
              "      <td>2017</td>\n",
              "      <td>August</td>\n",
              "      <td>35</td>\n",
              "      <td>29</td>\n",
              "      <td>2</td>\n",
              "      <td>7</td>\n",
              "      <td>2</td>\n",
              "      <td>0.0</td>\n",
              "      <td>0</td>\n",
              "      <td>HB</td>\n",
              "      <td>DEU</td>\n",
              "      <td>Online TA</td>\n",
              "      <td>TA/TO</td>\n",
              "      <td>0</td>\n",
              "      <td>0</td>\n",
              "      <td>0</td>\n",
              "      <td>A</td>\n",
              "      <td>A</td>\n",
              "      <td>0</td>\n",
              "      <td>No Deposit</td>\n",
              "      <td>9.0</td>\n",
              "      <td>NaN</td>\n",
              "      <td>0</td>\n",
              "      <td>Transient</td>\n",
              "      <td>151.20</td>\n",
              "      <td>0</td>\n",
              "      <td>2</td>\n",
              "      <td>Check-Out</td>\n",
              "      <td>2017-09-07</td>\n",
              "    </tr>\n",
              "  </tbody>\n",
              "</table>\n",
              "<p>119390 rows × 32 columns</p>\n",
              "</div>"
            ],
            "text/plain": [
              "               hotel  is_canceled  ...  reservation_status  reservation_status_date\n",
              "0       Resort Hotel            0  ...           Check-Out               2015-07-01\n",
              "1       Resort Hotel            0  ...           Check-Out               2015-07-01\n",
              "2       Resort Hotel            0  ...           Check-Out               2015-07-02\n",
              "3       Resort Hotel            0  ...           Check-Out               2015-07-02\n",
              "4       Resort Hotel            0  ...           Check-Out               2015-07-03\n",
              "...              ...          ...  ...                 ...                      ...\n",
              "119385    City Hotel            0  ...           Check-Out               2017-09-06\n",
              "119386    City Hotel            0  ...           Check-Out               2017-09-07\n",
              "119387    City Hotel            0  ...           Check-Out               2017-09-07\n",
              "119388    City Hotel            0  ...           Check-Out               2017-09-07\n",
              "119389    City Hotel            0  ...           Check-Out               2017-09-07\n",
              "\n",
              "[119390 rows x 32 columns]"
            ]
          },
          "metadata": {
            "tags": []
          },
          "execution_count": 5
        }
      ]
    },
    {
      "cell_type": "markdown",
      "metadata": {
        "id": "khe2-mvL1hHR"
      },
      "source": [
        "## Types"
      ]
    },
    {
      "cell_type": "code",
      "metadata": {
        "colab": {
          "base_uri": "https://localhost:8080/"
        },
        "id": "yTAQ-QgG1ipg",
        "outputId": "06c6413b-4561-4464-f794-0145513fe5c0"
      },
      "source": [
        "hotel_df.dtypes"
      ],
      "execution_count": 6,
      "outputs": [
        {
          "output_type": "execute_result",
          "data": {
            "text/plain": [
              "hotel                              object\n",
              "is_canceled                         int64\n",
              "lead_time                           int64\n",
              "arrival_date_year                   int64\n",
              "arrival_date_month                 object\n",
              "arrival_date_week_number            int64\n",
              "arrival_date_day_of_month           int64\n",
              "stays_in_weekend_nights             int64\n",
              "stays_in_week_nights                int64\n",
              "adults                              int64\n",
              "children                          float64\n",
              "babies                              int64\n",
              "meal                               object\n",
              "country                            object\n",
              "market_segment                     object\n",
              "distribution_channel               object\n",
              "is_repeated_guest                   int64\n",
              "previous_cancellations              int64\n",
              "previous_bookings_not_canceled      int64\n",
              "reserved_room_type                 object\n",
              "assigned_room_type                 object\n",
              "booking_changes                     int64\n",
              "deposit_type                       object\n",
              "agent                             float64\n",
              "company                           float64\n",
              "days_in_waiting_list                int64\n",
              "customer_type                      object\n",
              "adr                               float64\n",
              "required_car_parking_spaces         int64\n",
              "total_of_special_requests           int64\n",
              "reservation_status                 object\n",
              "reservation_status_date            object\n",
              "dtype: object"
            ]
          },
          "metadata": {
            "tags": []
          },
          "execution_count": 6
        }
      ]
    },
    {
      "cell_type": "markdown",
      "metadata": {
        "id": "OkQqsGgVqJ37"
      },
      "source": [
        "## Missing\n",
        "* Missing data here seems reasonable for the most part\n",
        "* 4 missing children - Impute to median"
      ]
    },
    {
      "cell_type": "code",
      "metadata": {
        "colab": {
          "base_uri": "https://localhost:8080/"
        },
        "id": "2wknvOb2qLV4",
        "outputId": "d6874734-b6c3-468b-e514-407b5cf61746"
      },
      "source": [
        "hotel_df.isna().sum()"
      ],
      "execution_count": 7,
      "outputs": [
        {
          "output_type": "execute_result",
          "data": {
            "text/plain": [
              "hotel                                  0\n",
              "is_canceled                            0\n",
              "lead_time                              0\n",
              "arrival_date_year                      0\n",
              "arrival_date_month                     0\n",
              "arrival_date_week_number               0\n",
              "arrival_date_day_of_month              0\n",
              "stays_in_weekend_nights                0\n",
              "stays_in_week_nights                   0\n",
              "adults                                 0\n",
              "children                               4\n",
              "babies                                 0\n",
              "meal                                   0\n",
              "country                              488\n",
              "market_segment                         0\n",
              "distribution_channel                   0\n",
              "is_repeated_guest                      0\n",
              "previous_cancellations                 0\n",
              "previous_bookings_not_canceled         0\n",
              "reserved_room_type                     0\n",
              "assigned_room_type                     0\n",
              "booking_changes                        0\n",
              "deposit_type                           0\n",
              "agent                              16340\n",
              "company                           112593\n",
              "days_in_waiting_list                   0\n",
              "customer_type                          0\n",
              "adr                                    0\n",
              "required_car_parking_spaces            0\n",
              "total_of_special_requests              0\n",
              "reservation_status                     0\n",
              "reservation_status_date                0\n",
              "dtype: int64"
            ]
          },
          "metadata": {
            "tags": []
          },
          "execution_count": 7
        }
      ]
    },
    {
      "cell_type": "code",
      "metadata": {
        "id": "SCDdD22yqe2T"
      },
      "source": [
        "# Series where method vs np.where\n",
        "hotel_df['children'] = hotel_df.children.where(hotel_df.children.notna(), 0)\n",
        "hotel_df['country']  = hotel_df.country.fillna('UNKNOWN')\n",
        "hotel_df['agent']    = hotel_df.agent.fillna('NONE')\n",
        "hotel_df['company']  = hotel_df.company.fillna('NONE')"
      ],
      "execution_count": 8,
      "outputs": []
    },
    {
      "cell_type": "code",
      "metadata": {
        "colab": {
          "base_uri": "https://localhost:8080/"
        },
        "id": "dYh1aQV_qzQa",
        "outputId": "907763b2-1973-4da2-967b-abd556a27e7a"
      },
      "source": [
        "hotel_df.isna().sum()"
      ],
      "execution_count": 9,
      "outputs": [
        {
          "output_type": "execute_result",
          "data": {
            "text/plain": [
              "hotel                             0\n",
              "is_canceled                       0\n",
              "lead_time                         0\n",
              "arrival_date_year                 0\n",
              "arrival_date_month                0\n",
              "arrival_date_week_number          0\n",
              "arrival_date_day_of_month         0\n",
              "stays_in_weekend_nights           0\n",
              "stays_in_week_nights              0\n",
              "adults                            0\n",
              "children                          0\n",
              "babies                            0\n",
              "meal                              0\n",
              "country                           0\n",
              "market_segment                    0\n",
              "distribution_channel              0\n",
              "is_repeated_guest                 0\n",
              "previous_cancellations            0\n",
              "previous_bookings_not_canceled    0\n",
              "reserved_room_type                0\n",
              "assigned_room_type                0\n",
              "booking_changes                   0\n",
              "deposit_type                      0\n",
              "agent                             0\n",
              "company                           0\n",
              "days_in_waiting_list              0\n",
              "customer_type                     0\n",
              "adr                               0\n",
              "required_car_parking_spaces       0\n",
              "total_of_special_requests         0\n",
              "reservation_status                0\n",
              "reservation_status_date           0\n",
              "dtype: int64"
            ]
          },
          "metadata": {
            "tags": []
          },
          "execution_count": 9
        }
      ]
    },
    {
      "cell_type": "markdown",
      "metadata": {
        "id": "U19ViY75dqBS"
      },
      "source": [
        "## Outliers\n",
        "* More than 10 people booked in a room\n",
        "  * All cancelled\n",
        "  * Agent 96 is present on 1/2 of them\n",
        "* The hotel paid one person to stay there\n",
        "  * Best to truncate that to $0\n",
        "  * One room cost \\$5,400"
      ]
    },
    {
      "cell_type": "code",
      "metadata": {
        "id": "RDmh7vL8h33k"
      },
      "source": [
        "hotel_df = hotel_df[(hotel_df.adr >= 0) & (hotel_df.adr < 1000)]"
      ],
      "execution_count": 10,
      "outputs": []
    },
    {
      "cell_type": "markdown",
      "metadata": {
        "id": "XIsc86Pd1OhI"
      },
      "source": [
        "# Logistic Regression"
      ]
    },
    {
      "cell_type": "code",
      "metadata": {
        "colab": {
          "base_uri": "https://localhost:8080/"
        },
        "id": "WbdpEMAz-CeE",
        "outputId": "e9c57ff0-86f8-47fd-d3b4-6ae8e3da06ff"
      },
      "source": [
        "f = 'is_canceled ~ hotel + arrival_date_month + deposit_type'\n",
        "model = smf.logit(formula=f, data=hotel_df)\n",
        "fitted = model.fit()\n",
        "print(fitted.summary())"
      ],
      "execution_count": 11,
      "outputs": [
        {
          "output_type": "stream",
          "text": [
            "Optimization terminated successfully.\n",
            "         Current function value: 0.523298\n",
            "         Iterations 9\n",
            "                           Logit Regression Results                           \n",
            "==============================================================================\n",
            "Dep. Variable:            is_canceled   No. Observations:               119388\n",
            "Model:                          Logit   Df Residuals:                   119373\n",
            "Method:                           MLE   Df Model:                           14\n",
            "Date:                Fri, 23 Jul 2021   Pseudo R-squ.:                  0.2061\n",
            "Time:                        19:07:36   Log-Likelihood:                -62475.\n",
            "converged:                       True   LL-Null:                       -78698.\n",
            "Covariance Type:            nonrobust   LLR p-value:                     0.000\n",
            "===================================================================================================\n",
            "                                      coef    std err          z      P>|z|      [0.025      0.975]\n",
            "---------------------------------------------------------------------------------------------------\n",
            "Intercept                          -0.7494      0.023    -32.483      0.000      -0.795      -0.704\n",
            "hotel[T.Resort Hotel]              -0.3013      0.015    -20.616      0.000      -0.330      -0.273\n",
            "arrival_date_month[T.August]        0.1692      0.029      5.779      0.000       0.112       0.227\n",
            "arrival_date_month[T.December]     -0.1027      0.037     -2.807      0.005      -0.174      -0.031\n",
            "arrival_date_month[T.February]     -0.1886      0.035     -5.378      0.000      -0.257      -0.120\n",
            "arrival_date_month[T.January]      -0.3729      0.040     -9.353      0.000      -0.451      -0.295\n",
            "arrival_date_month[T.July]          0.1957      0.030      6.585      0.000       0.137       0.254\n",
            "arrival_date_month[T.June]         -0.0045      0.032     -0.141      0.888      -0.067       0.058\n",
            "arrival_date_month[T.March]        -0.3005      0.034     -8.904      0.000      -0.367      -0.234\n",
            "arrival_date_month[T.May]          -0.0072      0.031     -0.229      0.819      -0.069       0.054\n",
            "arrival_date_month[T.November]     -0.3678      0.038     -9.641      0.000      -0.443      -0.293\n",
            "arrival_date_month[T.October]      -0.2030      0.033     -6.212      0.000      -0.267      -0.139\n",
            "arrival_date_month[T.September]    -0.2323      0.034     -6.931      0.000      -0.298      -0.167\n",
            "deposit_type[T.Non Refund]          5.9640      0.104     57.151      0.000       5.760       6.169\n",
            "deposit_type[T.Refundable]         -0.0768      0.191     -0.403      0.687      -0.450       0.297\n",
            "===================================================================================================\n"
          ],
          "name": "stdout"
        }
      ]
    },
    {
      "cell_type": "code",
      "metadata": {
        "colab": {
          "base_uri": "https://localhost:8080/"
        },
        "id": "4-6VLB12-IW-",
        "outputId": "085fdcf2-b4b5-496a-8103-c20df4f54355"
      },
      "source": [
        "f = \"\"\"is_canceled ~ + C(arrival_date_month, Treatment(reference='January'))\n",
        "             + C(hotel, Treatment(reference='Resort Hotel')) \n",
        "             + C(deposit_type)\"\"\" \n",
        "model = smf.logit(formula=f, data=hotel_df)\n",
        "fitted = model.fit()\n",
        "print(fitted.summary())"
      ],
      "execution_count": 12,
      "outputs": [
        {
          "output_type": "stream",
          "text": [
            "Optimization terminated successfully.\n",
            "         Current function value: 0.523298\n",
            "         Iterations 9\n",
            "                           Logit Regression Results                           \n",
            "==============================================================================\n",
            "Dep. Variable:            is_canceled   No. Observations:               119388\n",
            "Model:                          Logit   Df Residuals:                   119373\n",
            "Method:                           MLE   Df Model:                           14\n",
            "Date:                Fri, 23 Jul 2021   Pseudo R-squ.:                  0.2061\n",
            "Time:                        19:07:38   Log-Likelihood:                -62475.\n",
            "converged:                       True   LL-Null:                       -78698.\n",
            "Covariance Type:            nonrobust   LLR p-value:                     0.000\n",
            "======================================================================================================================================\n",
            "                                                                         coef    std err          z      P>|z|      [0.025      0.975]\n",
            "--------------------------------------------------------------------------------------------------------------------------------------\n",
            "Intercept                                                             -1.4236      0.034    -41.696      0.000      -1.490      -1.357\n",
            "C(arrival_date_month, Treatment(reference='January'))[T.April]         0.3729      0.040      9.353      0.000       0.295       0.451\n",
            "C(arrival_date_month, Treatment(reference='January'))[T.August]        0.5421      0.038     14.349      0.000       0.468       0.616\n",
            "C(arrival_date_month, Treatment(reference='January'))[T.December]      0.2702      0.044      6.184      0.000       0.185       0.356\n",
            "C(arrival_date_month, Treatment(reference='January'))[T.February]      0.1842      0.042      4.343      0.000       0.101       0.267\n",
            "C(arrival_date_month, Treatment(reference='January'))[T.July]          0.5685      0.038     14.916      0.000       0.494       0.643\n",
            "C(arrival_date_month, Treatment(reference='January'))[T.June]          0.3684      0.040      9.206      0.000       0.290       0.447\n",
            "C(arrival_date_month, Treatment(reference='January'))[T.March]         0.0723      0.041      1.749      0.080      -0.009       0.153\n",
            "C(arrival_date_month, Treatment(reference='January'))[T.May]           0.3657      0.039      9.282      0.000       0.288       0.443\n",
            "C(arrival_date_month, Treatment(reference='January'))[T.November]      0.0051      0.045      0.112      0.911      -0.083       0.093\n",
            "C(arrival_date_month, Treatment(reference='January'))[T.October]       0.1698      0.040      4.195      0.000       0.090       0.249\n",
            "C(arrival_date_month, Treatment(reference='January'))[T.September]     0.1406      0.041      3.417      0.001       0.060       0.221\n",
            "C(hotel, Treatment(reference='Resort Hotel'))[T.City Hotel]            0.3013      0.015     20.616      0.000       0.273       0.330\n",
            "C(deposit_type)[T.Non Refund]                                          5.9640      0.104     57.151      0.000       5.760       6.169\n",
            "C(deposit_type)[T.Refundable]                                         -0.0768      0.191     -0.403      0.687      -0.450       0.297\n",
            "======================================================================================================================================\n"
          ],
          "name": "stdout"
        }
      ]
    },
    {
      "cell_type": "code",
      "metadata": {
        "colab": {
          "base_uri": "https://localhost:8080/"
        },
        "id": "yzGL36AQAZHY",
        "outputId": "23a9cd75-28ed-491f-b545-f78315f70a63"
      },
      "source": [
        "# Generate a single prediction\n",
        "pred_df = pd.DataFrame([{'hotel': 'City Hotel', 'arrival_date_month': 'July', 'deposit_type': 'Refundable'}])\n",
        "proba = fitted.predict(pred_df)\n",
        "pred  = np.where(proba < .5, 0, 1) # Round works here too!\n",
        "pred"
      ],
      "execution_count": 13,
      "outputs": [
        {
          "output_type": "execute_result",
          "data": {
            "text/plain": [
              "array([0])"
            ]
          },
          "metadata": {
            "tags": []
          },
          "execution_count": 13
        }
      ]
    },
    {
      "cell_type": "code",
      "metadata": {
        "id": "IJtwYaj0AKpT",
        "colab": {
          "base_uri": "https://localhost:8080/"
        },
        "outputId": "3acec372-6530-474a-8851-789ad8bf74f6"
      },
      "source": [
        "# Generate a prediction for a resort hotel in October with non-refundable ticket (Non Refund)\n",
        "pred_df = pd.DataFrame([{'hotel': 'Resort Hotel', 'arrival_date_month': 'October', 'deposit_type': 'Non Refund'}])\n",
        "proba = fitted.predict(pred_df)\n",
        "pred  = np.where(proba < .5, 0, 1) # Round works here too!\n",
        "pred"
      ],
      "execution_count": 14,
      "outputs": [
        {
          "output_type": "execute_result",
          "data": {
            "text/plain": [
              "array([1])"
            ]
          },
          "metadata": {
            "tags": []
          },
          "execution_count": 14
        }
      ]
    },
    {
      "cell_type": "code",
      "metadata": {
        "id": "vFd71PzA3C4c",
        "colab": {
          "base_uri": "https://localhost:8080/"
        },
        "outputId": "bf28f5a4-e6fd-40fc-9535-c650d2e62b03"
      },
      "source": [
        "# Predict over the entire dataset\n",
        "proba = fitted.predict(hotel_df)\n",
        "pred  = np.where(proba < .5, 0, 1) # Round works here too!\n",
        "pred"
      ],
      "execution_count": 15,
      "outputs": [
        {
          "output_type": "execute_result",
          "data": {
            "text/plain": [
              "array([0, 0, 0, ..., 0, 0, 0])"
            ]
          },
          "metadata": {
            "tags": []
          },
          "execution_count": 15
        }
      ]
    },
    {
      "cell_type": "code",
      "metadata": {
        "id": "h2Npufcc52_4",
        "colab": {
          "base_uri": "https://localhost:8080/"
        },
        "outputId": "38ba6c77-012a-4d17-b437-6d8dd918eb45"
      },
      "source": [
        "# Produce a confusion matrix\n",
        "confusion_matrix(hotel_df.is_canceled, pred)"
      ],
      "execution_count": 16,
      "outputs": [
        {
          "output_type": "execute_result",
          "data": {
            "text/plain": [
              "array([[75072,    93],\n",
              "       [29730, 14493]])"
            ]
          },
          "metadata": {
            "tags": []
          },
          "execution_count": 16
        }
      ]
    },
    {
      "cell_type": "code",
      "metadata": {
        "id": "HCVMedhG53Jx",
        "colab": {
          "base_uri": "https://localhost:8080/"
        },
        "outputId": "ede612f4-b2a4-4147-abfc-70011059b704"
      },
      "source": [
        "# Print the classification report\n",
        "print(classification_report(hotel_df.is_canceled, pred))"
      ],
      "execution_count": 17,
      "outputs": [
        {
          "output_type": "stream",
          "text": [
            "              precision    recall  f1-score   support\n",
            "\n",
            "           0       0.72      1.00      0.83     75165\n",
            "           1       0.99      0.33      0.49     44223\n",
            "\n",
            "    accuracy                           0.75    119388\n",
            "   macro avg       0.85      0.66      0.66    119388\n",
            "weighted avg       0.82      0.75      0.71    119388\n",
            "\n"
          ],
          "name": "stdout"
        }
      ]
    },
    {
      "cell_type": "markdown",
      "metadata": {
        "id": "9uz-yf-i6Dr0"
      },
      "source": [
        "# Sklearn Logistic Regression"
      ]
    },
    {
      "cell_type": "code",
      "metadata": {
        "id": "4EY-p1BB6Hf0"
      },
      "source": [
        "# Generate a dataframe of is_canceled, lead_time, adr & deposit type\n",
        "# Target variable is is_canceled\n",
        "X = hotel_df[['is_canceled', 'lead_time', 'adr', 'deposit_type']]"
      ],
      "execution_count": 18,
      "outputs": []
    },
    {
      "cell_type": "code",
      "metadata": {
        "id": "YYBpEKY56d1K"
      },
      "source": [
        "# Filter the dataset to Portugal (country == PRT)\n",
        "X = X[hotel_df.country == 'PRT']\n",
        "y = X.pop('is_canceled')"
      ],
      "execution_count": 19,
      "outputs": []
    },
    {
      "cell_type": "code",
      "metadata": {
        "id": "WydcyDn36QFg"
      },
      "source": [
        "# Preprocess deposit type as one hot encoded\n",
        "X = pd.get_dummies(X, columns=['deposit_type'])"
      ],
      "execution_count": 20,
      "outputs": []
    },
    {
      "cell_type": "code",
      "metadata": {
        "id": "AE-8fwmx6QFh"
      },
      "source": [
        "# Train - test split \n",
        "X_train, X_test, y_train, y_test = train_test_split(X.copy(), y)"
      ],
      "execution_count": 21,
      "outputs": []
    },
    {
      "cell_type": "code",
      "metadata": {
        "id": "NtzArX_z6QFh"
      },
      "source": [
        "# Scale the lead time & adr\n",
        "scaler_lead_time = StandardScaler()\n",
        "X_train['lead_time'] = scaler_lead_time.fit_transform(X_train[['lead_time']])\n",
        "X_test['lead_time']  = scaler_lead_time.transform(X_test[['lead_time']])\n",
        "\n",
        "scaler_adr = StandardScaler()\n",
        "X_train['adr'] = scaler_adr.fit_transform(X_train[['adr']])\n",
        "X_test['adr']  = scaler_adr.transform(X_test[['adr']])"
      ],
      "execution_count": 22,
      "outputs": []
    },
    {
      "cell_type": "code",
      "metadata": {
        "id": "BIafOLSE6HlJ",
        "colab": {
          "base_uri": "https://localhost:8080/"
        },
        "outputId": "af962be8-1569-47d3-ce93-e09d8e2f516d"
      },
      "source": [
        "# Compute class weights for balancing\n",
        "factor = len(X_train) / sum(y)\n",
        "weights = {0: 1, 1: factor}\n",
        "weights"
      ],
      "execution_count": 23,
      "outputs": [
        {
          "output_type": "execute_result",
          "data": {
            "text/plain": [
              "{0: 1, 1: 1.3242604840468057}"
            ]
          },
          "metadata": {
            "tags": []
          },
          "execution_count": 23
        }
      ]
    },
    {
      "cell_type": "code",
      "metadata": {
        "id": "cIwGTwBw6HoG",
        "colab": {
          "base_uri": "https://localhost:8080/"
        },
        "outputId": "891da52a-5ea4-486c-f755-554800c8905c"
      },
      "source": [
        "# Construct a Linear Regression Object & Fit to the training data\n",
        "logit = LogisticRegression(class_weight=weights)\n",
        "logit.fit(X_train, y_train)"
      ],
      "execution_count": 24,
      "outputs": [
        {
          "output_type": "execute_result",
          "data": {
            "text/plain": [
              "LogisticRegression(C=1.0, class_weight={0: 1, 1: 1.3242604840468057},\n",
              "                   dual=False, fit_intercept=True, intercept_scaling=1,\n",
              "                   l1_ratio=None, max_iter=100, multi_class='auto', n_jobs=None,\n",
              "                   penalty='l2', random_state=None, solver='lbfgs', tol=0.0001,\n",
              "                   verbose=0, warm_start=False)"
            ]
          },
          "metadata": {
            "tags": []
          },
          "execution_count": 24
        }
      ]
    },
    {
      "cell_type": "code",
      "metadata": {
        "id": "pKCXAs-06us_"
      },
      "source": [
        "# Predict on the test dataset\n",
        "pred = logit.predict(X_test)"
      ],
      "execution_count": 25,
      "outputs": []
    },
    {
      "cell_type": "code",
      "metadata": {
        "id": "euT4CFGd6us_",
        "colab": {
          "base_uri": "https://localhost:8080/"
        },
        "outputId": "b9586398-243d-44a6-e354-484fb2bd25ca"
      },
      "source": [
        "# Print the classification report\n",
        "print(classification_report(y_test, pred))"
      ],
      "execution_count": 26,
      "outputs": [
        {
          "output_type": "stream",
          "text": [
            "              precision    recall  f1-score   support\n",
            "\n",
            "           0       0.70      0.80      0.75      5230\n",
            "           1       0.83      0.74      0.78      6918\n",
            "\n",
            "    accuracy                           0.76     12148\n",
            "   macro avg       0.76      0.77      0.76     12148\n",
            "weighted avg       0.77      0.76      0.77     12148\n",
            "\n"
          ],
          "name": "stdout"
        }
      ]
    },
    {
      "cell_type": "markdown",
      "metadata": {
        "id": "A1jK9cucMyG7"
      },
      "source": [
        "# Sklearn Linear Regression"
      ]
    },
    {
      "cell_type": "code",
      "metadata": {
        "id": "6MWYH7Gm4tx0"
      },
      "source": [
        "# Generate a dataframe of adr, lead_time, and country\n",
        "# Target variable is adr\n",
        "X = hotel_df[['adr', 'lead_time', 'country']]"
      ],
      "execution_count": 27,
      "outputs": []
    },
    {
      "cell_type": "code",
      "metadata": {
        "id": "VBPG939O46_y"
      },
      "source": [
        "# Preprocess country as one hot encoded\n",
        "# Note:  add the parameter drop_first=True to get_dummies\n",
        "X = pd.get_dummies(X, columns=['country'], drop_first=True)\n",
        "y = X.pop('adr')"
      ],
      "execution_count": 28,
      "outputs": []
    },
    {
      "cell_type": "code",
      "metadata": {
        "id": "hh0RtOhi469M"
      },
      "source": [
        "# Train - test split \n",
        "X_train, X_test, y_train, y_test = train_test_split(X.copy(), y)"
      ],
      "execution_count": 29,
      "outputs": []
    },
    {
      "cell_type": "code",
      "metadata": {
        "id": "8P4-OJfz41GH",
        "colab": {
          "base_uri": "https://localhost:8080/"
        },
        "outputId": "d3c3b3fd-f25f-4855-ede7-a8097124a25f"
      },
      "source": [
        "# Construct a Linear Regression Object & Fit to the training data\n",
        "lin = LinearRegression()\n",
        "lin.fit(X_train, y_train)"
      ],
      "execution_count": 30,
      "outputs": [
        {
          "output_type": "execute_result",
          "data": {
            "text/plain": [
              "LinearRegression(copy_X=True, fit_intercept=True, n_jobs=None, normalize=False)"
            ]
          },
          "metadata": {
            "tags": []
          },
          "execution_count": 30
        }
      ]
    },
    {
      "cell_type": "code",
      "metadata": {
        "id": "inz6oHFq5VFm"
      },
      "source": [
        "# Predict on the test dataset\n",
        "pred = lin.predict(X_test)"
      ],
      "execution_count": 31,
      "outputs": []
    },
    {
      "cell_type": "code",
      "metadata": {
        "id": "xAkoUh9z5Ykm",
        "colab": {
          "base_uri": "https://localhost:8080/"
        },
        "outputId": "021c3098-c37e-45ed-8f06-b4a320ac2bb9"
      },
      "source": [
        "# Compute the mean absolute error \n",
        "mean_absolute_error(y_test, pred)"
      ],
      "execution_count": 32,
      "outputs": [
        {
          "output_type": "execute_result",
          "data": {
            "text/plain": [
              "35.25548471385818"
            ]
          },
          "metadata": {
            "tags": []
          },
          "execution_count": 32
        }
      ]
    },
    {
      "cell_type": "code",
      "metadata": {
        "id": "e0inLhdNvcD2"
      },
      "source": [
        ""
      ],
      "execution_count": 32,
      "outputs": []
    }
  ]
}