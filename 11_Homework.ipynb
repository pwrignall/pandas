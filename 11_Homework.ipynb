{
  "nbformat": 4,
  "nbformat_minor": 0,
  "metadata": {
    "colab": {
      "name": "11_Homework.ipynb",
      "provenance": [],
      "collapsed_sections": [],
      "toc_visible": true,
      "authorship_tag": "ABX9TyPD6bFMgza2ioN6D7ozEpso",
      "include_colab_link": true
    },
    "kernelspec": {
      "name": "python3",
      "display_name": "Python 3"
    },
    "language_info": {
      "name": "python"
    }
  },
  "cells": [
    {
      "cell_type": "markdown",
      "metadata": {
        "id": "view-in-github",
        "colab_type": "text"
      },
      "source": [
        "<a href=\"https://colab.research.google.com/github/swilsonmfc/pandas/blob/main/11_Homework.ipynb\" target=\"_parent\"><img src=\"https://colab.research.google.com/assets/colab-badge.svg\" alt=\"Open In Colab\"/></a>"
      ]
    },
    {
      "cell_type": "markdown",
      "metadata": {
        "id": "-DznkOYb-mGF"
      },
      "source": [
        "# Lesson 11 - Homework"
      ]
    },
    {
      "cell_type": "markdown",
      "metadata": {
        "id": "SCDGDHR0-s7F"
      },
      "source": [
        "# Install"
      ]
    },
    {
      "cell_type": "code",
      "metadata": {
        "colab": {
          "base_uri": "https://localhost:8080/"
        },
        "id": "OrMyj7OvRlg0",
        "outputId": "3c2d7055-ef8e-4df8-9e12-302bb4c80a7c"
      },
      "source": [
        "!pip install geopandas\n",
        "!pip install rtree\n",
        "!pip install contextily"
      ],
      "execution_count": null,
      "outputs": [
        {
          "output_type": "stream",
          "name": "stdout",
          "text": [
            "Collecting geopandas\n",
            "  Downloading geopandas-0.9.0-py2.py3-none-any.whl (994 kB)\n",
            "\u001b[?25l\r\u001b[K     |▎                               | 10 kB 23.4 MB/s eta 0:00:01\r\u001b[K     |▋                               | 20 kB 9.5 MB/s eta 0:00:01\r\u001b[K     |█                               | 30 kB 8.2 MB/s eta 0:00:01\r\u001b[K     |█▎                              | 40 kB 7.4 MB/s eta 0:00:01\r\u001b[K     |█▋                              | 51 kB 5.5 MB/s eta 0:00:01\r\u001b[K     |██                              | 61 kB 5.4 MB/s eta 0:00:01\r\u001b[K     |██▎                             | 71 kB 4.8 MB/s eta 0:00:01\r\u001b[K     |██▋                             | 81 kB 5.4 MB/s eta 0:00:01\r\u001b[K     |███                             | 92 kB 5.3 MB/s eta 0:00:01\r\u001b[K     |███▎                            | 102 kB 5.2 MB/s eta 0:00:01\r\u001b[K     |███▋                            | 112 kB 5.2 MB/s eta 0:00:01\r\u001b[K     |████                            | 122 kB 5.2 MB/s eta 0:00:01\r\u001b[K     |████▎                           | 133 kB 5.2 MB/s eta 0:00:01\r\u001b[K     |████▋                           | 143 kB 5.2 MB/s eta 0:00:01\r\u001b[K     |█████                           | 153 kB 5.2 MB/s eta 0:00:01\r\u001b[K     |█████▎                          | 163 kB 5.2 MB/s eta 0:00:01\r\u001b[K     |█████▋                          | 174 kB 5.2 MB/s eta 0:00:01\r\u001b[K     |██████                          | 184 kB 5.2 MB/s eta 0:00:01\r\u001b[K     |██████▎                         | 194 kB 5.2 MB/s eta 0:00:01\r\u001b[K     |██████▋                         | 204 kB 5.2 MB/s eta 0:00:01\r\u001b[K     |███████                         | 215 kB 5.2 MB/s eta 0:00:01\r\u001b[K     |███████▎                        | 225 kB 5.2 MB/s eta 0:00:01\r\u001b[K     |███████▋                        | 235 kB 5.2 MB/s eta 0:00:01\r\u001b[K     |████████                        | 245 kB 5.2 MB/s eta 0:00:01\r\u001b[K     |████████▎                       | 256 kB 5.2 MB/s eta 0:00:01\r\u001b[K     |████████▋                       | 266 kB 5.2 MB/s eta 0:00:01\r\u001b[K     |█████████                       | 276 kB 5.2 MB/s eta 0:00:01\r\u001b[K     |█████████▎                      | 286 kB 5.2 MB/s eta 0:00:01\r\u001b[K     |█████████▌                      | 296 kB 5.2 MB/s eta 0:00:01\r\u001b[K     |█████████▉                      | 307 kB 5.2 MB/s eta 0:00:01\r\u001b[K     |██████████▏                     | 317 kB 5.2 MB/s eta 0:00:01\r\u001b[K     |██████████▌                     | 327 kB 5.2 MB/s eta 0:00:01\r\u001b[K     |██████████▉                     | 337 kB 5.2 MB/s eta 0:00:01\r\u001b[K     |███████████▏                    | 348 kB 5.2 MB/s eta 0:00:01\r\u001b[K     |███████████▌                    | 358 kB 5.2 MB/s eta 0:00:01\r\u001b[K     |███████████▉                    | 368 kB 5.2 MB/s eta 0:00:01\r\u001b[K     |████████████▏                   | 378 kB 5.2 MB/s eta 0:00:01\r\u001b[K     |████████████▌                   | 389 kB 5.2 MB/s eta 0:00:01\r\u001b[K     |████████████▉                   | 399 kB 5.2 MB/s eta 0:00:01\r\u001b[K     |█████████████▏                  | 409 kB 5.2 MB/s eta 0:00:01\r\u001b[K     |█████████████▌                  | 419 kB 5.2 MB/s eta 0:00:01\r\u001b[K     |█████████████▉                  | 430 kB 5.2 MB/s eta 0:00:01\r\u001b[K     |██████████████▏                 | 440 kB 5.2 MB/s eta 0:00:01\r\u001b[K     |██████████████▌                 | 450 kB 5.2 MB/s eta 0:00:01\r\u001b[K     |██████████████▉                 | 460 kB 5.2 MB/s eta 0:00:01\r\u001b[K     |███████████████▏                | 471 kB 5.2 MB/s eta 0:00:01\r\u001b[K     |███████████████▌                | 481 kB 5.2 MB/s eta 0:00:01\r\u001b[K     |███████████████▉                | 491 kB 5.2 MB/s eta 0:00:01\r\u001b[K     |████████████████▏               | 501 kB 5.2 MB/s eta 0:00:01\r\u001b[K     |████████████████▌               | 512 kB 5.2 MB/s eta 0:00:01\r\u001b[K     |████████████████▉               | 522 kB 5.2 MB/s eta 0:00:01\r\u001b[K     |█████████████████▏              | 532 kB 5.2 MB/s eta 0:00:01\r\u001b[K     |█████████████████▌              | 542 kB 5.2 MB/s eta 0:00:01\r\u001b[K     |█████████████████▉              | 552 kB 5.2 MB/s eta 0:00:01\r\u001b[K     |██████████████████▏             | 563 kB 5.2 MB/s eta 0:00:01\r\u001b[K     |██████████████████▌             | 573 kB 5.2 MB/s eta 0:00:01\r\u001b[K     |██████████████████▊             | 583 kB 5.2 MB/s eta 0:00:01\r\u001b[K     |███████████████████             | 593 kB 5.2 MB/s eta 0:00:01\r\u001b[K     |███████████████████▍            | 604 kB 5.2 MB/s eta 0:00:01\r\u001b[K     |███████████████████▊            | 614 kB 5.2 MB/s eta 0:00:01\r\u001b[K     |████████████████████            | 624 kB 5.2 MB/s eta 0:00:01\r\u001b[K     |████████████████████▍           | 634 kB 5.2 MB/s eta 0:00:01\r\u001b[K     |████████████████████▊           | 645 kB 5.2 MB/s eta 0:00:01\r\u001b[K     |█████████████████████           | 655 kB 5.2 MB/s eta 0:00:01\r\u001b[K     |█████████████████████▍          | 665 kB 5.2 MB/s eta 0:00:01\r\u001b[K     |█████████████████████▊          | 675 kB 5.2 MB/s eta 0:00:01\r\u001b[K     |██████████████████████          | 686 kB 5.2 MB/s eta 0:00:01\r\u001b[K     |██████████████████████▍         | 696 kB 5.2 MB/s eta 0:00:01\r\u001b[K     |██████████████████████▊         | 706 kB 5.2 MB/s eta 0:00:01\r\u001b[K     |███████████████████████         | 716 kB 5.2 MB/s eta 0:00:01\r\u001b[K     |███████████████████████▍        | 727 kB 5.2 MB/s eta 0:00:01\r\u001b[K     |███████████████████████▊        | 737 kB 5.2 MB/s eta 0:00:01\r\u001b[K     |████████████████████████        | 747 kB 5.2 MB/s eta 0:00:01\r\u001b[K     |████████████████████████▍       | 757 kB 5.2 MB/s eta 0:00:01\r\u001b[K     |████████████████████████▊       | 768 kB 5.2 MB/s eta 0:00:01\r\u001b[K     |█████████████████████████       | 778 kB 5.2 MB/s eta 0:00:01\r\u001b[K     |█████████████████████████▍      | 788 kB 5.2 MB/s eta 0:00:01\r\u001b[K     |█████████████████████████▊      | 798 kB 5.2 MB/s eta 0:00:01\r\u001b[K     |██████████████████████████      | 808 kB 5.2 MB/s eta 0:00:01\r\u001b[K     |██████████████████████████▍     | 819 kB 5.2 MB/s eta 0:00:01\r\u001b[K     |██████████████████████████▊     | 829 kB 5.2 MB/s eta 0:00:01\r\u001b[K     |███████████████████████████     | 839 kB 5.2 MB/s eta 0:00:01\r\u001b[K     |███████████████████████████▍    | 849 kB 5.2 MB/s eta 0:00:01\r\u001b[K     |███████████████████████████▊    | 860 kB 5.2 MB/s eta 0:00:01\r\u001b[K     |████████████████████████████    | 870 kB 5.2 MB/s eta 0:00:01\r\u001b[K     |████████████████████████████▎   | 880 kB 5.2 MB/s eta 0:00:01\r\u001b[K     |████████████████████████████▋   | 890 kB 5.2 MB/s eta 0:00:01\r\u001b[K     |█████████████████████████████   | 901 kB 5.2 MB/s eta 0:00:01\r\u001b[K     |█████████████████████████████▎  | 911 kB 5.2 MB/s eta 0:00:01\r\u001b[K     |█████████████████████████████▋  | 921 kB 5.2 MB/s eta 0:00:01\r\u001b[K     |██████████████████████████████  | 931 kB 5.2 MB/s eta 0:00:01\r\u001b[K     |██████████████████████████████▎ | 942 kB 5.2 MB/s eta 0:00:01\r\u001b[K     |██████████████████████████████▋ | 952 kB 5.2 MB/s eta 0:00:01\r\u001b[K     |███████████████████████████████ | 962 kB 5.2 MB/s eta 0:00:01\r\u001b[K     |███████████████████████████████▎| 972 kB 5.2 MB/s eta 0:00:01\r\u001b[K     |███████████████████████████████▋| 983 kB 5.2 MB/s eta 0:00:01\r\u001b[K     |████████████████████████████████| 993 kB 5.2 MB/s eta 0:00:01\r\u001b[K     |████████████████████████████████| 994 kB 5.2 MB/s \n",
            "\u001b[?25hRequirement already satisfied: pandas>=0.24.0 in /usr/local/lib/python3.7/dist-packages (from geopandas) (1.1.5)\n",
            "Collecting pyproj>=2.2.0\n",
            "  Downloading pyproj-3.2.1-cp37-cp37m-manylinux2010_x86_64.whl (6.3 MB)\n",
            "\u001b[K     |████████████████████████████████| 6.3 MB 38.0 MB/s \n",
            "\u001b[?25hRequirement already satisfied: shapely>=1.6 in /usr/local/lib/python3.7/dist-packages (from geopandas) (1.7.1)\n",
            "Collecting fiona>=1.8\n",
            "  Downloading Fiona-1.8.20-cp37-cp37m-manylinux1_x86_64.whl (15.4 MB)\n",
            "\u001b[K     |████████████████████████████████| 15.4 MB 38 kB/s \n",
            "\u001b[?25hRequirement already satisfied: click>=4.0 in /usr/local/lib/python3.7/dist-packages (from fiona>=1.8->geopandas) (7.1.2)\n",
            "Collecting cligj>=0.5\n",
            "  Downloading cligj-0.7.2-py3-none-any.whl (7.1 kB)\n",
            "Collecting munch\n",
            "  Downloading munch-2.5.0-py2.py3-none-any.whl (10 kB)\n",
            "Requirement already satisfied: certifi in /usr/local/lib/python3.7/dist-packages (from fiona>=1.8->geopandas) (2021.5.30)\n",
            "Requirement already satisfied: six>=1.7 in /usr/local/lib/python3.7/dist-packages (from fiona>=1.8->geopandas) (1.15.0)\n",
            "Requirement already satisfied: attrs>=17 in /usr/local/lib/python3.7/dist-packages (from fiona>=1.8->geopandas) (21.2.0)\n",
            "Requirement already satisfied: setuptools in /usr/local/lib/python3.7/dist-packages (from fiona>=1.8->geopandas) (57.4.0)\n",
            "Collecting click-plugins>=1.0\n",
            "  Downloading click_plugins-1.1.1-py2.py3-none-any.whl (7.5 kB)\n",
            "Requirement already satisfied: python-dateutil>=2.7.3 in /usr/local/lib/python3.7/dist-packages (from pandas>=0.24.0->geopandas) (2.8.2)\n",
            "Requirement already satisfied: pytz>=2017.2 in /usr/local/lib/python3.7/dist-packages (from pandas>=0.24.0->geopandas) (2018.9)\n",
            "Requirement already satisfied: numpy>=1.15.4 in /usr/local/lib/python3.7/dist-packages (from pandas>=0.24.0->geopandas) (1.19.5)\n",
            "Installing collected packages: munch, cligj, click-plugins, pyproj, fiona, geopandas\n",
            "Successfully installed click-plugins-1.1.1 cligj-0.7.2 fiona-1.8.20 geopandas-0.9.0 munch-2.5.0 pyproj-3.2.1\n",
            "Collecting rtree\n",
            "  Downloading Rtree-0.9.7-cp37-cp37m-manylinux2010_x86_64.whl (994 kB)\n",
            "\u001b[K     |████████████████████████████████| 994 kB 5.1 MB/s \n",
            "\u001b[?25hInstalling collected packages: rtree\n",
            "Successfully installed rtree-0.9.7\n",
            "Collecting contextily\n",
            "  Downloading contextily-1.1.0-py3-none-any.whl (24 kB)\n",
            "Collecting rasterio\n",
            "  Downloading rasterio-1.2.8-cp37-cp37m-manylinux1_x86_64.whl (19.3 MB)\n",
            "\u001b[K     |████████████████████████████████| 19.3 MB 1.3 MB/s \n",
            "\u001b[?25hRequirement already satisfied: requests in /usr/local/lib/python3.7/dist-packages (from contextily) (2.23.0)\n",
            "Collecting mercantile\n",
            "  Downloading mercantile-1.2.1-py3-none-any.whl (14 kB)\n",
            "Requirement already satisfied: matplotlib in /usr/local/lib/python3.7/dist-packages (from contextily) (3.2.2)\n",
            "Requirement already satisfied: geopy in /usr/local/lib/python3.7/dist-packages (from contextily) (1.17.0)\n",
            "Requirement already satisfied: joblib in /usr/local/lib/python3.7/dist-packages (from contextily) (1.0.1)\n",
            "Requirement already satisfied: pillow in /usr/local/lib/python3.7/dist-packages (from contextily) (7.1.2)\n",
            "Requirement already satisfied: geographiclib<2,>=1.49 in /usr/local/lib/python3.7/dist-packages (from geopy->contextily) (1.52)\n",
            "Requirement already satisfied: python-dateutil>=2.1 in /usr/local/lib/python3.7/dist-packages (from matplotlib->contextily) (2.8.2)\n",
            "Requirement already satisfied: cycler>=0.10 in /usr/local/lib/python3.7/dist-packages (from matplotlib->contextily) (0.10.0)\n",
            "Requirement already satisfied: numpy>=1.11 in /usr/local/lib/python3.7/dist-packages (from matplotlib->contextily) (1.19.5)\n",
            "Requirement already satisfied: pyparsing!=2.0.4,!=2.1.2,!=2.1.6,>=2.0.1 in /usr/local/lib/python3.7/dist-packages (from matplotlib->contextily) (2.4.7)\n",
            "Requirement already satisfied: kiwisolver>=1.0.1 in /usr/local/lib/python3.7/dist-packages (from matplotlib->contextily) (1.3.2)\n",
            "Requirement already satisfied: six in /usr/local/lib/python3.7/dist-packages (from cycler>=0.10->matplotlib->contextily) (1.15.0)\n",
            "Requirement already satisfied: click>=3.0 in /usr/local/lib/python3.7/dist-packages (from mercantile->contextily) (7.1.2)\n",
            "Requirement already satisfied: certifi in /usr/local/lib/python3.7/dist-packages (from rasterio->contextily) (2021.5.30)\n",
            "Requirement already satisfied: cligj>=0.5 in /usr/local/lib/python3.7/dist-packages (from rasterio->contextily) (0.7.2)\n",
            "Requirement already satisfied: attrs in /usr/local/lib/python3.7/dist-packages (from rasterio->contextily) (21.2.0)\n",
            "Collecting affine\n",
            "  Downloading affine-2.3.0-py2.py3-none-any.whl (15 kB)\n",
            "Requirement already satisfied: click-plugins in /usr/local/lib/python3.7/dist-packages (from rasterio->contextily) (1.1.1)\n",
            "Requirement already satisfied: setuptools in /usr/local/lib/python3.7/dist-packages (from rasterio->contextily) (57.4.0)\n",
            "Collecting snuggs>=1.4.1\n",
            "  Downloading snuggs-1.4.7-py3-none-any.whl (5.4 kB)\n",
            "Requirement already satisfied: urllib3!=1.25.0,!=1.25.1,<1.26,>=1.21.1 in /usr/local/lib/python3.7/dist-packages (from requests->contextily) (1.24.3)\n",
            "Requirement already satisfied: idna<3,>=2.5 in /usr/local/lib/python3.7/dist-packages (from requests->contextily) (2.10)\n",
            "Requirement already satisfied: chardet<4,>=3.0.2 in /usr/local/lib/python3.7/dist-packages (from requests->contextily) (3.0.4)\n",
            "Installing collected packages: snuggs, affine, rasterio, mercantile, contextily\n",
            "Successfully installed affine-2.3.0 contextily-1.1.0 mercantile-1.2.1 rasterio-1.2.8 snuggs-1.4.7\n"
          ]
        }
      ]
    },
    {
      "cell_type": "markdown",
      "metadata": {
        "id": "CgUAWgoD-rDY"
      },
      "source": [
        "# Setup"
      ]
    },
    {
      "cell_type": "code",
      "metadata": {
        "colab": {
          "base_uri": "https://localhost:8080/"
        },
        "id": "DdNWhf7qRojz",
        "outputId": "392b7b98-f3c8-46b9-f9e1-156cee144d54"
      },
      "source": [
        "import pandas as pd\n",
        "import numpy as np\n",
        "import matplotlib.pyplot as plt\n",
        "import seaborn as sns\n",
        "\n",
        "import geopandas\n",
        "import contextily as ctx\n",
        "\n",
        "from sklearn.datasets import load_boston\n",
        "from sklearn.preprocessing import StandardScaler\n",
        "from sklearn.compose import ColumnTransformer\n",
        "from sklearn.cluster import KMeans\n",
        "\n",
        "from yellowbrick.cluster import KElbowVisualizer\n",
        "\n",
        "from mpl_toolkits.axes_grid1 import make_axes_locatable"
      ],
      "execution_count": null,
      "outputs": [
        {
          "output_type": "stream",
          "name": "stderr",
          "text": [
            "/usr/local/lib/python3.7/dist-packages/sklearn/utils/deprecation.py:144: FutureWarning: The sklearn.metrics.classification module is  deprecated in version 0.22 and will be removed in version 0.24. The corresponding classes / functions should instead be imported from sklearn.metrics. Anything that cannot be imported from sklearn.metrics is now part of the private API.\n",
            "  warnings.warn(message, FutureWarning)\n"
          ]
        }
      ]
    },
    {
      "cell_type": "markdown",
      "metadata": {
        "id": "JqISQlKIr7Q_"
      },
      "source": [
        "# Geography"
      ]
    },
    {
      "cell_type": "markdown",
      "metadata": {
        "id": "zlIUFRWJc01t"
      },
      "source": [
        "## Crash Data"
      ]
    },
    {
      "cell_type": "code",
      "metadata": {
        "colab": {
          "base_uri": "https://localhost:8080/"
        },
        "id": "aCPFfOxJc2Hb",
        "outputId": "03f85d14-93a8-406b-91f1-32ad66a59ae4"
      },
      "source": [
        "!wget -O crash.json https://data.townofcary.org/api/v2/catalog/datasets/cpd-crash-incidents/exports/geojson "
      ],
      "execution_count": null,
      "outputs": [
        {
          "output_type": "stream",
          "name": "stdout",
          "text": [
            "--2021-09-30 09:09:31--  https://data.townofcary.org/api/v2/catalog/datasets/cpd-crash-incidents/exports/geojson\n",
            "Resolving data.townofcary.org (data.townofcary.org)... 52.1.105.32, 34.196.27.91\n",
            "Connecting to data.townofcary.org (data.townofcary.org)|52.1.105.32|:443... connected.\n",
            "HTTP request sent, awaiting response... 200 OK\n",
            "Length: unspecified [application/json]\n",
            "Saving to: ‘crash.json’\n",
            "\n",
            "crash.json              [                <=> ]  28.87M  1.56MB/s    in 19s     \n",
            "\n",
            "2021-09-30 09:09:51 (1.50 MB/s) - ‘crash.json’ saved [30274938]\n",
            "\n"
          ]
        }
      ]
    },
    {
      "cell_type": "code",
      "metadata": {
        "id": "KPnAyjqnc_do"
      },
      "source": [
        "crash_df = geopandas.read_file('crash.json')"
      ],
      "execution_count": null,
      "outputs": []
    },
    {
      "cell_type": "code",
      "metadata": {
        "id": "hMLeSBCNePEw"
      },
      "source": [
        "crash_df.dtypes"
      ],
      "execution_count": null,
      "outputs": []
    },
    {
      "cell_type": "code",
      "metadata": {
        "id": "pK9DWrmpeeRP"
      },
      "source": [
        "crash_df[['lat', 'lon', 'month', 'weather', 'vehicle1', 'geometry']]"
      ],
      "execution_count": null,
      "outputs": []
    },
    {
      "cell_type": "code",
      "metadata": {
        "id": "lmfCC_ipf1JB"
      },
      "source": [
        "# Plot Crashes\n"
      ],
      "execution_count": null,
      "outputs": []
    },
    {
      "cell_type": "code",
      "metadata": {
        "id": "S5wFk4wug1Hk"
      },
      "source": [
        "# Plot Fatalities (fatality field)\n"
      ],
      "execution_count": null,
      "outputs": []
    },
    {
      "cell_type": "code",
      "metadata": {
        "id": "qFieoi354KaY"
      },
      "source": [
        "# Plot & color by Road Conditions (rdcondition) on map\n"
      ],
      "execution_count": null,
      "outputs": []
    },
    {
      "cell_type": "markdown",
      "metadata": {
        "id": "N187-sCWf4Kg"
      },
      "source": [
        "## Residential Zones"
      ]
    },
    {
      "cell_type": "code",
      "metadata": {
        "colab": {
          "base_uri": "https://localhost:8080/"
        },
        "id": "O9bzKya5f-or",
        "outputId": "fd83c62f-19b1-46bb-8250-6bb3593208b1"
      },
      "source": [
        "!wget -O zones.json https://data.townofcary.org/explore/dataset/httpmapstownofcary0/download/?format=geojson&timezone=America/New_York&lang=en"
      ],
      "execution_count": null,
      "outputs": [
        {
          "output_type": "stream",
          "name": "stdout",
          "text": [
            "--2021-09-30 09:10:01--  https://data.townofcary.org/explore/dataset/httpmapstownofcary0/download/?format=geojson\n",
            "Resolving data.townofcary.org (data.townofcary.org)... 52.1.105.32, 34.196.27.91\n",
            "Connecting to data.townofcary.org (data.townofcary.org)|52.1.105.32|:443... connected.\n",
            "HTTP request sent, awaiting response... 200 OK\n",
            "Length: unspecified [application/json]\n",
            "Saving to: ‘zones.json’\n",
            "\n",
            "zones.json              [ <=>                ]   2.67M  --.-KB/s    in 0.1s    \n",
            "\n",
            "2021-09-30 09:10:02 (18.3 MB/s) - ‘zones.json’ saved [2800775]\n",
            "\n"
          ]
        }
      ]
    },
    {
      "cell_type": "code",
      "metadata": {
        "id": "prlP73s2gIM6"
      },
      "source": [
        "zones_df = geopandas.read_file('zones.json')"
      ],
      "execution_count": null,
      "outputs": []
    },
    {
      "cell_type": "code",
      "metadata": {
        "id": "nOGnETkE8Cqz"
      },
      "source": [
        "zones_df = zones_df.dropna()\n",
        "zones_df = zones_df[zones_df.approvedlots > 0]"
      ],
      "execution_count": null,
      "outputs": []
    },
    {
      "cell_type": "code",
      "metadata": {
        "id": "JxakjRrogNYs"
      },
      "source": [
        "zones_df.dtypes"
      ],
      "execution_count": null,
      "outputs": []
    },
    {
      "cell_type": "code",
      "metadata": {
        "id": "_Og2DxragPhN"
      },
      "source": [
        "zones_df"
      ],
      "execution_count": null,
      "outputs": []
    },
    {
      "cell_type": "code",
      "metadata": {
        "id": "LS5g7JnNgR1D"
      },
      "source": [
        "zones_df.plot(figsize=(10, 10))"
      ],
      "execution_count": null,
      "outputs": []
    },
    {
      "cell_type": "code",
      "metadata": {
        "id": "4q5KR1Ui5o57"
      },
      "source": [
        "# Plot zones, color by number of lots (shape_starea / approvedlots)\n"
      ],
      "execution_count": null,
      "outputs": []
    },
    {
      "cell_type": "code",
      "metadata": {
        "id": "__5eLYX6553l"
      },
      "source": [
        "# Plot zones, color by density (approvedlots)\n"
      ],
      "execution_count": null,
      "outputs": []
    },
    {
      "cell_type": "markdown",
      "metadata": {
        "id": "Dn-dqyjjaI6a"
      },
      "source": [
        "## Joining"
      ]
    },
    {
      "cell_type": "code",
      "metadata": {
        "id": "NgGi0oaug24O"
      },
      "source": [
        "# Spatial Join - Crashes to Residential Zones\n"
      ],
      "execution_count": null,
      "outputs": []
    },
    {
      "cell_type": "code",
      "metadata": {
        "id": "U08cOTkoqMcw"
      },
      "source": [
        "# Find top 10 zones with crashes using groupby\n"
      ],
      "execution_count": null,
      "outputs": []
    },
    {
      "cell_type": "code",
      "metadata": {
        "id": "EncJJmFhv3nN"
      },
      "source": [
        "# Change Projection to EPSG:3857\n"
      ],
      "execution_count": null,
      "outputs": []
    },
    {
      "cell_type": "code",
      "metadata": {
        "id": "Hv-OTv9RqFbd"
      },
      "source": [
        "# Plot with basemap\n"
      ],
      "execution_count": null,
      "outputs": []
    },
    {
      "cell_type": "markdown",
      "metadata": {
        "id": "Zi58BGscc545"
      },
      "source": [
        "# Clustering"
      ]
    },
    {
      "cell_type": "markdown",
      "metadata": {
        "id": "rA9aQugE-rjC"
      },
      "source": [
        "## Data"
      ]
    },
    {
      "cell_type": "code",
      "metadata": {
        "id": "FC8XRxGr-zJ8"
      },
      "source": [
        "boston = load_boston()\n",
        "boston_df = pd.DataFrame(boston['data']) \n",
        "boston_df.columns = boston['feature_names']\n",
        "boston_df['PRICE'] = boston['target']\n",
        "boston_df"
      ],
      "execution_count": null,
      "outputs": []
    },
    {
      "cell_type": "markdown",
      "metadata": {
        "id": "5ye8pgm0cRGY"
      },
      "source": [
        "## Preprocessing"
      ]
    },
    {
      "cell_type": "code",
      "metadata": {
        "id": "hFZSXbn_dAak"
      },
      "source": [
        "# Grab Price and Age\n",
        "cluster_df = boston_df[['PRICE', 'INDUS']].copy()"
      ],
      "execution_count": null,
      "outputs": []
    },
    {
      "cell_type": "code",
      "metadata": {
        "id": "aIo20Ujlnhw4"
      },
      "source": [
        "# Plot\n",
        "plt.figure(figsize=(8, 8))\n",
        "sns.scatterplot(x=cluster_df.INDUS, y=cluster_df.PRICE)"
      ],
      "execution_count": null,
      "outputs": []
    },
    {
      "cell_type": "code",
      "metadata": {
        "id": "6RUBXk_bnm-3"
      },
      "source": [
        "# Standardize\n"
      ],
      "execution_count": null,
      "outputs": []
    },
    {
      "cell_type": "markdown",
      "metadata": {
        "id": "SMuTim7Frwe3"
      },
      "source": [
        "## Cluster"
      ]
    },
    {
      "cell_type": "code",
      "metadata": {
        "id": "PNs5v88Gof7Z"
      },
      "source": [
        "# Run KMeans of 3 clusters\n"
      ],
      "execution_count": null,
      "outputs": []
    },
    {
      "cell_type": "code",
      "metadata": {
        "id": "cOHElH86o89k"
      },
      "source": [
        "# Get the assigned clusters\n"
      ],
      "execution_count": null,
      "outputs": []
    },
    {
      "cell_type": "code",
      "metadata": {
        "id": "KdMg1iUIo909"
      },
      "source": [
        "# Plot clusters\n"
      ],
      "execution_count": null,
      "outputs": []
    },
    {
      "cell_type": "markdown",
      "metadata": {
        "id": "HO2mQ4RXrzTk"
      },
      "source": [
        "## Find K"
      ]
    },
    {
      "cell_type": "code",
      "metadata": {
        "id": "Upl7SDaOpBmq"
      },
      "source": [
        "# Use Yellowbrick to find an optimal number of clusters between 3 and 15\n",
        "        # Finalize and render the figure"
      ],
      "execution_count": null,
      "outputs": []
    },
    {
      "cell_type": "code",
      "metadata": {
        "id": "jHcd9P92qmmx"
      },
      "source": [
        "# Cluster and plot at the elbow\n"
      ],
      "execution_count": null,
      "outputs": []
    },
    {
      "cell_type": "code",
      "metadata": {
        "id": "M8MRXYbSrOgk"
      },
      "source": [
        ""
      ],
      "execution_count": null,
      "outputs": []
    }
  ]
}