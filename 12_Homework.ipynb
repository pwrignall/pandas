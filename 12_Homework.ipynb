{
  "nbformat": 4,
  "nbformat_minor": 0,
  "metadata": {
    "colab": {
      "name": "12_Homework.ipynb",
      "provenance": [],
      "collapsed_sections": [],
      "toc_visible": true,
      "authorship_tag": "ABX9TyNAadUgxfvPWZtWpcVha/q6",
      "include_colab_link": true
    },
    "kernelspec": {
      "name": "python3",
      "display_name": "Python 3"
    },
    "language_info": {
      "name": "python"
    }
  },
  "cells": [
    {
      "cell_type": "markdown",
      "metadata": {
        "id": "view-in-github",
        "colab_type": "text"
      },
      "source": [
        "<a href=\"https://colab.research.google.com/github/swilsonmfc/pandas/blob/main/12_Homework.ipynb\" target=\"_parent\"><img src=\"https://colab.research.google.com/assets/colab-badge.svg\" alt=\"Open In Colab\"/></a>"
      ]
    },
    {
      "cell_type": "markdown",
      "metadata": {
        "id": "uDPgo29LGYut"
      },
      "source": [
        "# 12 Homework"
      ]
    },
    {
      "cell_type": "markdown",
      "metadata": {
        "id": "Ynlc0JDaGiaT"
      },
      "source": [
        "# Install"
      ]
    },
    {
      "cell_type": "code",
      "metadata": {
        "id": "FFnWmwBvGiiX"
      },
      "source": [
        "!pip install pycaret\n",
        "!pip install shap"
      ],
      "execution_count": null,
      "outputs": []
    },
    {
      "cell_type": "markdown",
      "metadata": {
        "id": "b7X_igCGGkM3"
      },
      "source": [
        "# Setup"
      ]
    },
    {
      "cell_type": "code",
      "metadata": {
        "id": "ksNHUbBvGpxs"
      },
      "source": [
        "import pandas as pd\n",
        "import numpy as np\n",
        "import matplotlib.pyplot as plt\n",
        "import seaborn as sns\n",
        "\n",
        "from sklearn.decomposition import PCA\n",
        "from sklearn.datasets import load_digits\n",
        "from sklearn.datasets import make_blobs\n",
        "from sklearn.linear_model import LogisticRegression\n",
        "from sklearn.model_selection import train_test_split\n",
        "from sklearn.preprocessing import StandardScaler\n",
        "from sklearn.metrics import accuracy_score\n",
        "\n",
        "from pycaret.classification import *\n",
        "from pycaret.datasets import get_data"
      ],
      "execution_count": null,
      "outputs": []
    },
    {
      "cell_type": "markdown",
      "metadata": {
        "id": "TFud9B5lGshq"
      },
      "source": [
        "# Vectorize"
      ]
    },
    {
      "cell_type": "code",
      "metadata": {
        "id": "xo_DIpjbYDEr"
      },
      "source": [
        "# Make a fake dataset\n",
        "X, y = make_blobs(n_samples=10_000_000, n_features=10)\n",
        "np.savetxt('out.csv', X, delimiter=',')"
      ],
      "execution_count": null,
      "outputs": []
    },
    {
      "cell_type": "code",
      "metadata": {
        "id": "vsGCUsgDefUh"
      },
      "source": [
        "# Assign to Frame & Name columns\n",
        "X_df = pd.DataFrame(X)\n",
        "X_df.columns = [f'col_{i}' for i in range(10)]"
      ],
      "execution_count": null,
      "outputs": []
    },
    {
      "cell_type": "code",
      "metadata": {
        "id": "F8VrbIy6gBZn"
      },
      "source": [
        "# Change the following statement to vectorized\n",
        "def complex(row):\n",
        "  value = row['col_0'] * row['col_1'] + row['col_2'] - row['col_3']\n",
        "  if value > 0:\n",
        "    return 1\n",
        "  return -1\n",
        "\n",
        "# Apply first \n",
        "sample = X_df[0:1000].apply(complex, axis=1)"
      ],
      "execution_count": null,
      "outputs": []
    },
    {
      "cell_type": "code",
      "metadata": {
        "id": "u8RCR78gg8l7"
      },
      "source": [
        "# Vectorize into a column called complex\n"
      ],
      "execution_count": null,
      "outputs": []
    },
    {
      "cell_type": "markdown",
      "metadata": {
        "id": "s09PUW0MG1I-"
      },
      "source": [
        "# Data Types"
      ]
    },
    {
      "cell_type": "code",
      "metadata": {
        "id": "LG_M1fcXYMxW"
      },
      "source": [
        "# Measure memory of X_df\n"
      ],
      "execution_count": null,
      "outputs": []
    },
    {
      "cell_type": "code",
      "metadata": {
        "id": "zYakAlUbYSOG"
      },
      "source": [
        "# Convert float64 columns to np.float32\n"
      ],
      "execution_count": null,
      "outputs": []
    },
    {
      "cell_type": "code",
      "metadata": {
        "id": "VE7FnY5nYgbb"
      },
      "source": [
        "# Measure memory\n"
      ],
      "execution_count": null,
      "outputs": []
    },
    {
      "cell_type": "markdown",
      "metadata": {
        "id": "XFAk6KFNY9mN"
      },
      "source": [
        "# Chunking"
      ]
    },
    {
      "cell_type": "code",
      "metadata": {
        "id": "e6k09AzeY7HK"
      },
      "source": [
        "# Produce a sum of each column using chunking (1,000,000 rows per chunk)\n",
        "sums = []\n",
        "chunks = pd.read_csv('out.csv', chunksize=1_000_000)\n"
      ],
      "execution_count": null,
      "outputs": []
    },
    {
      "cell_type": "markdown",
      "metadata": {
        "id": "nrnhDeYOpmQD"
      },
      "source": [
        "# Parquet"
      ]
    },
    {
      "cell_type": "code",
      "metadata": {
        "id": "hffyEpNgpdOS"
      },
      "source": [
        "# Save as parquet\n"
      ],
      "execution_count": null,
      "outputs": []
    },
    {
      "cell_type": "code",
      "metadata": {
        "id": "ciMcxp0AplaE"
      },
      "source": [
        "# Compare file sizes\n",
        "!ls -al"
      ],
      "execution_count": null,
      "outputs": []
    },
    {
      "cell_type": "code",
      "metadata": {
        "id": "voDCNZxkpr9J"
      },
      "source": [
        "# Time reading as csv\n",
        "%%timeit -n1 -r1\n"
      ],
      "execution_count": null,
      "outputs": []
    },
    {
      "cell_type": "code",
      "metadata": {
        "id": "OBD-AM95pz2K"
      },
      "source": [
        "# Time reading as parquet\n",
        "%%timeit -n1 -r1\n"
      ],
      "execution_count": null,
      "outputs": []
    },
    {
      "cell_type": "markdown",
      "metadata": {
        "id": "CZFoYfneGt2k"
      },
      "source": [
        "# PCA"
      ]
    },
    {
      "cell_type": "code",
      "metadata": {
        "id": "f09rBmusDk-O"
      },
      "source": [
        "# Pull Credit Data\n",
        "credit_df = get_data('credit')"
      ],
      "execution_count": null,
      "outputs": []
    },
    {
      "cell_type": "code",
      "metadata": {
        "id": "p-3coSz6HD_7"
      },
      "source": [
        "# What's the shape (rows & columns)\n"
      ],
      "execution_count": null,
      "outputs": []
    },
    {
      "cell_type": "code",
      "metadata": {
        "id": "Vsgo8ULKIZU1"
      },
      "source": [
        "# How are the features correlated?\n"
      ],
      "execution_count": null,
      "outputs": []
    },
    {
      "cell_type": "code",
      "metadata": {
        "id": "Q7pjzS-ZJWG7"
      },
      "source": [
        "# Scale the data\n",
        "X = credit_df.copy()\n",
        "y = X.pop('default')\n",
        "\n",
        "scaler = StandardScaler()\n"
      ],
      "execution_count": null,
      "outputs": []
    },
    {
      "cell_type": "code",
      "metadata": {
        "id": "t6CpXFh1IuBi"
      },
      "source": [
        "# Fit PCA\n",
        "pca = PCA()\n"
      ],
      "execution_count": null,
      "outputs": []
    },
    {
      "cell_type": "code",
      "metadata": {
        "id": "E5yEtbDsPP2l"
      },
      "source": [
        "# How many components to get 80% explained?\n"
      ],
      "execution_count": null,
      "outputs": []
    },
    {
      "cell_type": "code",
      "metadata": {
        "id": "a9WiW3KBok_n"
      },
      "source": [
        "# Plot cumulative variance explained\n"
      ],
      "execution_count": null,
      "outputs": []
    },
    {
      "cell_type": "code",
      "metadata": {
        "id": "_3f7cnADWeXh"
      },
      "source": [
        "# Build a PCA model with 10 components\n"
      ],
      "execution_count": null,
      "outputs": []
    },
    {
      "cell_type": "markdown",
      "metadata": {
        "id": "P_9skC6TGunz"
      },
      "source": [
        "# PyCaret"
      ]
    },
    {
      "cell_type": "code",
      "metadata": {
        "id": "6DBfruxVj49X"
      },
      "source": [
        "# Reuse the credit_df dataframe.\n",
        "# Notice that the dataset isn't balanced\n",
        "credit_df.groupby('default').size()"
      ],
      "execution_count": null,
      "outputs": []
    },
    {
      "cell_type": "code",
      "metadata": {
        "id": "Rf47tTbSWczf"
      },
      "source": [
        "# Perform setup:\n",
        "#   The target column is \"default\"\n",
        "#   Use fix_imbalance=True\n",
        "#   Normalize the data\n",
        "clf = setup(credit_df, 'default', fix_imbalance=True, normalize=True)"
      ],
      "execution_count": null,
      "outputs": []
    },
    {
      "cell_type": "code",
      "metadata": {
        "id": "2EOUBLs8WssC"
      },
      "source": [
        "# Compare models on the dataset ~ 10 minutes\n"
      ],
      "execution_count": null,
      "outputs": []
    },
    {
      "cell_type": "code",
      "metadata": {
        "id": "lKSJbj9EXUAm"
      },
      "source": [
        "# Create a Logistic Regression Model\n",
        "# There may be better performing models, stick to those you're familiar with or research them well!\n"
      ],
      "execution_count": null,
      "outputs": []
    },
    {
      "cell_type": "code",
      "metadata": {
        "id": "hpQFOjdaXP13"
      },
      "source": [
        "# Tune Model\n"
      ],
      "execution_count": null,
      "outputs": []
    },
    {
      "cell_type": "code",
      "metadata": {
        "id": "1wa6w5UvXiKE"
      },
      "source": [
        "# Plot Confusion Matrix - What is the kind of error it's mostly making?\n"
      ],
      "execution_count": null,
      "outputs": []
    },
    {
      "cell_type": "code",
      "metadata": {
        "id": "4cYqf6SKXpCB"
      },
      "source": [
        "# Predict on test data\n"
      ],
      "execution_count": null,
      "outputs": []
    },
    {
      "cell_type": "code",
      "metadata": {
        "id": "NA3sew2tYqWI"
      },
      "source": [
        ""
      ],
      "execution_count": null,
      "outputs": []
    }
  ]
}