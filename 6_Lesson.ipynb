{
  "nbformat": 4,
  "nbformat_minor": 0,
  "metadata": {
    "colab": {
      "name": "6_Lesson.ipynb",
      "provenance": [],
      "collapsed_sections": [],
      "toc_visible": true,
      "authorship_tag": "ABX9TyMQY9FRUKOg7OKbgKMfO+cY",
      "include_colab_link": true
    },
    "kernelspec": {
      "name": "python3",
      "display_name": "Python 3"
    },
    "language_info": {
      "name": "python"
    }
  },
  "cells": [
    {
      "cell_type": "markdown",
      "metadata": {
        "id": "view-in-github",
        "colab_type": "text"
      },
      "source": [
        "<a href=\"https://colab.research.google.com/github/swilsonmfc/pandas/blob/main/6_Lesson.ipynb\" target=\"_parent\"><img src=\"https://colab.research.google.com/assets/colab-badge.svg\" alt=\"Open In Colab\"/></a>"
      ]
    },
    {
      "cell_type": "markdown",
      "metadata": {
        "id": "xUn9oCBMDrWu"
      },
      "source": [
        "# Data Cleaning"
      ]
    },
    {
      "cell_type": "markdown",
      "metadata": {
        "id": "_owoe6CwDwvR"
      },
      "source": [
        "# Setup"
      ]
    },
    {
      "cell_type": "code",
      "metadata": {
        "id": "bpxNOFf1D_hg"
      },
      "source": [
        "import pandas as pd\n",
        "import numpy as np\n",
        "import matplotlib.pyplot as plt\n",
        "import seaborn as sns\n",
        "from scipy import stats\n",
        "from scipy.stats import mstats\n",
        "from sklearn.experimental import enable_iterative_imputer\n",
        "from sklearn.impute import IterativeImputer"
      ],
      "execution_count": 1,
      "outputs": []
    },
    {
      "cell_type": "markdown",
      "metadata": {
        "id": "DPfYOjzMDxtS"
      },
      "source": [
        "# Data"
      ]
    },
    {
      "cell_type": "code",
      "metadata": {
        "colab": {
          "base_uri": "https://localhost:8080/"
        },
        "id": "fRs5Q52zEKJ2",
        "outputId": "bbd7acde-680b-4247-de18-2b68b8788fad"
      },
      "source": [
        "!wget https://archive.ics.uci.edu/ml/machine-learning-databases/thyroid-disease/allbp.names"
      ],
      "execution_count": 2,
      "outputs": [
        {
          "output_type": "stream",
          "text": [
            "--2021-06-23 13:06:38--  https://archive.ics.uci.edu/ml/machine-learning-databases/thyroid-disease/allbp.names\n",
            "Resolving archive.ics.uci.edu (archive.ics.uci.edu)... 128.195.10.252\n",
            "Connecting to archive.ics.uci.edu (archive.ics.uci.edu)|128.195.10.252|:443... connected.\n",
            "HTTP request sent, awaiting response... 200 OK\n",
            "Length: 866 [application/x-httpd-php]\n",
            "Saving to: ‘allbp.names’\n",
            "\n",
            "allbp.names         100%[===================>]     866  --.-KB/s    in 0s      \n",
            "\n",
            "2021-06-23 13:06:38 (26.9 MB/s) - ‘allbp.names’ saved [866/866]\n",
            "\n"
          ],
          "name": "stdout"
        }
      ]
    },
    {
      "cell_type": "code",
      "metadata": {
        "colab": {
          "base_uri": "https://localhost:8080/"
        },
        "id": "UDkQ_WSCEd7d",
        "outputId": "d1e7b75e-7d5d-4933-a1e8-ab835563e654"
      },
      "source": [
        "!cat allbp.names"
      ],
      "execution_count": 3,
      "outputs": [
        {
          "output_type": "stream",
          "text": [
            ";\n",
            "; Thyroid disease records supplied by the Garavan Institute and J. Ross\n",
            "; Quinlan, New South Wales Institute, Syndney, Australia.\n",
            ";\n",
            "; 1987.\n",
            ";\n",
            "\n",
            "increased binding protein, decreased binding protein,\n",
            "negative.\t\t\t|  classes\n",
            "\n",
            "age:\t\t\t\tcontinuous.\n",
            "sex:\t\t\t\tM, F.\n",
            "on thyroxine:\t\t\tf, t.\n",
            "query on thyroxine:\t\tf, t.\n",
            "on antithyroid medication:\tf, t.\n",
            "sick:\t\t\t\tf, t.\n",
            "pregnant:\t\t\tf, t.\n",
            "thyroid surgery:\t\tf, t.\n",
            "I131 treatment:\t\t\tf, t.\n",
            "query hypothyroid:\t\tf, t.\n",
            "query hyperthyroid:\t\tf, t.\n",
            "lithium:\t\t\tf, t.\n",
            "goitre:\t\t\t\tf, t.\n",
            "tumor:\t\t\t\tf, t.\n",
            "hypopituitary:\t\t\tf, t.\n",
            "psych:\t\t\t\tf, t.\n",
            "TSH measured:\t\t\tf, t.\n",
            "TSH:\t\t\t\tcontinuous.\n",
            "T3 measured:\t\t\tf, t.\n",
            "T3:\t\t\t\tcontinuous.\n",
            "TT4 measured:\t\t\tf, t.\n",
            "TT4:\t\t\t\tcontinuous.\n",
            "T4U measured:\t\t\tf, t.\n",
            "T4U:\t\t\t\tcontinuous.\n",
            "FTI measured:\t\t\tf, t.\n",
            "FTI:\t\t\t\tcontinuous.\n",
            "TBG measured:\t\t\tf, t.\n",
            "TBG:\t\t\t\tcontinuous.\n",
            "referral source:\t\tWEST, STMW, SVHC, SVI, SVHD, other.\n"
          ],
          "name": "stdout"
        }
      ]
    },
    {
      "cell_type": "code",
      "metadata": {
        "id": "WtLlT0E7Emc4"
      },
      "source": [
        "names = [\n",
        "'age',\n",
        "'sex',\n",
        "'on_thyroxine',\n",
        "'query_on_thyroxine',\n",
        "'on_antithyroid',\n",
        "'sick',\n",
        "'pregnant',\n",
        "'thyroid_surgery',\n",
        "'I131_treatment',\n",
        "'query_hypothyroid',\n",
        "'query_hyperthyroid',\n",
        "'lithium',\n",
        "'goitre',\n",
        "'tumor',\n",
        "'hypopituitary',\n",
        "'psych',\n",
        "'TSH_measured',\n",
        "'TSH',\n",
        "'T3_measured',\n",
        "'T3',\n",
        "'TT4_measured',\n",
        "'TT4',\n",
        "'T4U_measured',\n",
        "'T4U',\n",
        "'FTI_measured',\n",
        "'FTI',\n",
        "'TBG_measured',\n",
        "'TBG',\n",
        "'referral_source', \n",
        "'target'\n",
        "]"
      ],
      "execution_count": 4,
      "outputs": []
    },
    {
      "cell_type": "code",
      "metadata": {
        "id": "egFP9wGgEFyE"
      },
      "source": [
        "df = pd.read_csv('https://archive.ics.uci.edu/ml/machine-learning-databases/thyroid-disease/allbp.data', names=names)"
      ],
      "execution_count": 5,
      "outputs": []
    },
    {
      "cell_type": "markdown",
      "metadata": {
        "id": "UVdWqAYuTGEc"
      },
      "source": [
        "# Overview"
      ]
    },
    {
      "cell_type": "code",
      "metadata": {
        "colab": {
          "base_uri": "https://localhost:8080/"
        },
        "id": "F-w4SSyGTHpc",
        "outputId": "c1dc18a6-cfae-42e6-c89e-f59dc5f78ff8"
      },
      "source": [
        "# Small dataset\n",
        "df.shape"
      ],
      "execution_count": 6,
      "outputs": [
        {
          "output_type": "execute_result",
          "data": {
            "text/plain": [
              "(2800, 30)"
            ]
          },
          "metadata": {
            "tags": []
          },
          "execution_count": 6
        }
      ]
    },
    {
      "cell_type": "code",
      "metadata": {
        "colab": {
          "base_uri": "https://localhost:8080/"
        },
        "id": "lQ-DT3BiT_2m",
        "outputId": "539c7974-e5c8-419c-a9bf-d87bdc6a1100"
      },
      "source": [
        "# All strings\n",
        "df.dtypes"
      ],
      "execution_count": 7,
      "outputs": [
        {
          "output_type": "execute_result",
          "data": {
            "text/plain": [
              "age                   object\n",
              "sex                   object\n",
              "on_thyroxine          object\n",
              "query_on_thyroxine    object\n",
              "on_antithyroid        object\n",
              "sick                  object\n",
              "pregnant              object\n",
              "thyroid_surgery       object\n",
              "I131_treatment        object\n",
              "query_hypothyroid     object\n",
              "query_hyperthyroid    object\n",
              "lithium               object\n",
              "goitre                object\n",
              "tumor                 object\n",
              "hypopituitary         object\n",
              "psych                 object\n",
              "TSH_measured          object\n",
              "TSH                   object\n",
              "T3_measured           object\n",
              "T3                    object\n",
              "TT4_measured          object\n",
              "TT4                   object\n",
              "T4U_measured          object\n",
              "T4U                   object\n",
              "FTI_measured          object\n",
              "FTI                   object\n",
              "TBG_measured          object\n",
              "TBG                   object\n",
              "referral_source       object\n",
              "target                object\n",
              "dtype: object"
            ]
          },
          "metadata": {
            "tags": []
          },
          "execution_count": 7
        }
      ]
    },
    {
      "cell_type": "code",
      "metadata": {
        "colab": {
          "base_uri": "https://localhost:8080/",
          "height": 186
        },
        "id": "dlaewI5qT0BC",
        "outputId": "1b0eea13-c76f-4574-d928-19f5f9187f70"
      },
      "source": [
        "df.describe()"
      ],
      "execution_count": 8,
      "outputs": [
        {
          "output_type": "execute_result",
          "data": {
            "text/html": [
              "<div>\n",
              "<style scoped>\n",
              "    .dataframe tbody tr th:only-of-type {\n",
              "        vertical-align: middle;\n",
              "    }\n",
              "\n",
              "    .dataframe tbody tr th {\n",
              "        vertical-align: top;\n",
              "    }\n",
              "\n",
              "    .dataframe thead th {\n",
              "        text-align: right;\n",
              "    }\n",
              "</style>\n",
              "<table border=\"1\" class=\"dataframe\">\n",
              "  <thead>\n",
              "    <tr style=\"text-align: right;\">\n",
              "      <th></th>\n",
              "      <th>age</th>\n",
              "      <th>sex</th>\n",
              "      <th>on_thyroxine</th>\n",
              "      <th>query_on_thyroxine</th>\n",
              "      <th>on_antithyroid</th>\n",
              "      <th>sick</th>\n",
              "      <th>pregnant</th>\n",
              "      <th>thyroid_surgery</th>\n",
              "      <th>I131_treatment</th>\n",
              "      <th>query_hypothyroid</th>\n",
              "      <th>query_hyperthyroid</th>\n",
              "      <th>lithium</th>\n",
              "      <th>goitre</th>\n",
              "      <th>tumor</th>\n",
              "      <th>hypopituitary</th>\n",
              "      <th>psych</th>\n",
              "      <th>TSH_measured</th>\n",
              "      <th>TSH</th>\n",
              "      <th>T3_measured</th>\n",
              "      <th>T3</th>\n",
              "      <th>TT4_measured</th>\n",
              "      <th>TT4</th>\n",
              "      <th>T4U_measured</th>\n",
              "      <th>T4U</th>\n",
              "      <th>FTI_measured</th>\n",
              "      <th>FTI</th>\n",
              "      <th>TBG_measured</th>\n",
              "      <th>TBG</th>\n",
              "      <th>referral_source</th>\n",
              "      <th>target</th>\n",
              "    </tr>\n",
              "  </thead>\n",
              "  <tbody>\n",
              "    <tr>\n",
              "      <th>count</th>\n",
              "      <td>2800</td>\n",
              "      <td>2800</td>\n",
              "      <td>2800</td>\n",
              "      <td>2800</td>\n",
              "      <td>2800</td>\n",
              "      <td>2800</td>\n",
              "      <td>2800</td>\n",
              "      <td>2800</td>\n",
              "      <td>2800</td>\n",
              "      <td>2800</td>\n",
              "      <td>2800</td>\n",
              "      <td>2800</td>\n",
              "      <td>2800</td>\n",
              "      <td>2800</td>\n",
              "      <td>2800</td>\n",
              "      <td>2800</td>\n",
              "      <td>2800</td>\n",
              "      <td>2800</td>\n",
              "      <td>2800</td>\n",
              "      <td>2800</td>\n",
              "      <td>2800</td>\n",
              "      <td>2800</td>\n",
              "      <td>2800</td>\n",
              "      <td>2800</td>\n",
              "      <td>2800</td>\n",
              "      <td>2800</td>\n",
              "      <td>2800</td>\n",
              "      <td>2800</td>\n",
              "      <td>2800</td>\n",
              "      <td>2800</td>\n",
              "    </tr>\n",
              "    <tr>\n",
              "      <th>unique</th>\n",
              "      <td>94</td>\n",
              "      <td>3</td>\n",
              "      <td>2</td>\n",
              "      <td>2</td>\n",
              "      <td>2</td>\n",
              "      <td>2</td>\n",
              "      <td>2</td>\n",
              "      <td>2</td>\n",
              "      <td>2</td>\n",
              "      <td>2</td>\n",
              "      <td>2</td>\n",
              "      <td>2</td>\n",
              "      <td>2</td>\n",
              "      <td>2</td>\n",
              "      <td>2</td>\n",
              "      <td>2</td>\n",
              "      <td>2</td>\n",
              "      <td>264</td>\n",
              "      <td>2</td>\n",
              "      <td>65</td>\n",
              "      <td>2</td>\n",
              "      <td>218</td>\n",
              "      <td>2</td>\n",
              "      <td>139</td>\n",
              "      <td>2</td>\n",
              "      <td>210</td>\n",
              "      <td>1</td>\n",
              "      <td>1</td>\n",
              "      <td>5</td>\n",
              "      <td>2800</td>\n",
              "    </tr>\n",
              "    <tr>\n",
              "      <th>top</th>\n",
              "      <td>59</td>\n",
              "      <td>F</td>\n",
              "      <td>f</td>\n",
              "      <td>f</td>\n",
              "      <td>f</td>\n",
              "      <td>f</td>\n",
              "      <td>f</td>\n",
              "      <td>f</td>\n",
              "      <td>f</td>\n",
              "      <td>f</td>\n",
              "      <td>f</td>\n",
              "      <td>f</td>\n",
              "      <td>f</td>\n",
              "      <td>f</td>\n",
              "      <td>f</td>\n",
              "      <td>f</td>\n",
              "      <td>t</td>\n",
              "      <td>?</td>\n",
              "      <td>t</td>\n",
              "      <td>?</td>\n",
              "      <td>t</td>\n",
              "      <td>?</td>\n",
              "      <td>t</td>\n",
              "      <td>?</td>\n",
              "      <td>t</td>\n",
              "      <td>?</td>\n",
              "      <td>f</td>\n",
              "      <td>?</td>\n",
              "      <td>other</td>\n",
              "      <td>negative.|194</td>\n",
              "    </tr>\n",
              "    <tr>\n",
              "      <th>freq</th>\n",
              "      <td>75</td>\n",
              "      <td>1830</td>\n",
              "      <td>2470</td>\n",
              "      <td>2760</td>\n",
              "      <td>2766</td>\n",
              "      <td>2690</td>\n",
              "      <td>2759</td>\n",
              "      <td>2761</td>\n",
              "      <td>2752</td>\n",
              "      <td>2637</td>\n",
              "      <td>2627</td>\n",
              "      <td>2786</td>\n",
              "      <td>2775</td>\n",
              "      <td>2729</td>\n",
              "      <td>2799</td>\n",
              "      <td>2665</td>\n",
              "      <td>2516</td>\n",
              "      <td>284</td>\n",
              "      <td>2215</td>\n",
              "      <td>585</td>\n",
              "      <td>2616</td>\n",
              "      <td>184</td>\n",
              "      <td>2503</td>\n",
              "      <td>297</td>\n",
              "      <td>2505</td>\n",
              "      <td>295</td>\n",
              "      <td>2800</td>\n",
              "      <td>2800</td>\n",
              "      <td>1632</td>\n",
              "      <td>1</td>\n",
              "    </tr>\n",
              "  </tbody>\n",
              "</table>\n",
              "</div>"
            ],
            "text/plain": [
              "         age   sex on_thyroxine  ...   TBG referral_source         target\n",
              "count   2800  2800         2800  ...  2800            2800           2800\n",
              "unique    94     3            2  ...     1               5           2800\n",
              "top       59     F            f  ...     ?           other  negative.|194\n",
              "freq      75  1830         2470  ...  2800            1632              1\n",
              "\n",
              "[4 rows x 30 columns]"
            ]
          },
          "metadata": {
            "tags": []
          },
          "execution_count": 8
        }
      ]
    },
    {
      "cell_type": "markdown",
      "metadata": {
        "id": "2uOa3WsNX5QY"
      },
      "source": [
        "# Age\n",
        "* Let's clean up the first column"
      ]
    },
    {
      "cell_type": "code",
      "metadata": {
        "colab": {
          "base_uri": "https://localhost:8080/"
        },
        "id": "EHi-F1h9a_JK",
        "outputId": "266d18f5-17f4-4271-da94-673724e13694"
      },
      "source": [
        "# Age is coded as an object type\n",
        "df.age.describe()"
      ],
      "execution_count": 9,
      "outputs": [
        {
          "output_type": "execute_result",
          "data": {
            "text/plain": [
              "count     2800\n",
              "unique      94\n",
              "top         59\n",
              "freq        75\n",
              "Name: age, dtype: object"
            ]
          },
          "metadata": {
            "tags": []
          },
          "execution_count": 9
        }
      ]
    },
    {
      "cell_type": "code",
      "metadata": {
        "colab": {
          "base_uri": "https://localhost:8080/"
        },
        "id": "IGe4xz0CbDiE",
        "outputId": "fb08b861-9394-4310-d265-810a40158d21"
      },
      "source": [
        "# There's a question mark used for unknown\n",
        "df.age.unique()"
      ],
      "execution_count": 10,
      "outputs": [
        {
          "output_type": "execute_result",
          "data": {
            "text/plain": [
              "array(['41', '23', '46', '70', '18', '59', '80', '66', '68', '84', '67',\n",
              "       '71', '28', '65', '42', '63', '51', '81', '54', '55', '60', '25',\n",
              "       '73', '34', '78', '37', '85', '26', '58', '64', '44', '48', '61',\n",
              "       '35', '83', '21', '87', '53', '77', '27', '69', '74', '38', '76',\n",
              "       '45', '36', '22', '43', '72', '82', '31', '39', '49', '62', '57',\n",
              "       '1', '50', '30', '29', '75', '19', '7', '79', '17', '24', '15',\n",
              "       '32', '47', '16', '52', '33', '13', '10', '89', '56', '20', '90',\n",
              "       '40', '88', '14', '86', '94', '12', '4', '11', '8', '5', '455',\n",
              "       '2', '91', '6', '?', '93', '92'], dtype=object)"
            ]
          },
          "metadata": {
            "tags": []
          },
          "execution_count": 10
        }
      ]
    },
    {
      "cell_type": "code",
      "metadata": {
        "colab": {
          "base_uri": "https://localhost:8080/"
        },
        "id": "LbTG94b_XflL",
        "outputId": "046151a9-1c84-4687-e797-1d75384ed7f1"
      },
      "source": [
        "# Can't cast to integer with a string in there\n",
        "try:\n",
        "  df.age.astype(int)\n",
        "except Exception as e:\n",
        "  print(e)"
      ],
      "execution_count": 11,
      "outputs": [
        {
          "output_type": "stream",
          "text": [
            "invalid literal for int() with base 10: '?'\n"
          ],
          "name": "stdout"
        }
      ]
    },
    {
      "cell_type": "code",
      "metadata": {
        "colab": {
          "base_uri": "https://localhost:8080/"
        },
        "id": "4VmX_bzVbQKe",
        "outputId": "ca435c4e-1ed0-4ded-bc3d-1b22bc0eba2e"
      },
      "source": [
        "# We can convert the ? to an unknown type\n",
        "df['age'] = df.age.replace('?', np.NaN)\n",
        "df.age.describe()"
      ],
      "execution_count": 12,
      "outputs": [
        {
          "output_type": "execute_result",
          "data": {
            "text/plain": [
              "count     2799\n",
              "unique      93\n",
              "top         59\n",
              "freq        75\n",
              "Name: age, dtype: object"
            ]
          },
          "metadata": {
            "tags": []
          },
          "execution_count": 12
        }
      ]
    },
    {
      "cell_type": "code",
      "metadata": {
        "colab": {
          "base_uri": "https://localhost:8080/"
        },
        "id": "cxm8uYjQYrbF",
        "outputId": "d043f97a-8b31-4c2d-e030-734eaef034e8"
      },
      "source": [
        "# Replace the ? with np.NaN\n",
        "df['age'] = df.age.replace('?', np.NaN)\n",
        "df.age.unique()"
      ],
      "execution_count": 13,
      "outputs": [
        {
          "output_type": "execute_result",
          "data": {
            "text/plain": [
              "array(['41', '23', '46', '70', '18', '59', '80', '66', '68', '84', '67',\n",
              "       '71', '28', '65', '42', '63', '51', '81', '54', '55', '60', '25',\n",
              "       '73', '34', '78', '37', '85', '26', '58', '64', '44', '48', '61',\n",
              "       '35', '83', '21', '87', '53', '77', '27', '69', '74', '38', '76',\n",
              "       '45', '36', '22', '43', '72', '82', '31', '39', '49', '62', '57',\n",
              "       '1', '50', '30', '29', '75', '19', '7', '79', '17', '24', '15',\n",
              "       '32', '47', '16', '52', '33', '13', '10', '89', '56', '20', '90',\n",
              "       '40', '88', '14', '86', '94', '12', '4', '11', '8', '5', '455',\n",
              "       '2', '91', '6', nan, '93', '92'], dtype=object)"
            ]
          },
          "metadata": {
            "tags": []
          },
          "execution_count": 13
        }
      ]
    },
    {
      "cell_type": "code",
      "metadata": {
        "colab": {
          "base_uri": "https://localhost:8080/"
        },
        "id": "CTL_G1-lX3zl",
        "outputId": "a344b121-fa48-4171-aa76-1b5f1cef0e72"
      },
      "source": [
        "# Convert to float\n",
        "df['age'] = df.age.astype('float')\n",
        "df.age.unique()"
      ],
      "execution_count": 14,
      "outputs": [
        {
          "output_type": "execute_result",
          "data": {
            "text/plain": [
              "array([ 41.,  23.,  46.,  70.,  18.,  59.,  80.,  66.,  68.,  84.,  67.,\n",
              "        71.,  28.,  65.,  42.,  63.,  51.,  81.,  54.,  55.,  60.,  25.,\n",
              "        73.,  34.,  78.,  37.,  85.,  26.,  58.,  64.,  44.,  48.,  61.,\n",
              "        35.,  83.,  21.,  87.,  53.,  77.,  27.,  69.,  74.,  38.,  76.,\n",
              "        45.,  36.,  22.,  43.,  72.,  82.,  31.,  39.,  49.,  62.,  57.,\n",
              "         1.,  50.,  30.,  29.,  75.,  19.,   7.,  79.,  17.,  24.,  15.,\n",
              "        32.,  47.,  16.,  52.,  33.,  13.,  10.,  89.,  56.,  20.,  90.,\n",
              "        40.,  88.,  14.,  86.,  94.,  12.,   4.,  11.,   8.,   5., 455.,\n",
              "         2.,  91.,   6.,  nan,  93.,  92.])"
            ]
          },
          "metadata": {
            "tags": []
          },
          "execution_count": 14
        }
      ]
    },
    {
      "cell_type": "code",
      "metadata": {
        "colab": {
          "base_uri": "https://localhost:8080/"
        },
        "id": "V-LwmO3Wb8pL",
        "outputId": "76534f6e-6ba3-4875-ddf6-a81f5beb0f6e"
      },
      "source": [
        "# Age is an integer\n",
        "# Gotcha - Can't represent np.NaN for integers\n",
        "# Convert to float, then to Int32, Int16\n",
        "df['age'] = df.age.astype('Int32')\n",
        "#df['age'] = df.age.astype(pd.Int32Dtype()) #Alternate\n",
        "df.age.describe()"
      ],
      "execution_count": 15,
      "outputs": [
        {
          "output_type": "execute_result",
          "data": {
            "text/plain": [
              "count    2799.00000\n",
              "mean       51.84423\n",
              "std        20.46116\n",
              "min         1.00000\n",
              "25%        36.00000\n",
              "50%        54.00000\n",
              "75%        67.00000\n",
              "max       455.00000\n",
              "Name: age, dtype: float64"
            ]
          },
          "metadata": {
            "tags": []
          },
          "execution_count": 15
        }
      ]
    },
    {
      "cell_type": "code",
      "metadata": {
        "colab": {
          "base_uri": "https://localhost:8080/",
          "height": 296
        },
        "id": "ZsrNwQLjMkp3",
        "outputId": "991f04c5-9373-4bc2-c478-6182f20a832b"
      },
      "source": [
        "sns.histplot(df.age)"
      ],
      "execution_count": 16,
      "outputs": [
        {
          "output_type": "execute_result",
          "data": {
            "text/plain": [
              "<matplotlib.axes._subplots.AxesSubplot at 0x7f3d29397150>"
            ]
          },
          "metadata": {
            "tags": []
          },
          "execution_count": 16
        },
        {
          "output_type": "display_data",
          "data": {
            "image/png": "[encoded data removed]",
            "text/plain": [
              "<Figure size 432x288 with 1 Axes>"
            ]
          },
          "metadata": {
            "tags": [],
            "needs_background": "light"
          }
        }
      ]
    },
    {
      "cell_type": "code",
      "metadata": {
        "colab": {
          "base_uri": "https://localhost:8080/"
        },
        "id": "wBYvI1--bptU",
        "outputId": "2f2fe284-985e-44b5-bc0e-2feae6d85ebe"
      },
      "source": [
        "# Whoa - someone is 455 years old - Strategies?\n",
        "#  Track down\n",
        "#  Mark unknown\n",
        "#  Winsor - cap - note df.age > 100 is ambiguous for NA\n",
        "df['age'] = np.where((df.age > 100) & (pd.notnull(df.age)), 100, df.age)\n",
        "df.age.sort_values()"
      ],
      "execution_count": 17,
      "outputs": [
        {
          "output_type": "execute_result",
          "data": {
            "text/plain": [
              "763        1\n",
              "115        1\n",
              "2551       1\n",
              "228        1\n",
              "2724       1\n",
              "        ... \n",
              "2418      93\n",
              "1129      94\n",
              "2673      94\n",
              "1364     100\n",
              "1985    <NA>\n",
              "Name: age, Length: 2800, dtype: object"
            ]
          },
          "metadata": {
            "tags": []
          },
          "execution_count": 17
        }
      ]
    },
    {
      "cell_type": "markdown",
      "metadata": {
        "id": "InTXajLMDyZE"
      },
      "source": [
        "# Data Entry"
      ]
    },
    {
      "cell_type": "markdown",
      "metadata": {
        "id": "10MmYc4skgQp"
      },
      "source": [
        "## Question Marks"
      ]
    },
    {
      "cell_type": "code",
      "metadata": {
        "colab": {
          "base_uri": "https://localhost:8080/"
        },
        "id": "l4SlLFMeTPZc",
        "outputId": "f8f8aaec-32f8-4faa-81d4-61227447ac7e"
      },
      "source": [
        "# Anything Missing?\n",
        "df.isna().sum()"
      ],
      "execution_count": 18,
      "outputs": [
        {
          "output_type": "execute_result",
          "data": {
            "text/plain": [
              "age                   1\n",
              "sex                   0\n",
              "on_thyroxine          0\n",
              "query_on_thyroxine    0\n",
              "on_antithyroid        0\n",
              "sick                  0\n",
              "pregnant              0\n",
              "thyroid_surgery       0\n",
              "I131_treatment        0\n",
              "query_hypothyroid     0\n",
              "query_hyperthyroid    0\n",
              "lithium               0\n",
              "goitre                0\n",
              "tumor                 0\n",
              "hypopituitary         0\n",
              "psych                 0\n",
              "TSH_measured          0\n",
              "TSH                   0\n",
              "T3_measured           0\n",
              "T3                    0\n",
              "TT4_measured          0\n",
              "TT4                   0\n",
              "T4U_measured          0\n",
              "T4U                   0\n",
              "FTI_measured          0\n",
              "FTI                   0\n",
              "TBG_measured          0\n",
              "TBG                   0\n",
              "referral_source       0\n",
              "target                0\n",
              "dtype: int64"
            ]
          },
          "metadata": {
            "tags": []
          },
          "execution_count": 18
        }
      ]
    },
    {
      "cell_type": "code",
      "metadata": {
        "id": "bJPzWqoAi9vw"
      },
      "source": [
        "# Convert ? to np.NaN\n",
        "#   Caution df.replace('?', np.NaN) will throough FutureWarning\n",
        "df = df.replace({'?' : np.NaN})"
      ],
      "execution_count": 19,
      "outputs": []
    },
    {
      "cell_type": "code",
      "metadata": {
        "colab": {
          "base_uri": "https://localhost:8080/"
        },
        "id": "BF4vP3oykEgt",
        "outputId": "73c2dbeb-5479-4ada-ca49-995c2225a59d"
      },
      "source": [
        "# Now check\n",
        "df.isna().sum()"
      ],
      "execution_count": 20,
      "outputs": [
        {
          "output_type": "execute_result",
          "data": {
            "text/plain": [
              "age                      1\n",
              "sex                    110\n",
              "on_thyroxine             0\n",
              "query_on_thyroxine       0\n",
              "on_antithyroid           0\n",
              "sick                     0\n",
              "pregnant                 0\n",
              "thyroid_surgery          0\n",
              "I131_treatment           0\n",
              "query_hypothyroid        0\n",
              "query_hyperthyroid       0\n",
              "lithium                  0\n",
              "goitre                   0\n",
              "tumor                    0\n",
              "hypopituitary            0\n",
              "psych                    0\n",
              "TSH_measured             0\n",
              "TSH                    284\n",
              "T3_measured              0\n",
              "T3                     585\n",
              "TT4_measured             0\n",
              "TT4                    184\n",
              "T4U_measured             0\n",
              "T4U                    297\n",
              "FTI_measured             0\n",
              "FTI                    295\n",
              "TBG_measured             0\n",
              "TBG                   2800\n",
              "referral_source          0\n",
              "target                   0\n",
              "dtype: int64"
            ]
          },
          "metadata": {
            "tags": []
          },
          "execution_count": 20
        }
      ]
    },
    {
      "cell_type": "markdown",
      "metadata": {
        "id": "r8Qd6XlHkikC"
      },
      "source": [
        "## Binary\n",
        "* How are true / false columns being handled"
      ]
    },
    {
      "cell_type": "code",
      "metadata": {
        "colab": {
          "base_uri": "https://localhost:8080/"
        },
        "id": "W8GZz-emklzz",
        "outputId": "d2c70158-7158-4aaa-eac0-8376a44834cf"
      },
      "source": [
        "df.TT4_measured.unique()"
      ],
      "execution_count": 21,
      "outputs": [
        {
          "output_type": "execute_result",
          "data": {
            "text/plain": [
              "array(['t', 'f'], dtype=object)"
            ]
          },
          "metadata": {
            "tags": []
          },
          "execution_count": 21
        }
      ]
    },
    {
      "cell_type": "code",
      "metadata": {
        "id": "jYkkB7Ymkr4C"
      },
      "source": [
        "# Convert from t, f to 1, 0\n",
        "df = df.replace({'t': 1, 'f': 0})"
      ],
      "execution_count": 22,
      "outputs": []
    },
    {
      "cell_type": "code",
      "metadata": {
        "colab": {
          "base_uri": "https://localhost:8080/"
        },
        "id": "fTMT0_2Jk03X",
        "outputId": "3d7d8c97-e2ea-4ceb-def5-06176d0b113e"
      },
      "source": [
        "df.TT4_measured.unique()"
      ],
      "execution_count": 23,
      "outputs": [
        {
          "output_type": "execute_result",
          "data": {
            "text/plain": [
              "array([1, 0])"
            ]
          },
          "metadata": {
            "tags": []
          },
          "execution_count": 23
        }
      ]
    },
    {
      "cell_type": "markdown",
      "metadata": {
        "id": "TQsDYuY0k8OQ"
      },
      "source": [
        "## Column Types"
      ]
    },
    {
      "cell_type": "code",
      "metadata": {
        "colab": {
          "base_uri": "https://localhost:8080/"
        },
        "id": "9tJaXHiXk7mU",
        "outputId": "3e3cc350-f79c-434c-99e5-e15df9212758"
      },
      "source": [
        "df.columns"
      ],
      "execution_count": 24,
      "outputs": [
        {
          "output_type": "execute_result",
          "data": {
            "text/plain": [
              "Index(['age', 'sex', 'on_thyroxine', 'query_on_thyroxine', 'on_antithyroid',\n",
              "       'sick', 'pregnant', 'thyroid_surgery', 'I131_treatment',\n",
              "       'query_hypothyroid', 'query_hyperthyroid', 'lithium', 'goitre', 'tumor',\n",
              "       'hypopituitary', 'psych', 'TSH_measured', 'TSH', 'T3_measured', 'T3',\n",
              "       'TT4_measured', 'TT4', 'T4U_measured', 'T4U', 'FTI_measured', 'FTI',\n",
              "       'TBG_measured', 'TBG', 'referral_source', 'target'],\n",
              "      dtype='object')"
            ]
          },
          "metadata": {
            "tags": []
          },
          "execution_count": 24
        }
      ]
    },
    {
      "cell_type": "code",
      "metadata": {
        "id": "yVuLQpFulDOj"
      },
      "source": [
        "COLUMNS_INT      = ['age']\n",
        "COLUMNS_FLOAT    = ['TSH', 'T3', 'TT4', 'T4U', 'FTI', 'TBG']\n",
        "COLUMNS_CATEGORY = ['sex', 'referral_source']\n",
        "COLUMNS_BINARY   = ['on_thyroxine', \n",
        "                    'query_on_thyroxine', \n",
        "                    'on_antithyroid',\n",
        "                    'sick', \n",
        "                    'pregnant', \n",
        "                    'thyroid_surgery', \n",
        "                    'I131_treatment',\n",
        "                    'query_hypothyroid', \n",
        "                    'query_hyperthyroid', \n",
        "                    'lithium', \n",
        "                    'goitre', \n",
        "                    'tumor',\n",
        "                    'hypopituitary', \n",
        "                    'psych',\n",
        "                    'TSH_measured', \n",
        "                    'T3_measured',\n",
        "                    'TT4_measured', \n",
        "                    'T4U_measured', \n",
        "                    'FTI_measured', \n",
        "                    'TBG_measured']"
      ],
      "execution_count": 25,
      "outputs": []
    },
    {
      "cell_type": "code",
      "metadata": {
        "id": "_q2Fqi3j1fSz"
      },
      "source": [
        "for col in COLUMNS_INT:\n",
        "  df[col] = df[col].astype('Int32')"
      ],
      "execution_count": 26,
      "outputs": []
    },
    {
      "cell_type": "code",
      "metadata": {
        "id": "hOUt80crnt08"
      },
      "source": [
        "for col in COLUMNS_FLOAT:\n",
        "  df[col] = df[col].astype('float')"
      ],
      "execution_count": 27,
      "outputs": []
    },
    {
      "cell_type": "code",
      "metadata": {
        "id": "7tVTtTQxo7RK"
      },
      "source": [
        "for col in COLUMNS_CATEGORY:\n",
        "  df[col] = df[col].astype('category')"
      ],
      "execution_count": 28,
      "outputs": []
    },
    {
      "cell_type": "code",
      "metadata": {
        "id": "ai2oS3hBpNQr"
      },
      "source": [
        "for col in COLUMNS_BINARY:\n",
        "  df[col] = df[col].astype('Int32')"
      ],
      "execution_count": 29,
      "outputs": []
    },
    {
      "cell_type": "code",
      "metadata": {
        "colab": {
          "base_uri": "https://localhost:8080/"
        },
        "id": "oss6PhuHpe_0",
        "outputId": "890a9896-ecb4-4bb7-9294-b3f70485222a"
      },
      "source": [
        "df.dtypes"
      ],
      "execution_count": 30,
      "outputs": [
        {
          "output_type": "execute_result",
          "data": {
            "text/plain": [
              "age                      Int32\n",
              "sex                   category\n",
              "on_thyroxine             Int32\n",
              "query_on_thyroxine       Int32\n",
              "on_antithyroid           Int32\n",
              "sick                     Int32\n",
              "pregnant                 Int32\n",
              "thyroid_surgery          Int32\n",
              "I131_treatment           Int32\n",
              "query_hypothyroid        Int32\n",
              "query_hyperthyroid       Int32\n",
              "lithium                  Int32\n",
              "goitre                   Int32\n",
              "tumor                    Int32\n",
              "hypopituitary            Int32\n",
              "psych                    Int32\n",
              "TSH_measured             Int32\n",
              "TSH                    float64\n",
              "T3_measured              Int32\n",
              "T3                     float64\n",
              "TT4_measured             Int32\n",
              "TT4                    float64\n",
              "T4U_measured             Int32\n",
              "T4U                    float64\n",
              "FTI_measured             Int32\n",
              "FTI                    float64\n",
              "TBG_measured             Int32\n",
              "TBG                    float64\n",
              "referral_source       category\n",
              "target                  object\n",
              "dtype: object"
            ]
          },
          "metadata": {
            "tags": []
          },
          "execution_count": 30
        }
      ]
    },
    {
      "cell_type": "markdown",
      "metadata": {
        "id": "yS6OGTxHIpmr"
      },
      "source": [
        "## Duplicates"
      ]
    },
    {
      "cell_type": "markdown",
      "metadata": {
        "id": "yr9Qvs-A1mOv"
      },
      "source": [
        "## Target"
      ]
    },
    {
      "cell_type": "code",
      "metadata": {
        "colab": {
          "base_uri": "https://localhost:8080/"
        },
        "id": "7hboKvvB2Pdo",
        "outputId": "8d853af5-98f5-4cec-e00b-dbd4c611ebe0"
      },
      "source": [
        "# All the target values are unique\n",
        "len(df.target.unique())"
      ],
      "execution_count": 31,
      "outputs": [
        {
          "output_type": "execute_result",
          "data": {
            "text/plain": [
              "2800"
            ]
          },
          "metadata": {
            "tags": []
          },
          "execution_count": 31
        }
      ]
    },
    {
      "cell_type": "code",
      "metadata": {
        "colab": {
          "base_uri": "https://localhost:8080/"
        },
        "id": "FrlboDcb2Hsu",
        "outputId": "1034e881-1ce0-4f9b-cc9d-588290a1d74c"
      },
      "source": [
        "# But, they appear to be delimited\n",
        "df.target.sort_values()"
      ],
      "execution_count": 32,
      "outputs": [
        {
          "output_type": "execute_result",
          "data": {
            "text/plain": [
              "417     decreased binding protein.|1814\n",
              "1021    decreased binding protein.|1947\n",
              "2191     decreased binding protein.|206\n",
              "2288    decreased binding protein.|2083\n",
              "2431    decreased binding protein.|2123\n",
              "                     ...               \n",
              "298                       negative.|992\n",
              "882                       negative.|993\n",
              "202                       negative.|995\n",
              "720                       negative.|997\n",
              "380                       negative.|999\n",
              "Name: target, Length: 2800, dtype: object"
            ]
          },
          "metadata": {
            "tags": []
          },
          "execution_count": 32
        }
      ]
    },
    {
      "cell_type": "code",
      "metadata": {
        "colab": {
          "base_uri": "https://localhost:8080/"
        },
        "id": "ZiEgMdrh15Bm",
        "outputId": "573d7bfa-957c-402e-9db5-e637f3a3a49d"
      },
      "source": [
        "# Split #1 - returns an array\n",
        "# Note the .str\n",
        "df.target.str.split('.\\|')"
      ],
      "execution_count": 33,
      "outputs": [
        {
          "output_type": "execute_result",
          "data": {
            "text/plain": [
              "0       [negative, 3733]\n",
              "1       [negative, 1442]\n",
              "2       [negative, 2965]\n",
              "3        [negative, 806]\n",
              "4       [negative, 2807]\n",
              "              ...       \n",
              "2795    [negative, 3689]\n",
              "2796    [negative, 3652]\n",
              "2797    [negative, 1287]\n",
              "2798    [negative, 3496]\n",
              "2799     [negative, 724]\n",
              "Name: target, Length: 2800, dtype: object"
            ]
          },
          "metadata": {
            "tags": []
          },
          "execution_count": 33
        }
      ]
    },
    {
      "cell_type": "code",
      "metadata": {
        "colab": {
          "base_uri": "https://localhost:8080/",
          "height": 402
        },
        "id": "wboOqBn12fp3",
        "outputId": "9ec548f3-d783-467b-b354-8b9c90da3f86"
      },
      "source": [
        "# Split #2, returns the target value as series\n",
        "df.target.str.split('.\\|', expand=True)"
      ],
      "execution_count": 34,
      "outputs": [
        {
          "output_type": "execute_result",
          "data": {
            "text/html": [
              "<div>\n",
              "<style scoped>\n",
              "    .dataframe tbody tr th:only-of-type {\n",
              "        vertical-align: middle;\n",
              "    }\n",
              "\n",
              "    .dataframe tbody tr th {\n",
              "        vertical-align: top;\n",
              "    }\n",
              "\n",
              "    .dataframe thead th {\n",
              "        text-align: right;\n",
              "    }\n",
              "</style>\n",
              "<table border=\"1\" class=\"dataframe\">\n",
              "  <thead>\n",
              "    <tr style=\"text-align: right;\">\n",
              "      <th></th>\n",
              "      <th>0</th>\n",
              "      <th>1</th>\n",
              "    </tr>\n",
              "  </thead>\n",
              "  <tbody>\n",
              "    <tr>\n",
              "      <th>0</th>\n",
              "      <td>negative</td>\n",
              "      <td>3733</td>\n",
              "    </tr>\n",
              "    <tr>\n",
              "      <th>1</th>\n",
              "      <td>negative</td>\n",
              "      <td>1442</td>\n",
              "    </tr>\n",
              "    <tr>\n",
              "      <th>2</th>\n",
              "      <td>negative</td>\n",
              "      <td>2965</td>\n",
              "    </tr>\n",
              "    <tr>\n",
              "      <th>3</th>\n",
              "      <td>negative</td>\n",
              "      <td>806</td>\n",
              "    </tr>\n",
              "    <tr>\n",
              "      <th>4</th>\n",
              "      <td>negative</td>\n",
              "      <td>2807</td>\n",
              "    </tr>\n",
              "    <tr>\n",
              "      <th>...</th>\n",
              "      <td>...</td>\n",
              "      <td>...</td>\n",
              "    </tr>\n",
              "    <tr>\n",
              "      <th>2795</th>\n",
              "      <td>negative</td>\n",
              "      <td>3689</td>\n",
              "    </tr>\n",
              "    <tr>\n",
              "      <th>2796</th>\n",
              "      <td>negative</td>\n",
              "      <td>3652</td>\n",
              "    </tr>\n",
              "    <tr>\n",
              "      <th>2797</th>\n",
              "      <td>negative</td>\n",
              "      <td>1287</td>\n",
              "    </tr>\n",
              "    <tr>\n",
              "      <th>2798</th>\n",
              "      <td>negative</td>\n",
              "      <td>3496</td>\n",
              "    </tr>\n",
              "    <tr>\n",
              "      <th>2799</th>\n",
              "      <td>negative</td>\n",
              "      <td>724</td>\n",
              "    </tr>\n",
              "  </tbody>\n",
              "</table>\n",
              "<p>2800 rows × 2 columns</p>\n",
              "</div>"
            ],
            "text/plain": [
              "             0     1\n",
              "0     negative  3733\n",
              "1     negative  1442\n",
              "2     negative  2965\n",
              "3     negative   806\n",
              "4     negative  2807\n",
              "...        ...   ...\n",
              "2795  negative  3689\n",
              "2796  negative  3652\n",
              "2797  negative  1287\n",
              "2798  negative  3496\n",
              "2799  negative   724\n",
              "\n",
              "[2800 rows x 2 columns]"
            ]
          },
          "metadata": {
            "tags": []
          },
          "execution_count": 34
        }
      ]
    },
    {
      "cell_type": "code",
      "metadata": {
        "colab": {
          "base_uri": "https://localhost:8080/"
        },
        "id": "qAQ2p2xK2wNU",
        "outputId": "50a0d2a6-49af-4f78-ea21-6f000317455b"
      },
      "source": [
        "# Store the frame & check what's there\n",
        "target_df = df.target.str.split('.\\|', expand=True)\n",
        "target_df[0].unique()"
      ],
      "execution_count": 35,
      "outputs": [
        {
          "output_type": "execute_result",
          "data": {
            "text/plain": [
              "array(['negative', 'increased binding protein',\n",
              "       'decreased binding protein'], dtype=object)"
            ]
          },
          "metadata": {
            "tags": []
          },
          "execution_count": 35
        }
      ]
    },
    {
      "cell_type": "code",
      "metadata": {
        "colab": {
          "base_uri": "https://localhost:8080/"
        },
        "id": "J-CqBK8s3Os-",
        "outputId": "eb3b7820-fc81-4d6b-8b3b-02a1068493ab"
      },
      "source": [
        "# The second part is a patient_id\n",
        "target_df[1].head()"
      ],
      "execution_count": 36,
      "outputs": [
        {
          "output_type": "execute_result",
          "data": {
            "text/plain": [
              "0    3733\n",
              "1    1442\n",
              "2    2965\n",
              "3     806\n",
              "4    2807\n",
              "Name: 1, dtype: object"
            ]
          },
          "metadata": {
            "tags": []
          },
          "execution_count": 36
        }
      ]
    },
    {
      "cell_type": "code",
      "metadata": {
        "colab": {
          "base_uri": "https://localhost:8080/",
          "height": 215
        },
        "id": "5sTDsXRq3UZF",
        "outputId": "e59d204c-1e65-4cde-a499-238301a81087"
      },
      "source": [
        "# Treatment Plan\n",
        "#   Split\n",
        "#   Rename columns\n",
        "#   Assign correct dtypes\n",
        "#   Concat back to df\n",
        "target_df = df.target.str.split('.\\|', expand=True)\n",
        "target_df.columns = ['treatment', 'patient_id']\n",
        "target_df['treatment']  = target_df.treatment.astype('category')\n",
        "target_df['patient_id'] = pd.to_numeric(target_df.patient_id) # Different approach\n",
        "df = pd.concat([df, target_df], axis=1)\n",
        "df.head()"
      ],
      "execution_count": 37,
      "outputs": [
        {
          "output_type": "execute_result",
          "data": {
            "text/html": [
              "<div>\n",
              "<style scoped>\n",
              "    .dataframe tbody tr th:only-of-type {\n",
              "        vertical-align: middle;\n",
              "    }\n",
              "\n",
              "    .dataframe tbody tr th {\n",
              "        vertical-align: top;\n",
              "    }\n",
              "\n",
              "    .dataframe thead th {\n",
              "        text-align: right;\n",
              "    }\n",
              "</style>\n",
              "<table border=\"1\" class=\"dataframe\">\n",
              "  <thead>\n",
              "    <tr style=\"text-align: right;\">\n",
              "      <th></th>\n",
              "      <th>age</th>\n",
              "      <th>sex</th>\n",
              "      <th>on_thyroxine</th>\n",
              "      <th>query_on_thyroxine</th>\n",
              "      <th>on_antithyroid</th>\n",
              "      <th>sick</th>\n",
              "      <th>pregnant</th>\n",
              "      <th>thyroid_surgery</th>\n",
              "      <th>I131_treatment</th>\n",
              "      <th>query_hypothyroid</th>\n",
              "      <th>query_hyperthyroid</th>\n",
              "      <th>lithium</th>\n",
              "      <th>goitre</th>\n",
              "      <th>tumor</th>\n",
              "      <th>hypopituitary</th>\n",
              "      <th>psych</th>\n",
              "      <th>TSH_measured</th>\n",
              "      <th>TSH</th>\n",
              "      <th>T3_measured</th>\n",
              "      <th>T3</th>\n",
              "      <th>TT4_measured</th>\n",
              "      <th>TT4</th>\n",
              "      <th>T4U_measured</th>\n",
              "      <th>T4U</th>\n",
              "      <th>FTI_measured</th>\n",
              "      <th>FTI</th>\n",
              "      <th>TBG_measured</th>\n",
              "      <th>TBG</th>\n",
              "      <th>referral_source</th>\n",
              "      <th>target</th>\n",
              "      <th>treatment</th>\n",
              "      <th>patient_id</th>\n",
              "    </tr>\n",
              "  </thead>\n",
              "  <tbody>\n",
              "    <tr>\n",
              "      <th>0</th>\n",
              "      <td>41</td>\n",
              "      <td>F</td>\n",
              "      <td>0</td>\n",
              "      <td>0</td>\n",
              "      <td>0</td>\n",
              "      <td>0</td>\n",
              "      <td>0</td>\n",
              "      <td>0</td>\n",
              "      <td>0</td>\n",
              "      <td>0</td>\n",
              "      <td>0</td>\n",
              "      <td>0</td>\n",
              "      <td>0</td>\n",
              "      <td>0</td>\n",
              "      <td>0</td>\n",
              "      <td>0</td>\n",
              "      <td>1</td>\n",
              "      <td>1.30</td>\n",
              "      <td>1</td>\n",
              "      <td>2.5</td>\n",
              "      <td>1</td>\n",
              "      <td>125.0</td>\n",
              "      <td>1</td>\n",
              "      <td>1.14</td>\n",
              "      <td>1</td>\n",
              "      <td>109.0</td>\n",
              "      <td>0</td>\n",
              "      <td>NaN</td>\n",
              "      <td>SVHC</td>\n",
              "      <td>negative.|3733</td>\n",
              "      <td>negative</td>\n",
              "      <td>3733</td>\n",
              "    </tr>\n",
              "    <tr>\n",
              "      <th>1</th>\n",
              "      <td>23</td>\n",
              "      <td>F</td>\n",
              "      <td>0</td>\n",
              "      <td>0</td>\n",
              "      <td>0</td>\n",
              "      <td>0</td>\n",
              "      <td>0</td>\n",
              "      <td>0</td>\n",
              "      <td>0</td>\n",
              "      <td>0</td>\n",
              "      <td>0</td>\n",
              "      <td>0</td>\n",
              "      <td>0</td>\n",
              "      <td>0</td>\n",
              "      <td>0</td>\n",
              "      <td>0</td>\n",
              "      <td>1</td>\n",
              "      <td>4.10</td>\n",
              "      <td>1</td>\n",
              "      <td>2.0</td>\n",
              "      <td>1</td>\n",
              "      <td>102.0</td>\n",
              "      <td>0</td>\n",
              "      <td>NaN</td>\n",
              "      <td>0</td>\n",
              "      <td>NaN</td>\n",
              "      <td>0</td>\n",
              "      <td>NaN</td>\n",
              "      <td>other</td>\n",
              "      <td>negative.|1442</td>\n",
              "      <td>negative</td>\n",
              "      <td>1442</td>\n",
              "    </tr>\n",
              "    <tr>\n",
              "      <th>2</th>\n",
              "      <td>46</td>\n",
              "      <td>M</td>\n",
              "      <td>0</td>\n",
              "      <td>0</td>\n",
              "      <td>0</td>\n",
              "      <td>0</td>\n",
              "      <td>0</td>\n",
              "      <td>0</td>\n",
              "      <td>0</td>\n",
              "      <td>0</td>\n",
              "      <td>0</td>\n",
              "      <td>0</td>\n",
              "      <td>0</td>\n",
              "      <td>0</td>\n",
              "      <td>0</td>\n",
              "      <td>0</td>\n",
              "      <td>1</td>\n",
              "      <td>0.98</td>\n",
              "      <td>0</td>\n",
              "      <td>NaN</td>\n",
              "      <td>1</td>\n",
              "      <td>109.0</td>\n",
              "      <td>1</td>\n",
              "      <td>0.91</td>\n",
              "      <td>1</td>\n",
              "      <td>120.0</td>\n",
              "      <td>0</td>\n",
              "      <td>NaN</td>\n",
              "      <td>other</td>\n",
              "      <td>negative.|2965</td>\n",
              "      <td>negative</td>\n",
              "      <td>2965</td>\n",
              "    </tr>\n",
              "    <tr>\n",
              "      <th>3</th>\n",
              "      <td>70</td>\n",
              "      <td>F</td>\n",
              "      <td>1</td>\n",
              "      <td>0</td>\n",
              "      <td>0</td>\n",
              "      <td>0</td>\n",
              "      <td>0</td>\n",
              "      <td>0</td>\n",
              "      <td>0</td>\n",
              "      <td>0</td>\n",
              "      <td>0</td>\n",
              "      <td>0</td>\n",
              "      <td>0</td>\n",
              "      <td>0</td>\n",
              "      <td>0</td>\n",
              "      <td>0</td>\n",
              "      <td>1</td>\n",
              "      <td>0.16</td>\n",
              "      <td>1</td>\n",
              "      <td>1.9</td>\n",
              "      <td>1</td>\n",
              "      <td>175.0</td>\n",
              "      <td>0</td>\n",
              "      <td>NaN</td>\n",
              "      <td>0</td>\n",
              "      <td>NaN</td>\n",
              "      <td>0</td>\n",
              "      <td>NaN</td>\n",
              "      <td>other</td>\n",
              "      <td>negative.|806</td>\n",
              "      <td>negative</td>\n",
              "      <td>806</td>\n",
              "    </tr>\n",
              "    <tr>\n",
              "      <th>4</th>\n",
              "      <td>70</td>\n",
              "      <td>F</td>\n",
              "      <td>0</td>\n",
              "      <td>0</td>\n",
              "      <td>0</td>\n",
              "      <td>0</td>\n",
              "      <td>0</td>\n",
              "      <td>0</td>\n",
              "      <td>0</td>\n",
              "      <td>0</td>\n",
              "      <td>0</td>\n",
              "      <td>0</td>\n",
              "      <td>0</td>\n",
              "      <td>0</td>\n",
              "      <td>0</td>\n",
              "      <td>0</td>\n",
              "      <td>1</td>\n",
              "      <td>0.72</td>\n",
              "      <td>1</td>\n",
              "      <td>1.2</td>\n",
              "      <td>1</td>\n",
              "      <td>61.0</td>\n",
              "      <td>1</td>\n",
              "      <td>0.87</td>\n",
              "      <td>1</td>\n",
              "      <td>70.0</td>\n",
              "      <td>0</td>\n",
              "      <td>NaN</td>\n",
              "      <td>SVI</td>\n",
              "      <td>negative.|2807</td>\n",
              "      <td>negative</td>\n",
              "      <td>2807</td>\n",
              "    </tr>\n",
              "  </tbody>\n",
              "</table>\n",
              "</div>"
            ],
            "text/plain": [
              "   age sex  on_thyroxine  ...          target  treatment  patient_id\n",
              "0   41   F             0  ...  negative.|3733   negative        3733\n",
              "1   23   F             0  ...  negative.|1442   negative        1442\n",
              "2   46   M             0  ...  negative.|2965   negative        2965\n",
              "3   70   F             1  ...   negative.|806   negative         806\n",
              "4   70   F             0  ...  negative.|2807   negative        2807\n",
              "\n",
              "[5 rows x 32 columns]"
            ]
          },
          "metadata": {
            "tags": []
          },
          "execution_count": 37
        }
      ]
    },
    {
      "cell_type": "markdown",
      "metadata": {
        "id": "vjwvFzRu1ZnZ"
      },
      "source": [
        "# Missing"
      ]
    },
    {
      "cell_type": "markdown",
      "metadata": {
        "id": "7RCeKhOJ8wHa"
      },
      "source": [
        "## Deletion\n",
        "* First place to start\n",
        "* List-wise - a column has a large proportion of missing data\n",
        "* Row-wise - drop a row if any value is missing in the dataset\n",
        "* Simple, but real data is often missing\n",
        "* Perhaps okay when you have good \"power\" meaning:\n",
        "  * A large enough sample\n",
        "  * Assume it's missing at random"
      ]
    },
    {
      "cell_type": "code",
      "metadata": {
        "colab": {
          "base_uri": "https://localhost:8080/"
        },
        "id": "ISHWg_zhIOIp",
        "outputId": "461e2741-cceb-414d-9487-64fe5de4212c"
      },
      "source": [
        "# Columns with large % missing might be good to remove\n",
        "df.isna().sum() * 100. / len(df)"
      ],
      "execution_count": 38,
      "outputs": [
        {
          "output_type": "execute_result",
          "data": {
            "text/plain": [
              "age                     0.035714\n",
              "sex                     3.928571\n",
              "on_thyroxine            0.000000\n",
              "query_on_thyroxine      0.000000\n",
              "on_antithyroid          0.000000\n",
              "sick                    0.000000\n",
              "pregnant                0.000000\n",
              "thyroid_surgery         0.000000\n",
              "I131_treatment          0.000000\n",
              "query_hypothyroid       0.000000\n",
              "query_hyperthyroid      0.000000\n",
              "lithium                 0.000000\n",
              "goitre                  0.000000\n",
              "tumor                   0.000000\n",
              "hypopituitary           0.000000\n",
              "psych                   0.000000\n",
              "TSH_measured            0.000000\n",
              "TSH                    10.142857\n",
              "T3_measured             0.000000\n",
              "T3                     20.892857\n",
              "TT4_measured            0.000000\n",
              "TT4                     6.571429\n",
              "T4U_measured            0.000000\n",
              "T4U                    10.607143\n",
              "FTI_measured            0.000000\n",
              "FTI                    10.535714\n",
              "TBG_measured            0.000000\n",
              "TBG                   100.000000\n",
              "referral_source         0.000000\n",
              "target                  0.000000\n",
              "treatment               0.000000\n",
              "patient_id              0.000000\n",
              "dtype: float64"
            ]
          },
          "metadata": {
            "tags": []
          },
          "execution_count": 38
        }
      ]
    },
    {
      "cell_type": "code",
      "metadata": {
        "colab": {
          "base_uri": "https://localhost:8080/"
        },
        "id": "iDoavwR2IXIZ",
        "outputId": "03cf6d9d-a3e6-4ff7-a23c-251c45054d1b"
      },
      "source": [
        "# How many cells have a null\n",
        "np.count_nonzero(df.isnull())\n",
        "# df.isna().sum().sum()"
      ],
      "execution_count": 39,
      "outputs": [
        {
          "output_type": "execute_result",
          "data": {
            "text/plain": [
              "4556"
            ]
          },
          "metadata": {
            "tags": []
          },
          "execution_count": 39
        }
      ]
    },
    {
      "cell_type": "code",
      "metadata": {
        "colab": {
          "base_uri": "https://localhost:8080/"
        },
        "id": "0TbVuYQVLnNW",
        "outputId": "5770c3e5-ec4b-4d40-ec03-c9c6d28a3996"
      },
      "source": [
        "# How many rows have a null\n",
        "df.isnull().any(axis=1).sum()"
      ],
      "execution_count": 40,
      "outputs": [
        {
          "output_type": "execute_result",
          "data": {
            "text/plain": [
              "2800"
            ]
          },
          "metadata": {
            "tags": []
          },
          "execution_count": 40
        }
      ]
    },
    {
      "cell_type": "code",
      "metadata": {
        "colab": {
          "base_uri": "https://localhost:8080/"
        },
        "id": "WCw76vxhL-Rh",
        "outputId": "936b604e-47b3-406b-d8f5-77cc8d0b7479"
      },
      "source": [
        "# Excluding TBG abouut 1/3 of our dataset has a null\n",
        "columns = df.columns.tolist()\n",
        "columns.remove('TBG')\n",
        "df[columns].isnull().any(axis=1).sum()"
      ],
      "execution_count": 41,
      "outputs": [
        {
          "output_type": "execute_result",
          "data": {
            "text/plain": [
              "853"
            ]
          },
          "metadata": {
            "tags": []
          },
          "execution_count": 41
        }
      ]
    },
    {
      "cell_type": "code",
      "metadata": {
        "colab": {
          "base_uri": "https://localhost:8080/",
          "height": 97
        },
        "id": "UBjYKtHpaVld",
        "outputId": "e7ea39ff-c9eb-4646-9d25-8048335e3f60"
      },
      "source": [
        "# Find the record with missing date for later comparison\n",
        "df[df.age.isna()]"
      ],
      "execution_count": 42,
      "outputs": [
        {
          "output_type": "execute_result",
          "data": {
            "text/html": [
              "<div>\n",
              "<style scoped>\n",
              "    .dataframe tbody tr th:only-of-type {\n",
              "        vertical-align: middle;\n",
              "    }\n",
              "\n",
              "    .dataframe tbody tr th {\n",
              "        vertical-align: top;\n",
              "    }\n",
              "\n",
              "    .dataframe thead th {\n",
              "        text-align: right;\n",
              "    }\n",
              "</style>\n",
              "<table border=\"1\" class=\"dataframe\">\n",
              "  <thead>\n",
              "    <tr style=\"text-align: right;\">\n",
              "      <th></th>\n",
              "      <th>age</th>\n",
              "      <th>sex</th>\n",
              "      <th>on_thyroxine</th>\n",
              "      <th>query_on_thyroxine</th>\n",
              "      <th>on_antithyroid</th>\n",
              "      <th>sick</th>\n",
              "      <th>pregnant</th>\n",
              "      <th>thyroid_surgery</th>\n",
              "      <th>I131_treatment</th>\n",
              "      <th>query_hypothyroid</th>\n",
              "      <th>query_hyperthyroid</th>\n",
              "      <th>lithium</th>\n",
              "      <th>goitre</th>\n",
              "      <th>tumor</th>\n",
              "      <th>hypopituitary</th>\n",
              "      <th>psych</th>\n",
              "      <th>TSH_measured</th>\n",
              "      <th>TSH</th>\n",
              "      <th>T3_measured</th>\n",
              "      <th>T3</th>\n",
              "      <th>TT4_measured</th>\n",
              "      <th>TT4</th>\n",
              "      <th>T4U_measured</th>\n",
              "      <th>T4U</th>\n",
              "      <th>FTI_measured</th>\n",
              "      <th>FTI</th>\n",
              "      <th>TBG_measured</th>\n",
              "      <th>TBG</th>\n",
              "      <th>referral_source</th>\n",
              "      <th>target</th>\n",
              "      <th>treatment</th>\n",
              "      <th>patient_id</th>\n",
              "    </tr>\n",
              "  </thead>\n",
              "  <tbody>\n",
              "    <tr>\n",
              "      <th>1985</th>\n",
              "      <td>&lt;NA&gt;</td>\n",
              "      <td>F</td>\n",
              "      <td>1</td>\n",
              "      <td>0</td>\n",
              "      <td>0</td>\n",
              "      <td>0</td>\n",
              "      <td>0</td>\n",
              "      <td>0</td>\n",
              "      <td>1</td>\n",
              "      <td>0</td>\n",
              "      <td>0</td>\n",
              "      <td>0</td>\n",
              "      <td>0</td>\n",
              "      <td>0</td>\n",
              "      <td>0</td>\n",
              "      <td>0</td>\n",
              "      <td>1</td>\n",
              "      <td>0.6</td>\n",
              "      <td>1</td>\n",
              "      <td>1.5</td>\n",
              "      <td>1</td>\n",
              "      <td>120.0</td>\n",
              "      <td>1</td>\n",
              "      <td>0.82</td>\n",
              "      <td>1</td>\n",
              "      <td>146.0</td>\n",
              "      <td>0</td>\n",
              "      <td>NaN</td>\n",
              "      <td>other</td>\n",
              "      <td>negative.|1</td>\n",
              "      <td>negative</td>\n",
              "      <td>1</td>\n",
              "    </tr>\n",
              "  </tbody>\n",
              "</table>\n",
              "</div>"
            ],
            "text/plain": [
              "       age sex  on_thyroxine  ...       target  treatment  patient_id\n",
              "1985  <NA>   F             1  ...  negative.|1   negative           1\n",
              "\n",
              "[1 rows x 32 columns]"
            ]
          },
          "metadata": {
            "tags": []
          },
          "execution_count": 42
        }
      ]
    },
    {
      "cell_type": "markdown",
      "metadata": {
        "id": "4jp_674h5TRa"
      },
      "source": [
        "## Single Approach\n",
        "* Generally fine for MCAR (Missing Completely at Random)\n",
        "* Substitute a typical value for the missing value\n",
        "  * Mean - Sensitive to outliers\n",
        "  * Median - Robust to outliers\n",
        "  * Categories - Use mode"
      ]
    },
    {
      "cell_type": "code",
      "metadata": {
        "id": "EiVkeYDPNzUK"
      },
      "source": [
        "# Copy and remove TBG\n",
        "missing_df = df.copy()\n",
        "missing_df = missing_df.drop(columns=['TBG'])"
      ],
      "execution_count": 43,
      "outputs": []
    },
    {
      "cell_type": "code",
      "metadata": {
        "id": "wk8uSVJt6Q06"
      },
      "source": [
        "for col in missing_df.columns:\n",
        "  if col in COLUMNS_INT:\n",
        "    missing_df[col] = missing_df[col].fillna(missing_df[col].median())\n",
        "  elif col in COLUMNS_FLOAT:\n",
        "    missing_df[col] = missing_df[col].fillna(missing_df[col].mean())\n",
        "  elif col in COLUMNS_CATEGORY:\n",
        "    missing_df[col] = missing_df[col].fillna(missing_df[col].mode().iloc[0])\n",
        "  elif col in COLUMNS_BINARY:\n",
        "    missing_df[col] = missing_df[col].fillna(missing_df[col].mode())"
      ],
      "execution_count": 44,
      "outputs": []
    },
    {
      "cell_type": "code",
      "metadata": {
        "colab": {
          "base_uri": "https://localhost:8080/"
        },
        "id": "CiAP2ju7NoR6",
        "outputId": "df6caffd-fe98-43e5-b460-8b43dbef04d3"
      },
      "source": [
        "missing_df.isna().sum()"
      ],
      "execution_count": 45,
      "outputs": [
        {
          "output_type": "execute_result",
          "data": {
            "text/plain": [
              "age                   0\n",
              "sex                   0\n",
              "on_thyroxine          0\n",
              "query_on_thyroxine    0\n",
              "on_antithyroid        0\n",
              "sick                  0\n",
              "pregnant              0\n",
              "thyroid_surgery       0\n",
              "I131_treatment        0\n",
              "query_hypothyroid     0\n",
              "query_hyperthyroid    0\n",
              "lithium               0\n",
              "goitre                0\n",
              "tumor                 0\n",
              "hypopituitary         0\n",
              "psych                 0\n",
              "TSH_measured          0\n",
              "TSH                   0\n",
              "T3_measured           0\n",
              "T3                    0\n",
              "TT4_measured          0\n",
              "TT4                   0\n",
              "T4U_measured          0\n",
              "T4U                   0\n",
              "FTI_measured          0\n",
              "FTI                   0\n",
              "TBG_measured          0\n",
              "referral_source       0\n",
              "target                0\n",
              "treatment             0\n",
              "patient_id            0\n",
              "dtype: int64"
            ]
          },
          "metadata": {
            "tags": []
          },
          "execution_count": 45
        }
      ]
    },
    {
      "cell_type": "markdown",
      "metadata": {
        "id": "7ZzEj9bV5TxP"
      },
      "source": [
        "## Multiple Imputation\n",
        "* Better for MAR (Missing at Random) & MNAR (Missing not at Random)\n",
        "* Unlike missing completely at random, our missing point may be related to some of the observed data\n",
        "* For example, in a survey, they answer a question depending on the value of another question\n",
        "* Multiple Imputation\n",
        "  * Incorporates other variables related to the missing value to impute\n",
        "* Simple example:\n",
        "  * A football player's salary is missing\n",
        "  * In absense of anything perhaps league mean or median would be good.\n",
        "  * But what if you know he's a quarterback or first round draft pick. \n",
        "  * Then you'd be better off looking at the mean or median of a subgroup "
      ]
    },
    {
      "cell_type": "code",
      "metadata": {
        "id": "eHYhD4yRRz09"
      },
      "source": [
        "# Copy and drop TBG\n",
        "multi_df = df.copy()\n",
        "multi_df = multi_df.drop(columns=['TBG', 'target'])"
      ],
      "execution_count": 46,
      "outputs": []
    },
    {
      "cell_type": "code",
      "metadata": {
        "colab": {
          "base_uri": "https://localhost:8080/"
        },
        "id": "1sVyqczcUZX3",
        "outputId": "11975eb8-af76-441c-f40f-8cb8202fa676"
      },
      "source": [
        "# Save column names\n",
        "cols = multi_df.columns\n",
        "\n",
        "# Convert All Categories to Numerics\n",
        "for col in multi_df.select_dtypes('category').columns:\n",
        "  multi_df[col] = multi_df[col].cat.codes\n",
        "\n",
        "# Library can't handle all Pandas IntX types, convert to float\n",
        "for col in multi_df.columns:\n",
        "  if multi_df[col].dtype in ['Int8', 'Int32', 'Int64']:\n",
        "    multi_df[col] = multi_df[col].astype(float)"
      ],
      "execution_count": 47,
      "outputs": [
        {
          "output_type": "stream",
          "text": [
            "/usr/local/lib/python3.7/dist-packages/ipykernel_launcher.py:10: DeprecationWarning: Numeric-style type codes are deprecated and will result in an error in the future.\n",
            "  # Remove the CWD from sys.path while we load stuff.\n"
          ],
          "name": "stderr"
        }
      ]
    },
    {
      "cell_type": "code",
      "metadata": {
        "colab": {
          "base_uri": "https://localhost:8080/",
          "height": 422
        },
        "id": "h6EyYNnVY1Gw",
        "outputId": "317408f3-fbbd-4e0c-8924-28ae630d40d9"
      },
      "source": [
        "imp = IterativeImputer(max_iter=10, random_state=0)\n",
        "imp.fit(multi_df)\n",
        "imputed = imp.transform(multi_df)\n",
        "imputed_df = pd.DataFrame(imputed)\n",
        "imputed_df.columns = cols\n",
        "imputed_df"
      ],
      "execution_count": 48,
      "outputs": [
        {
          "output_type": "execute_result",
          "data": {
            "text/html": [
              "<div>\n",
              "<style scoped>\n",
              "    .dataframe tbody tr th:only-of-type {\n",
              "        vertical-align: middle;\n",
              "    }\n",
              "\n",
              "    .dataframe tbody tr th {\n",
              "        vertical-align: top;\n",
              "    }\n",
              "\n",
              "    .dataframe thead th {\n",
              "        text-align: right;\n",
              "    }\n",
              "</style>\n",
              "<table border=\"1\" class=\"dataframe\">\n",
              "  <thead>\n",
              "    <tr style=\"text-align: right;\">\n",
              "      <th></th>\n",
              "      <th>age</th>\n",
              "      <th>sex</th>\n",
              "      <th>on_thyroxine</th>\n",
              "      <th>query_on_thyroxine</th>\n",
              "      <th>on_antithyroid</th>\n",
              "      <th>sick</th>\n",
              "      <th>pregnant</th>\n",
              "      <th>thyroid_surgery</th>\n",
              "      <th>I131_treatment</th>\n",
              "      <th>query_hypothyroid</th>\n",
              "      <th>query_hyperthyroid</th>\n",
              "      <th>lithium</th>\n",
              "      <th>goitre</th>\n",
              "      <th>tumor</th>\n",
              "      <th>hypopituitary</th>\n",
              "      <th>psych</th>\n",
              "      <th>TSH_measured</th>\n",
              "      <th>TSH</th>\n",
              "      <th>T3_measured</th>\n",
              "      <th>T3</th>\n",
              "      <th>TT4_measured</th>\n",
              "      <th>TT4</th>\n",
              "      <th>T4U_measured</th>\n",
              "      <th>T4U</th>\n",
              "      <th>FTI_measured</th>\n",
              "      <th>FTI</th>\n",
              "      <th>TBG_measured</th>\n",
              "      <th>referral_source</th>\n",
              "      <th>treatment</th>\n",
              "      <th>patient_id</th>\n",
              "    </tr>\n",
              "  </thead>\n",
              "  <tbody>\n",
              "    <tr>\n",
              "      <th>0</th>\n",
              "      <td>41.0</td>\n",
              "      <td>0.0</td>\n",
              "      <td>0.0</td>\n",
              "      <td>0.0</td>\n",
              "      <td>0.0</td>\n",
              "      <td>0.0</td>\n",
              "      <td>0.0</td>\n",
              "      <td>0.0</td>\n",
              "      <td>0.0</td>\n",
              "      <td>0.0</td>\n",
              "      <td>0.0</td>\n",
              "      <td>0.0</td>\n",
              "      <td>0.0</td>\n",
              "      <td>0.0</td>\n",
              "      <td>0.0</td>\n",
              "      <td>0.0</td>\n",
              "      <td>1.0</td>\n",
              "      <td>1.30000</td>\n",
              "      <td>1.0</td>\n",
              "      <td>2.500000</td>\n",
              "      <td>1.0</td>\n",
              "      <td>125.0</td>\n",
              "      <td>1.0</td>\n",
              "      <td>1.140000</td>\n",
              "      <td>1.0</td>\n",
              "      <td>109.000000</td>\n",
              "      <td>0.0</td>\n",
              "      <td>1.0</td>\n",
              "      <td>2.0</td>\n",
              "      <td>3733.0</td>\n",
              "    </tr>\n",
              "    <tr>\n",
              "      <th>1</th>\n",
              "      <td>23.0</td>\n",
              "      <td>0.0</td>\n",
              "      <td>0.0</td>\n",
              "      <td>0.0</td>\n",
              "      <td>0.0</td>\n",
              "      <td>0.0</td>\n",
              "      <td>0.0</td>\n",
              "      <td>0.0</td>\n",
              "      <td>0.0</td>\n",
              "      <td>0.0</td>\n",
              "      <td>0.0</td>\n",
              "      <td>0.0</td>\n",
              "      <td>0.0</td>\n",
              "      <td>0.0</td>\n",
              "      <td>0.0</td>\n",
              "      <td>0.0</td>\n",
              "      <td>1.0</td>\n",
              "      <td>4.10000</td>\n",
              "      <td>1.0</td>\n",
              "      <td>2.000000</td>\n",
              "      <td>1.0</td>\n",
              "      <td>102.0</td>\n",
              "      <td>0.0</td>\n",
              "      <td>0.667307</td>\n",
              "      <td>0.0</td>\n",
              "      <td>144.476884</td>\n",
              "      <td>0.0</td>\n",
              "      <td>4.0</td>\n",
              "      <td>2.0</td>\n",
              "      <td>1442.0</td>\n",
              "    </tr>\n",
              "    <tr>\n",
              "      <th>2</th>\n",
              "      <td>46.0</td>\n",
              "      <td>1.0</td>\n",
              "      <td>0.0</td>\n",
              "      <td>0.0</td>\n",
              "      <td>0.0</td>\n",
              "      <td>0.0</td>\n",
              "      <td>0.0</td>\n",
              "      <td>0.0</td>\n",
              "      <td>0.0</td>\n",
              "      <td>0.0</td>\n",
              "      <td>0.0</td>\n",
              "      <td>0.0</td>\n",
              "      <td>0.0</td>\n",
              "      <td>0.0</td>\n",
              "      <td>0.0</td>\n",
              "      <td>0.0</td>\n",
              "      <td>1.0</td>\n",
              "      <td>0.98000</td>\n",
              "      <td>0.0</td>\n",
              "      <td>2.021911</td>\n",
              "      <td>1.0</td>\n",
              "      <td>109.0</td>\n",
              "      <td>1.0</td>\n",
              "      <td>0.910000</td>\n",
              "      <td>1.0</td>\n",
              "      <td>120.000000</td>\n",
              "      <td>0.0</td>\n",
              "      <td>4.0</td>\n",
              "      <td>2.0</td>\n",
              "      <td>2965.0</td>\n",
              "    </tr>\n",
              "    <tr>\n",
              "      <th>3</th>\n",
              "      <td>70.0</td>\n",
              "      <td>0.0</td>\n",
              "      <td>1.0</td>\n",
              "      <td>0.0</td>\n",
              "      <td>0.0</td>\n",
              "      <td>0.0</td>\n",
              "      <td>0.0</td>\n",
              "      <td>0.0</td>\n",
              "      <td>0.0</td>\n",
              "      <td>0.0</td>\n",
              "      <td>0.0</td>\n",
              "      <td>0.0</td>\n",
              "      <td>0.0</td>\n",
              "      <td>0.0</td>\n",
              "      <td>0.0</td>\n",
              "      <td>0.0</td>\n",
              "      <td>1.0</td>\n",
              "      <td>0.16000</td>\n",
              "      <td>1.0</td>\n",
              "      <td>1.900000</td>\n",
              "      <td>1.0</td>\n",
              "      <td>175.0</td>\n",
              "      <td>0.0</td>\n",
              "      <td>0.709239</td>\n",
              "      <td>0.0</td>\n",
              "      <td>211.611588</td>\n",
              "      <td>0.0</td>\n",
              "      <td>4.0</td>\n",
              "      <td>2.0</td>\n",
              "      <td>806.0</td>\n",
              "    </tr>\n",
              "    <tr>\n",
              "      <th>4</th>\n",
              "      <td>70.0</td>\n",
              "      <td>0.0</td>\n",
              "      <td>0.0</td>\n",
              "      <td>0.0</td>\n",
              "      <td>0.0</td>\n",
              "      <td>0.0</td>\n",
              "      <td>0.0</td>\n",
              "      <td>0.0</td>\n",
              "      <td>0.0</td>\n",
              "      <td>0.0</td>\n",
              "      <td>0.0</td>\n",
              "      <td>0.0</td>\n",
              "      <td>0.0</td>\n",
              "      <td>0.0</td>\n",
              "      <td>0.0</td>\n",
              "      <td>0.0</td>\n",
              "      <td>1.0</td>\n",
              "      <td>0.72000</td>\n",
              "      <td>1.0</td>\n",
              "      <td>1.200000</td>\n",
              "      <td>1.0</td>\n",
              "      <td>61.0</td>\n",
              "      <td>1.0</td>\n",
              "      <td>0.870000</td>\n",
              "      <td>1.0</td>\n",
              "      <td>70.000000</td>\n",
              "      <td>0.0</td>\n",
              "      <td>3.0</td>\n",
              "      <td>2.0</td>\n",
              "      <td>2807.0</td>\n",
              "    </tr>\n",
              "    <tr>\n",
              "      <th>...</th>\n",
              "      <td>...</td>\n",
              "      <td>...</td>\n",
              "      <td>...</td>\n",
              "      <td>...</td>\n",
              "      <td>...</td>\n",
              "      <td>...</td>\n",
              "      <td>...</td>\n",
              "      <td>...</td>\n",
              "      <td>...</td>\n",
              "      <td>...</td>\n",
              "      <td>...</td>\n",
              "      <td>...</td>\n",
              "      <td>...</td>\n",
              "      <td>...</td>\n",
              "      <td>...</td>\n",
              "      <td>...</td>\n",
              "      <td>...</td>\n",
              "      <td>...</td>\n",
              "      <td>...</td>\n",
              "      <td>...</td>\n",
              "      <td>...</td>\n",
              "      <td>...</td>\n",
              "      <td>...</td>\n",
              "      <td>...</td>\n",
              "      <td>...</td>\n",
              "      <td>...</td>\n",
              "      <td>...</td>\n",
              "      <td>...</td>\n",
              "      <td>...</td>\n",
              "      <td>...</td>\n",
              "    </tr>\n",
              "    <tr>\n",
              "      <th>2795</th>\n",
              "      <td>70.0</td>\n",
              "      <td>1.0</td>\n",
              "      <td>0.0</td>\n",
              "      <td>0.0</td>\n",
              "      <td>0.0</td>\n",
              "      <td>0.0</td>\n",
              "      <td>0.0</td>\n",
              "      <td>0.0</td>\n",
              "      <td>0.0</td>\n",
              "      <td>0.0</td>\n",
              "      <td>0.0</td>\n",
              "      <td>0.0</td>\n",
              "      <td>0.0</td>\n",
              "      <td>0.0</td>\n",
              "      <td>0.0</td>\n",
              "      <td>0.0</td>\n",
              "      <td>1.0</td>\n",
              "      <td>2.70000</td>\n",
              "      <td>0.0</td>\n",
              "      <td>2.330345</td>\n",
              "      <td>1.0</td>\n",
              "      <td>155.0</td>\n",
              "      <td>1.0</td>\n",
              "      <td>1.050000</td>\n",
              "      <td>1.0</td>\n",
              "      <td>148.000000</td>\n",
              "      <td>0.0</td>\n",
              "      <td>3.0</td>\n",
              "      <td>2.0</td>\n",
              "      <td>3689.0</td>\n",
              "    </tr>\n",
              "    <tr>\n",
              "      <th>2796</th>\n",
              "      <td>73.0</td>\n",
              "      <td>1.0</td>\n",
              "      <td>0.0</td>\n",
              "      <td>1.0</td>\n",
              "      <td>0.0</td>\n",
              "      <td>0.0</td>\n",
              "      <td>0.0</td>\n",
              "      <td>0.0</td>\n",
              "      <td>0.0</td>\n",
              "      <td>0.0</td>\n",
              "      <td>0.0</td>\n",
              "      <td>0.0</td>\n",
              "      <td>0.0</td>\n",
              "      <td>0.0</td>\n",
              "      <td>0.0</td>\n",
              "      <td>0.0</td>\n",
              "      <td>0.0</td>\n",
              "      <td>10.15825</td>\n",
              "      <td>1.0</td>\n",
              "      <td>0.700000</td>\n",
              "      <td>1.0</td>\n",
              "      <td>63.0</td>\n",
              "      <td>1.0</td>\n",
              "      <td>0.880000</td>\n",
              "      <td>1.0</td>\n",
              "      <td>72.000000</td>\n",
              "      <td>0.0</td>\n",
              "      <td>4.0</td>\n",
              "      <td>2.0</td>\n",
              "      <td>3652.0</td>\n",
              "    </tr>\n",
              "    <tr>\n",
              "      <th>2797</th>\n",
              "      <td>75.0</td>\n",
              "      <td>1.0</td>\n",
              "      <td>0.0</td>\n",
              "      <td>0.0</td>\n",
              "      <td>0.0</td>\n",
              "      <td>0.0</td>\n",
              "      <td>0.0</td>\n",
              "      <td>0.0</td>\n",
              "      <td>0.0</td>\n",
              "      <td>0.0</td>\n",
              "      <td>1.0</td>\n",
              "      <td>0.0</td>\n",
              "      <td>0.0</td>\n",
              "      <td>0.0</td>\n",
              "      <td>0.0</td>\n",
              "      <td>0.0</td>\n",
              "      <td>0.0</td>\n",
              "      <td>-9.65012</td>\n",
              "      <td>0.0</td>\n",
              "      <td>2.725409</td>\n",
              "      <td>1.0</td>\n",
              "      <td>147.0</td>\n",
              "      <td>1.0</td>\n",
              "      <td>0.800000</td>\n",
              "      <td>1.0</td>\n",
              "      <td>183.000000</td>\n",
              "      <td>0.0</td>\n",
              "      <td>4.0</td>\n",
              "      <td>2.0</td>\n",
              "      <td>1287.0</td>\n",
              "    </tr>\n",
              "    <tr>\n",
              "      <th>2798</th>\n",
              "      <td>60.0</td>\n",
              "      <td>0.0</td>\n",
              "      <td>0.0</td>\n",
              "      <td>0.0</td>\n",
              "      <td>0.0</td>\n",
              "      <td>0.0</td>\n",
              "      <td>0.0</td>\n",
              "      <td>0.0</td>\n",
              "      <td>0.0</td>\n",
              "      <td>0.0</td>\n",
              "      <td>0.0</td>\n",
              "      <td>0.0</td>\n",
              "      <td>0.0</td>\n",
              "      <td>0.0</td>\n",
              "      <td>0.0</td>\n",
              "      <td>0.0</td>\n",
              "      <td>1.0</td>\n",
              "      <td>1.40000</td>\n",
              "      <td>0.0</td>\n",
              "      <td>1.680101</td>\n",
              "      <td>1.0</td>\n",
              "      <td>100.0</td>\n",
              "      <td>1.0</td>\n",
              "      <td>0.830000</td>\n",
              "      <td>1.0</td>\n",
              "      <td>121.000000</td>\n",
              "      <td>0.0</td>\n",
              "      <td>4.0</td>\n",
              "      <td>2.0</td>\n",
              "      <td>3496.0</td>\n",
              "    </tr>\n",
              "    <tr>\n",
              "      <th>2799</th>\n",
              "      <td>81.0</td>\n",
              "      <td>0.0</td>\n",
              "      <td>0.0</td>\n",
              "      <td>0.0</td>\n",
              "      <td>0.0</td>\n",
              "      <td>0.0</td>\n",
              "      <td>0.0</td>\n",
              "      <td>0.0</td>\n",
              "      <td>0.0</td>\n",
              "      <td>0.0</td>\n",
              "      <td>0.0</td>\n",
              "      <td>0.0</td>\n",
              "      <td>0.0</td>\n",
              "      <td>0.0</td>\n",
              "      <td>0.0</td>\n",
              "      <td>0.0</td>\n",
              "      <td>1.0</td>\n",
              "      <td>1.20000</td>\n",
              "      <td>1.0</td>\n",
              "      <td>1.500000</td>\n",
              "      <td>1.0</td>\n",
              "      <td>114.0</td>\n",
              "      <td>1.0</td>\n",
              "      <td>0.990000</td>\n",
              "      <td>1.0</td>\n",
              "      <td>115.000000</td>\n",
              "      <td>0.0</td>\n",
              "      <td>3.0</td>\n",
              "      <td>2.0</td>\n",
              "      <td>724.0</td>\n",
              "    </tr>\n",
              "  </tbody>\n",
              "</table>\n",
              "<p>2800 rows × 30 columns</p>\n",
              "</div>"
            ],
            "text/plain": [
              "       age  sex  on_thyroxine  ...  referral_source  treatment  patient_id\n",
              "0     41.0  0.0           0.0  ...              1.0        2.0      3733.0\n",
              "1     23.0  0.0           0.0  ...              4.0        2.0      1442.0\n",
              "2     46.0  1.0           0.0  ...              4.0        2.0      2965.0\n",
              "3     70.0  0.0           1.0  ...              4.0        2.0       806.0\n",
              "4     70.0  0.0           0.0  ...              3.0        2.0      2807.0\n",
              "...    ...  ...           ...  ...              ...        ...         ...\n",
              "2795  70.0  1.0           0.0  ...              3.0        2.0      3689.0\n",
              "2796  73.0  1.0           0.0  ...              4.0        2.0      3652.0\n",
              "2797  75.0  1.0           0.0  ...              4.0        2.0      1287.0\n",
              "2798  60.0  0.0           0.0  ...              4.0        2.0      3496.0\n",
              "2799  81.0  0.0           0.0  ...              3.0        2.0       724.0\n",
              "\n",
              "[2800 rows x 30 columns]"
            ]
          },
          "metadata": {
            "tags": []
          },
          "execution_count": 48
        }
      ]
    },
    {
      "cell_type": "code",
      "metadata": {
        "colab": {
          "base_uri": "https://localhost:8080/"
        },
        "id": "V25o0OoaZbpq",
        "outputId": "88241590-ef0c-4dbe-d19a-78d51a31f36d"
      },
      "source": [
        "imputed_df.isna().sum()"
      ],
      "execution_count": 49,
      "outputs": [
        {
          "output_type": "execute_result",
          "data": {
            "text/plain": [
              "age                   0\n",
              "sex                   0\n",
              "on_thyroxine          0\n",
              "query_on_thyroxine    0\n",
              "on_antithyroid        0\n",
              "sick                  0\n",
              "pregnant              0\n",
              "thyroid_surgery       0\n",
              "I131_treatment        0\n",
              "query_hypothyroid     0\n",
              "query_hyperthyroid    0\n",
              "lithium               0\n",
              "goitre                0\n",
              "tumor                 0\n",
              "hypopituitary         0\n",
              "psych                 0\n",
              "TSH_measured          0\n",
              "TSH                   0\n",
              "T3_measured           0\n",
              "T3                    0\n",
              "TT4_measured          0\n",
              "TT4                   0\n",
              "T4U_measured          0\n",
              "T4U                   0\n",
              "FTI_measured          0\n",
              "FTI                   0\n",
              "TBG_measured          0\n",
              "referral_source       0\n",
              "treatment             0\n",
              "patient_id            0\n",
              "dtype: int64"
            ]
          },
          "metadata": {
            "tags": []
          },
          "execution_count": 49
        }
      ]
    },
    {
      "cell_type": "markdown",
      "metadata": {
        "id": "zwgjEulLagAK"
      },
      "source": [
        "## Compare\n",
        "* Quick look at differences in age between:\n",
        "  * Single - Use median\n",
        "  * Multi"
      ]
    },
    {
      "cell_type": "code",
      "metadata": {
        "colab": {
          "base_uri": "https://localhost:8080/"
        },
        "id": "OraM1PCZZm7g",
        "outputId": "9851eab7-7039-49c8-b681-6970daabda1c"
      },
      "source": [
        "# Original\n",
        "df.age.iloc[1985]"
      ],
      "execution_count": 50,
      "outputs": [
        {
          "output_type": "execute_result",
          "data": {
            "text/plain": [
              "<NA>"
            ]
          },
          "metadata": {
            "tags": []
          },
          "execution_count": 50
        }
      ]
    },
    {
      "cell_type": "code",
      "metadata": {
        "colab": {
          "base_uri": "https://localhost:8080/"
        },
        "id": "tZ9BHG43aqDE",
        "outputId": "d9f1010e-0e70-407a-e6ce-5b2c5f3e092a"
      },
      "source": [
        "# Single\n",
        "missing_df.age.iloc[1985]"
      ],
      "execution_count": 51,
      "outputs": [
        {
          "output_type": "execute_result",
          "data": {
            "text/plain": [
              "54"
            ]
          },
          "metadata": {
            "tags": []
          },
          "execution_count": 51
        }
      ]
    },
    {
      "cell_type": "code",
      "metadata": {
        "colab": {
          "base_uri": "https://localhost:8080/"
        },
        "id": "3rgweTVDafXZ",
        "outputId": "d59a0156-f649-4a25-b421-6beef3341639"
      },
      "source": [
        "# Multi\n",
        "imputed_df.age.iloc[1985]"
      ],
      "execution_count": 52,
      "outputs": [
        {
          "output_type": "execute_result",
          "data": {
            "text/plain": [
              "67.81433516981784"
            ]
          },
          "metadata": {
            "tags": []
          },
          "execution_count": 52
        }
      ]
    },
    {
      "cell_type": "markdown",
      "metadata": {
        "id": "PzC80qbADztd"
      },
      "source": [
        "# Outliers\n",
        "* Age, treated early had a visible outlier\n",
        "* How can we detect"
      ]
    },
    {
      "cell_type": "code",
      "metadata": {
        "id": "X59RRCJchMR4"
      },
      "source": [
        "# Use a copy of our imputed dataset\n",
        "outlier_df = imputed_df.copy()"
      ],
      "execution_count": 53,
      "outputs": []
    },
    {
      "cell_type": "markdown",
      "metadata": {
        "id": "1HxBmPUkiD0C"
      },
      "source": [
        "## Visual\n",
        "* Box plots are helpful for viewing outliers"
      ]
    },
    {
      "cell_type": "code",
      "metadata": {
        "colab": {
          "base_uri": "https://localhost:8080/",
          "height": 1000
        },
        "id": "xNt3rseOW_Fk",
        "outputId": "d53d7fc0-93a1-4ea2-961e-9b6d69f25985"
      },
      "source": [
        "for col in COLUMNS_FLOAT:\n",
        "  if col in outlier_df.columns:\n",
        "    sns.boxplot(x=outlier_df[col])\n",
        "    plt.show();"
      ],
      "execution_count": 54,
      "outputs": [
        {
          "output_type": "display_data",
          "data": {
            "image/png": "[encoded data removed]",
            "text/plain": [
              "<Figure size 432x288 with 1 Axes>"
            ]
          },
          "metadata": {
            "tags": [],
            "needs_background": "light"
          }
        },
        {
          "output_type": "display_data",
          "data": {
            "image/png": "[encoded data removed]",
            "text/plain": [
              "<Figure size 432x288 with 1 Axes>"
            ]
          },
          "metadata": {
            "tags": [],
            "needs_background": "light"
          }
        },
        {
          "output_type": "display_data",
          "data": {
            "image/png": "[encoded data removed]",
            "text/plain": [
              "<Figure size 432x288 with 1 Axes>"
            ]
          },
          "metadata": {
            "tags": [],
            "needs_background": "light"
          }
        },
        {
          "output_type": "display_data",
          "data": {
            "image/png": "[encoded data removed]",
            "text/plain": [
              "<Figure size 432x288 with 1 Axes>"
            ]
          },
          "metadata": {
            "tags": [],
            "needs_background": "light"
          }
        },
        {
          "output_type": "display_data",
          "data": {
            "image/png": "[encoded data removed]",
            "text/plain": [
              "<Figure size 432x288 with 1 Axes>"
            ]
          },
          "metadata": {
            "tags": [],
            "needs_background": "light"
          }
        }
      ]
    },
    {
      "cell_type": "markdown",
      "metadata": {
        "id": "hf8rUFdthlRM"
      },
      "source": [
        "## Z-Score\n",
        "* Where does the value fall on a normal curve\n",
        "* How many standard deviations away?\n",
        "* Is your data normal?\n",
        "  * If it's not, you could apply transformations to it\n",
        "  * Square, Square Root, Log\n",
        "* Shoould you keep or remove?"
      ]
    },
    {
      "cell_type": "code",
      "metadata": {
        "colab": {
          "base_uri": "https://localhost:8080/"
        },
        "id": "lre2oqWGifkc",
        "outputId": "15ea39a5-fe00-43ec-823b-4aaef081cad1"
      },
      "source": [
        "for col in COLUMNS_FLOAT:\n",
        "  if col in outlier_df.columns:\n",
        "    outlier_df[f'{col}_z'] = np.abs(stats.zscore(outlier_df[col]))\n",
        "    print(f\"{col}\\n{outlier_df[f'{col}_z'].sort_values()[-5:]}\")"
      ],
      "execution_count": 55,
      "outputs": [
        {
          "output_type": "stream",
          "text": [
            "TSH\n",
            "659      8.988887\n",
            "639      9.528048\n",
            "2772    22.712991\n",
            "2507    22.909050\n",
            "1165    23.203137\n",
            "Name: TSH_z, dtype: float64\n",
            "T3\n",
            "783      6.105532\n",
            "1757     6.498767\n",
            "2613     6.629846\n",
            "743      6.892002\n",
            "1671    11.217588\n",
            "Name: T3_z, dtype: float64\n",
            "TT4\n",
            "604     4.767988\n",
            "2366    5.264001\n",
            "2671    5.614128\n",
            "743     9.377992\n",
            "1415    9.377992\n",
            "Name: TT4_z, dtype: float64\n",
            "T4U\n",
            "300     4.642598\n",
            "1926    4.690694\n",
            "530     4.834983\n",
            "740     5.123561\n",
            "1961    5.556428\n",
            "Name: T4U_z, dtype: float64\n",
            "FTI\n",
            "542     5.991180\n",
            "1671    7.111021\n",
            "456     7.504479\n",
            "1415    8.503256\n",
            "743     8.503256\n",
            "Name: FTI_z, dtype: float64\n"
          ],
          "name": "stdout"
        }
      ]
    },
    {
      "cell_type": "markdown",
      "metadata": {
        "id": "Jn9FmoFtiwo1"
      },
      "source": [
        "## Filtering\n",
        "* Depending on our domain knowledge we could choose to filter observations that have an outlier \n",
        "* A common cutoff for normal data is 3 standard deviations, but you should consider how \"normal\" your data is"
      ]
    },
    {
      "cell_type": "code",
      "metadata": {
        "colab": {
          "base_uri": "https://localhost:8080/",
          "height": 422
        },
        "id": "81rr5kY0juXX",
        "outputId": "75a2d7c0-1e7d-43a7-abb1-870954be4a2f"
      },
      "source": [
        "outlier_df[(outlier_df.TSH_z < 3) &\n",
        "           (outlier_df.T3_z  < 3) &\n",
        "           (outlier_df.TT4_z < 3) & \n",
        "           (outlier_df.T4U_z < 3) &\n",
        "           (outlier_df.FTI_z < 3)]"
      ],
      "execution_count": 56,
      "outputs": [
        {
          "output_type": "execute_result",
          "data": {
            "text/html": [
              "<div>\n",
              "<style scoped>\n",
              "    .dataframe tbody tr th:only-of-type {\n",
              "        vertical-align: middle;\n",
              "    }\n",
              "\n",
              "    .dataframe tbody tr th {\n",
              "        vertical-align: top;\n",
              "    }\n",
              "\n",
              "    .dataframe thead th {\n",
              "        text-align: right;\n",
              "    }\n",
              "</style>\n",
              "<table border=\"1\" class=\"dataframe\">\n",
              "  <thead>\n",
              "    <tr style=\"text-align: right;\">\n",
              "      <th></th>\n",
              "      <th>age</th>\n",
              "      <th>sex</th>\n",
              "      <th>on_thyroxine</th>\n",
              "      <th>query_on_thyroxine</th>\n",
              "      <th>on_antithyroid</th>\n",
              "      <th>sick</th>\n",
              "      <th>pregnant</th>\n",
              "      <th>thyroid_surgery</th>\n",
              "      <th>I131_treatment</th>\n",
              "      <th>query_hypothyroid</th>\n",
              "      <th>query_hyperthyroid</th>\n",
              "      <th>lithium</th>\n",
              "      <th>goitre</th>\n",
              "      <th>tumor</th>\n",
              "      <th>hypopituitary</th>\n",
              "      <th>psych</th>\n",
              "      <th>TSH_measured</th>\n",
              "      <th>TSH</th>\n",
              "      <th>T3_measured</th>\n",
              "      <th>T3</th>\n",
              "      <th>TT4_measured</th>\n",
              "      <th>TT4</th>\n",
              "      <th>T4U_measured</th>\n",
              "      <th>T4U</th>\n",
              "      <th>FTI_measured</th>\n",
              "      <th>FTI</th>\n",
              "      <th>TBG_measured</th>\n",
              "      <th>referral_source</th>\n",
              "      <th>treatment</th>\n",
              "      <th>patient_id</th>\n",
              "      <th>TSH_z</th>\n",
              "      <th>T3_z</th>\n",
              "      <th>TT4_z</th>\n",
              "      <th>T4U_z</th>\n",
              "      <th>FTI_z</th>\n",
              "    </tr>\n",
              "  </thead>\n",
              "  <tbody>\n",
              "    <tr>\n",
              "      <th>0</th>\n",
              "      <td>41.0</td>\n",
              "      <td>0.0</td>\n",
              "      <td>0.0</td>\n",
              "      <td>0.0</td>\n",
              "      <td>0.0</td>\n",
              "      <td>0.0</td>\n",
              "      <td>0.0</td>\n",
              "      <td>0.0</td>\n",
              "      <td>0.0</td>\n",
              "      <td>0.0</td>\n",
              "      <td>0.0</td>\n",
              "      <td>0.0</td>\n",
              "      <td>0.0</td>\n",
              "      <td>0.0</td>\n",
              "      <td>0.0</td>\n",
              "      <td>0.0</td>\n",
              "      <td>1.0</td>\n",
              "      <td>1.30000</td>\n",
              "      <td>1.0</td>\n",
              "      <td>2.500000</td>\n",
              "      <td>1.0</td>\n",
              "      <td>125.0</td>\n",
              "      <td>1.0</td>\n",
              "      <td>1.140000</td>\n",
              "      <td>1.0</td>\n",
              "      <td>109.000000</td>\n",
              "      <td>0.0</td>\n",
              "      <td>1.0</td>\n",
              "      <td>2.0</td>\n",
              "      <td>3733.0</td>\n",
              "      <td>0.162149</td>\n",
              "      <td>0.600241</td>\n",
              "      <td>0.478933</td>\n",
              "      <td>0.842989</td>\n",
              "      <td>0.152814</td>\n",
              "    </tr>\n",
              "    <tr>\n",
              "      <th>1</th>\n",
              "      <td>23.0</td>\n",
              "      <td>0.0</td>\n",
              "      <td>0.0</td>\n",
              "      <td>0.0</td>\n",
              "      <td>0.0</td>\n",
              "      <td>0.0</td>\n",
              "      <td>0.0</td>\n",
              "      <td>0.0</td>\n",
              "      <td>0.0</td>\n",
              "      <td>0.0</td>\n",
              "      <td>0.0</td>\n",
              "      <td>0.0</td>\n",
              "      <td>0.0</td>\n",
              "      <td>0.0</td>\n",
              "      <td>0.0</td>\n",
              "      <td>0.0</td>\n",
              "      <td>1.0</td>\n",
              "      <td>4.10000</td>\n",
              "      <td>1.0</td>\n",
              "      <td>2.000000</td>\n",
              "      <td>1.0</td>\n",
              "      <td>102.0</td>\n",
              "      <td>0.0</td>\n",
              "      <td>0.667307</td>\n",
              "      <td>0.0</td>\n",
              "      <td>144.476884</td>\n",
              "      <td>0.0</td>\n",
              "      <td>4.0</td>\n",
              "      <td>2.0</td>\n",
              "      <td>1442.0</td>\n",
              "      <td>0.024908</td>\n",
              "      <td>0.055150</td>\n",
              "      <td>0.192143</td>\n",
              "      <td>1.430491</td>\n",
              "      <td>0.920928</td>\n",
              "    </tr>\n",
              "    <tr>\n",
              "      <th>2</th>\n",
              "      <td>46.0</td>\n",
              "      <td>1.0</td>\n",
              "      <td>0.0</td>\n",
              "      <td>0.0</td>\n",
              "      <td>0.0</td>\n",
              "      <td>0.0</td>\n",
              "      <td>0.0</td>\n",
              "      <td>0.0</td>\n",
              "      <td>0.0</td>\n",
              "      <td>0.0</td>\n",
              "      <td>0.0</td>\n",
              "      <td>0.0</td>\n",
              "      <td>0.0</td>\n",
              "      <td>0.0</td>\n",
              "      <td>0.0</td>\n",
              "      <td>0.0</td>\n",
              "      <td>1.0</td>\n",
              "      <td>0.98000</td>\n",
              "      <td>0.0</td>\n",
              "      <td>2.021911</td>\n",
              "      <td>1.0</td>\n",
              "      <td>109.0</td>\n",
              "      <td>1.0</td>\n",
              "      <td>0.910000</td>\n",
              "      <td>1.0</td>\n",
              "      <td>120.000000</td>\n",
              "      <td>0.0</td>\n",
              "      <td>4.0</td>\n",
              "      <td>2.0</td>\n",
              "      <td>2965.0</td>\n",
              "      <td>0.177834</td>\n",
              "      <td>0.026430</td>\n",
              "      <td>0.012097</td>\n",
              "      <td>0.263227</td>\n",
              "      <td>0.180111</td>\n",
              "    </tr>\n",
              "    <tr>\n",
              "      <th>3</th>\n",
              "      <td>70.0</td>\n",
              "      <td>0.0</td>\n",
              "      <td>1.0</td>\n",
              "      <td>0.0</td>\n",
              "      <td>0.0</td>\n",
              "      <td>0.0</td>\n",
              "      <td>0.0</td>\n",
              "      <td>0.0</td>\n",
              "      <td>0.0</td>\n",
              "      <td>0.0</td>\n",
              "      <td>0.0</td>\n",
              "      <td>0.0</td>\n",
              "      <td>0.0</td>\n",
              "      <td>0.0</td>\n",
              "      <td>0.0</td>\n",
              "      <td>0.0</td>\n",
              "      <td>1.0</td>\n",
              "      <td>0.16000</td>\n",
              "      <td>1.0</td>\n",
              "      <td>1.900000</td>\n",
              "      <td>1.0</td>\n",
              "      <td>175.0</td>\n",
              "      <td>0.0</td>\n",
              "      <td>0.709239</td>\n",
              "      <td>0.0</td>\n",
              "      <td>211.611588</td>\n",
              "      <td>0.0</td>\n",
              "      <td>4.0</td>\n",
              "      <td>2.0</td>\n",
              "      <td>806.0</td>\n",
              "      <td>0.218026</td>\n",
              "      <td>0.186229</td>\n",
              "      <td>1.937795</td>\n",
              "      <td>1.228812</td>\n",
              "      <td>2.952826</td>\n",
              "    </tr>\n",
              "    <tr>\n",
              "      <th>4</th>\n",
              "      <td>70.0</td>\n",
              "      <td>0.0</td>\n",
              "      <td>0.0</td>\n",
              "      <td>0.0</td>\n",
              "      <td>0.0</td>\n",
              "      <td>0.0</td>\n",
              "      <td>0.0</td>\n",
              "      <td>0.0</td>\n",
              "      <td>0.0</td>\n",
              "      <td>0.0</td>\n",
              "      <td>0.0</td>\n",
              "      <td>0.0</td>\n",
              "      <td>0.0</td>\n",
              "      <td>0.0</td>\n",
              "      <td>0.0</td>\n",
              "      <td>0.0</td>\n",
              "      <td>1.0</td>\n",
              "      <td>0.72000</td>\n",
              "      <td>1.0</td>\n",
              "      <td>1.200000</td>\n",
              "      <td>1.0</td>\n",
              "      <td>61.0</td>\n",
              "      <td>1.0</td>\n",
              "      <td>0.870000</td>\n",
              "      <td>1.0</td>\n",
              "      <td>70.000000</td>\n",
              "      <td>0.0</td>\n",
              "      <td>3.0</td>\n",
              "      <td>2.0</td>\n",
              "      <td>2807.0</td>\n",
              "      <td>0.190578</td>\n",
              "      <td>1.103777</td>\n",
              "      <td>1.388410</td>\n",
              "      <td>0.455612</td>\n",
              "      <td>1.333188</td>\n",
              "    </tr>\n",
              "    <tr>\n",
              "      <th>...</th>\n",
              "      <td>...</td>\n",
              "      <td>...</td>\n",
              "      <td>...</td>\n",
              "      <td>...</td>\n",
              "      <td>...</td>\n",
              "      <td>...</td>\n",
              "      <td>...</td>\n",
              "      <td>...</td>\n",
              "      <td>...</td>\n",
              "      <td>...</td>\n",
              "      <td>...</td>\n",
              "      <td>...</td>\n",
              "      <td>...</td>\n",
              "      <td>...</td>\n",
              "      <td>...</td>\n",
              "      <td>...</td>\n",
              "      <td>...</td>\n",
              "      <td>...</td>\n",
              "      <td>...</td>\n",
              "      <td>...</td>\n",
              "      <td>...</td>\n",
              "      <td>...</td>\n",
              "      <td>...</td>\n",
              "      <td>...</td>\n",
              "      <td>...</td>\n",
              "      <td>...</td>\n",
              "      <td>...</td>\n",
              "      <td>...</td>\n",
              "      <td>...</td>\n",
              "      <td>...</td>\n",
              "      <td>...</td>\n",
              "      <td>...</td>\n",
              "      <td>...</td>\n",
              "      <td>...</td>\n",
              "      <td>...</td>\n",
              "    </tr>\n",
              "    <tr>\n",
              "      <th>2795</th>\n",
              "      <td>70.0</td>\n",
              "      <td>1.0</td>\n",
              "      <td>0.0</td>\n",
              "      <td>0.0</td>\n",
              "      <td>0.0</td>\n",
              "      <td>0.0</td>\n",
              "      <td>0.0</td>\n",
              "      <td>0.0</td>\n",
              "      <td>0.0</td>\n",
              "      <td>0.0</td>\n",
              "      <td>0.0</td>\n",
              "      <td>0.0</td>\n",
              "      <td>0.0</td>\n",
              "      <td>0.0</td>\n",
              "      <td>0.0</td>\n",
              "      <td>0.0</td>\n",
              "      <td>1.0</td>\n",
              "      <td>2.70000</td>\n",
              "      <td>0.0</td>\n",
              "      <td>2.330345</td>\n",
              "      <td>1.0</td>\n",
              "      <td>155.0</td>\n",
              "      <td>1.0</td>\n",
              "      <td>1.050000</td>\n",
              "      <td>1.0</td>\n",
              "      <td>148.000000</td>\n",
              "      <td>0.0</td>\n",
              "      <td>3.0</td>\n",
              "      <td>2.0</td>\n",
              "      <td>3689.0</td>\n",
              "      <td>0.093529</td>\n",
              "      <td>0.377861</td>\n",
              "      <td>1.354250</td>\n",
              "      <td>0.410122</td>\n",
              "      <td>1.027559</td>\n",
              "    </tr>\n",
              "    <tr>\n",
              "      <th>2796</th>\n",
              "      <td>73.0</td>\n",
              "      <td>1.0</td>\n",
              "      <td>0.0</td>\n",
              "      <td>1.0</td>\n",
              "      <td>0.0</td>\n",
              "      <td>0.0</td>\n",
              "      <td>0.0</td>\n",
              "      <td>0.0</td>\n",
              "      <td>0.0</td>\n",
              "      <td>0.0</td>\n",
              "      <td>0.0</td>\n",
              "      <td>0.0</td>\n",
              "      <td>0.0</td>\n",
              "      <td>0.0</td>\n",
              "      <td>0.0</td>\n",
              "      <td>0.0</td>\n",
              "      <td>0.0</td>\n",
              "      <td>10.15825</td>\n",
              "      <td>1.0</td>\n",
              "      <td>0.700000</td>\n",
              "      <td>1.0</td>\n",
              "      <td>63.0</td>\n",
              "      <td>1.0</td>\n",
              "      <td>0.880000</td>\n",
              "      <td>1.0</td>\n",
              "      <td>72.000000</td>\n",
              "      <td>0.0</td>\n",
              "      <td>4.0</td>\n",
              "      <td>2.0</td>\n",
              "      <td>3652.0</td>\n",
              "      <td>0.272035</td>\n",
              "      <td>1.759169</td>\n",
              "      <td>1.330056</td>\n",
              "      <td>0.407516</td>\n",
              "      <td>1.272656</td>\n",
              "    </tr>\n",
              "    <tr>\n",
              "      <th>2797</th>\n",
              "      <td>75.0</td>\n",
              "      <td>1.0</td>\n",
              "      <td>0.0</td>\n",
              "      <td>0.0</td>\n",
              "      <td>0.0</td>\n",
              "      <td>0.0</td>\n",
              "      <td>0.0</td>\n",
              "      <td>0.0</td>\n",
              "      <td>0.0</td>\n",
              "      <td>0.0</td>\n",
              "      <td>1.0</td>\n",
              "      <td>0.0</td>\n",
              "      <td>0.0</td>\n",
              "      <td>0.0</td>\n",
              "      <td>0.0</td>\n",
              "      <td>0.0</td>\n",
              "      <td>0.0</td>\n",
              "      <td>-9.65012</td>\n",
              "      <td>0.0</td>\n",
              "      <td>2.725409</td>\n",
              "      <td>1.0</td>\n",
              "      <td>147.0</td>\n",
              "      <td>1.0</td>\n",
              "      <td>0.800000</td>\n",
              "      <td>1.0</td>\n",
              "      <td>183.000000</td>\n",
              "      <td>0.0</td>\n",
              "      <td>4.0</td>\n",
              "      <td>2.0</td>\n",
              "      <td>1287.0</td>\n",
              "      <td>0.698866</td>\n",
              "      <td>0.895703</td>\n",
              "      <td>1.120833</td>\n",
              "      <td>0.792286</td>\n",
              "      <td>2.086868</td>\n",
              "    </tr>\n",
              "    <tr>\n",
              "      <th>2798</th>\n",
              "      <td>60.0</td>\n",
              "      <td>0.0</td>\n",
              "      <td>0.0</td>\n",
              "      <td>0.0</td>\n",
              "      <td>0.0</td>\n",
              "      <td>0.0</td>\n",
              "      <td>0.0</td>\n",
              "      <td>0.0</td>\n",
              "      <td>0.0</td>\n",
              "      <td>0.0</td>\n",
              "      <td>0.0</td>\n",
              "      <td>0.0</td>\n",
              "      <td>0.0</td>\n",
              "      <td>0.0</td>\n",
              "      <td>0.0</td>\n",
              "      <td>0.0</td>\n",
              "      <td>1.0</td>\n",
              "      <td>1.40000</td>\n",
              "      <td>0.0</td>\n",
              "      <td>1.680101</td>\n",
              "      <td>1.0</td>\n",
              "      <td>100.0</td>\n",
              "      <td>1.0</td>\n",
              "      <td>0.830000</td>\n",
              "      <td>1.0</td>\n",
              "      <td>121.000000</td>\n",
              "      <td>0.0</td>\n",
              "      <td>4.0</td>\n",
              "      <td>2.0</td>\n",
              "      <td>3496.0</td>\n",
              "      <td>0.157248</td>\n",
              "      <td>0.474468</td>\n",
              "      <td>0.250498</td>\n",
              "      <td>0.647997</td>\n",
              "      <td>0.210377</td>\n",
              "    </tr>\n",
              "    <tr>\n",
              "      <th>2799</th>\n",
              "      <td>81.0</td>\n",
              "      <td>0.0</td>\n",
              "      <td>0.0</td>\n",
              "      <td>0.0</td>\n",
              "      <td>0.0</td>\n",
              "      <td>0.0</td>\n",
              "      <td>0.0</td>\n",
              "      <td>0.0</td>\n",
              "      <td>0.0</td>\n",
              "      <td>0.0</td>\n",
              "      <td>0.0</td>\n",
              "      <td>0.0</td>\n",
              "      <td>0.0</td>\n",
              "      <td>0.0</td>\n",
              "      <td>0.0</td>\n",
              "      <td>0.0</td>\n",
              "      <td>1.0</td>\n",
              "      <td>1.20000</td>\n",
              "      <td>1.0</td>\n",
              "      <td>1.500000</td>\n",
              "      <td>1.0</td>\n",
              "      <td>114.0</td>\n",
              "      <td>1.0</td>\n",
              "      <td>0.990000</td>\n",
              "      <td>1.0</td>\n",
              "      <td>115.000000</td>\n",
              "      <td>0.0</td>\n",
              "      <td>3.0</td>\n",
              "      <td>2.0</td>\n",
              "      <td>724.0</td>\n",
              "      <td>0.167051</td>\n",
              "      <td>0.710542</td>\n",
              "      <td>0.157984</td>\n",
              "      <td>0.121544</td>\n",
              "      <td>0.028781</td>\n",
              "    </tr>\n",
              "  </tbody>\n",
              "</table>\n",
              "<p>2659 rows × 35 columns</p>\n",
              "</div>"
            ],
            "text/plain": [
              "       age  sex  on_thyroxine  ...     TT4_z     T4U_z     FTI_z\n",
              "0     41.0  0.0           0.0  ...  0.478933  0.842989  0.152814\n",
              "1     23.0  0.0           0.0  ...  0.192143  1.430491  0.920928\n",
              "2     46.0  1.0           0.0  ...  0.012097  0.263227  0.180111\n",
              "3     70.0  0.0           1.0  ...  1.937795  1.228812  2.952826\n",
              "4     70.0  0.0           0.0  ...  1.388410  0.455612  1.333188\n",
              "...    ...  ...           ...  ...       ...       ...       ...\n",
              "2795  70.0  1.0           0.0  ...  1.354250  0.410122  1.027559\n",
              "2796  73.0  1.0           0.0  ...  1.330056  0.407516  1.272656\n",
              "2797  75.0  1.0           0.0  ...  1.120833  0.792286  2.086868\n",
              "2798  60.0  0.0           0.0  ...  0.250498  0.647997  0.210377\n",
              "2799  81.0  0.0           0.0  ...  0.157984  0.121544  0.028781\n",
              "\n",
              "[2659 rows x 35 columns]"
            ]
          },
          "metadata": {
            "tags": []
          },
          "execution_count": 56
        }
      ]
    },
    {
      "cell_type": "markdown",
      "metadata": {
        "id": "AyBBlwQDkC8g"
      },
      "source": [
        "## Winsor\n",
        "* This caps data that is far from typical\n",
        "* For example, if the Z Score was > 3, cap it to 3\n",
        "* If the data was > 3 std deviations, cap it to 3 std"
      ]
    },
    {
      "cell_type": "code",
      "metadata": {
        "id": "WcWnUTjAkc8b"
      },
      "source": [
        "for col in COLUMNS_FLOAT:\n",
        "  if col in outlier_df.columns:\n",
        "    outlier_df[f'{col}_winsor'] = mstats.winsorize(outlier_df[col], limits=[0.05, 0.05]).tolist()"
      ],
      "execution_count": 57,
      "outputs": []
    },
    {
      "cell_type": "code",
      "metadata": {
        "colab": {
          "base_uri": "https://localhost:8080/",
          "height": 402
        },
        "id": "HBSXRfOllh51",
        "outputId": "c2762820-5bee-4a30-dc55-8e5bb45540e0"
      },
      "source": [
        "outlier_df[['TSH', 'TSH_z', 'TSH_winsor']].sort_values('TSH')"
      ],
      "execution_count": 58,
      "outputs": [
        {
          "output_type": "execute_result",
          "data": {
            "text/html": [
              "<div>\n",
              "<style scoped>\n",
              "    .dataframe tbody tr th:only-of-type {\n",
              "        vertical-align: middle;\n",
              "    }\n",
              "\n",
              "    .dataframe tbody tr th {\n",
              "        vertical-align: top;\n",
              "    }\n",
              "\n",
              "    .dataframe thead th {\n",
              "        text-align: right;\n",
              "    }\n",
              "</style>\n",
              "<table border=\"1\" class=\"dataframe\">\n",
              "  <thead>\n",
              "    <tr style=\"text-align: right;\">\n",
              "      <th></th>\n",
              "      <th>TSH</th>\n",
              "      <th>TSH_z</th>\n",
              "      <th>TSH_winsor</th>\n",
              "    </tr>\n",
              "  </thead>\n",
              "  <tbody>\n",
              "    <tr>\n",
              "      <th>1188</th>\n",
              "      <td>-28.057579</td>\n",
              "      <td>1.601101</td>\n",
              "      <td>0.02</td>\n",
              "    </tr>\n",
              "    <tr>\n",
              "      <th>2706</th>\n",
              "      <td>-19.585199</td>\n",
              "      <td>1.185830</td>\n",
              "      <td>0.02</td>\n",
              "    </tr>\n",
              "    <tr>\n",
              "      <th>2770</th>\n",
              "      <td>-16.403007</td>\n",
              "      <td>1.029856</td>\n",
              "      <td>0.02</td>\n",
              "    </tr>\n",
              "    <tr>\n",
              "      <th>1975</th>\n",
              "      <td>-14.530780</td>\n",
              "      <td>0.938090</td>\n",
              "      <td>0.02</td>\n",
              "    </tr>\n",
              "    <tr>\n",
              "      <th>2261</th>\n",
              "      <td>-12.995700</td>\n",
              "      <td>0.862848</td>\n",
              "      <td>0.02</td>\n",
              "    </tr>\n",
              "    <tr>\n",
              "      <th>...</th>\n",
              "      <td>...</td>\n",
              "      <td>...</td>\n",
              "      <td>...</td>\n",
              "    </tr>\n",
              "    <tr>\n",
              "      <th>659</th>\n",
              "      <td>188.000000</td>\n",
              "      <td>8.988887</td>\n",
              "      <td>12.00</td>\n",
              "    </tr>\n",
              "    <tr>\n",
              "      <th>639</th>\n",
              "      <td>199.000000</td>\n",
              "      <td>9.528048</td>\n",
              "      <td>12.00</td>\n",
              "    </tr>\n",
              "    <tr>\n",
              "      <th>2772</th>\n",
              "      <td>468.000000</td>\n",
              "      <td>22.712991</td>\n",
              "      <td>12.00</td>\n",
              "    </tr>\n",
              "    <tr>\n",
              "      <th>2507</th>\n",
              "      <td>472.000000</td>\n",
              "      <td>22.909050</td>\n",
              "      <td>12.00</td>\n",
              "    </tr>\n",
              "    <tr>\n",
              "      <th>1165</th>\n",
              "      <td>478.000000</td>\n",
              "      <td>23.203137</td>\n",
              "      <td>12.00</td>\n",
              "    </tr>\n",
              "  </tbody>\n",
              "</table>\n",
              "<p>2800 rows × 3 columns</p>\n",
              "</div>"
            ],
            "text/plain": [
              "             TSH      TSH_z  TSH_winsor\n",
              "1188  -28.057579   1.601101        0.02\n",
              "2706  -19.585199   1.185830        0.02\n",
              "2770  -16.403007   1.029856        0.02\n",
              "1975  -14.530780   0.938090        0.02\n",
              "2261  -12.995700   0.862848        0.02\n",
              "...          ...        ...         ...\n",
              "659   188.000000   8.988887       12.00\n",
              "639   199.000000   9.528048       12.00\n",
              "2772  468.000000  22.712991       12.00\n",
              "2507  472.000000  22.909050       12.00\n",
              "1165  478.000000  23.203137       12.00\n",
              "\n",
              "[2800 rows x 3 columns]"
            ]
          },
          "metadata": {
            "tags": []
          },
          "execution_count": 58
        }
      ]
    },
    {
      "cell_type": "markdown",
      "metadata": {
        "id": "wu7MZgUEl_Xf"
      },
      "source": [
        "# Notes\n",
        "* Best Practice: Keep the data before you changed and after\n",
        "* Mark columns \"Dirty\" if you impute or transform\n",
        "* Should you handle outliers before missing data?"
      ]
    }
  ]
}