{
  "nbformat": 4,
  "nbformat_minor": 0,
  "metadata": {
    "colab": {
      "name": "1_Assignment.ipynb",
      "provenance": [],
      "collapsed_sections": [],
      "toc_visible": true,
      "authorship_tag": "ABX9TyNt9OZfm9Hq1GBtMm3rBcnB",
      "include_colab_link": true
    },
    "kernelspec": {
      "name": "python3",
      "display_name": "Python 3"
    },
    "language_info": {
      "name": "python"
    }
  },
  "cells": [
    {
      "cell_type": "markdown",
      "metadata": {
        "id": "view-in-github",
        "colab_type": "text"
      },
      "source": [
        "<a href=\"https://colab.research.google.com/github/swilsonmfc/pandas/blob/main/1_Assignment.ipynb\" target=\"_parent\"><img src=\"https://colab.research.google.com/assets/colab-badge.svg\" alt=\"Open In Colab\"/></a>"
      ]
    },
    {
      "cell_type": "markdown",
      "metadata": {
        "id": "sywjj10T3aux"
      },
      "source": [
        "# Assignment"
      ]
    },
    {
      "cell_type": "markdown",
      "metadata": {
        "id": "_OJvbXKL5Kkn"
      },
      "source": [
        "# Setup"
      ]
    },
    {
      "cell_type": "code",
      "metadata": {
        "id": "Tp7yzMf35Nby"
      },
      "source": [
        "import pandas as pd\n",
        "import numpy as np"
      ],
      "execution_count": null,
      "outputs": []
    },
    {
      "cell_type": "markdown",
      "metadata": {
        "id": "HhSXk_P75K0n"
      },
      "source": [
        "# Data\n",
        "* The code to download and extract the dataset is present\n",
        "* If you're working in a different environment (other than Colab) you can:\n",
        "  * Clone the repo (github.com/swilsonmfc/pandas)\n",
        "  * Download the file ("
      ]
    },
    {
      "cell_type": "code",
      "metadata": {
        "id": "7sIt9PO65RyF"
      },
      "source": [
        "!wget https://simplemaps.com/static/data/world-cities/basic/simplemaps_worldcities_basicv1.73.zip\n",
        "!unzip simplemaps_worldcities_basicv1.73.zip"
      ],
      "execution_count": null,
      "outputs": []
    },
    {
      "cell_type": "markdown",
      "metadata": {
        "id": "AtTLiWA_5Slq"
      },
      "source": [
        "# Tasks\n",
        "* Read the file worldcities.csv\n",
        "* Produce summary information\n",
        "  * How many cities are there?\n",
        "  * How many countries are there?\n",
        "* Produce summary statistics by country\n",
        "  * Count of cities in each country\n",
        "  * Min population in country\n",
        "  * Max population in country\n",
        "* Extra: There are three cities that have an incorrect population (Can you find them?)"
      ]
    },
    {
      "cell_type": "markdown",
      "metadata": {
        "id": "pJj3D1DH7q6J"
      },
      "source": [
        "# Links\n",
        "* https://pandas.pydata.org/pandas-docs/stable/reference/api/pandas.read_csv.html\n",
        "* https://pandas.pydata.org/pandas-docs/stable/reference/api/pandas.DataFrame.shape.html\n",
        "## Pandas Series Operators\n",
        "* https://pandas.pydata.org/docs/reference/api/pandas.DataFrame.size.html\n",
        "* https://pandas.pydata.org/docs/reference/api/pandas.DataFrame.min.html\n",
        "* https://pandas.pydata.org/docs/reference/api/pandas.DataFrame.max.html\n",
        "## Numpy Operators\n",
        "* https://numpy.org/doc/stable/reference/generated/numpy.ndarray.size.html\n",
        "* https://numpy.org/doc/stable/reference/generated/numpy.ndarray.size.html\n",
        "* https://numpy.org/doc/stable/reference/generated/numpy.ndarray.size.html"
      ]
    },
    {
      "cell_type": "markdown",
      "metadata": {
        "id": "oFIo1WlT5XAf"
      },
      "source": [
        "## Read Data\n",
        "* Read the data into a Data Frame"
      ]
    },
    {
      "cell_type": "code",
      "metadata": {
        "id": "kpjHtf2C5U3l"
      },
      "source": [
        "df = "
      ],
      "execution_count": null,
      "outputs": []
    },
    {
      "cell_type": "markdown",
      "metadata": {
        "id": "XxEXEnfm5ujz"
      },
      "source": [
        "## Count of Cities\n",
        "* Find the number of cities present in the dataset"
      ]
    },
    {
      "cell_type": "code",
      "metadata": {
        "id": "1hxwAQwQ50E1"
      },
      "source": [
        ""
      ],
      "execution_count": null,
      "outputs": []
    },
    {
      "cell_type": "markdown",
      "metadata": {
        "id": "t74ECkXN5fb0"
      },
      "source": [
        "## Count of Countries\n",
        "* Find the count of countries present in the dataset"
      ]
    },
    {
      "cell_type": "code",
      "metadata": {
        "id": "IsK0NvlC5szE"
      },
      "source": [
        ""
      ],
      "execution_count": null,
      "outputs": []
    },
    {
      "cell_type": "markdown",
      "metadata": {
        "id": "Pdleyk4_53hB"
      },
      "source": [
        "## Find number of Cities in each Country\n",
        "For each country, find the number of cities present in the dataset"
      ]
    },
    {
      "cell_type": "code",
      "metadata": {
        "id": "sluY2FNz6L47"
      },
      "source": [
        ""
      ],
      "execution_count": null,
      "outputs": []
    },
    {
      "cell_type": "markdown",
      "metadata": {
        "id": "Nlb6bRCI53Pe"
      },
      "source": [
        "## Find Min Population by Country\n",
        "For each country, find the city with the smallest population"
      ]
    },
    {
      "cell_type": "code",
      "metadata": {
        "id": "y7Litoff6NfH"
      },
      "source": [
        ""
      ],
      "execution_count": null,
      "outputs": []
    },
    {
      "cell_type": "markdown",
      "metadata": {
        "id": "OF2SLVTL53IC"
      },
      "source": [
        "## Find Max Population by Country\n",
        "* For each country, find the city with the largest population"
      ]
    },
    {
      "cell_type": "code",
      "metadata": {
        "id": "F6Yy9H666OL4"
      },
      "source": [
        ""
      ],
      "execution_count": null,
      "outputs": []
    },
    {
      "cell_type": "markdown",
      "metadata": {
        "id": "cw9RQ5qi52_w"
      },
      "source": [
        "## Cities with Bad Populations\n",
        "* Three cities have fractional \"people\"\n",
        "* What are those the cities?"
      ]
    },
    {
      "cell_type": "code",
      "metadata": {
        "id": "PIghXMgH574O"
      },
      "source": [
        ""
      ],
      "execution_count": null,
      "outputs": []
    }
  ]
}