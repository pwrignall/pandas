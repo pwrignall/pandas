{
  "nbformat": 4,
  "nbformat_minor": 0,
  "metadata": {
    "colab": {
      "name": "8_Lesson.ipynb",
      "provenance": [],
      "collapsed_sections": [],
      "toc_visible": true,
      "authorship_tag": "ABX9TyM7/oIIre0ULB5zSnX9itk3",
      "include_colab_link": true
    },
    "kernelspec": {
      "name": "python3",
      "display_name": "Python 3"
    },
    "language_info": {
      "name": "python"
    }
  },
  "cells": [
    {
      "cell_type": "markdown",
      "metadata": {
        "id": "view-in-github",
        "colab_type": "text"
      },
      "source": [
        "<a href=\"https://colab.research.google.com/github/swilsonmfc/pandas/blob/main/8_Lesson.ipynb\" target=\"_parent\"><img src=\"https://colab.research.google.com/assets/colab-badge.svg\" alt=\"Open In Colab\"/></a>"
      ]
    },
    {
      "cell_type": "markdown",
      "metadata": {
        "id": "kPwx2jdM6V8y"
      },
      "source": [
        "# Hotel Bookings\n",
        "\n",
        "![](https://cdn.inprnt.com/thumbs/5b/fa/5bfa6a8ea6c461d1c21c0a44962968ed.jpg?response-cache-control=max-age=2628000)"
      ]
    },
    {
      "cell_type": "markdown",
      "metadata": {
        "id": "owAQm_UK6ZOL"
      },
      "source": [
        "# Setup"
      ]
    },
    {
      "cell_type": "code",
      "metadata": {
        "id": "4gUMzm786cLA",
        "colab": {
          "base_uri": "https://localhost:8080/"
        },
        "outputId": "0e3c71d6-6a23-426b-8c28-61963b54f33e"
      },
      "source": [
        "import pandas as pd\n",
        "import numpy as np\n",
        "import matplotlib.pyplot as plt\n",
        "import seaborn as sns\n",
        "\n",
        "from sklearn.linear_model import LogisticRegression\n",
        "from sklearn.linear_model import LinearRegression\n",
        "\n",
        "from sklearn.model_selection import train_test_split\n",
        "from sklearn.model_selection import KFold\n",
        "from sklearn.model_selection import cross_val_score\n",
        "\n",
        "from sklearn.preprocessing import StandardScaler\n",
        "from sklearn.preprocessing import OneHotEncoder\n",
        "\n",
        "from sklearn.metrics import classification_report\n",
        "from sklearn.metrics import confusion_matrix\n",
        "from sklearn.metrics import f1_score\n",
        "from sklearn.metrics import recall_score\n",
        "from sklearn.metrics import precision_score\n",
        "from sklearn.metrics import accuracy_score\n",
        "\n",
        "import statsmodels.api as sm\n",
        "import statsmodels.stats.api as sms\n",
        "import statsmodels.formula.api as smf\n",
        "import statsmodels.graphics.regressionplots as regplot\n",
        "from statsmodels.stats.outliers_influence import variance_inflation_factor"
      ],
      "execution_count": 1,
      "outputs": [
        {
          "output_type": "stream",
          "text": [
            "/usr/local/lib/python3.7/dist-packages/statsmodels/tools/_testing.py:19: FutureWarning: pandas.util.testing is deprecated. Use the functions in the public API at pandas.testing instead.\n",
            "  import pandas.util.testing as tm\n"
          ],
          "name": "stderr"
        }
      ]
    },
    {
      "cell_type": "markdown",
      "metadata": {
        "id": "7znnGIiQ6hY-"
      },
      "source": [
        "# Data\n",
        "* https://www.kaggle.com/jessemostipak/hotel-booking-demand"
      ]
    },
    {
      "cell_type": "code",
      "metadata": {
        "colab": {
          "base_uri": "https://localhost:8080/"
        },
        "id": "lAU3n9l76il7",
        "outputId": "6f2fe21d-5155-4b3c-d8ed-0ff8ac05c308"
      },
      "source": [
        "!wget -O hotel.zip https://github.com/swilsonmfc/pandas/blob/main/hotel.zip?raw=true"
      ],
      "execution_count": 2,
      "outputs": [
        {
          "output_type": "stream",
          "text": [
            "--2021-07-22 13:23:58--  https://github.com/swilsonmfc/pandas/blob/main/hotel.zip?raw=true\n",
            "Resolving github.com (github.com)... 140.82.114.3\n",
            "Connecting to github.com (github.com)|140.82.114.3|:443... connected.\n",
            "HTTP request sent, awaiting response... 302 Found\n",
            "Location: https://github.com/swilsonmfc/pandas/raw/main/hotel.zip [following]\n",
            "--2021-07-22 13:23:58--  https://github.com/swilsonmfc/pandas/raw/main/hotel.zip\n",
            "Reusing existing connection to github.com:443.\n",
            "HTTP request sent, awaiting response... 302 Found\n",
            "Location: https://raw.githubusercontent.com/swilsonmfc/pandas/main/hotel.zip [following]\n",
            "--2021-07-22 13:23:58--  https://raw.githubusercontent.com/swilsonmfc/pandas/main/hotel.zip\n",
            "Resolving raw.githubusercontent.com (raw.githubusercontent.com)... 185.199.110.133, 185.199.111.133, 185.199.108.133, ...\n",
            "Connecting to raw.githubusercontent.com (raw.githubusercontent.com)|185.199.110.133|:443... connected.\n",
            "HTTP request sent, awaiting response... 200 OK\n",
            "Length: 1308365 (1.2M) [application/zip]\n",
            "Saving to: ‘hotel.zip’\n",
            "\n",
            "hotel.zip           100%[===================>]   1.25M  --.-KB/s    in 0.05s   \n",
            "\n",
            "2021-07-22 13:23:59 (23.1 MB/s) - ‘hotel.zip’ saved [1308365/1308365]\n",
            "\n"
          ],
          "name": "stdout"
        }
      ]
    },
    {
      "cell_type": "code",
      "metadata": {
        "colab": {
          "base_uri": "https://localhost:8080/"
        },
        "id": "vXX87Xdr62_f",
        "outputId": "51a54379-e1b8-4ee7-b08f-b02aa3bd2768"
      },
      "source": [
        "!unzip hotel.zip"
      ],
      "execution_count": 3,
      "outputs": [
        {
          "output_type": "stream",
          "text": [
            "Archive:  hotel.zip\n",
            "replace hotel_bookings.csv? [y]es, [n]o, [A]ll, [N]one, [r]ename: n\n"
          ],
          "name": "stdout"
        }
      ]
    },
    {
      "cell_type": "code",
      "metadata": {
        "id": "DKWphhHv7T9d"
      },
      "source": [
        "hotel_df = pd.read_csv('./hotel_bookings.csv')"
      ],
      "execution_count": 4,
      "outputs": []
    },
    {
      "cell_type": "code",
      "metadata": {
        "colab": {
          "base_uri": "https://localhost:8080/",
          "height": 590
        },
        "id": "qDs69JdP7ZsB",
        "outputId": "ce17194f-97eb-4f3b-fd5c-381fb1f78fb9"
      },
      "source": [
        "hotel_df"
      ],
      "execution_count": 5,
      "outputs": [
        {
          "output_type": "execute_result",
          "data": {
            "text/html": [
              "<div>\n",
              "<style scoped>\n",
              "    .dataframe tbody tr th:only-of-type {\n",
              "        vertical-align: middle;\n",
              "    }\n",
              "\n",
              "    .dataframe tbody tr th {\n",
              "        vertical-align: top;\n",
              "    }\n",
              "\n",
              "    .dataframe thead th {\n",
              "        text-align: right;\n",
              "    }\n",
              "</style>\n",
              "<table border=\"1\" class=\"dataframe\">\n",
              "  <thead>\n",
              "    <tr style=\"text-align: right;\">\n",
              "      <th></th>\n",
              "      <th>hotel</th>\n",
              "      <th>is_canceled</th>\n",
              "      <th>lead_time</th>\n",
              "      <th>arrival_date_year</th>\n",
              "      <th>arrival_date_month</th>\n",
              "      <th>arrival_date_week_number</th>\n",
              "      <th>arrival_date_day_of_month</th>\n",
              "      <th>stays_in_weekend_nights</th>\n",
              "      <th>stays_in_week_nights</th>\n",
              "      <th>adults</th>\n",
              "      <th>children</th>\n",
              "      <th>babies</th>\n",
              "      <th>meal</th>\n",
              "      <th>country</th>\n",
              "      <th>market_segment</th>\n",
              "      <th>distribution_channel</th>\n",
              "      <th>is_repeated_guest</th>\n",
              "      <th>previous_cancellations</th>\n",
              "      <th>previous_bookings_not_canceled</th>\n",
              "      <th>reserved_room_type</th>\n",
              "      <th>assigned_room_type</th>\n",
              "      <th>booking_changes</th>\n",
              "      <th>deposit_type</th>\n",
              "      <th>agent</th>\n",
              "      <th>company</th>\n",
              "      <th>days_in_waiting_list</th>\n",
              "      <th>customer_type</th>\n",
              "      <th>adr</th>\n",
              "      <th>required_car_parking_spaces</th>\n",
              "      <th>total_of_special_requests</th>\n",
              "      <th>reservation_status</th>\n",
              "      <th>reservation_status_date</th>\n",
              "    </tr>\n",
              "  </thead>\n",
              "  <tbody>\n",
              "    <tr>\n",
              "      <th>0</th>\n",
              "      <td>Resort Hotel</td>\n",
              "      <td>0</td>\n",
              "      <td>342</td>\n",
              "      <td>2015</td>\n",
              "      <td>July</td>\n",
              "      <td>27</td>\n",
              "      <td>1</td>\n",
              "      <td>0</td>\n",
              "      <td>0</td>\n",
              "      <td>2</td>\n",
              "      <td>0.0</td>\n",
              "      <td>0</td>\n",
              "      <td>BB</td>\n",
              "      <td>PRT</td>\n",
              "      <td>Direct</td>\n",
              "      <td>Direct</td>\n",
              "      <td>0</td>\n",
              "      <td>0</td>\n",
              "      <td>0</td>\n",
              "      <td>C</td>\n",
              "      <td>C</td>\n",
              "      <td>3</td>\n",
              "      <td>No Deposit</td>\n",
              "      <td>NaN</td>\n",
              "      <td>NaN</td>\n",
              "      <td>0</td>\n",
              "      <td>Transient</td>\n",
              "      <td>0.00</td>\n",
              "      <td>0</td>\n",
              "      <td>0</td>\n",
              "      <td>Check-Out</td>\n",
              "      <td>2015-07-01</td>\n",
              "    </tr>\n",
              "    <tr>\n",
              "      <th>1</th>\n",
              "      <td>Resort Hotel</td>\n",
              "      <td>0</td>\n",
              "      <td>737</td>\n",
              "      <td>2015</td>\n",
              "      <td>July</td>\n",
              "      <td>27</td>\n",
              "      <td>1</td>\n",
              "      <td>0</td>\n",
              "      <td>0</td>\n",
              "      <td>2</td>\n",
              "      <td>0.0</td>\n",
              "      <td>0</td>\n",
              "      <td>BB</td>\n",
              "      <td>PRT</td>\n",
              "      <td>Direct</td>\n",
              "      <td>Direct</td>\n",
              "      <td>0</td>\n",
              "      <td>0</td>\n",
              "      <td>0</td>\n",
              "      <td>C</td>\n",
              "      <td>C</td>\n",
              "      <td>4</td>\n",
              "      <td>No Deposit</td>\n",
              "      <td>NaN</td>\n",
              "      <td>NaN</td>\n",
              "      <td>0</td>\n",
              "      <td>Transient</td>\n",
              "      <td>0.00</td>\n",
              "      <td>0</td>\n",
              "      <td>0</td>\n",
              "      <td>Check-Out</td>\n",
              "      <td>2015-07-01</td>\n",
              "    </tr>\n",
              "    <tr>\n",
              "      <th>2</th>\n",
              "      <td>Resort Hotel</td>\n",
              "      <td>0</td>\n",
              "      <td>7</td>\n",
              "      <td>2015</td>\n",
              "      <td>July</td>\n",
              "      <td>27</td>\n",
              "      <td>1</td>\n",
              "      <td>0</td>\n",
              "      <td>1</td>\n",
              "      <td>1</td>\n",
              "      <td>0.0</td>\n",
              "      <td>0</td>\n",
              "      <td>BB</td>\n",
              "      <td>GBR</td>\n",
              "      <td>Direct</td>\n",
              "      <td>Direct</td>\n",
              "      <td>0</td>\n",
              "      <td>0</td>\n",
              "      <td>0</td>\n",
              "      <td>A</td>\n",
              "      <td>C</td>\n",
              "      <td>0</td>\n",
              "      <td>No Deposit</td>\n",
              "      <td>NaN</td>\n",
              "      <td>NaN</td>\n",
              "      <td>0</td>\n",
              "      <td>Transient</td>\n",
              "      <td>75.00</td>\n",
              "      <td>0</td>\n",
              "      <td>0</td>\n",
              "      <td>Check-Out</td>\n",
              "      <td>2015-07-02</td>\n",
              "    </tr>\n",
              "    <tr>\n",
              "      <th>3</th>\n",
              "      <td>Resort Hotel</td>\n",
              "      <td>0</td>\n",
              "      <td>13</td>\n",
              "      <td>2015</td>\n",
              "      <td>July</td>\n",
              "      <td>27</td>\n",
              "      <td>1</td>\n",
              "      <td>0</td>\n",
              "      <td>1</td>\n",
              "      <td>1</td>\n",
              "      <td>0.0</td>\n",
              "      <td>0</td>\n",
              "      <td>BB</td>\n",
              "      <td>GBR</td>\n",
              "      <td>Corporate</td>\n",
              "      <td>Corporate</td>\n",
              "      <td>0</td>\n",
              "      <td>0</td>\n",
              "      <td>0</td>\n",
              "      <td>A</td>\n",
              "      <td>A</td>\n",
              "      <td>0</td>\n",
              "      <td>No Deposit</td>\n",
              "      <td>304.0</td>\n",
              "      <td>NaN</td>\n",
              "      <td>0</td>\n",
              "      <td>Transient</td>\n",
              "      <td>75.00</td>\n",
              "      <td>0</td>\n",
              "      <td>0</td>\n",
              "      <td>Check-Out</td>\n",
              "      <td>2015-07-02</td>\n",
              "    </tr>\n",
              "    <tr>\n",
              "      <th>4</th>\n",
              "      <td>Resort Hotel</td>\n",
              "      <td>0</td>\n",
              "      <td>14</td>\n",
              "      <td>2015</td>\n",
              "      <td>July</td>\n",
              "      <td>27</td>\n",
              "      <td>1</td>\n",
              "      <td>0</td>\n",
              "      <td>2</td>\n",
              "      <td>2</td>\n",
              "      <td>0.0</td>\n",
              "      <td>0</td>\n",
              "      <td>BB</td>\n",
              "      <td>GBR</td>\n",
              "      <td>Online TA</td>\n",
              "      <td>TA/TO</td>\n",
              "      <td>0</td>\n",
              "      <td>0</td>\n",
              "      <td>0</td>\n",
              "      <td>A</td>\n",
              "      <td>A</td>\n",
              "      <td>0</td>\n",
              "      <td>No Deposit</td>\n",
              "      <td>240.0</td>\n",
              "      <td>NaN</td>\n",
              "      <td>0</td>\n",
              "      <td>Transient</td>\n",
              "      <td>98.00</td>\n",
              "      <td>0</td>\n",
              "      <td>1</td>\n",
              "      <td>Check-Out</td>\n",
              "      <td>2015-07-03</td>\n",
              "    </tr>\n",
              "    <tr>\n",
              "      <th>...</th>\n",
              "      <td>...</td>\n",
              "      <td>...</td>\n",
              "      <td>...</td>\n",
              "      <td>...</td>\n",
              "      <td>...</td>\n",
              "      <td>...</td>\n",
              "      <td>...</td>\n",
              "      <td>...</td>\n",
              "      <td>...</td>\n",
              "      <td>...</td>\n",
              "      <td>...</td>\n",
              "      <td>...</td>\n",
              "      <td>...</td>\n",
              "      <td>...</td>\n",
              "      <td>...</td>\n",
              "      <td>...</td>\n",
              "      <td>...</td>\n",
              "      <td>...</td>\n",
              "      <td>...</td>\n",
              "      <td>...</td>\n",
              "      <td>...</td>\n",
              "      <td>...</td>\n",
              "      <td>...</td>\n",
              "      <td>...</td>\n",
              "      <td>...</td>\n",
              "      <td>...</td>\n",
              "      <td>...</td>\n",
              "      <td>...</td>\n",
              "      <td>...</td>\n",
              "      <td>...</td>\n",
              "      <td>...</td>\n",
              "      <td>...</td>\n",
              "    </tr>\n",
              "    <tr>\n",
              "      <th>119385</th>\n",
              "      <td>City Hotel</td>\n",
              "      <td>0</td>\n",
              "      <td>23</td>\n",
              "      <td>2017</td>\n",
              "      <td>August</td>\n",
              "      <td>35</td>\n",
              "      <td>30</td>\n",
              "      <td>2</td>\n",
              "      <td>5</td>\n",
              "      <td>2</td>\n",
              "      <td>0.0</td>\n",
              "      <td>0</td>\n",
              "      <td>BB</td>\n",
              "      <td>BEL</td>\n",
              "      <td>Offline TA/TO</td>\n",
              "      <td>TA/TO</td>\n",
              "      <td>0</td>\n",
              "      <td>0</td>\n",
              "      <td>0</td>\n",
              "      <td>A</td>\n",
              "      <td>A</td>\n",
              "      <td>0</td>\n",
              "      <td>No Deposit</td>\n",
              "      <td>394.0</td>\n",
              "      <td>NaN</td>\n",
              "      <td>0</td>\n",
              "      <td>Transient</td>\n",
              "      <td>96.14</td>\n",
              "      <td>0</td>\n",
              "      <td>0</td>\n",
              "      <td>Check-Out</td>\n",
              "      <td>2017-09-06</td>\n",
              "    </tr>\n",
              "    <tr>\n",
              "      <th>119386</th>\n",
              "      <td>City Hotel</td>\n",
              "      <td>0</td>\n",
              "      <td>102</td>\n",
              "      <td>2017</td>\n",
              "      <td>August</td>\n",
              "      <td>35</td>\n",
              "      <td>31</td>\n",
              "      <td>2</td>\n",
              "      <td>5</td>\n",
              "      <td>3</td>\n",
              "      <td>0.0</td>\n",
              "      <td>0</td>\n",
              "      <td>BB</td>\n",
              "      <td>FRA</td>\n",
              "      <td>Online TA</td>\n",
              "      <td>TA/TO</td>\n",
              "      <td>0</td>\n",
              "      <td>0</td>\n",
              "      <td>0</td>\n",
              "      <td>E</td>\n",
              "      <td>E</td>\n",
              "      <td>0</td>\n",
              "      <td>No Deposit</td>\n",
              "      <td>9.0</td>\n",
              "      <td>NaN</td>\n",
              "      <td>0</td>\n",
              "      <td>Transient</td>\n",
              "      <td>225.43</td>\n",
              "      <td>0</td>\n",
              "      <td>2</td>\n",
              "      <td>Check-Out</td>\n",
              "      <td>2017-09-07</td>\n",
              "    </tr>\n",
              "    <tr>\n",
              "      <th>119387</th>\n",
              "      <td>City Hotel</td>\n",
              "      <td>0</td>\n",
              "      <td>34</td>\n",
              "      <td>2017</td>\n",
              "      <td>August</td>\n",
              "      <td>35</td>\n",
              "      <td>31</td>\n",
              "      <td>2</td>\n",
              "      <td>5</td>\n",
              "      <td>2</td>\n",
              "      <td>0.0</td>\n",
              "      <td>0</td>\n",
              "      <td>BB</td>\n",
              "      <td>DEU</td>\n",
              "      <td>Online TA</td>\n",
              "      <td>TA/TO</td>\n",
              "      <td>0</td>\n",
              "      <td>0</td>\n",
              "      <td>0</td>\n",
              "      <td>D</td>\n",
              "      <td>D</td>\n",
              "      <td>0</td>\n",
              "      <td>No Deposit</td>\n",
              "      <td>9.0</td>\n",
              "      <td>NaN</td>\n",
              "      <td>0</td>\n",
              "      <td>Transient</td>\n",
              "      <td>157.71</td>\n",
              "      <td>0</td>\n",
              "      <td>4</td>\n",
              "      <td>Check-Out</td>\n",
              "      <td>2017-09-07</td>\n",
              "    </tr>\n",
              "    <tr>\n",
              "      <th>119388</th>\n",
              "      <td>City Hotel</td>\n",
              "      <td>0</td>\n",
              "      <td>109</td>\n",
              "      <td>2017</td>\n",
              "      <td>August</td>\n",
              "      <td>35</td>\n",
              "      <td>31</td>\n",
              "      <td>2</td>\n",
              "      <td>5</td>\n",
              "      <td>2</td>\n",
              "      <td>0.0</td>\n",
              "      <td>0</td>\n",
              "      <td>BB</td>\n",
              "      <td>GBR</td>\n",
              "      <td>Online TA</td>\n",
              "      <td>TA/TO</td>\n",
              "      <td>0</td>\n",
              "      <td>0</td>\n",
              "      <td>0</td>\n",
              "      <td>A</td>\n",
              "      <td>A</td>\n",
              "      <td>0</td>\n",
              "      <td>No Deposit</td>\n",
              "      <td>89.0</td>\n",
              "      <td>NaN</td>\n",
              "      <td>0</td>\n",
              "      <td>Transient</td>\n",
              "      <td>104.40</td>\n",
              "      <td>0</td>\n",
              "      <td>0</td>\n",
              "      <td>Check-Out</td>\n",
              "      <td>2017-09-07</td>\n",
              "    </tr>\n",
              "    <tr>\n",
              "      <th>119389</th>\n",
              "      <td>City Hotel</td>\n",
              "      <td>0</td>\n",
              "      <td>205</td>\n",
              "      <td>2017</td>\n",
              "      <td>August</td>\n",
              "      <td>35</td>\n",
              "      <td>29</td>\n",
              "      <td>2</td>\n",
              "      <td>7</td>\n",
              "      <td>2</td>\n",
              "      <td>0.0</td>\n",
              "      <td>0</td>\n",
              "      <td>HB</td>\n",
              "      <td>DEU</td>\n",
              "      <td>Online TA</td>\n",
              "      <td>TA/TO</td>\n",
              "      <td>0</td>\n",
              "      <td>0</td>\n",
              "      <td>0</td>\n",
              "      <td>A</td>\n",
              "      <td>A</td>\n",
              "      <td>0</td>\n",
              "      <td>No Deposit</td>\n",
              "      <td>9.0</td>\n",
              "      <td>NaN</td>\n",
              "      <td>0</td>\n",
              "      <td>Transient</td>\n",
              "      <td>151.20</td>\n",
              "      <td>0</td>\n",
              "      <td>2</td>\n",
              "      <td>Check-Out</td>\n",
              "      <td>2017-09-07</td>\n",
              "    </tr>\n",
              "  </tbody>\n",
              "</table>\n",
              "<p>119390 rows × 32 columns</p>\n",
              "</div>"
            ],
            "text/plain": [
              "               hotel  is_canceled  ...  reservation_status  reservation_status_date\n",
              "0       Resort Hotel            0  ...           Check-Out               2015-07-01\n",
              "1       Resort Hotel            0  ...           Check-Out               2015-07-01\n",
              "2       Resort Hotel            0  ...           Check-Out               2015-07-02\n",
              "3       Resort Hotel            0  ...           Check-Out               2015-07-02\n",
              "4       Resort Hotel            0  ...           Check-Out               2015-07-03\n",
              "...              ...          ...  ...                 ...                      ...\n",
              "119385    City Hotel            0  ...           Check-Out               2017-09-06\n",
              "119386    City Hotel            0  ...           Check-Out               2017-09-07\n",
              "119387    City Hotel            0  ...           Check-Out               2017-09-07\n",
              "119388    City Hotel            0  ...           Check-Out               2017-09-07\n",
              "119389    City Hotel            0  ...           Check-Out               2017-09-07\n",
              "\n",
              "[119390 rows x 32 columns]"
            ]
          },
          "metadata": {
            "tags": []
          },
          "execution_count": 5
        }
      ]
    },
    {
      "cell_type": "markdown",
      "metadata": {
        "id": "khe2-mvL1hHR"
      },
      "source": [
        "## Types"
      ]
    },
    {
      "cell_type": "code",
      "metadata": {
        "colab": {
          "base_uri": "https://localhost:8080/"
        },
        "id": "yTAQ-QgG1ipg",
        "outputId": "98b22fe5-ed86-4e08-caf9-ca2f75c391b4"
      },
      "source": [
        "hotel_df.dtypes"
      ],
      "execution_count": 6,
      "outputs": [
        {
          "output_type": "execute_result",
          "data": {
            "text/plain": [
              "hotel                              object\n",
              "is_canceled                         int64\n",
              "lead_time                           int64\n",
              "arrival_date_year                   int64\n",
              "arrival_date_month                 object\n",
              "arrival_date_week_number            int64\n",
              "arrival_date_day_of_month           int64\n",
              "stays_in_weekend_nights             int64\n",
              "stays_in_week_nights                int64\n",
              "adults                              int64\n",
              "children                          float64\n",
              "babies                              int64\n",
              "meal                               object\n",
              "country                            object\n",
              "market_segment                     object\n",
              "distribution_channel               object\n",
              "is_repeated_guest                   int64\n",
              "previous_cancellations              int64\n",
              "previous_bookings_not_canceled      int64\n",
              "reserved_room_type                 object\n",
              "assigned_room_type                 object\n",
              "booking_changes                     int64\n",
              "deposit_type                       object\n",
              "agent                             float64\n",
              "company                           float64\n",
              "days_in_waiting_list                int64\n",
              "customer_type                      object\n",
              "adr                               float64\n",
              "required_car_parking_spaces         int64\n",
              "total_of_special_requests           int64\n",
              "reservation_status                 object\n",
              "reservation_status_date            object\n",
              "dtype: object"
            ]
          },
          "metadata": {
            "tags": []
          },
          "execution_count": 6
        }
      ]
    },
    {
      "cell_type": "markdown",
      "metadata": {
        "id": "OkQqsGgVqJ37"
      },
      "source": [
        "## Missing\n",
        "* Missing data here seems reasonable for the most part\n",
        "* 4 missing children - Impute to median"
      ]
    },
    {
      "cell_type": "code",
      "metadata": {
        "colab": {
          "base_uri": "https://localhost:8080/"
        },
        "id": "2wknvOb2qLV4",
        "outputId": "2af78f40-c878-4de4-b71a-077896d63470"
      },
      "source": [
        "hotel_df.isna().sum()"
      ],
      "execution_count": 7,
      "outputs": [
        {
          "output_type": "execute_result",
          "data": {
            "text/plain": [
              "hotel                                  0\n",
              "is_canceled                            0\n",
              "lead_time                              0\n",
              "arrival_date_year                      0\n",
              "arrival_date_month                     0\n",
              "arrival_date_week_number               0\n",
              "arrival_date_day_of_month              0\n",
              "stays_in_weekend_nights                0\n",
              "stays_in_week_nights                   0\n",
              "adults                                 0\n",
              "children                               4\n",
              "babies                                 0\n",
              "meal                                   0\n",
              "country                              488\n",
              "market_segment                         0\n",
              "distribution_channel                   0\n",
              "is_repeated_guest                      0\n",
              "previous_cancellations                 0\n",
              "previous_bookings_not_canceled         0\n",
              "reserved_room_type                     0\n",
              "assigned_room_type                     0\n",
              "booking_changes                        0\n",
              "deposit_type                           0\n",
              "agent                              16340\n",
              "company                           112593\n",
              "days_in_waiting_list                   0\n",
              "customer_type                          0\n",
              "adr                                    0\n",
              "required_car_parking_spaces            0\n",
              "total_of_special_requests              0\n",
              "reservation_status                     0\n",
              "reservation_status_date                0\n",
              "dtype: int64"
            ]
          },
          "metadata": {
            "tags": []
          },
          "execution_count": 7
        }
      ]
    },
    {
      "cell_type": "code",
      "metadata": {
        "id": "SCDdD22yqe2T"
      },
      "source": [
        "# Series where method vs np.where\n",
        "hotel_df['children'] = hotel_df.children.where(hotel_df.children.notna(), 0)\n",
        "hotel_df['country']  = hotel_df.country.fillna('UNKNOWN')\n",
        "hotel_df['agent']    = hotel_df.agent.fillna('NONE')\n",
        "hotel_df['company']  = hotel_df.company.fillna('NONE')"
      ],
      "execution_count": 8,
      "outputs": []
    },
    {
      "cell_type": "code",
      "metadata": {
        "colab": {
          "base_uri": "https://localhost:8080/"
        },
        "id": "dYh1aQV_qzQa",
        "outputId": "7107f9d9-e10a-4ed0-955f-9e57bcf470aa"
      },
      "source": [
        "hotel_df.isna().sum()"
      ],
      "execution_count": 9,
      "outputs": [
        {
          "output_type": "execute_result",
          "data": {
            "text/plain": [
              "hotel                             0\n",
              "is_canceled                       0\n",
              "lead_time                         0\n",
              "arrival_date_year                 0\n",
              "arrival_date_month                0\n",
              "arrival_date_week_number          0\n",
              "arrival_date_day_of_month         0\n",
              "stays_in_weekend_nights           0\n",
              "stays_in_week_nights              0\n",
              "adults                            0\n",
              "children                          0\n",
              "babies                            0\n",
              "meal                              0\n",
              "country                           0\n",
              "market_segment                    0\n",
              "distribution_channel              0\n",
              "is_repeated_guest                 0\n",
              "previous_cancellations            0\n",
              "previous_bookings_not_canceled    0\n",
              "reserved_room_type                0\n",
              "assigned_room_type                0\n",
              "booking_changes                   0\n",
              "deposit_type                      0\n",
              "agent                             0\n",
              "company                           0\n",
              "days_in_waiting_list              0\n",
              "customer_type                     0\n",
              "adr                               0\n",
              "required_car_parking_spaces       0\n",
              "total_of_special_requests         0\n",
              "reservation_status                0\n",
              "reservation_status_date           0\n",
              "dtype: int64"
            ]
          },
          "metadata": {
            "tags": []
          },
          "execution_count": 9
        }
      ]
    },
    {
      "cell_type": "markdown",
      "metadata": {
        "id": "U19ViY75dqBS"
      },
      "source": [
        "## Outliers\n",
        "* More than 10 people booked in a room\n",
        "  * All cancelled\n",
        "  * Agent 96 is present on 1/2 of them\n",
        "* The hotel paid one person to stay there\n",
        "  * Best to truncate that to $0\n",
        "  * One room cost \\$5,400"
      ]
    },
    {
      "cell_type": "code",
      "metadata": {
        "id": "RDmh7vL8h33k"
      },
      "source": [
        "hotel_df = hotel_df[(hotel_df.adr >= 0) & (hotel_df.adr < 1000)]"
      ],
      "execution_count": 10,
      "outputs": []
    },
    {
      "cell_type": "markdown",
      "metadata": {
        "id": "OuncANDXrSVG"
      },
      "source": [
        "# Classification Problems\n",
        "\n",
        "![](https://static.javatpoint.com/tutorial/machine-learning/images/classification-algorithm-in-machine-learning.png)"
      ]
    },
    {
      "cell_type": "markdown",
      "metadata": {
        "id": "XIsc86Pd1OhI"
      },
      "source": [
        "## Logistic Regression\n",
        "* Could we use linear regression to classify?\n",
        "* Our target values all fall on two lines \n",
        "  * Y=1 is canceled\n",
        "  * Y=0 is not canceled\n",
        "\n",
        "![](https://miro.medium.com/max/376/1*xFhICZgdr2VEZQ-C4FLUEA.jpeg)"
      ]
    },
    {
      "cell_type": "markdown",
      "metadata": {
        "id": "OAl7qvEQaXCD"
      },
      "source": [
        "![](https://www.gstatic.com/education/formulas2/355397047/en/logit.svg)"
      ]
    },
    {
      "cell_type": "markdown",
      "metadata": {
        "id": "se1KhnJfcynz"
      },
      "source": [
        "### Odds"
      ]
    },
    {
      "cell_type": "code",
      "metadata": {
        "colab": {
          "base_uri": "https://localhost:8080/"
        },
        "id": "ZokQA0CIa2zH",
        "outputId": "6e172698-93d0-47ae-d976-a37c48ae8a09"
      },
      "source": [
        "# Odds = ratio of prob / 1 - prob\n",
        "# 80% chance of winning\n",
        "print(f'If 80% chance of winning, odds {.8 / (1 - .8):.2f}')\n",
        "print(f'If 50% chance of winning, odds {.5 / (1 - .5):.2f}')\n",
        "print(f'If 20% chance of winning, odds {.2 / (1 - .2):.2f}')"
      ],
      "execution_count": 64,
      "outputs": [
        {
          "output_type": "stream",
          "text": [
            "If 80% chance of winning, odds 4.00\n",
            "If 50% chance of winning, odds 1.00\n",
            "If 20% chance of winning, odds 0.25\n"
          ],
          "name": "stdout"
        }
      ]
    },
    {
      "cell_type": "markdown",
      "metadata": {
        "id": "bOXNXGSnc0Sv"
      },
      "source": [
        "### Odds -> Log Odds"
      ]
    },
    {
      "cell_type": "code",
      "metadata": {
        "colab": {
          "base_uri": "https://localhost:8080/"
        },
        "id": "heENohJlbO_z",
        "outputId": "d957ef1d-137a-46af-83b7-590940c48184"
      },
      "source": [
        "# Log odds is the logarithm of odds\n",
        "# Logs are numerically friendly - turn multiplication into addition\n",
        "# log(p / (1-p)) = log(p) - log(1-p)\n",
        "# Log odds > 0 when you have a greater than 50% chance\n",
        "# Log odds = 0 when you have a 50-50 chance of winning\n",
        "# Log odds < 0 when you have a less than 50% chance\n",
        "print(f'If 80% chance of winning, log odds {np.log(.8 / (1 - .8)):.2f}')\n",
        "print(f'If 50% chance of winning, log odds {np.log(.5 / (1 - .5)):.2f}')\n",
        "print(f'If 20% chance of winning, log odds {np.log(.2 / (1 - .2)):.2f}')"
      ],
      "execution_count": 65,
      "outputs": [
        {
          "output_type": "stream",
          "text": [
            "If 80% chance of winning, log odds 1.39\n",
            "If 50% chance of winning, log odds 0.00\n",
            "If 20% chance of winning, log odds -1.39\n"
          ],
          "name": "stdout"
        }
      ]
    },
    {
      "cell_type": "markdown",
      "metadata": {
        "id": "dfmcJGSMdJ64"
      },
      "source": [
        "### Log Odds -> Odds\n",
        "* Exponentiate log odds to get to odds"
      ]
    },
    {
      "cell_type": "code",
      "metadata": {
        "colab": {
          "base_uri": "https://localhost:8080/"
        },
        "id": "pGE0ewVqdNSG",
        "outputId": "d53cba7f-41a0-4fb2-e95a-e3a6076dd967"
      },
      "source": [
        "odds     = .8 / (1 - .8) \n",
        "log_odds = np.log(odds)\n",
        "exp_odds = np.exp(log_odds)\n",
        "print(f'Odds {odds:.2f}')\n",
        "print(f'log(odds) -> Log Odds {log_odds:.2f}')\n",
        "print(f'exp(log_odds) -> Odds {exp_odds:.2f}')"
      ],
      "execution_count": 71,
      "outputs": [
        {
          "output_type": "stream",
          "text": [
            "Odds 4.00\n",
            "log(odds) -> Log Odds 1.39\n",
            "exp(log_odds) -> Odds 4.00\n"
          ],
          "name": "stdout"
        }
      ]
    },
    {
      "cell_type": "markdown",
      "metadata": {
        "id": "aRvBbnJf34Kt"
      },
      "source": [
        "## Univariate"
      ]
    },
    {
      "cell_type": "code",
      "metadata": {
        "colab": {
          "base_uri": "https://localhost:8080/"
        },
        "id": "MaSQTK1B1Py6",
        "outputId": "afcbd49f-c2f7-45ad-8e4f-68b310d2528e"
      },
      "source": [
        "f = 'is_canceled ~ lead_time'\n",
        "model = smf.logit(formula=f, data=hotel_df)\n",
        "fitted = model.fit()\n",
        "print(fitted.summary())"
      ],
      "execution_count": 11,
      "outputs": [
        {
          "output_type": "stream",
          "text": [
            "Optimization terminated successfully.\n",
            "         Current function value: 0.616284\n",
            "         Iterations 5\n",
            "                           Logit Regression Results                           \n",
            "==============================================================================\n",
            "Dep. Variable:            is_canceled   No. Observations:               119388\n",
            "Model:                          Logit   Df Residuals:                   119386\n",
            "Method:                           MLE   Df Model:                            1\n",
            "Date:                Thu, 22 Jul 2021   Pseudo R-squ.:                 0.06507\n",
            "Time:                        13:24:06   Log-Likelihood:                -73577.\n",
            "converged:                       True   LL-Null:                       -78698.\n",
            "Covariance Type:            nonrobust   LLR p-value:                     0.000\n",
            "==============================================================================\n",
            "                 coef    std err          z      P>|z|      [0.025      0.975]\n",
            "------------------------------------------------------------------------------\n",
            "Intercept     -1.1656      0.009   -126.943      0.000      -1.184      -1.148\n",
            "lead_time      0.0059   6.14e-05     95.408      0.000       0.006       0.006\n",
            "==============================================================================\n"
          ],
          "name": "stdout"
        }
      ]
    },
    {
      "cell_type": "markdown",
      "metadata": {
        "id": "MN0SyIKP8epr"
      },
      "source": [
        "### Key Fields\n",
        "* Log-Likelihood is the log likelihood of the model with the best fit of parameters to the data\n",
        "* LL-Null is the log likelihood of the model with only an intercept term\n",
        "* Pseudo R-squ. Ratio of the LL-Null compared to Log-Likelihood"
      ]
    },
    {
      "cell_type": "code",
      "metadata": {
        "colab": {
          "base_uri": "https://localhost:8080/",
          "height": 106
        },
        "id": "JeFtnhUf_v6v",
        "outputId": "7165a111-5cbb-4166-d2f3-37e5bab04551"
      },
      "source": [
        "pd.DataFrame(fitted.pred_table()).astype(int)"
      ],
      "execution_count": 12,
      "outputs": [
        {
          "output_type": "execute_result",
          "data": {
            "text/html": [
              "<div>\n",
              "<style scoped>\n",
              "    .dataframe tbody tr th:only-of-type {\n",
              "        vertical-align: middle;\n",
              "    }\n",
              "\n",
              "    .dataframe tbody tr th {\n",
              "        vertical-align: top;\n",
              "    }\n",
              "\n",
              "    .dataframe thead th {\n",
              "        text-align: right;\n",
              "    }\n",
              "</style>\n",
              "<table border=\"1\" class=\"dataframe\">\n",
              "  <thead>\n",
              "    <tr style=\"text-align: right;\">\n",
              "      <th></th>\n",
              "      <th>0</th>\n",
              "      <th>1</th>\n",
              "    </tr>\n",
              "  </thead>\n",
              "  <tbody>\n",
              "    <tr>\n",
              "      <th>0</th>\n",
              "      <td>66661</td>\n",
              "      <td>8504</td>\n",
              "    </tr>\n",
              "    <tr>\n",
              "      <th>1</th>\n",
              "      <td>31937</td>\n",
              "      <td>12286</td>\n",
              "    </tr>\n",
              "  </tbody>\n",
              "</table>\n",
              "</div>"
            ],
            "text/plain": [
              "       0      1\n",
              "0  66661   8504\n",
              "1  31937  12286"
            ]
          },
          "metadata": {
            "tags": []
          },
          "execution_count": 12
        }
      ]
    },
    {
      "cell_type": "code",
      "metadata": {
        "colab": {
          "base_uri": "https://localhost:8080/",
          "height": 106
        },
        "id": "b_1eGW-LtNhL",
        "outputId": "06a00bd7-500f-48e5-eea2-5a7bb83a9e1b"
      },
      "source": [
        "proba = fitted.predict(hotel_df.lead_time)\n",
        "pred  = np.where(proba < .5, 0, 1)\n",
        "cm = confusion_matrix(hotel_df.is_canceled, pred)\n",
        "pd.DataFrame(cm)"
      ],
      "execution_count": 13,
      "outputs": [
        {
          "output_type": "execute_result",
          "data": {
            "text/html": [
              "<div>\n",
              "<style scoped>\n",
              "    .dataframe tbody tr th:only-of-type {\n",
              "        vertical-align: middle;\n",
              "    }\n",
              "\n",
              "    .dataframe tbody tr th {\n",
              "        vertical-align: top;\n",
              "    }\n",
              "\n",
              "    .dataframe thead th {\n",
              "        text-align: right;\n",
              "    }\n",
              "</style>\n",
              "<table border=\"1\" class=\"dataframe\">\n",
              "  <thead>\n",
              "    <tr style=\"text-align: right;\">\n",
              "      <th></th>\n",
              "      <th>0</th>\n",
              "      <th>1</th>\n",
              "    </tr>\n",
              "  </thead>\n",
              "  <tbody>\n",
              "    <tr>\n",
              "      <th>0</th>\n",
              "      <td>66661</td>\n",
              "      <td>8504</td>\n",
              "    </tr>\n",
              "    <tr>\n",
              "      <th>1</th>\n",
              "      <td>31937</td>\n",
              "      <td>12286</td>\n",
              "    </tr>\n",
              "  </tbody>\n",
              "</table>\n",
              "</div>"
            ],
            "text/plain": [
              "       0      1\n",
              "0  66661   8504\n",
              "1  31937  12286"
            ]
          },
          "metadata": {
            "tags": []
          },
          "execution_count": 13
        }
      ]
    },
    {
      "cell_type": "code",
      "metadata": {
        "colab": {
          "base_uri": "https://localhost:8080/"
        },
        "id": "K_LJS1PHE4iV",
        "outputId": "2fa98a26-5f0a-4afd-9963-06b665f0e813"
      },
      "source": [
        "print(f'Accuracy {accuracy_score(hotel_df.is_canceled, pred):.3}')"
      ],
      "execution_count": 14,
      "outputs": [
        {
          "output_type": "stream",
          "text": [
            "Accuracy 0.661\n"
          ],
          "name": "stdout"
        }
      ]
    },
    {
      "cell_type": "markdown",
      "metadata": {
        "id": "2MNO3LJo5Lcq"
      },
      "source": [
        "## Multiple"
      ]
    },
    {
      "cell_type": "code",
      "metadata": {
        "colab": {
          "base_uri": "https://localhost:8080/"
        },
        "id": "C2YjfjJ94A8q",
        "outputId": "45a5750c-1bab-498b-e5e3-4a9a70a5508e"
      },
      "source": [
        "f = 'is_canceled ~ lead_time + stays_in_weekend_nights + stays_in_week_nights'\n",
        "model = smf.logit(formula=f, data=hotel_df)\n",
        "fitted = model.fit()\n",
        "print(fitted.summary())"
      ],
      "execution_count": 15,
      "outputs": [
        {
          "output_type": "stream",
          "text": [
            "Optimization terminated successfully.\n",
            "         Current function value: 0.615814\n",
            "         Iterations 5\n",
            "                           Logit Regression Results                           \n",
            "==============================================================================\n",
            "Dep. Variable:            is_canceled   No. Observations:               119388\n",
            "Model:                          Logit   Df Residuals:                   119384\n",
            "Method:                           MLE   Df Model:                            3\n",
            "Date:                Thu, 22 Jul 2021   Pseudo R-squ.:                 0.06578\n",
            "Time:                        13:24:07   Log-Likelihood:                -73521.\n",
            "converged:                       True   LL-Null:                       -78698.\n",
            "Covariance Type:            nonrobust   LLR p-value:                     0.000\n",
            "===========================================================================================\n",
            "                              coef    std err          z      P>|z|      [0.025      0.975]\n",
            "-------------------------------------------------------------------------------------------\n",
            "Intercept                  -1.0907      0.012    -91.649      0.000      -1.114      -1.067\n",
            "lead_time                   0.0060   6.27e-05     94.964      0.000       0.006       0.006\n",
            "stays_in_weekend_nights    -0.0450      0.007     -6.206      0.000      -0.059      -0.031\n",
            "stays_in_week_nights       -0.0171      0.004     -4.428      0.000      -0.025      -0.010\n",
            "===========================================================================================\n"
          ],
          "name": "stdout"
        }
      ]
    },
    {
      "cell_type": "code",
      "metadata": {
        "colab": {
          "base_uri": "https://localhost:8080/",
          "height": 106
        },
        "id": "PqqVWnyTqxHN",
        "outputId": "c8bb6735-feba-4fb2-f170-803b22de7d01"
      },
      "source": [
        "pd.DataFrame(fitted.pred_table()).astype(int)"
      ],
      "execution_count": 16,
      "outputs": [
        {
          "output_type": "execute_result",
          "data": {
            "text/html": [
              "<div>\n",
              "<style scoped>\n",
              "    .dataframe tbody tr th:only-of-type {\n",
              "        vertical-align: middle;\n",
              "    }\n",
              "\n",
              "    .dataframe tbody tr th {\n",
              "        vertical-align: top;\n",
              "    }\n",
              "\n",
              "    .dataframe thead th {\n",
              "        text-align: right;\n",
              "    }\n",
              "</style>\n",
              "<table border=\"1\" class=\"dataframe\">\n",
              "  <thead>\n",
              "    <tr style=\"text-align: right;\">\n",
              "      <th></th>\n",
              "      <th>0</th>\n",
              "      <th>1</th>\n",
              "    </tr>\n",
              "  </thead>\n",
              "  <tbody>\n",
              "    <tr>\n",
              "      <th>0</th>\n",
              "      <td>66786</td>\n",
              "      <td>8379</td>\n",
              "    </tr>\n",
              "    <tr>\n",
              "      <th>1</th>\n",
              "      <td>31940</td>\n",
              "      <td>12283</td>\n",
              "    </tr>\n",
              "  </tbody>\n",
              "</table>\n",
              "</div>"
            ],
            "text/plain": [
              "       0      1\n",
              "0  66786   8379\n",
              "1  31940  12283"
            ]
          },
          "metadata": {
            "tags": []
          },
          "execution_count": 16
        }
      ]
    },
    {
      "cell_type": "code",
      "metadata": {
        "colab": {
          "base_uri": "https://localhost:8080/",
          "height": 106
        },
        "id": "djKCFYSbukU0",
        "outputId": "35e82fc8-d579-46bd-de7c-dcbb9c6605e7"
      },
      "source": [
        "proba = fitted.predict(hotel_df[['lead_time', 'stays_in_weekend_nights', 'stays_in_week_nights']])\n",
        "pred  = np.where(proba < .5, 0, 1)\n",
        "cm = confusion_matrix(hotel_df.is_canceled, pred)\n",
        "pd.DataFrame(cm)"
      ],
      "execution_count": 17,
      "outputs": [
        {
          "output_type": "execute_result",
          "data": {
            "text/html": [
              "<div>\n",
              "<style scoped>\n",
              "    .dataframe tbody tr th:only-of-type {\n",
              "        vertical-align: middle;\n",
              "    }\n",
              "\n",
              "    .dataframe tbody tr th {\n",
              "        vertical-align: top;\n",
              "    }\n",
              "\n",
              "    .dataframe thead th {\n",
              "        text-align: right;\n",
              "    }\n",
              "</style>\n",
              "<table border=\"1\" class=\"dataframe\">\n",
              "  <thead>\n",
              "    <tr style=\"text-align: right;\">\n",
              "      <th></th>\n",
              "      <th>0</th>\n",
              "      <th>1</th>\n",
              "    </tr>\n",
              "  </thead>\n",
              "  <tbody>\n",
              "    <tr>\n",
              "      <th>0</th>\n",
              "      <td>66786</td>\n",
              "      <td>8379</td>\n",
              "    </tr>\n",
              "    <tr>\n",
              "      <th>1</th>\n",
              "      <td>31940</td>\n",
              "      <td>12283</td>\n",
              "    </tr>\n",
              "  </tbody>\n",
              "</table>\n",
              "</div>"
            ],
            "text/plain": [
              "       0      1\n",
              "0  66786   8379\n",
              "1  31940  12283"
            ]
          },
          "metadata": {
            "tags": []
          },
          "execution_count": 17
        }
      ]
    },
    {
      "cell_type": "markdown",
      "metadata": {
        "id": "ID1KTQvi5Nfm"
      },
      "source": [
        "## Assumptions\n",
        "* Observations must be independent of each other\n",
        "* No multicollinearity between independent variables (low correlation)\n",
        "* Does not assume the linear relationship between dependent and independent variables (as in LinearRegression)\n",
        "* But there is a assumption that the independent variable and log odds are linearly related"
      ]
    },
    {
      "cell_type": "markdown",
      "metadata": {
        "id": "R5s5it_7_Ugl"
      },
      "source": [
        "## Predictions\n"
      ]
    },
    {
      "cell_type": "code",
      "metadata": {
        "colab": {
          "base_uri": "https://localhost:8080/"
        },
        "id": "ky8VU1N20sCC",
        "outputId": "b1af86c7-ce6c-4507-a284-baf5668fa47c"
      },
      "source": [
        "f = 'is_canceled ~ hotel + arrival_date_month + lead_time'\n",
        "model = smf.logit(formula=f, data=hotel_df)\n",
        "fitted = model.fit()\n",
        "print(fitted.summary())"
      ],
      "execution_count": 18,
      "outputs": [
        {
          "output_type": "stream",
          "text": [
            "Optimization terminated successfully.\n",
            "         Current function value: 0.607159\n",
            "         Iterations 5\n",
            "                           Logit Regression Results                           \n",
            "==============================================================================\n",
            "Dep. Variable:            is_canceled   No. Observations:               119388\n",
            "Model:                          Logit   Df Residuals:                   119374\n",
            "Method:                           MLE   Df Model:                           13\n",
            "Date:                Thu, 22 Jul 2021   Pseudo R-squ.:                 0.07891\n",
            "Time:                        13:24:09   Log-Likelihood:                -72487.\n",
            "converged:                       True   LL-Null:                       -78698.\n",
            "Covariance Type:            nonrobust   LLR p-value:                     0.000\n",
            "===================================================================================================\n",
            "                                      coef    std err          z      P>|z|      [0.025      0.975]\n",
            "---------------------------------------------------------------------------------------------------\n",
            "Intercept                          -0.7795      0.021    -36.408      0.000      -0.821      -0.738\n",
            "hotel[T.Resort Hotel]              -0.5766      0.014    -41.631      0.000      -0.604      -0.549\n",
            "arrival_date_month[T.August]       -0.2918      0.027    -10.650      0.000      -0.346      -0.238\n",
            "arrival_date_month[T.December]     -0.0892      0.033     -2.664      0.008      -0.155      -0.024\n",
            "arrival_date_month[T.February]      0.0005      0.032      0.016      0.988      -0.062       0.063\n",
            "arrival_date_month[T.January]      -0.1397      0.036     -3.928      0.000      -0.209      -0.070\n",
            "arrival_date_month[T.July]         -0.4008      0.028    -14.217      0.000      -0.456      -0.346\n",
            "arrival_date_month[T.June]         -0.2057      0.029     -7.175      0.000      -0.262      -0.149\n",
            "arrival_date_month[T.March]        -0.2285      0.030     -7.589      0.000      -0.288      -0.170\n",
            "arrival_date_month[T.May]          -0.2075      0.028     -7.354      0.000      -0.263      -0.152\n",
            "arrival_date_month[T.November]     -0.3237      0.034     -9.458      0.000      -0.391      -0.257\n",
            "arrival_date_month[T.October]      -0.3127      0.029    -10.755      0.000      -0.370      -0.256\n",
            "arrival_date_month[T.September]    -0.3550      0.029    -12.046      0.000      -0.413      -0.297\n",
            "lead_time                           0.0061   6.58e-05     91.903      0.000       0.006       0.006\n",
            "===================================================================================================\n"
          ],
          "name": "stdout"
        }
      ]
    },
    {
      "cell_type": "code",
      "metadata": {
        "colab": {
          "base_uri": "https://localhost:8080/",
          "height": 106
        },
        "id": "yzGL36AQAZHY",
        "outputId": "700f20be-ac21-43e2-b953-9e10a085696d"
      },
      "source": [
        "pred_df = pd.DataFrame([{'hotel': 'City Hotel', 'arrival_date_month': 'July', 'lead_time': 1},\n",
        "                        {'hotel': 'Resort Hotel', 'arrival_date_month': 'December', 'lead_time': 730}])\n",
        "pred_df"
      ],
      "execution_count": 19,
      "outputs": [
        {
          "output_type": "execute_result",
          "data": {
            "text/html": [
              "<div>\n",
              "<style scoped>\n",
              "    .dataframe tbody tr th:only-of-type {\n",
              "        vertical-align: middle;\n",
              "    }\n",
              "\n",
              "    .dataframe tbody tr th {\n",
              "        vertical-align: top;\n",
              "    }\n",
              "\n",
              "    .dataframe thead th {\n",
              "        text-align: right;\n",
              "    }\n",
              "</style>\n",
              "<table border=\"1\" class=\"dataframe\">\n",
              "  <thead>\n",
              "    <tr style=\"text-align: right;\">\n",
              "      <th></th>\n",
              "      <th>hotel</th>\n",
              "      <th>arrival_date_month</th>\n",
              "      <th>lead_time</th>\n",
              "    </tr>\n",
              "  </thead>\n",
              "  <tbody>\n",
              "    <tr>\n",
              "      <th>0</th>\n",
              "      <td>City Hotel</td>\n",
              "      <td>July</td>\n",
              "      <td>1</td>\n",
              "    </tr>\n",
              "    <tr>\n",
              "      <th>1</th>\n",
              "      <td>Resort Hotel</td>\n",
              "      <td>December</td>\n",
              "      <td>730</td>\n",
              "    </tr>\n",
              "  </tbody>\n",
              "</table>\n",
              "</div>"
            ],
            "text/plain": [
              "          hotel arrival_date_month  lead_time\n",
              "0    City Hotel               July          1\n",
              "1  Resort Hotel           December        730"
            ]
          },
          "metadata": {
            "tags": []
          },
          "execution_count": 19
        }
      ]
    },
    {
      "cell_type": "code",
      "metadata": {
        "colab": {
          "base_uri": "https://localhost:8080/"
        },
        "id": "IJtwYaj0AKpT",
        "outputId": "109c8c20-fb8a-4f7a-d0f1-89abea7ca929"
      },
      "source": [
        "predictions = fitted.predict(pred_df)\n",
        "predictions"
      ],
      "execution_count": 20,
      "outputs": [
        {
          "output_type": "execute_result",
          "data": {
            "text/plain": [
              "0    0.236095\n",
              "1    0.951296\n",
              "dtype: float64"
            ]
          },
          "metadata": {
            "tags": []
          },
          "execution_count": 20
        }
      ]
    },
    {
      "cell_type": "code",
      "metadata": {
        "id": "dgZqpQOtJty6",
        "colab": {
          "base_uri": "https://localhost:8080/"
        },
        "outputId": "b2506401-9029-4965-a661-8fbcbf5ab2b1"
      },
      "source": [
        "predicted_class = np.where(predictions < 0.5, 0, 1)\n",
        "predicted_class"
      ],
      "execution_count": 21,
      "outputs": [
        {
          "output_type": "execute_result",
          "data": {
            "text/plain": [
              "array([0, 1])"
            ]
          },
          "metadata": {
            "tags": []
          },
          "execution_count": 21
        }
      ]
    },
    {
      "cell_type": "markdown",
      "metadata": {
        "id": "Emdsq4IJ1D85"
      },
      "source": [
        "# Sklearn\n",
        "* Statsmodels is focused on statistical modeling\n",
        "  * \"Model should satisfy its assumptions\"\n",
        "  * Descriptive summary\n",
        "  * Often guided by \"Stargazing\"\n",
        "  * Formula driven\n",
        "* Sklearn is focused on predictive modeling\n",
        "  * \"Model should do well at forecasting\"\n",
        "  * Use Error Measures\n",
        "  * Hold out / Cross fold validation\n",
        "  * Preprocessing Data"
      ]
    },
    {
      "cell_type": "markdown",
      "metadata": {
        "id": "p6gZK5lQ23Y_"
      },
      "source": [
        "## Loss Metrics\n",
        "\n",
        "![](https://miro.medium.com/max/1400/1*pOtBHai4jFd-ujaNXPilRg.png)"
      ]
    },
    {
      "cell_type": "markdown",
      "metadata": {
        "id": "3-9jFpZo4GXT"
      },
      "source": [
        "## Tools"
      ]
    },
    {
      "cell_type": "markdown",
      "metadata": {
        "id": "Cm0bmBQU4Kgv"
      },
      "source": [
        "### Train - Test - Split\n",
        "* We need to test how well our model has learned to complete a task\n",
        "\n"
      ]
    },
    {
      "cell_type": "markdown",
      "metadata": {
        "id": "eGoCoVZNEBgA"
      },
      "source": [
        "### Standard Scaler\n",
        "* Scaling data improves the ability to converge (makes the problem easier to solve)\n",
        "* To scale, subtract the mean and divide by the standard deviation\n",
        "* In sklearn, we use the training data set to estimate mean and standard deviation\n",
        "* Apply to both train and test sets\n",
        "* The StandardScaler class makes this easy to use"
      ]
    },
    {
      "cell_type": "code",
      "metadata": {
        "colab": {
          "base_uri": "https://localhost:8080/",
          "height": 195
        },
        "id": "rGtat8DsGb1j",
        "outputId": "31d9d2df-8584-4515-cf41-6c72069b5bdb"
      },
      "source": [
        "sample = hotel_df[['lead_time']].copy()\n",
        "scaler = StandardScaler()\n",
        "sample['lead_time_scaled'] = scaler.fit_transform(sample)\n",
        "sample.head()"
      ],
      "execution_count": 22,
      "outputs": [
        {
          "output_type": "execute_result",
          "data": {
            "text/html": [
              "<div>\n",
              "<style scoped>\n",
              "    .dataframe tbody tr th:only-of-type {\n",
              "        vertical-align: middle;\n",
              "    }\n",
              "\n",
              "    .dataframe tbody tr th {\n",
              "        vertical-align: top;\n",
              "    }\n",
              "\n",
              "    .dataframe thead th {\n",
              "        text-align: right;\n",
              "    }\n",
              "</style>\n",
              "<table border=\"1\" class=\"dataframe\">\n",
              "  <thead>\n",
              "    <tr style=\"text-align: right;\">\n",
              "      <th></th>\n",
              "      <th>lead_time</th>\n",
              "      <th>lead_time_scaled</th>\n",
              "    </tr>\n",
              "  </thead>\n",
              "  <tbody>\n",
              "    <tr>\n",
              "      <th>0</th>\n",
              "      <td>342</td>\n",
              "      <td>2.227045</td>\n",
              "    </tr>\n",
              "    <tr>\n",
              "      <th>1</th>\n",
              "      <td>737</td>\n",
              "      <td>5.923365</td>\n",
              "    </tr>\n",
              "    <tr>\n",
              "      <th>2</th>\n",
              "      <td>7</td>\n",
              "      <td>-0.907809</td>\n",
              "    </tr>\n",
              "    <tr>\n",
              "      <th>3</th>\n",
              "      <td>13</td>\n",
              "      <td>-0.851662</td>\n",
              "    </tr>\n",
              "    <tr>\n",
              "      <th>4</th>\n",
              "      <td>14</td>\n",
              "      <td>-0.842305</td>\n",
              "    </tr>\n",
              "  </tbody>\n",
              "</table>\n",
              "</div>"
            ],
            "text/plain": [
              "   lead_time  lead_time_scaled\n",
              "0        342          2.227045\n",
              "1        737          5.923365\n",
              "2          7         -0.907809\n",
              "3         13         -0.851662\n",
              "4         14         -0.842305"
            ]
          },
          "metadata": {
            "tags": []
          },
          "execution_count": 22
        }
      ]
    },
    {
      "cell_type": "code",
      "metadata": {
        "colab": {
          "base_uri": "https://localhost:8080/"
        },
        "id": "tuhYMxISGMy4",
        "outputId": "e8a20906-2603-42c7-f6d0-a4efc42d028f"
      },
      "source": [
        "print(scaler.mean_)"
      ],
      "execution_count": 23,
      "outputs": [
        {
          "output_type": "stream",
          "text": [
            "[104.01123228]\n"
          ],
          "name": "stdout"
        }
      ]
    },
    {
      "cell_type": "markdown",
      "metadata": {
        "id": "D_S1L2_AEBiO"
      },
      "source": [
        "### One Hot Encoding\n",
        "* We have to build the matrix of dummy values for our regression in sklearn\n",
        "* Categorical variables (i.e. strings) need to be converted to matrix of 0s and 1s\n",
        "* Two Main Approaches\n",
        "  * One Hot Encoder \n",
        "  * Pandas get_dummies"
      ]
    },
    {
      "cell_type": "code",
      "metadata": {
        "colab": {
          "base_uri": "https://localhost:8080/",
          "height": 195
        },
        "id": "ZKFS8ONXGUR5",
        "outputId": "5412bf38-ff1a-4bae-b6c6-c2274acc0c4f"
      },
      "source": [
        "sample = hotel_df[['arrival_date_month']].copy()\n",
        "sample.head()"
      ],
      "execution_count": 24,
      "outputs": [
        {
          "output_type": "execute_result",
          "data": {
            "text/html": [
              "<div>\n",
              "<style scoped>\n",
              "    .dataframe tbody tr th:only-of-type {\n",
              "        vertical-align: middle;\n",
              "    }\n",
              "\n",
              "    .dataframe tbody tr th {\n",
              "        vertical-align: top;\n",
              "    }\n",
              "\n",
              "    .dataframe thead th {\n",
              "        text-align: right;\n",
              "    }\n",
              "</style>\n",
              "<table border=\"1\" class=\"dataframe\">\n",
              "  <thead>\n",
              "    <tr style=\"text-align: right;\">\n",
              "      <th></th>\n",
              "      <th>arrival_date_month</th>\n",
              "    </tr>\n",
              "  </thead>\n",
              "  <tbody>\n",
              "    <tr>\n",
              "      <th>0</th>\n",
              "      <td>July</td>\n",
              "    </tr>\n",
              "    <tr>\n",
              "      <th>1</th>\n",
              "      <td>July</td>\n",
              "    </tr>\n",
              "    <tr>\n",
              "      <th>2</th>\n",
              "      <td>July</td>\n",
              "    </tr>\n",
              "    <tr>\n",
              "      <th>3</th>\n",
              "      <td>July</td>\n",
              "    </tr>\n",
              "    <tr>\n",
              "      <th>4</th>\n",
              "      <td>July</td>\n",
              "    </tr>\n",
              "  </tbody>\n",
              "</table>\n",
              "</div>"
            ],
            "text/plain": [
              "  arrival_date_month\n",
              "0               July\n",
              "1               July\n",
              "2               July\n",
              "3               July\n",
              "4               July"
            ]
          },
          "metadata": {
            "tags": []
          },
          "execution_count": 24
        }
      ]
    },
    {
      "cell_type": "code",
      "metadata": {
        "colab": {
          "base_uri": "https://localhost:8080/",
          "height": 215
        },
        "id": "wEDZG8W8JA8N",
        "outputId": "5eb53f49-48dc-4140-a83e-36b12fc0663b"
      },
      "source": [
        "pd.get_dummies(sample).head()"
      ],
      "execution_count": 25,
      "outputs": [
        {
          "output_type": "execute_result",
          "data": {
            "text/html": [
              "<div>\n",
              "<style scoped>\n",
              "    .dataframe tbody tr th:only-of-type {\n",
              "        vertical-align: middle;\n",
              "    }\n",
              "\n",
              "    .dataframe tbody tr th {\n",
              "        vertical-align: top;\n",
              "    }\n",
              "\n",
              "    .dataframe thead th {\n",
              "        text-align: right;\n",
              "    }\n",
              "</style>\n",
              "<table border=\"1\" class=\"dataframe\">\n",
              "  <thead>\n",
              "    <tr style=\"text-align: right;\">\n",
              "      <th></th>\n",
              "      <th>arrival_date_month_April</th>\n",
              "      <th>arrival_date_month_August</th>\n",
              "      <th>arrival_date_month_December</th>\n",
              "      <th>arrival_date_month_February</th>\n",
              "      <th>arrival_date_month_January</th>\n",
              "      <th>arrival_date_month_July</th>\n",
              "      <th>arrival_date_month_June</th>\n",
              "      <th>arrival_date_month_March</th>\n",
              "      <th>arrival_date_month_May</th>\n",
              "      <th>arrival_date_month_November</th>\n",
              "      <th>arrival_date_month_October</th>\n",
              "      <th>arrival_date_month_September</th>\n",
              "    </tr>\n",
              "  </thead>\n",
              "  <tbody>\n",
              "    <tr>\n",
              "      <th>0</th>\n",
              "      <td>0</td>\n",
              "      <td>0</td>\n",
              "      <td>0</td>\n",
              "      <td>0</td>\n",
              "      <td>0</td>\n",
              "      <td>1</td>\n",
              "      <td>0</td>\n",
              "      <td>0</td>\n",
              "      <td>0</td>\n",
              "      <td>0</td>\n",
              "      <td>0</td>\n",
              "      <td>0</td>\n",
              "    </tr>\n",
              "    <tr>\n",
              "      <th>1</th>\n",
              "      <td>0</td>\n",
              "      <td>0</td>\n",
              "      <td>0</td>\n",
              "      <td>0</td>\n",
              "      <td>0</td>\n",
              "      <td>1</td>\n",
              "      <td>0</td>\n",
              "      <td>0</td>\n",
              "      <td>0</td>\n",
              "      <td>0</td>\n",
              "      <td>0</td>\n",
              "      <td>0</td>\n",
              "    </tr>\n",
              "    <tr>\n",
              "      <th>2</th>\n",
              "      <td>0</td>\n",
              "      <td>0</td>\n",
              "      <td>0</td>\n",
              "      <td>0</td>\n",
              "      <td>0</td>\n",
              "      <td>1</td>\n",
              "      <td>0</td>\n",
              "      <td>0</td>\n",
              "      <td>0</td>\n",
              "      <td>0</td>\n",
              "      <td>0</td>\n",
              "      <td>0</td>\n",
              "    </tr>\n",
              "    <tr>\n",
              "      <th>3</th>\n",
              "      <td>0</td>\n",
              "      <td>0</td>\n",
              "      <td>0</td>\n",
              "      <td>0</td>\n",
              "      <td>0</td>\n",
              "      <td>1</td>\n",
              "      <td>0</td>\n",
              "      <td>0</td>\n",
              "      <td>0</td>\n",
              "      <td>0</td>\n",
              "      <td>0</td>\n",
              "      <td>0</td>\n",
              "    </tr>\n",
              "    <tr>\n",
              "      <th>4</th>\n",
              "      <td>0</td>\n",
              "      <td>0</td>\n",
              "      <td>0</td>\n",
              "      <td>0</td>\n",
              "      <td>0</td>\n",
              "      <td>1</td>\n",
              "      <td>0</td>\n",
              "      <td>0</td>\n",
              "      <td>0</td>\n",
              "      <td>0</td>\n",
              "      <td>0</td>\n",
              "      <td>0</td>\n",
              "    </tr>\n",
              "  </tbody>\n",
              "</table>\n",
              "</div>"
            ],
            "text/plain": [
              "   arrival_date_month_April  ...  arrival_date_month_September\n",
              "0                         0  ...                             0\n",
              "1                         0  ...                             0\n",
              "2                         0  ...                             0\n",
              "3                         0  ...                             0\n",
              "4                         0  ...                             0\n",
              "\n",
              "[5 rows x 12 columns]"
            ]
          },
          "metadata": {
            "tags": []
          },
          "execution_count": 25
        }
      ]
    },
    {
      "cell_type": "code",
      "metadata": {
        "colab": {
          "base_uri": "https://localhost:8080/",
          "height": 215
        },
        "id": "89W324P3KJDR",
        "outputId": "909949a7-42bf-4a05-b45a-313928740a3f"
      },
      "source": [
        "sample = hotel_df[['arrival_date_month']].copy()\n",
        "ohe = OneHotEncoder()\n",
        "pd.DataFrame(ohe.fit_transform(sample).todense(), columns=ohe.get_feature_names()).head()"
      ],
      "execution_count": 26,
      "outputs": [
        {
          "output_type": "execute_result",
          "data": {
            "text/html": [
              "<div>\n",
              "<style scoped>\n",
              "    .dataframe tbody tr th:only-of-type {\n",
              "        vertical-align: middle;\n",
              "    }\n",
              "\n",
              "    .dataframe tbody tr th {\n",
              "        vertical-align: top;\n",
              "    }\n",
              "\n",
              "    .dataframe thead th {\n",
              "        text-align: right;\n",
              "    }\n",
              "</style>\n",
              "<table border=\"1\" class=\"dataframe\">\n",
              "  <thead>\n",
              "    <tr style=\"text-align: right;\">\n",
              "      <th></th>\n",
              "      <th>x0_April</th>\n",
              "      <th>x0_August</th>\n",
              "      <th>x0_December</th>\n",
              "      <th>x0_February</th>\n",
              "      <th>x0_January</th>\n",
              "      <th>x0_July</th>\n",
              "      <th>x0_June</th>\n",
              "      <th>x0_March</th>\n",
              "      <th>x0_May</th>\n",
              "      <th>x0_November</th>\n",
              "      <th>x0_October</th>\n",
              "      <th>x0_September</th>\n",
              "    </tr>\n",
              "  </thead>\n",
              "  <tbody>\n",
              "    <tr>\n",
              "      <th>0</th>\n",
              "      <td>0.0</td>\n",
              "      <td>0.0</td>\n",
              "      <td>0.0</td>\n",
              "      <td>0.0</td>\n",
              "      <td>0.0</td>\n",
              "      <td>1.0</td>\n",
              "      <td>0.0</td>\n",
              "      <td>0.0</td>\n",
              "      <td>0.0</td>\n",
              "      <td>0.0</td>\n",
              "      <td>0.0</td>\n",
              "      <td>0.0</td>\n",
              "    </tr>\n",
              "    <tr>\n",
              "      <th>1</th>\n",
              "      <td>0.0</td>\n",
              "      <td>0.0</td>\n",
              "      <td>0.0</td>\n",
              "      <td>0.0</td>\n",
              "      <td>0.0</td>\n",
              "      <td>1.0</td>\n",
              "      <td>0.0</td>\n",
              "      <td>0.0</td>\n",
              "      <td>0.0</td>\n",
              "      <td>0.0</td>\n",
              "      <td>0.0</td>\n",
              "      <td>0.0</td>\n",
              "    </tr>\n",
              "    <tr>\n",
              "      <th>2</th>\n",
              "      <td>0.0</td>\n",
              "      <td>0.0</td>\n",
              "      <td>0.0</td>\n",
              "      <td>0.0</td>\n",
              "      <td>0.0</td>\n",
              "      <td>1.0</td>\n",
              "      <td>0.0</td>\n",
              "      <td>0.0</td>\n",
              "      <td>0.0</td>\n",
              "      <td>0.0</td>\n",
              "      <td>0.0</td>\n",
              "      <td>0.0</td>\n",
              "    </tr>\n",
              "    <tr>\n",
              "      <th>3</th>\n",
              "      <td>0.0</td>\n",
              "      <td>0.0</td>\n",
              "      <td>0.0</td>\n",
              "      <td>0.0</td>\n",
              "      <td>0.0</td>\n",
              "      <td>1.0</td>\n",
              "      <td>0.0</td>\n",
              "      <td>0.0</td>\n",
              "      <td>0.0</td>\n",
              "      <td>0.0</td>\n",
              "      <td>0.0</td>\n",
              "      <td>0.0</td>\n",
              "    </tr>\n",
              "    <tr>\n",
              "      <th>4</th>\n",
              "      <td>0.0</td>\n",
              "      <td>0.0</td>\n",
              "      <td>0.0</td>\n",
              "      <td>0.0</td>\n",
              "      <td>0.0</td>\n",
              "      <td>1.0</td>\n",
              "      <td>0.0</td>\n",
              "      <td>0.0</td>\n",
              "      <td>0.0</td>\n",
              "      <td>0.0</td>\n",
              "      <td>0.0</td>\n",
              "      <td>0.0</td>\n",
              "    </tr>\n",
              "  </tbody>\n",
              "</table>\n",
              "</div>"
            ],
            "text/plain": [
              "   x0_April  x0_August  x0_December  ...  x0_November  x0_October  x0_September\n",
              "0       0.0        0.0          0.0  ...          0.0         0.0           0.0\n",
              "1       0.0        0.0          0.0  ...          0.0         0.0           0.0\n",
              "2       0.0        0.0          0.0  ...          0.0         0.0           0.0\n",
              "3       0.0        0.0          0.0  ...          0.0         0.0           0.0\n",
              "4       0.0        0.0          0.0  ...          0.0         0.0           0.0\n",
              "\n",
              "[5 rows x 12 columns]"
            ]
          },
          "metadata": {
            "tags": []
          },
          "execution_count": 26
        }
      ]
    },
    {
      "cell_type": "markdown",
      "metadata": {
        "id": "lvft1Fhx5Knl"
      },
      "source": [
        "## Logistic Regression"
      ]
    },
    {
      "cell_type": "markdown",
      "metadata": {
        "id": "8W-H1GJG64NZ"
      },
      "source": [
        "### Train - Test\n",
        "* Randomly assign data into training and test sets\n",
        "* Learn from training\n",
        "* Evaluate accuracy on test "
      ]
    },
    {
      "cell_type": "code",
      "metadata": {
        "id": "7RpE-94T4E8l"
      },
      "source": [
        "# Pull features and target\n",
        "X = hotel_df.copy()\n",
        "y = X.pop('is_canceled')\n",
        "X = X[['lead_time', 'arrival_date_month']]"
      ],
      "execution_count": 27,
      "outputs": []
    },
    {
      "cell_type": "code",
      "metadata": {
        "colab": {
          "base_uri": "https://localhost:8080/",
          "height": 195
        },
        "id": "oJpVQnJdM_88",
        "outputId": "1e48246f-03c1-4c1f-ad54-eda2513ea1a3"
      },
      "source": [
        "X.head()"
      ],
      "execution_count": 28,
      "outputs": [
        {
          "output_type": "execute_result",
          "data": {
            "text/html": [
              "<div>\n",
              "<style scoped>\n",
              "    .dataframe tbody tr th:only-of-type {\n",
              "        vertical-align: middle;\n",
              "    }\n",
              "\n",
              "    .dataframe tbody tr th {\n",
              "        vertical-align: top;\n",
              "    }\n",
              "\n",
              "    .dataframe thead th {\n",
              "        text-align: right;\n",
              "    }\n",
              "</style>\n",
              "<table border=\"1\" class=\"dataframe\">\n",
              "  <thead>\n",
              "    <tr style=\"text-align: right;\">\n",
              "      <th></th>\n",
              "      <th>lead_time</th>\n",
              "      <th>arrival_date_month</th>\n",
              "    </tr>\n",
              "  </thead>\n",
              "  <tbody>\n",
              "    <tr>\n",
              "      <th>0</th>\n",
              "      <td>342</td>\n",
              "      <td>July</td>\n",
              "    </tr>\n",
              "    <tr>\n",
              "      <th>1</th>\n",
              "      <td>737</td>\n",
              "      <td>July</td>\n",
              "    </tr>\n",
              "    <tr>\n",
              "      <th>2</th>\n",
              "      <td>7</td>\n",
              "      <td>July</td>\n",
              "    </tr>\n",
              "    <tr>\n",
              "      <th>3</th>\n",
              "      <td>13</td>\n",
              "      <td>July</td>\n",
              "    </tr>\n",
              "    <tr>\n",
              "      <th>4</th>\n",
              "      <td>14</td>\n",
              "      <td>July</td>\n",
              "    </tr>\n",
              "  </tbody>\n",
              "</table>\n",
              "</div>"
            ],
            "text/plain": [
              "   lead_time arrival_date_month\n",
              "0        342               July\n",
              "1        737               July\n",
              "2          7               July\n",
              "3         13               July\n",
              "4         14               July"
            ]
          },
          "metadata": {
            "tags": []
          },
          "execution_count": 28
        }
      ]
    },
    {
      "cell_type": "markdown",
      "metadata": {
        "id": "Ih7EpLdyJW4B"
      },
      "source": [
        "### Pre-Process"
      ]
    },
    {
      "cell_type": "code",
      "metadata": {
        "id": "6e8cSL20Ja_4"
      },
      "source": [
        "# Get dummy variables \n",
        "X = pd.get_dummies(X, columns=['arrival_date_month'])\n",
        "\n",
        "# Train test split\n",
        "X_train, X_test, y_train, y_test = train_test_split(X.copy(), y)\n",
        "\n",
        "# Scale numeric columns\n",
        "scaler = StandardScaler()\n",
        "X_train['lead_time'] = scaler.fit_transform(X_train[['lead_time']])\n",
        "X_test['lead_time']  = scaler.transform(X_test[['lead_time']])"
      ],
      "execution_count": 29,
      "outputs": []
    },
    {
      "cell_type": "code",
      "metadata": {
        "colab": {
          "base_uri": "https://localhost:8080/",
          "height": 215
        },
        "id": "yuJl3rrRNCy9",
        "outputId": "8ed799a6-7db7-44ad-fe08-d533a15821fa"
      },
      "source": [
        "X_train.head()"
      ],
      "execution_count": 30,
      "outputs": [
        {
          "output_type": "execute_result",
          "data": {
            "text/html": [
              "<div>\n",
              "<style scoped>\n",
              "    .dataframe tbody tr th:only-of-type {\n",
              "        vertical-align: middle;\n",
              "    }\n",
              "\n",
              "    .dataframe tbody tr th {\n",
              "        vertical-align: top;\n",
              "    }\n",
              "\n",
              "    .dataframe thead th {\n",
              "        text-align: right;\n",
              "    }\n",
              "</style>\n",
              "<table border=\"1\" class=\"dataframe\">\n",
              "  <thead>\n",
              "    <tr style=\"text-align: right;\">\n",
              "      <th></th>\n",
              "      <th>lead_time</th>\n",
              "      <th>arrival_date_month_April</th>\n",
              "      <th>arrival_date_month_August</th>\n",
              "      <th>arrival_date_month_December</th>\n",
              "      <th>arrival_date_month_February</th>\n",
              "      <th>arrival_date_month_January</th>\n",
              "      <th>arrival_date_month_July</th>\n",
              "      <th>arrival_date_month_June</th>\n",
              "      <th>arrival_date_month_March</th>\n",
              "      <th>arrival_date_month_May</th>\n",
              "      <th>arrival_date_month_November</th>\n",
              "      <th>arrival_date_month_October</th>\n",
              "      <th>arrival_date_month_September</th>\n",
              "    </tr>\n",
              "  </thead>\n",
              "  <tbody>\n",
              "    <tr>\n",
              "      <th>63335</th>\n",
              "      <td>4.459839</td>\n",
              "      <td>0</td>\n",
              "      <td>0</td>\n",
              "      <td>0</td>\n",
              "      <td>1</td>\n",
              "      <td>0</td>\n",
              "      <td>0</td>\n",
              "      <td>0</td>\n",
              "      <td>0</td>\n",
              "      <td>0</td>\n",
              "      <td>0</td>\n",
              "      <td>0</td>\n",
              "      <td>0</td>\n",
              "    </tr>\n",
              "    <tr>\n",
              "      <th>68703</th>\n",
              "      <td>-0.636561</td>\n",
              "      <td>0</td>\n",
              "      <td>0</td>\n",
              "      <td>0</td>\n",
              "      <td>0</td>\n",
              "      <td>0</td>\n",
              "      <td>0</td>\n",
              "      <td>0</td>\n",
              "      <td>0</td>\n",
              "      <td>1</td>\n",
              "      <td>0</td>\n",
              "      <td>0</td>\n",
              "      <td>0</td>\n",
              "    </tr>\n",
              "    <tr>\n",
              "      <th>99239</th>\n",
              "      <td>-0.861402</td>\n",
              "      <td>0</td>\n",
              "      <td>0</td>\n",
              "      <td>0</td>\n",
              "      <td>0</td>\n",
              "      <td>0</td>\n",
              "      <td>0</td>\n",
              "      <td>0</td>\n",
              "      <td>0</td>\n",
              "      <td>0</td>\n",
              "      <td>0</td>\n",
              "      <td>1</td>\n",
              "      <td>0</td>\n",
              "    </tr>\n",
              "    <tr>\n",
              "      <th>75809</th>\n",
              "      <td>2.117744</td>\n",
              "      <td>0</td>\n",
              "      <td>0</td>\n",
              "      <td>0</td>\n",
              "      <td>0</td>\n",
              "      <td>0</td>\n",
              "      <td>0</td>\n",
              "      <td>0</td>\n",
              "      <td>0</td>\n",
              "      <td>0</td>\n",
              "      <td>0</td>\n",
              "      <td>0</td>\n",
              "      <td>1</td>\n",
              "    </tr>\n",
              "    <tr>\n",
              "      <th>72031</th>\n",
              "      <td>0.749960</td>\n",
              "      <td>0</td>\n",
              "      <td>0</td>\n",
              "      <td>0</td>\n",
              "      <td>0</td>\n",
              "      <td>0</td>\n",
              "      <td>1</td>\n",
              "      <td>0</td>\n",
              "      <td>0</td>\n",
              "      <td>0</td>\n",
              "      <td>0</td>\n",
              "      <td>0</td>\n",
              "      <td>0</td>\n",
              "    </tr>\n",
              "  </tbody>\n",
              "</table>\n",
              "</div>"
            ],
            "text/plain": [
              "       lead_time  ...  arrival_date_month_September\n",
              "63335   4.459839  ...                             0\n",
              "68703  -0.636561  ...                             0\n",
              "99239  -0.861402  ...                             0\n",
              "75809   2.117744  ...                             1\n",
              "72031   0.749960  ...                             0\n",
              "\n",
              "[5 rows x 13 columns]"
            ]
          },
          "metadata": {
            "tags": []
          },
          "execution_count": 30
        }
      ]
    },
    {
      "cell_type": "code",
      "metadata": {
        "colab": {
          "base_uri": "https://localhost:8080/",
          "height": 215
        },
        "id": "ch-LWkGJNGxq",
        "outputId": "9ec9db01-4761-40b4-c26c-fa668ab8ab57"
      },
      "source": [
        "X_test.head()"
      ],
      "execution_count": 31,
      "outputs": [
        {
          "output_type": "execute_result",
          "data": {
            "text/html": [
              "<div>\n",
              "<style scoped>\n",
              "    .dataframe tbody tr th:only-of-type {\n",
              "        vertical-align: middle;\n",
              "    }\n",
              "\n",
              "    .dataframe tbody tr th {\n",
              "        vertical-align: top;\n",
              "    }\n",
              "\n",
              "    .dataframe thead th {\n",
              "        text-align: right;\n",
              "    }\n",
              "</style>\n",
              "<table border=\"1\" class=\"dataframe\">\n",
              "  <thead>\n",
              "    <tr style=\"text-align: right;\">\n",
              "      <th></th>\n",
              "      <th>lead_time</th>\n",
              "      <th>arrival_date_month_April</th>\n",
              "      <th>arrival_date_month_August</th>\n",
              "      <th>arrival_date_month_December</th>\n",
              "      <th>arrival_date_month_February</th>\n",
              "      <th>arrival_date_month_January</th>\n",
              "      <th>arrival_date_month_July</th>\n",
              "      <th>arrival_date_month_June</th>\n",
              "      <th>arrival_date_month_March</th>\n",
              "      <th>arrival_date_month_May</th>\n",
              "      <th>arrival_date_month_November</th>\n",
              "      <th>arrival_date_month_October</th>\n",
              "      <th>arrival_date_month_September</th>\n",
              "    </tr>\n",
              "  </thead>\n",
              "  <tbody>\n",
              "    <tr>\n",
              "      <th>111096</th>\n",
              "      <td>0.515750</td>\n",
              "      <td>0</td>\n",
              "      <td>0</td>\n",
              "      <td>0</td>\n",
              "      <td>0</td>\n",
              "      <td>0</td>\n",
              "      <td>0</td>\n",
              "      <td>0</td>\n",
              "      <td>0</td>\n",
              "      <td>1</td>\n",
              "      <td>0</td>\n",
              "      <td>0</td>\n",
              "      <td>0</td>\n",
              "    </tr>\n",
              "    <tr>\n",
              "      <th>43346</th>\n",
              "      <td>-0.280562</td>\n",
              "      <td>0</td>\n",
              "      <td>0</td>\n",
              "      <td>0</td>\n",
              "      <td>0</td>\n",
              "      <td>0</td>\n",
              "      <td>0</td>\n",
              "      <td>0</td>\n",
              "      <td>0</td>\n",
              "      <td>0</td>\n",
              "      <td>0</td>\n",
              "      <td>0</td>\n",
              "      <td>1</td>\n",
              "    </tr>\n",
              "    <tr>\n",
              "      <th>11153</th>\n",
              "      <td>0.244067</td>\n",
              "      <td>1</td>\n",
              "      <td>0</td>\n",
              "      <td>0</td>\n",
              "      <td>0</td>\n",
              "      <td>0</td>\n",
              "      <td>0</td>\n",
              "      <td>0</td>\n",
              "      <td>0</td>\n",
              "      <td>0</td>\n",
              "      <td>0</td>\n",
              "      <td>0</td>\n",
              "      <td>0</td>\n",
              "    </tr>\n",
              "    <tr>\n",
              "      <th>109022</th>\n",
              "      <td>-0.627193</td>\n",
              "      <td>1</td>\n",
              "      <td>0</td>\n",
              "      <td>0</td>\n",
              "      <td>0</td>\n",
              "      <td>0</td>\n",
              "      <td>0</td>\n",
              "      <td>0</td>\n",
              "      <td>0</td>\n",
              "      <td>0</td>\n",
              "      <td>0</td>\n",
              "      <td>0</td>\n",
              "      <td>0</td>\n",
              "    </tr>\n",
              "    <tr>\n",
              "      <th>32770</th>\n",
              "      <td>-0.973823</td>\n",
              "      <td>0</td>\n",
              "      <td>0</td>\n",
              "      <td>0</td>\n",
              "      <td>1</td>\n",
              "      <td>0</td>\n",
              "      <td>0</td>\n",
              "      <td>0</td>\n",
              "      <td>0</td>\n",
              "      <td>0</td>\n",
              "      <td>0</td>\n",
              "      <td>0</td>\n",
              "      <td>0</td>\n",
              "    </tr>\n",
              "  </tbody>\n",
              "</table>\n",
              "</div>"
            ],
            "text/plain": [
              "        lead_time  ...  arrival_date_month_September\n",
              "111096   0.515750  ...                             0\n",
              "43346   -0.280562  ...                             1\n",
              "11153    0.244067  ...                             0\n",
              "109022  -0.627193  ...                             0\n",
              "32770   -0.973823  ...                             0\n",
              "\n",
              "[5 rows x 13 columns]"
            ]
          },
          "metadata": {
            "tags": []
          },
          "execution_count": 31
        }
      ]
    },
    {
      "cell_type": "markdown",
      "metadata": {
        "id": "Me6D6gWv6r8i"
      },
      "source": [
        "### Fit \n",
        "* Fit the model\n",
        "* We no longer get a summary of model assumptions / diagnostics"
      ]
    },
    {
      "cell_type": "code",
      "metadata": {
        "colab": {
          "base_uri": "https://localhost:8080/"
        },
        "id": "ggRRekEF5Lzy",
        "outputId": "26b13a9a-5e0c-4e7a-cc59-8b048808f2d5"
      },
      "source": [
        "model = LogisticRegression()\n",
        "model.fit(X_train, y_train)"
      ],
      "execution_count": 32,
      "outputs": [
        {
          "output_type": "execute_result",
          "data": {
            "text/plain": [
              "LogisticRegression(C=1.0, class_weight=None, dual=False, fit_intercept=True,\n",
              "                   intercept_scaling=1, l1_ratio=None, max_iter=100,\n",
              "                   multi_class='auto', n_jobs=None, penalty='l2',\n",
              "                   random_state=None, solver='lbfgs', tol=0.0001, verbose=0,\n",
              "                   warm_start=False)"
            ]
          },
          "metadata": {
            "tags": []
          },
          "execution_count": 32
        }
      ]
    },
    {
      "cell_type": "markdown",
      "metadata": {
        "id": "wLejax2y6u_z"
      },
      "source": [
        "### Predict\n",
        "* We can predict the proabability of being in one class or another\n",
        "* We can predict the class (predict uses a cutoff of 0.5 corresponding to a sigmoid)"
      ]
    },
    {
      "cell_type": "code",
      "metadata": {
        "id": "ARMOjdEe6y2v"
      },
      "source": [
        "# Predict both probability and class\n",
        "proba = model.predict_proba(X_test)\n",
        "preds = model.predict(X_test)"
      ],
      "execution_count": 33,
      "outputs": []
    },
    {
      "cell_type": "code",
      "metadata": {
        "colab": {
          "base_uri": "https://localhost:8080/"
        },
        "id": "NtyGIMzD6Qf1",
        "outputId": "80120da2-08df-447d-ba2e-fdeefa53fe61"
      },
      "source": [
        "proba"
      ],
      "execution_count": 34,
      "outputs": [
        {
          "output_type": "execute_result",
          "data": {
            "text/plain": [
              "array([[0.55168931, 0.44831069],\n",
              "       [0.70160623, 0.29839377],\n",
              "       [0.54092276, 0.45907724],\n",
              "       ...,\n",
              "       [0.53821732, 0.46178268],\n",
              "       [0.51112492, 0.48887508],\n",
              "       [0.768114  , 0.231886  ]])"
            ]
          },
          "metadata": {
            "tags": []
          },
          "execution_count": 34
        }
      ]
    },
    {
      "cell_type": "code",
      "metadata": {
        "colab": {
          "base_uri": "https://localhost:8080/"
        },
        "id": "CeQxRHqo6iBJ",
        "outputId": "9ccd642b-c6fd-43a5-b73a-ed44827ab777"
      },
      "source": [
        "preds"
      ],
      "execution_count": 35,
      "outputs": [
        {
          "output_type": "execute_result",
          "data": {
            "text/plain": [
              "array([0, 0, 0, ..., 0, 0, 0])"
            ]
          },
          "metadata": {
            "tags": []
          },
          "execution_count": 35
        }
      ]
    },
    {
      "cell_type": "markdown",
      "metadata": {
        "id": "faWEkD0-6jDO"
      },
      "source": [
        "### Score"
      ]
    },
    {
      "cell_type": "code",
      "metadata": {
        "colab": {
          "base_uri": "https://localhost:8080/"
        },
        "id": "hiDNEohW60hm",
        "outputId": "c6b9827f-2a59-4426-f9d3-096a669ff2c7"
      },
      "source": [
        "# Scoring reports accuracy\n",
        "model.score(X_test, y_test)"
      ],
      "execution_count": 36,
      "outputs": [
        {
          "output_type": "execute_result",
          "data": {
            "text/plain": [
              "0.6639193218748953"
            ]
          },
          "metadata": {
            "tags": []
          },
          "execution_count": 36
        }
      ]
    },
    {
      "cell_type": "code",
      "metadata": {
        "colab": {
          "base_uri": "https://localhost:8080/"
        },
        "id": "-QDQsjbO73xi",
        "outputId": "cdd6c8d4-5463-4b56-b500-551dc72e7440"
      },
      "source": [
        "# Classification report gives a better picture\n",
        "print(classification_report(y_test, preds))"
      ],
      "execution_count": 37,
      "outputs": [
        {
          "output_type": "stream",
          "text": [
            "              precision    recall  f1-score   support\n",
            "\n",
            "           0       0.68      0.88      0.77     18713\n",
            "           1       0.60      0.29      0.39     11134\n",
            "\n",
            "    accuracy                           0.66     29847\n",
            "   macro avg       0.64      0.59      0.58     29847\n",
            "weighted avg       0.65      0.66      0.63     29847\n",
            "\n"
          ],
          "name": "stdout"
        }
      ]
    },
    {
      "cell_type": "markdown",
      "metadata": {
        "id": "lwjRwhD37f_P"
      },
      "source": [
        "# Concerns\n",
        "* Three areas to attend to when building models with sklearn\n",
        "* Class balance - Tend to perform best when we have balanced classes\n",
        "  * Relevant for classification problems\n",
        "  * Assigns weights to the prevalence\n",
        "  * Oversample minority class\n",
        "  * Undersample majority class\n",
        "* What should be in the model?\n",
        "  * One approach is Lasso\n",
        "  * Lasso adds a penalty for coefficients\n",
        "  * Lasso leads to \"sparsity\"\n",
        "  * Lasso can force many coefficients in a model to 0, helping you identify what to keep\n",
        "* Lucky / Unlucky split of the data \n",
        "  * Perform several splits\n",
        "  * Average results\n",
        "  * Cross-fold validation to estimate performance\n",
        "  * Build final model using all data"
      ]
    },
    {
      "cell_type": "markdown",
      "metadata": {
        "id": "ZwkXJuR5HMB2"
      },
      "source": [
        "## Class Balance"
      ]
    },
    {
      "cell_type": "code",
      "metadata": {
        "colab": {
          "base_uri": "https://localhost:8080/",
          "height": 294
        },
        "id": "90NhpcgPQWfB",
        "outputId": "cd3ebcbd-a6ea-4464-f89f-5590f18e7a05"
      },
      "source": [
        "hotel_df.groupby('is_canceled').size().plot.bar()"
      ],
      "execution_count": 38,
      "outputs": [
        {
          "output_type": "execute_result",
          "data": {
            "text/plain": [
              "<matplotlib.axes._subplots.AxesSubplot at 0x7fa0d56bd4d0>"
            ]
          },
          "metadata": {
            "tags": []
          },
          "execution_count": 38
        },
        {
          "output_type": "display_data",
          "data": {
            "image/png": "[encoded data removed]",
            "text/plain": [
              "<Figure size 432x288 with 1 Axes>"
            ]
          },
          "metadata": {
            "tags": [],
            "needs_background": "light"
          }
        }
      ]
    },
    {
      "cell_type": "code",
      "metadata": {
        "id": "Hejo2Lb7PK0i"
      },
      "source": [
        "# Pull features and target\n",
        "X = hotel_df.copy()\n",
        "y = X.pop('is_canceled')\n",
        "X = X[['lead_time', 'arrival_date_month']]"
      ],
      "execution_count": 39,
      "outputs": []
    },
    {
      "cell_type": "code",
      "metadata": {
        "id": "SlR8GepqPK0j"
      },
      "source": [
        "# Pre-Process\n",
        "X = pd.get_dummies(X, columns=['arrival_date_month'])\n",
        "X_train, X_test, y_train, y_test = train_test_split(X.copy(), y)\n",
        "scaler = StandardScaler()\n",
        "X_train['lead_time'] = scaler.fit_transform(X_train[['lead_time']])\n",
        "X_test['lead_time']  = scaler.transform(X_test[['lead_time']])"
      ],
      "execution_count": 40,
      "outputs": []
    },
    {
      "cell_type": "code",
      "metadata": {
        "colab": {
          "base_uri": "https://localhost:8080/"
        },
        "id": "3aEI__hyPRqW",
        "outputId": "d2c22b9d-4695-4762-860b-af69ee47b571"
      },
      "source": [
        "# Determine weights\n",
        "weight = len(y_train) / sum(y_train)\n",
        "weights = {0: 1, 1: weight}\n",
        "weights"
      ],
      "execution_count": 41,
      "outputs": [
        {
          "output_type": "execute_result",
          "data": {
            "text/plain": [
              "{0: 1, 1: 2.6995387259187797}"
            ]
          },
          "metadata": {
            "tags": []
          },
          "execution_count": 41
        }
      ]
    },
    {
      "cell_type": "code",
      "metadata": {
        "colab": {
          "base_uri": "https://localhost:8080/"
        },
        "id": "iP8d9_ibPK0j",
        "outputId": "a33b430f-b544-4e0d-df78-aa2110db39a9"
      },
      "source": [
        "# Construct a model with the class weights\n",
        "model = LogisticRegression(class_weight=weights)\n",
        "model.fit(X_train, y_train)"
      ],
      "execution_count": 42,
      "outputs": [
        {
          "output_type": "execute_result",
          "data": {
            "text/plain": [
              "LogisticRegression(C=1.0, class_weight={0: 1, 1: 2.6995387259187797},\n",
              "                   dual=False, fit_intercept=True, intercept_scaling=1,\n",
              "                   l1_ratio=None, max_iter=100, multi_class='auto', n_jobs=None,\n",
              "                   penalty='l2', random_state=None, solver='lbfgs', tol=0.0001,\n",
              "                   verbose=0, warm_start=False)"
            ]
          },
          "metadata": {
            "tags": []
          },
          "execution_count": 42
        }
      ]
    },
    {
      "cell_type": "code",
      "metadata": {
        "colab": {
          "base_uri": "https://localhost:8080/"
        },
        "id": "0x8q-RjFPK0k",
        "outputId": "c57849df-b9b2-415f-a3a0-2ecc1df0d251"
      },
      "source": [
        "# Generate predictions on the test set\n",
        "proba = model.predict_proba(X_test)\n",
        "preds = model.predict(X_test)\n",
        "print(f'Accuracy {model.score(X_test, y_test):.2f}')"
      ],
      "execution_count": 43,
      "outputs": [
        {
          "output_type": "stream",
          "text": [
            "Accuracy 0.57\n"
          ],
          "name": "stdout"
        }
      ]
    },
    {
      "cell_type": "code",
      "metadata": {
        "colab": {
          "base_uri": "https://localhost:8080/"
        },
        "id": "zOYqX0jXPzJU",
        "outputId": "c7758cf7-451f-404a-f29f-7a2269e1e780"
      },
      "source": [
        "# Accuracy went down overall, but recall on minority class went up\n",
        "# What are our goals?\n",
        "print(classification_report(y_test, preds))"
      ],
      "execution_count": 44,
      "outputs": [
        {
          "output_type": "stream",
          "text": [
            "              precision    recall  f1-score   support\n",
            "\n",
            "           0       0.80      0.42      0.55     18793\n",
            "           1       0.46      0.83      0.59     11054\n",
            "\n",
            "    accuracy                           0.57     29847\n",
            "   macro avg       0.63      0.62      0.57     29847\n",
            "weighted avg       0.67      0.57      0.56     29847\n",
            "\n"
          ],
          "name": "stdout"
        }
      ]
    },
    {
      "cell_type": "markdown",
      "metadata": {
        "id": "vYMHVCwY7jC0"
      },
      "source": [
        "## Lasso Regression\n",
        "* An extension to Logistic / Linear Regression\n",
        "* Adds a penalty to the loss function\n",
        "* Also called L1 norm, this is the sum of the absolute values of the coefficients\n",
        "* L1 Penalty helps push superfluous features to coefficients = 0\n",
        "* That leads to \"sparsity\" i.e. Feature Selection"
      ]
    },
    {
      "cell_type": "code",
      "metadata": {
        "id": "yirS-Fko9ell"
      },
      "source": [
        "# Pull Features & target\n",
        "X = hotel_df.copy()\n",
        "y = X.pop('is_canceled')\n",
        "X = X[['lead_time', 'country']]"
      ],
      "execution_count": 45,
      "outputs": []
    },
    {
      "cell_type": "code",
      "metadata": {
        "id": "RLUDiZ7K9fo7"
      },
      "source": [
        "# Preprocess data & split into train - test\n",
        "X = pd.get_dummies(X, columns=['country'])\n",
        "X_train, X_test, y_train, y_test = train_test_split(X.copy(), y)\n",
        "scaler = StandardScaler()\n",
        "X_train['lead_time'] = scaler.fit_transform(X_train[['lead_time']])\n",
        "X_test['lead_time']  = scaler.transform(X_test[['lead_time']])"
      ],
      "execution_count": 46,
      "outputs": []
    },
    {
      "cell_type": "code",
      "metadata": {
        "colab": {
          "base_uri": "https://localhost:8080/"
        },
        "id": "snrCmnjUOijb",
        "outputId": "17bc4216-6dd6-4051-aace-10912a2db0a8"
      },
      "source": [
        "# We specific l1 for penalty, solver = sage\n",
        "# C controls the level of penalty (Higher = More)\n",
        "lasso = LogisticRegression(penalty='l1', solver='saga', C=1)\n",
        "lasso.fit(X_train, y_train)"
      ],
      "execution_count": 47,
      "outputs": [
        {
          "output_type": "stream",
          "text": [
            "/usr/local/lib/python3.7/dist-packages/sklearn/linear_model/_sag.py:330: ConvergenceWarning: The max_iter was reached which means the coef_ did not converge\n",
            "  \"the coef_ did not converge\", ConvergenceWarning)\n"
          ],
          "name": "stderr"
        },
        {
          "output_type": "execute_result",
          "data": {
            "text/plain": [
              "LogisticRegression(C=1, class_weight=None, dual=False, fit_intercept=True,\n",
              "                   intercept_scaling=1, l1_ratio=None, max_iter=100,\n",
              "                   multi_class='auto', n_jobs=None, penalty='l1',\n",
              "                   random_state=None, solver='saga', tol=0.0001, verbose=0,\n",
              "                   warm_start=False)"
            ]
          },
          "metadata": {
            "tags": []
          },
          "execution_count": 47
        }
      ]
    },
    {
      "cell_type": "code",
      "metadata": {
        "colab": {
          "base_uri": "https://localhost:8080/",
          "height": 402
        },
        "id": "Q4sw5l2BSVR3",
        "outputId": "39ddd3e8-25ac-4964-8e7f-4b9375aa98ff"
      },
      "source": [
        "# Many coefficients are now zero\n",
        "pd.DataFrame([{'Coefficient': c, 'Value': v.squeeze()} \n",
        "              for c, v in zip(list(X_train.columns), lasso.coef_.T)])"
      ],
      "execution_count": 48,
      "outputs": [
        {
          "output_type": "execute_result",
          "data": {
            "text/html": [
              "<div>\n",
              "<style scoped>\n",
              "    .dataframe tbody tr th:only-of-type {\n",
              "        vertical-align: middle;\n",
              "    }\n",
              "\n",
              "    .dataframe tbody tr th {\n",
              "        vertical-align: top;\n",
              "    }\n",
              "\n",
              "    .dataframe thead th {\n",
              "        text-align: right;\n",
              "    }\n",
              "</style>\n",
              "<table border=\"1\" class=\"dataframe\">\n",
              "  <thead>\n",
              "    <tr style=\"text-align: right;\">\n",
              "      <th></th>\n",
              "      <th>Coefficient</th>\n",
              "      <th>Value</th>\n",
              "    </tr>\n",
              "  </thead>\n",
              "  <tbody>\n",
              "    <tr>\n",
              "      <th>0</th>\n",
              "      <td>lead_time</td>\n",
              "      <td>0.74565401697897</td>\n",
              "    </tr>\n",
              "    <tr>\n",
              "      <th>1</th>\n",
              "      <td>country_ABW</td>\n",
              "      <td>0.0</td>\n",
              "    </tr>\n",
              "    <tr>\n",
              "      <th>2</th>\n",
              "      <td>country_AGO</td>\n",
              "      <td>1.6512697130341543</td>\n",
              "    </tr>\n",
              "    <tr>\n",
              "      <th>3</th>\n",
              "      <td>country_AIA</td>\n",
              "      <td>0.0</td>\n",
              "    </tr>\n",
              "    <tr>\n",
              "      <th>4</th>\n",
              "      <td>country_ALB</td>\n",
              "      <td>-0.006598488513433068</td>\n",
              "    </tr>\n",
              "    <tr>\n",
              "      <th>...</th>\n",
              "      <td>...</td>\n",
              "      <td>...</td>\n",
              "    </tr>\n",
              "    <tr>\n",
              "      <th>174</th>\n",
              "      <td>country_VGB</td>\n",
              "      <td>0.0</td>\n",
              "    </tr>\n",
              "    <tr>\n",
              "      <th>175</th>\n",
              "      <td>country_VNM</td>\n",
              "      <td>-0.024085693350533698</td>\n",
              "    </tr>\n",
              "    <tr>\n",
              "      <th>176</th>\n",
              "      <td>country_ZAF</td>\n",
              "      <td>0.6341903071019614</td>\n",
              "    </tr>\n",
              "    <tr>\n",
              "      <th>177</th>\n",
              "      <td>country_ZMB</td>\n",
              "      <td>0.0</td>\n",
              "    </tr>\n",
              "    <tr>\n",
              "      <th>178</th>\n",
              "      <td>country_ZWE</td>\n",
              "      <td>0.08451145708074323</td>\n",
              "    </tr>\n",
              "  </tbody>\n",
              "</table>\n",
              "<p>179 rows × 2 columns</p>\n",
              "</div>"
            ],
            "text/plain": [
              "     Coefficient                  Value\n",
              "0      lead_time       0.74565401697897\n",
              "1    country_ABW                    0.0\n",
              "2    country_AGO     1.6512697130341543\n",
              "3    country_AIA                    0.0\n",
              "4    country_ALB  -0.006598488513433068\n",
              "..           ...                    ...\n",
              "174  country_VGB                    0.0\n",
              "175  country_VNM  -0.024085693350533698\n",
              "176  country_ZAF     0.6341903071019614\n",
              "177  country_ZMB                    0.0\n",
              "178  country_ZWE    0.08451145708074323\n",
              "\n",
              "[179 rows x 2 columns]"
            ]
          },
          "metadata": {
            "tags": []
          },
          "execution_count": 48
        }
      ]
    },
    {
      "cell_type": "code",
      "metadata": {
        "colab": {
          "base_uri": "https://localhost:8080/"
        },
        "id": "gYL2gjCGRn-O",
        "outputId": "3ebbc537-540c-4529-e95b-932ef9b4dd4a"
      },
      "source": [
        "# Generate predictions on the test set\n",
        "proba = lasso.predict_proba(X_test)\n",
        "preds = lasso.predict(X_test)\n",
        "print(f'Accuracy {lasso.score(X_test, y_test):.2f}')"
      ],
      "execution_count": 49,
      "outputs": [
        {
          "output_type": "stream",
          "text": [
            "Accuracy 0.75\n"
          ],
          "name": "stdout"
        }
      ]
    },
    {
      "cell_type": "code",
      "metadata": {
        "colab": {
          "base_uri": "https://localhost:8080/"
        },
        "id": "IfvM4hzSRn-P",
        "outputId": "c95a8c4e-f366-43b7-c706-c780cbf12bdd"
      },
      "source": [
        "# Compared with using month (accuracy of .67) country improved our results\n",
        "print(classification_report(y_test, preds))"
      ],
      "execution_count": 50,
      "outputs": [
        {
          "output_type": "stream",
          "text": [
            "              precision    recall  f1-score   support\n",
            "\n",
            "           0       0.75      0.89      0.82     18834\n",
            "           1       0.73      0.50      0.59     11013\n",
            "\n",
            "    accuracy                           0.75     29847\n",
            "   macro avg       0.74      0.70      0.70     29847\n",
            "weighted avg       0.75      0.75      0.73     29847\n",
            "\n"
          ],
          "name": "stdout"
        }
      ]
    },
    {
      "cell_type": "markdown",
      "metadata": {
        "id": "i7z6IgDh901A"
      },
      "source": [
        "## Cross-Fold Validation\n",
        "\n",
        "![](https://zitaoshen.rbind.io/project/machine_learning/machine-learning-101-cross-vaildation/featured.png)"
      ]
    },
    {
      "cell_type": "code",
      "metadata": {
        "id": "HbAQevXq-lPO"
      },
      "source": [
        "# Get features\n",
        "X = hotel_df.copy()\n",
        "y = X.pop('is_canceled')\n",
        "X = X[['lead_time', 'arrival_date_month']]"
      ],
      "execution_count": 51,
      "outputs": []
    },
    {
      "cell_type": "code",
      "metadata": {
        "id": "aFGMbTJlN4dt"
      },
      "source": [
        "# Preprocess Data - No need to train-test-split\n",
        "X = pd.get_dummies(X, columns=['arrival_date_month'])\n",
        "scaler = StandardScaler()\n",
        "X_train['lead_time'] = scaler.fit_transform(X_train[['lead_time']])\n",
        "X_test['lead_time']  = scaler.transform(X_test[['lead_time']])"
      ],
      "execution_count": 52,
      "outputs": []
    },
    {
      "cell_type": "code",
      "metadata": {
        "id": "dAd-K1sh-wdd"
      },
      "source": [
        "# Define folds and train model\n",
        "cv = KFold(n_splits=5, shuffle=True, random_state=1000)\n",
        "model_cv = LogisticRegression()\n",
        "scores = cross_val_score(model_cv, X, y, scoring='accuracy', cv=cv)"
      ],
      "execution_count": 53,
      "outputs": []
    },
    {
      "cell_type": "code",
      "metadata": {
        "colab": {
          "base_uri": "https://localhost:8080/",
          "height": 212
        },
        "id": "EeXhXpdj_DEt",
        "outputId": "6b773858-6d98-4b6c-d22d-f8d51136a563"
      },
      "source": [
        "# Inspect scores (Then build model with all data -- not illustrated)\n",
        "print(f'Accuracy Mean {np.mean(scores):.2f} Std {np.std(scores):.4f}')\n",
        "pd.DataFrame(scores)"
      ],
      "execution_count": 54,
      "outputs": [
        {
          "output_type": "stream",
          "text": [
            "Accuracy Mean 0.66 Std 0.0016\n"
          ],
          "name": "stdout"
        },
        {
          "output_type": "execute_result",
          "data": {
            "text/html": [
              "<div>\n",
              "<style scoped>\n",
              "    .dataframe tbody tr th:only-of-type {\n",
              "        vertical-align: middle;\n",
              "    }\n",
              "\n",
              "    .dataframe tbody tr th {\n",
              "        vertical-align: top;\n",
              "    }\n",
              "\n",
              "    .dataframe thead th {\n",
              "        text-align: right;\n",
              "    }\n",
              "</style>\n",
              "<table border=\"1\" class=\"dataframe\">\n",
              "  <thead>\n",
              "    <tr style=\"text-align: right;\">\n",
              "      <th></th>\n",
              "      <th>0</th>\n",
              "    </tr>\n",
              "  </thead>\n",
              "  <tbody>\n",
              "    <tr>\n",
              "      <th>0</th>\n",
              "      <td>0.664629</td>\n",
              "    </tr>\n",
              "    <tr>\n",
              "      <th>1</th>\n",
              "      <td>0.665131</td>\n",
              "    </tr>\n",
              "    <tr>\n",
              "      <th>2</th>\n",
              "      <td>0.662535</td>\n",
              "    </tr>\n",
              "    <tr>\n",
              "      <th>3</th>\n",
              "      <td>0.661138</td>\n",
              "    </tr>\n",
              "    <tr>\n",
              "      <th>4</th>\n",
              "      <td>0.661348</td>\n",
              "    </tr>\n",
              "  </tbody>\n",
              "</table>\n",
              "</div>"
            ],
            "text/plain": [
              "          0\n",
              "0  0.664629\n",
              "1  0.665131\n",
              "2  0.662535\n",
              "3  0.661138\n",
              "4  0.661348"
            ]
          },
          "metadata": {
            "tags": []
          },
          "execution_count": 54
        }
      ]
    }
  ]
}