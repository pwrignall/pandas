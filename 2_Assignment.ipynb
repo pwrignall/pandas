{
  "nbformat": 4,
  "nbformat_minor": 0,
  "metadata": {
    "colab": {
      "name": "2_Assignment.ipynb",
      "provenance": [],
      "collapsed_sections": [],
      "toc_visible": true,
      "authorship_tag": "ABX9TyNSzE0FkGFYAhFrRRhMFuwD",
      "include_colab_link": true
    },
    "kernelspec": {
      "name": "python3",
      "display_name": "Python 3"
    },
    "language_info": {
      "name": "python"
    }
  },
  "cells": [
    {
      "cell_type": "markdown",
      "metadata": {
        "id": "view-in-github",
        "colab_type": "text"
      },
      "source": [
        "<a href=\"https://colab.research.google.com/github/swilsonmfc/pandas/blob/main/2_Assignment.ipynb\" target=\"_parent\"><img src=\"https://colab.research.google.com/assets/colab-badge.svg\" alt=\"Open In Colab\"/></a>"
      ]
    },
    {
      "cell_type": "markdown",
      "metadata": {
        "id": "-m-KOyFZfhI4"
      },
      "source": [
        "# Assignment"
      ]
    },
    {
      "cell_type": "markdown",
      "metadata": {
        "id": "A9pbEQTNflDp"
      },
      "source": [
        "# Setup"
      ]
    },
    {
      "cell_type": "code",
      "metadata": {
        "id": "numsl889fbEZ"
      },
      "source": [
        "import pandas as pd\n",
        "import numpy as np"
      ],
      "execution_count": null,
      "outputs": []
    },
    {
      "cell_type": "markdown",
      "metadata": {
        "id": "RpRC0TtgfpYg"
      },
      "source": [
        "# Data\n",
        "* The code to download and extract the dataset is present\n",
        "* If you're working in a different environment (other than Colab) you can:\n",
        "  * Clone the repo (github.com/swilsonmfc/pandas)\n",
        "  * Download the file"
      ]
    },
    {
      "cell_type": "code",
      "metadata": {
        "id": "gVm_7Qj9fqJL"
      },
      "source": [
        "!wget https://simplemaps.com/static/data/world-cities/basic/simplemaps_worldcities_basicv1.73.zip\n",
        "!unzip simplemaps_worldcities_basicv1.73.zip"
      ],
      "execution_count": null,
      "outputs": []
    },
    {
      "cell_type": "markdown",
      "metadata": {
        "id": "zNiAhLDsfwXE"
      },
      "source": [
        "# Tasks\n",
        "* Creating DataFrames\n",
        "* Boolean Operators\n",
        "* Extra: Adding a row to a DataFrame\n",
        "* Extra: Changing the value of a cell in a DataFrame\n",
        "\n"
      ]
    },
    {
      "cell_type": "markdown",
      "metadata": {
        "id": "KikuYZD3fxB5"
      },
      "source": [
        "# Creating DataFrames"
      ]
    },
    {
      "cell_type": "code",
      "metadata": {
        "id": "P5vRegb3gbYn"
      },
      "source": [
        "# Given the following data of player, games played and won, create a DataFrame with appropriate columns\n",
        "# John, 10, 5\n",
        "# Paul, 12, 8\n",
        "# George, 4, 4\n",
        "# Ringo, 9, 3"
      ],
      "execution_count": null,
      "outputs": []
    },
    {
      "cell_type": "code",
      "metadata": {
        "id": "i2X2ELfcg8oB"
      },
      "source": [
        "# We have three lists, convert them into a data frame \n",
        "classes    = ['Math', 'History', 'Health', 'Science']\n",
        "students   = [25, 30, 20, 40]\n",
        "avg_grades = ['A', 'B', 'C+', 'A'] "
      ],
      "execution_count": null,
      "outputs": []
    },
    {
      "cell_type": "code",
      "metadata": {
        "id": "eo_cbCwWh3OR"
      },
      "source": [
        "# Read the world cities data into a frame\n",
        "df = pd.read_csv('worldcities.csv')"
      ],
      "execution_count": null,
      "outputs": []
    },
    {
      "cell_type": "markdown",
      "metadata": {
        "id": "nbeSvPTEhxyu"
      },
      "source": [
        "# Boolean Operators"
      ]
    },
    {
      "cell_type": "code",
      "metadata": {
        "id": "PNrQnSFehxEX"
      },
      "source": [
        "# Find the rows with a population at least 1 million people"
      ],
      "execution_count": null,
      "outputs": []
    },
    {
      "cell_type": "code",
      "metadata": {
        "id": "KpybchMCiOly"
      },
      "source": [
        "# Find the rows with a population of at least 2 million people but less than 5 million"
      ],
      "execution_count": null,
      "outputs": []
    },
    {
      "cell_type": "code",
      "metadata": {
        "id": "d_i3lwUliOvJ"
      },
      "source": [
        "# Find the cities where the country is either Japan, China or India"
      ],
      "execution_count": null,
      "outputs": []
    },
    {
      "cell_type": "code",
      "metadata": {
        "id": "lSW2JGU7lgPb"
      },
      "source": [
        "# Show an alternative way to find cities where the country is either Japan, China or India"
      ],
      "execution_count": null,
      "outputs": []
    },
    {
      "cell_type": "markdown",
      "metadata": {
        "id": "I67yiZKWiyTM"
      },
      "source": [
        "# Accessors"
      ]
    },
    {
      "cell_type": "code",
      "metadata": {
        "id": "VGcK6bvgi1Gs"
      },
      "source": [
        "# Locate the city and population columns where the row position is between 10 and 20"
      ],
      "execution_count": null,
      "outputs": []
    },
    {
      "cell_type": "code",
      "metadata": {
        "id": "0dSTsA4Li0l7"
      },
      "source": [
        "# Find the row within index (row name) equal to 10"
      ],
      "execution_count": null,
      "outputs": []
    },
    {
      "cell_type": "code",
      "metadata": {
        "id": "GG_QDV4ji1OR"
      },
      "source": [
        "# Show an alternative way to find the row with an index (row name) equal to 10"
      ],
      "execution_count": null,
      "outputs": []
    },
    {
      "cell_type": "code",
      "metadata": {
        "id": "8dzLwG3ooOtg"
      },
      "source": [
        "# Show city, lat, lng of rows with an iso2 code of GB or FR"
      ],
      "execution_count": null,
      "outputs": []
    },
    {
      "cell_type": "markdown",
      "metadata": {
        "id": "QBV5Z1RNi2ZH"
      },
      "source": [
        "# Extra #1"
      ]
    },
    {
      "cell_type": "code",
      "metadata": {
        "id": "3gpkWJgSi4j4"
      },
      "source": [
        "# We have a simple dataframe:\n",
        "simple_df = pd.DataFrame([\n",
        "  {'A':10, 'B':20},\n",
        "  {'A':30, 'B':40},\n",
        "  {'A':50, 'B':60}                       \n",
        "])\n",
        "# Add a row to simple df where the value of A = 70 and B = 80"
      ],
      "execution_count": null,
      "outputs": []
    },
    {
      "cell_type": "markdown",
      "metadata": {
        "id": "bf51KWfnjaZN"
      },
      "source": [
        "# Extra #2"
      ]
    },
    {
      "cell_type": "code",
      "metadata": {
        "id": "HrczBTGNjZcW"
      },
      "source": [
        "# Correct the following city with a fractional population, it should be 4_472 rather than 4.472\n",
        "df[df.city == 'Kobarid']"
      ],
      "execution_count": null,
      "outputs": []
    },
    {
      "cell_type": "code",
      "metadata": {
        "id": "yUAFiqAMobjm"
      },
      "source": [
        ""
      ],
      "execution_count": null,
      "outputs": []
    }
  ]
}