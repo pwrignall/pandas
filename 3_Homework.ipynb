{
  "nbformat": 4,
  "nbformat_minor": 0,
  "metadata": {
    "colab": {
      "name": "3_Homework.ipynb",
      "provenance": [],
      "collapsed_sections": [],
      "toc_visible": true,
      "authorship_tag": "ABX9TyMNa2uiEebCf6V/eH0OdbUu",
      "include_colab_link": true
    },
    "kernelspec": {
      "name": "python3",
      "display_name": "Python 3"
    },
    "language_info": {
      "name": "python"
    }
  },
  "cells": [
    {
      "cell_type": "markdown",
      "metadata": {
        "id": "view-in-github",
        "colab_type": "text"
      },
      "source": [
        "<a href=\"https://colab.research.google.com/github/swilsonmfc/pandas/blob/main/3_Homework.ipynb\" target=\"_parent\"><img src=\"https://colab.research.google.com/assets/colab-badge.svg\" alt=\"Open In Colab\"/></a>"
      ]
    },
    {
      "cell_type": "markdown",
      "metadata": {
        "id": "wTADWWYXV1ly"
      },
      "source": [
        "# Homework Lesson 3"
      ]
    },
    {
      "cell_type": "markdown",
      "metadata": {
        "id": "8VX3Q3mIV1kH"
      },
      "source": [
        "# Setup"
      ]
    },
    {
      "cell_type": "code",
      "metadata": {
        "id": "h7UfZbb5V3xa"
      },
      "source": [
        "import pandas as pd\n",
        "import numpy as np\n",
        "import matplotlib.pyplot as plt\n",
        "import seaborn as sns\n",
        "import pathlib\n",
        "from pprint import pprint as pp"
      ],
      "execution_count": 2,
      "outputs": []
    },
    {
      "cell_type": "markdown",
      "metadata": {
        "id": "R353AcL-T5WZ"
      },
      "source": [
        "# Data"
      ]
    },
    {
      "cell_type": "markdown",
      "metadata": {
        "id": "D9OlQu-9UHjV"
      },
      "source": [
        "## Download the Data"
      ]
    },
    {
      "cell_type": "code",
      "metadata": {
        "colab": {
          "base_uri": "https://localhost:8080/"
        },
        "id": "sl4jcfJLTuwj",
        "outputId": "ece6b8ac-4c69-4bc1-c14c-4b5876a7a2ec"
      },
      "source": [
        "!wget https://www.postgresqltutorial.com/wp-content/uploads/2019/05/dvdrental.zip\n",
        "!unzip dvdrental.zip\n",
        "!tar -xvf dvdrental.tar\n",
        "!rm toc.dat"
      ],
      "execution_count": 3,
      "outputs": [
        {
          "output_type": "stream",
          "text": [
            "--2021-04-30 07:03:25--  https://www.postgresqltutorial.com/wp-content/uploads/2019/05/dvdrental.zip\n",
            "Resolving www.postgresqltutorial.com (www.postgresqltutorial.com)... 151.139.128.11\n",
            "Connecting to www.postgresqltutorial.com (www.postgresqltutorial.com)|151.139.128.11|:443... connected.\n",
            "HTTP request sent, awaiting response... 200 OK\n",
            "Length: 550906 (538K) [application/zip]\n",
            "Saving to: ‘dvdrental.zip’\n",
            "\n",
            "dvdrental.zip       100%[===================>] 537.99K  --.-KB/s    in 0.04s   \n",
            "\n",
            "2021-04-30 07:03:26 (13.6 MB/s) - ‘dvdrental.zip’ saved [550906/550906]\n",
            "\n",
            "Archive:  dvdrental.zip\n",
            "  inflating: dvdrental.tar           \n",
            "toc.dat\n",
            "3057.dat\n",
            "3065.dat\n",
            "3059.dat\n",
            "3067.dat\n",
            "3069.dat\n",
            "3055.dat\n",
            "3061.dat\n",
            "3062.dat\n",
            "3063.dat\n",
            "3071.dat\n",
            "3073.dat\n",
            "3075.dat\n",
            "3077.dat\n",
            "3079.dat\n",
            "3081.dat\n",
            "restore.sql\n"
          ],
          "name": "stdout"
        }
      ]
    },
    {
      "cell_type": "markdown",
      "metadata": {
        "id": "FjAybhoyUcp9"
      },
      "source": [
        "## Friendly Tables & Columns"
      ]
    },
    {
      "cell_type": "code",
      "metadata": {
        "id": "KiiZsBEQVFog"
      },
      "source": [
        "table_name_map = {\n",
        "  '3057.dat':'actor',\n",
        "  '3065.dat':'address',\n",
        "  '3059.dat':'category',\n",
        "  '3067.dat':'city',\n",
        "  '3069.dat':'country',\n",
        "  '3055.dat':'customer',\n",
        "  '3061.dat':'film',\n",
        "  '3062.dat':'film_actor',\n",
        "  '3063.dat':'film_category',\n",
        "  '3071.dat':'inventory',\n",
        "  '3073.dat':'language',\n",
        "  '3075.dat':'payment',\n",
        "  '3077.dat':'rental',\n",
        "  '3079.dat':'staff',\n",
        "  '3081.dat':'store'\n",
        "}"
      ],
      "execution_count": 4,
      "outputs": []
    },
    {
      "cell_type": "code",
      "metadata": {
        "id": "hrLFfQbQVGyd"
      },
      "source": [
        "table_column_map = {\n",
        "  '3057.dat':['actor_id', 'first_name', 'last_name', 'last_update'],\n",
        "  '3065.dat':['address_id', 'address', 'address2', 'district', 'city_id', 'postal_code', 'phone', 'last_update'],\n",
        "  '3059.dat':['category_id', 'name', 'last_update'],\n",
        "  '3067.dat':['city_id', 'city', 'country_id', 'last_update'],\n",
        "  '3069.dat':['country_id', 'country', 'last_update'],\n",
        "  '3055.dat':['customer_id', 'store_id', 'first_name', 'last_name', 'email', 'address_id', 'activebool', 'create_date', 'last_update', 'active'],\n",
        "  '3061.dat':['film_id', 'title', 'description', 'release_year', 'language_id', 'rental_duration', 'rental_rate', 'length', 'replacement_cost', 'rating', 'last_update', 'special_features', 'fulltext'],\n",
        "  '3062.dat':['actor_id', 'film_id', 'last_update'],\n",
        "  '3063.dat':['film_id', 'category_id', 'last_update'],\n",
        "  '3071.dat':['inventory_id', 'film_id', 'store_id', 'last_update'],\n",
        "  '3073.dat':['language_id', 'name', 'last_update'],\n",
        "  '3075.dat':['payment_id', 'customer_id', 'staff_id', 'rental_id', 'amount', 'payment_date'],\n",
        "  '3077.dat':['rental_id', 'rental_date', 'inventory_id', 'customer_id', 'return_date', 'staff_id', 'last_update'],\n",
        "  '3079.dat':['staff_id', 'first_name', 'last_name', 'address_id', 'email', 'store_id', 'active', 'username', 'password', 'last_update', 'picture'],\n",
        "  '3081.dat':['store_id', 'manager_staff_id', 'address_id', 'last_update']\n",
        "}"
      ],
      "execution_count": 5,
      "outputs": []
    },
    {
      "cell_type": "markdown",
      "metadata": {
        "id": "UsHVQXArUFGL"
      },
      "source": [
        "## Load Data"
      ]
    },
    {
      "cell_type": "code",
      "metadata": {
        "colab": {
          "base_uri": "https://localhost:8080/"
        },
        "id": "I3ju6Xh8UGHm",
        "outputId": "896c521b-f544-4626-8a73-4d2ee797c0bb"
      },
      "source": [
        "# Load each .dat file as a pandas frame adding column headers\n",
        "data = {str(file): pd.read_csv(file, sep='\\t', names=table_column_map[str(file)]) \\\n",
        "      for file in pathlib.Path('.').rglob('*.dat')}\n",
        "\n",
        "# Remove last row of each table (drop takes the indexes to remove)\n",
        "data = {name: table.drop(table.tail(1).index) for name, table in data.items()}\n",
        "\n",
        "# Rename keys for friendly names \n",
        "db = {table_name_map[key]:data.pop(key) for key, val in table_name_map.items()}\n",
        "\n",
        "# Change all id columns to int (rather than floats)\n",
        "for name, table in db.items():\n",
        "  for col in table.columns:\n",
        "    if col.endswith('_id'):\n",
        "      table[col] = table[col].astype('int') \n",
        "\n",
        "pp(db)"
      ],
      "execution_count": 6,
      "outputs": [
        {
          "output_type": "stream",
          "text": [
            "{'actor':      actor_id first_name     last_name             last_update\n",
            "0           1   Penelope       Guiness  2013-05-26 14:47:57.62\n",
            "1           2       Nick      Wahlberg  2013-05-26 14:47:57.62\n",
            "2           3         Ed         Chase  2013-05-26 14:47:57.62\n",
            "3           4   Jennifer         Davis  2013-05-26 14:47:57.62\n",
            "4           5     Johnny  Lollobrigida  2013-05-26 14:47:57.62\n",
            "..        ...        ...           ...                     ...\n",
            "195       196       Bela        Walken  2013-05-26 14:47:57.62\n",
            "196       197      Reese          West  2013-05-26 14:47:57.62\n",
            "197       198       Mary        Keitel  2013-05-26 14:47:57.62\n",
            "198       199      Julia       Fawcett  2013-05-26 14:47:57.62\n",
            "199       200      Thora        Temple  2013-05-26 14:47:57.62\n",
            "\n",
            "[200 rows x 4 columns],\n",
            " 'address':      address_id                   address  ...         phone          last_update\n",
            "0             1         47 MySakila Drive  ...           NaN  2006-02-15 09:45:30\n",
            "1             2        28 MySQL Boulevard  ...           NaN  2006-02-15 09:45:30\n",
            "2             3         23 Workhaven Lane  ...  1.403334e+10  2006-02-15 09:45:30\n",
            "3             4      1411 Lillydale Drive  ...  6.172236e+09  2006-02-15 09:45:30\n",
            "4             5            1913 Hanoi Way  ...  2.830338e+10  2006-02-15 09:45:30\n",
            "..          ...                       ...  ...           ...                  ...\n",
            "598         601       844 Bucuresti Place  ...  9.359524e+11  2006-02-15 09:45:30\n",
            "599         602  1101 Bucuresti Boulevard  ...  1.995146e+11  2006-02-15 09:45:30\n",
            "600         603    1103 Quilmes Boulevard  ...  6.440214e+11  2006-02-15 09:45:30\n",
            "601         604       1331 Usak Boulevard  ...  1.453087e+11  2006-02-15 09:45:30\n",
            "602         605      1325 Fukuyama Street  ...  2.882412e+11  2006-02-15 09:45:30\n",
            "\n",
            "[603 rows x 8 columns],\n",
            " 'category':     category_id         name          last_update\n",
            "0             1       Action  2006-02-15 09:46:27\n",
            "1             2    Animation  2006-02-15 09:46:27\n",
            "2             3     Children  2006-02-15 09:46:27\n",
            "3             4     Classics  2006-02-15 09:46:27\n",
            "4             5       Comedy  2006-02-15 09:46:27\n",
            "5             6  Documentary  2006-02-15 09:46:27\n",
            "6             7        Drama  2006-02-15 09:46:27\n",
            "7             8       Family  2006-02-15 09:46:27\n",
            "8             9      Foreign  2006-02-15 09:46:27\n",
            "9            10        Games  2006-02-15 09:46:27\n",
            "10           11       Horror  2006-02-15 09:46:27\n",
            "11           12        Music  2006-02-15 09:46:27\n",
            "12           13          New  2006-02-15 09:46:27\n",
            "13           14       Sci-Fi  2006-02-15 09:46:27\n",
            "14           15       Sports  2006-02-15 09:46:27\n",
            "15           16       Travel  2006-02-15 09:46:27,\n",
            " 'city':      city_id                city  country_id          last_update\n",
            "0          1  A Corua (La Corua)          87  2006-02-15 09:45:25\n",
            "1          2                Abha          82  2006-02-15 09:45:25\n",
            "2          3           Abu Dhabi         101  2006-02-15 09:45:25\n",
            "3          4                Acua          60  2006-02-15 09:45:25\n",
            "4          5               Adana          97  2006-02-15 09:45:25\n",
            "..       ...                 ...         ...                  ...\n",
            "595      596               Zaria          69  2006-02-15 09:45:25\n",
            "596      597        Zeleznogorsk          80  2006-02-15 09:45:25\n",
            "597      598         Zhezqazghan          51  2006-02-15 09:45:25\n",
            "598      599            Zhoushan          23  2006-02-15 09:45:25\n",
            "599      600          Ziguinchor          83  2006-02-15 09:45:25\n",
            "\n",
            "[600 rows x 4 columns],\n",
            " 'country':      country_id               country          last_update\n",
            "0             1           Afghanistan  2006-02-15 09:44:00\n",
            "1             2               Algeria  2006-02-15 09:44:00\n",
            "2             3        American Samoa  2006-02-15 09:44:00\n",
            "3             4                Angola  2006-02-15 09:44:00\n",
            "4             5              Anguilla  2006-02-15 09:44:00\n",
            "..          ...                   ...                  ...\n",
            "104         105               Vietnam  2006-02-15 09:44:00\n",
            "105         106  Virgin Islands, U.S.  2006-02-15 09:44:00\n",
            "106         107                 Yemen  2006-02-15 09:44:00\n",
            "107         108            Yugoslavia  2006-02-15 09:44:00\n",
            "108         109                Zambia  2006-02-15 09:44:00\n",
            "\n",
            "[109 rows x 3 columns],\n",
            " 'customer':      customer_id  store_id  ...              last_update active\n",
            "0            524         1  ...  2013-05-26 14:49:45.738    1.0\n",
            "1              1         1  ...  2013-05-26 14:49:45.738    1.0\n",
            "2              2         1  ...  2013-05-26 14:49:45.738    1.0\n",
            "3              3         1  ...  2013-05-26 14:49:45.738    1.0\n",
            "4              4         2  ...  2013-05-26 14:49:45.738    1.0\n",
            "..           ...       ...  ...                      ...    ...\n",
            "594          595         1  ...  2013-05-26 14:49:45.738    1.0\n",
            "595          596         1  ...  2013-05-26 14:49:45.738    1.0\n",
            "596          597         1  ...  2013-05-26 14:49:45.738    1.0\n",
            "597          598         1  ...  2013-05-26 14:49:45.738    1.0\n",
            "598          599         2  ...  2013-05-26 14:49:45.738    1.0\n",
            "\n",
            "[599 rows x 10 columns],\n",
            " 'film':      film_id  ...                                           fulltext\n",
            "0        133  ...  'chamber':1 'fate':4 'husband':11 'italian':2 ...\n",
            "1        384  ...  'australia':18 'cat':8 'drama':5 'epic':4 'exp...\n",
            "2          8  ...  'airport':1 'ancient':18 'confront':14 'epic':...\n",
            "3         98  ...  'boat':20 'bright':1 'conquer':14 'encount':2 ...\n",
            "4          1  ...  'academi':1 'battl':15 'canadian':20 'dinosaur...\n",
            "..       ...  ...                                                ...\n",
            "995      996  ...  'administr':12 'boat':8 'boy':17 'databas':11 ...\n",
            "996      997  ...  'boat':22 'cat':11 'challeng':14 'drama':5 'ki...\n",
            "997      998  ...  'boy':16 'canadian':19 'compos':8 'core':2 'fa...\n",
            "998      999  ...  'ancient':19 'boat':11 'china':20 'discov':14 ...\n",
            "999     1000  ...  'ark':2 'boy':12,17 'intrepid':4 'mad':8 'mona...\n",
            "\n",
            "[1000 rows x 13 columns],\n",
            " 'film_actor':       actor_id  film_id          last_update\n",
            "0            1        1  2006-02-15 10:05:03\n",
            "1            1       23  2006-02-15 10:05:03\n",
            "2            1       25  2006-02-15 10:05:03\n",
            "3            1      106  2006-02-15 10:05:03\n",
            "4            1      140  2006-02-15 10:05:03\n",
            "...        ...      ...                  ...\n",
            "5457       200      879  2006-02-15 10:05:03\n",
            "5458       200      912  2006-02-15 10:05:03\n",
            "5459       200      945  2006-02-15 10:05:03\n",
            "5460       200      958  2006-02-15 10:05:03\n",
            "5461       200      993  2006-02-15 10:05:03\n",
            "\n",
            "[5462 rows x 3 columns],\n",
            " 'film_category':      film_id  category_id          last_update\n",
            "0          1            6  2006-02-15 10:07:09\n",
            "1          2           11  2006-02-15 10:07:09\n",
            "2          3            6  2006-02-15 10:07:09\n",
            "3          4           11  2006-02-15 10:07:09\n",
            "4          5            8  2006-02-15 10:07:09\n",
            "..       ...          ...                  ...\n",
            "995      996            6  2006-02-15 10:07:09\n",
            "996      997           12  2006-02-15 10:07:09\n",
            "997      998           11  2006-02-15 10:07:09\n",
            "998      999            3  2006-02-15 10:07:09\n",
            "999     1000            5  2006-02-15 10:07:09\n",
            "\n",
            "[1000 rows x 3 columns],\n",
            " 'inventory':       inventory_id  film_id  store_id          last_update\n",
            "0                1        1         1  2006-02-15 10:09:17\n",
            "1                2        1         1  2006-02-15 10:09:17\n",
            "2                3        1         1  2006-02-15 10:09:17\n",
            "3                4        1         1  2006-02-15 10:09:17\n",
            "4                5        1         2  2006-02-15 10:09:17\n",
            "...            ...      ...       ...                  ...\n",
            "4576          4577     1000         1  2006-02-15 10:09:17\n",
            "4577          4578     1000         2  2006-02-15 10:09:17\n",
            "4578          4579     1000         2  2006-02-15 10:09:17\n",
            "4579          4580     1000         2  2006-02-15 10:09:17\n",
            "4580          4581     1000         2  2006-02-15 10:09:17\n",
            "\n",
            "[4581 rows x 4 columns],\n",
            " 'language':    language_id                  name          last_update\n",
            "0            1  English               2006-02-15 10:02:19\n",
            "1            2  Italian               2006-02-15 10:02:19\n",
            "2            3  Japanese              2006-02-15 10:02:19\n",
            "3            4  Mandarin              2006-02-15 10:02:19\n",
            "4            5  French                2006-02-15 10:02:19\n",
            "5            6  German                2006-02-15 10:02:19,\n",
            " 'payment':        payment_id  customer_id  ...  amount                payment_date\n",
            "0           17503          341  ...    7.99  2007-02-15 22:25:46.996577\n",
            "1           17504          341  ...    1.99  2007-02-16 17:23:14.996577\n",
            "2           17505          341  ...    7.99  2007-02-16 22:41:45.996577\n",
            "3           17506          341  ...    2.99  2007-02-19 19:39:56.996577\n",
            "4           17507          341  ...    7.99  2007-02-20 17:31:48.996577\n",
            "...           ...          ...  ...     ...                         ...\n",
            "14591       32094          245  ...    2.99  2007-05-14 13:44:29.996577\n",
            "14592       32095          251  ...    0.99  2007-05-14 13:44:29.996577\n",
            "14593       32096          252  ...    4.99  2007-05-14 13:44:29.996577\n",
            "14594       32097          263  ...    0.99  2007-05-14 13:44:29.996577\n",
            "14595       32098          264  ...    2.99  2007-05-14 13:44:29.996577\n",
            "\n",
            "[14596 rows x 6 columns],\n",
            " 'rental':        rental_id          rental_date  ...  staff_id          last_update\n",
            "0              2  2005-05-24 22:54:33  ...         1  2006-02-16 02:30:53\n",
            "1              3  2005-05-24 23:03:39  ...         1  2006-02-16 02:30:53\n",
            "2              4  2005-05-24 23:04:41  ...         2  2006-02-16 02:30:53\n",
            "3              5  2005-05-24 23:05:21  ...         1  2006-02-16 02:30:53\n",
            "4              6  2005-05-24 23:08:07  ...         1  2006-02-16 02:30:53\n",
            "...          ...                  ...  ...       ...                  ...\n",
            "16039      16046  2005-08-23 22:26:47  ...         2  2006-02-16 02:30:53\n",
            "16040      16047  2005-08-23 22:42:48  ...         2  2006-02-16 02:30:53\n",
            "16041      16048  2005-08-23 22:43:07  ...         1  2006-02-16 02:30:53\n",
            "16042      16049  2005-08-23 22:50:12  ...         2  2006-02-16 02:30:53\n",
            "16043          1  2005-05-24 22:53:30  ...         1  2006-02-15 21:30:53\n",
            "\n",
            "[16044 rows x 7 columns],\n",
            " 'staff':    staff_id first_name  ...                last_update              picture\n",
            "0         1       Mike  ...  2006-05-16 16:13:11.79328  \\\\x89504e470d0a5a0a\n",
            "1         2        Jon  ...  2006-05-16 16:13:11.79328                   \\N\n",
            "\n",
            "[2 rows x 11 columns],\n",
            " 'store':    store_id  manager_staff_id  address_id          last_update\n",
            "0         1                 1           1  2006-02-15 09:57:12\n",
            "1         2                 2           2  2006-02-15 09:57:12}\n"
          ],
          "name": "stdout"
        }
      ]
    },
    {
      "cell_type": "markdown",
      "metadata": {
        "id": "FYyliuATWTMe"
      },
      "source": [
        "## Schema\n",
        "![](https://www.postgresqltutorial.com/wp-content/uploads/2018/03/dvd-rental-sample-database-diagram.png)"
      ]
    },
    {
      "cell_type": "markdown",
      "metadata": {
        "id": "m1rjjnPhYz-e"
      },
      "source": [
        "# Where do you work?\n",
        "* Example of the one-many join"
      ]
    },
    {
      "cell_type": "code",
      "metadata": {
        "colab": {
          "base_uri": "https://localhost:8080/"
        },
        "id": "hk4rZ8i0vXJE",
        "outputId": "380c6bdb-096c-4b29-e8aa-1eac03a59143"
      },
      "source": [
        "# How many staff are there?\n",
        "len(db['staff'])"
      ],
      "execution_count": 7,
      "outputs": [
        {
          "output_type": "execute_result",
          "data": {
            "text/plain": [
              "2"
            ]
          },
          "metadata": {
            "tags": []
          },
          "execution_count": 7
        }
      ]
    },
    {
      "cell_type": "code",
      "metadata": {
        "id": "i23icKd5va8r"
      },
      "source": [
        "# How many stores are there?"
      ],
      "execution_count": 8,
      "outputs": []
    },
    {
      "cell_type": "code",
      "metadata": {
        "id": "Z_012F1Tve14"
      },
      "source": [
        "# How much staff work at each store?"
      ],
      "execution_count": 9,
      "outputs": []
    },
    {
      "cell_type": "markdown",
      "metadata": {
        "id": "AFIdEzS-e1mj"
      },
      "source": [
        "# Who's in what film?\n",
        "* Multi DataFrame join"
      ]
    },
    {
      "cell_type": "code",
      "metadata": {
        "colab": {
          "base_uri": "https://localhost:8080/",
          "height": 402
        },
        "id": "1lJ3urcpe5jx",
        "outputId": "1608b9f9-beaf-49da-d75d-12f09fead9f2"
      },
      "source": [
        "# Print the Actors Table\n",
        "db['actor']"
      ],
      "execution_count": 10,
      "outputs": [
        {
          "output_type": "execute_result",
          "data": {
            "text/html": [
              "<div>\n",
              "<style scoped>\n",
              "    .dataframe tbody tr th:only-of-type {\n",
              "        vertical-align: middle;\n",
              "    }\n",
              "\n",
              "    .dataframe tbody tr th {\n",
              "        vertical-align: top;\n",
              "    }\n",
              "\n",
              "    .dataframe thead th {\n",
              "        text-align: right;\n",
              "    }\n",
              "</style>\n",
              "<table border=\"1\" class=\"dataframe\">\n",
              "  <thead>\n",
              "    <tr style=\"text-align: right;\">\n",
              "      <th></th>\n",
              "      <th>actor_id</th>\n",
              "      <th>first_name</th>\n",
              "      <th>last_name</th>\n",
              "      <th>last_update</th>\n",
              "    </tr>\n",
              "  </thead>\n",
              "  <tbody>\n",
              "    <tr>\n",
              "      <th>0</th>\n",
              "      <td>1</td>\n",
              "      <td>Penelope</td>\n",
              "      <td>Guiness</td>\n",
              "      <td>2013-05-26 14:47:57.62</td>\n",
              "    </tr>\n",
              "    <tr>\n",
              "      <th>1</th>\n",
              "      <td>2</td>\n",
              "      <td>Nick</td>\n",
              "      <td>Wahlberg</td>\n",
              "      <td>2013-05-26 14:47:57.62</td>\n",
              "    </tr>\n",
              "    <tr>\n",
              "      <th>2</th>\n",
              "      <td>3</td>\n",
              "      <td>Ed</td>\n",
              "      <td>Chase</td>\n",
              "      <td>2013-05-26 14:47:57.62</td>\n",
              "    </tr>\n",
              "    <tr>\n",
              "      <th>3</th>\n",
              "      <td>4</td>\n",
              "      <td>Jennifer</td>\n",
              "      <td>Davis</td>\n",
              "      <td>2013-05-26 14:47:57.62</td>\n",
              "    </tr>\n",
              "    <tr>\n",
              "      <th>4</th>\n",
              "      <td>5</td>\n",
              "      <td>Johnny</td>\n",
              "      <td>Lollobrigida</td>\n",
              "      <td>2013-05-26 14:47:57.62</td>\n",
              "    </tr>\n",
              "    <tr>\n",
              "      <th>...</th>\n",
              "      <td>...</td>\n",
              "      <td>...</td>\n",
              "      <td>...</td>\n",
              "      <td>...</td>\n",
              "    </tr>\n",
              "    <tr>\n",
              "      <th>195</th>\n",
              "      <td>196</td>\n",
              "      <td>Bela</td>\n",
              "      <td>Walken</td>\n",
              "      <td>2013-05-26 14:47:57.62</td>\n",
              "    </tr>\n",
              "    <tr>\n",
              "      <th>196</th>\n",
              "      <td>197</td>\n",
              "      <td>Reese</td>\n",
              "      <td>West</td>\n",
              "      <td>2013-05-26 14:47:57.62</td>\n",
              "    </tr>\n",
              "    <tr>\n",
              "      <th>197</th>\n",
              "      <td>198</td>\n",
              "      <td>Mary</td>\n",
              "      <td>Keitel</td>\n",
              "      <td>2013-05-26 14:47:57.62</td>\n",
              "    </tr>\n",
              "    <tr>\n",
              "      <th>198</th>\n",
              "      <td>199</td>\n",
              "      <td>Julia</td>\n",
              "      <td>Fawcett</td>\n",
              "      <td>2013-05-26 14:47:57.62</td>\n",
              "    </tr>\n",
              "    <tr>\n",
              "      <th>199</th>\n",
              "      <td>200</td>\n",
              "      <td>Thora</td>\n",
              "      <td>Temple</td>\n",
              "      <td>2013-05-26 14:47:57.62</td>\n",
              "    </tr>\n",
              "  </tbody>\n",
              "</table>\n",
              "<p>200 rows × 4 columns</p>\n",
              "</div>"
            ],
            "text/plain": [
              "     actor_id first_name     last_name             last_update\n",
              "0           1   Penelope       Guiness  2013-05-26 14:47:57.62\n",
              "1           2       Nick      Wahlberg  2013-05-26 14:47:57.62\n",
              "2           3         Ed         Chase  2013-05-26 14:47:57.62\n",
              "3           4   Jennifer         Davis  2013-05-26 14:47:57.62\n",
              "4           5     Johnny  Lollobrigida  2013-05-26 14:47:57.62\n",
              "..        ...        ...           ...                     ...\n",
              "195       196       Bela        Walken  2013-05-26 14:47:57.62\n",
              "196       197      Reese          West  2013-05-26 14:47:57.62\n",
              "197       198       Mary        Keitel  2013-05-26 14:47:57.62\n",
              "198       199      Julia       Fawcett  2013-05-26 14:47:57.62\n",
              "199       200      Thora        Temple  2013-05-26 14:47:57.62\n",
              "\n",
              "[200 rows x 4 columns]"
            ]
          },
          "metadata": {
            "tags": []
          },
          "execution_count": 10
        }
      ]
    },
    {
      "cell_type": "code",
      "metadata": {
        "id": "dwuzg9CltBfG"
      },
      "source": [
        "# Print the film table"
      ],
      "execution_count": 11,
      "outputs": []
    },
    {
      "cell_type": "code",
      "metadata": {
        "id": "9W9ZxDvMfAtm"
      },
      "source": [
        "# How many films are there?"
      ],
      "execution_count": 12,
      "outputs": []
    },
    {
      "cell_type": "code",
      "metadata": {
        "id": "PDNn8F8Sqp6p"
      },
      "source": [
        "# Set an index on the actor table using its id\n",
        "db['actor'] = db['actor'].set_index('actor_id')"
      ],
      "execution_count": 13,
      "outputs": []
    },
    {
      "cell_type": "code",
      "metadata": {
        "id": "rgsWWXZMrCI6"
      },
      "source": [
        "# Set an index on the film table using its id"
      ],
      "execution_count": 14,
      "outputs": []
    },
    {
      "cell_type": "code",
      "metadata": {
        "id": "HJJ6neK3rGVT"
      },
      "source": [
        "# Set a multi-index on the film_actor table using both film_id and actor_id"
      ],
      "execution_count": 15,
      "outputs": []
    },
    {
      "cell_type": "code",
      "metadata": {
        "id": "QJZJFVrHfgo2"
      },
      "source": [
        "# Which actors are in which films"
      ],
      "execution_count": 16,
      "outputs": []
    },
    {
      "cell_type": "code",
      "metadata": {
        "id": "Aq7uasPltU3O"
      },
      "source": [
        "# Show the last 5 items of the actor_film_df"
      ],
      "execution_count": 17,
      "outputs": []
    },
    {
      "cell_type": "code",
      "metadata": {
        "id": "CrTA-wxds3XS"
      },
      "source": [
        "# What's the number of actors in each film?"
      ],
      "execution_count": 18,
      "outputs": []
    },
    {
      "cell_type": "code",
      "metadata": {
        "id": "9dqgjtrettB3"
      },
      "source": [
        "# What the most actors in a film?"
      ],
      "execution_count": 19,
      "outputs": []
    },
    {
      "cell_type": "code",
      "metadata": {
        "id": "uVPJkuw4Zmt4"
      },
      "source": [
        "# What was the film?"
      ],
      "execution_count": 20,
      "outputs": []
    },
    {
      "cell_type": "code",
      "metadata": {
        "id": "mYVA6n4UaIe5"
      },
      "source": [
        "## Who acted in the film?"
      ],
      "execution_count": 21,
      "outputs": []
    },
    {
      "cell_type": "markdown",
      "metadata": {
        "id": "v2qi7pTwenju"
      },
      "source": [
        "# How long have you had that rental?\n",
        "* https://pandas.pydata.org/pandas-docs/stable/reference/api/pandas.DataFrame.dtypes.html\n",
        "* https://pandas.pydata.org/pandas-docs/stable/reference/api/pandas.to_datetime.html"
      ]
    },
    {
      "cell_type": "code",
      "metadata": {
        "id": "pN1Y1hD1y7Rd"
      },
      "source": [
        "# Look at the row with index 14497"
      ],
      "execution_count": 22,
      "outputs": []
    },
    {
      "cell_type": "code",
      "metadata": {
        "id": "Mmzqndg6wSqj"
      },
      "source": [
        "# How many rentals are there?"
      ],
      "execution_count": 23,
      "outputs": []
    },
    {
      "cell_type": "code",
      "metadata": {
        "id": "bNqNpATgepZr"
      },
      "source": [
        "# What is the data type of rental table"
      ],
      "execution_count": 24,
      "outputs": []
    },
    {
      "cell_type": "code",
      "metadata": {
        "id": "omIZ34PPwQgR"
      },
      "source": [
        "# Convert rental date to datetime (from string)\n",
        "db['rental']['rental_date'] = pd.to_datetime(db['rental']['rental_date'], errors='coerce')"
      ],
      "execution_count": 25,
      "outputs": []
    },
    {
      "cell_type": "code",
      "metadata": {
        "id": "PDtWyUgEw2p8"
      },
      "source": [
        "# Convert return date to datatime (from string) ... Hint (look at the errors parameter)"
      ],
      "execution_count": 26,
      "outputs": []
    },
    {
      "cell_type": "code",
      "metadata": {
        "id": "aBOKwdE-yF7M"
      },
      "source": [
        "# Add a column to the rental table noting the different in times"
      ],
      "execution_count": 27,
      "outputs": []
    },
    {
      "cell_type": "code",
      "metadata": {
        "id": "q63zBMHM0PFY"
      },
      "source": [
        "# View the rental table"
      ],
      "execution_count": 28,
      "outputs": []
    },
    {
      "cell_type": "code",
      "metadata": {
        "id": "JnlclDpm15pt"
      },
      "source": [
        "# What's the average rental duration"
      ],
      "execution_count": 29,
      "outputs": []
    },
    {
      "cell_type": "code",
      "metadata": {
        "id": "lcnxoh0SbpZk"
      },
      "source": [
        ""
      ],
      "execution_count": 29,
      "outputs": []
    }
  ]
}